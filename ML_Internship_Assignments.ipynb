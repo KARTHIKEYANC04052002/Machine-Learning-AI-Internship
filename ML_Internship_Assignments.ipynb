{
  "nbformat": 4,
  "nbformat_minor": 0,
  "metadata": {
    "kernelspec": {
      "display_name": "Python 3",
      "language": "python",
      "name": "python3"
    },
    "language_info": {
      "codemirror_mode": {
        "name": "ipython",
        "version": 3
      },
      "file_extension": ".py",
      "mimetype": "text/x-python",
      "name": "python",
      "nbconvert_exporter": "python",
      "pygments_lexer": "ipython3",
      "version": "3.8.5"
    },
    "colab": {
      "name": "ML Internship Assignments.ipynb",
      "provenance": [],
      "collapsed_sections": [
        "ng3nGc1RlWJM",
        "dViMV1k9mgpF",
        "ifiG3f4fUZXj",
        "DIUX2K6yUZX9",
        "OV0lkkwPUZYD",
        "FXWgsQN9UZYU",
        "RwLADa85mZcq",
        "lSJIh8GGohpG",
        "ElOxy_E1pkAT",
        "Ujk3eHPknFCq",
        "lecvEBZupiII",
        "XkGg5Z_3rhdl",
        "8wmnlLpor4_t",
        "O1XIcSZCTbNJ",
        "XKYvWad0TfCE",
        "Zv1Ff1s7hT-P",
        "3jQpPARFjhlj",
        "FMw8tVI7o7bQ",
        "Am7Rjg_lzliE",
        "xOQFkIW_zosi",
        "sxZXcE0lC7ed",
        "np3_lmZ3DD7t",
        "zWIJNgCoJLm-",
        "2A-bj_TjDNsp",
        "Gjya3fdzGpZv",
        "fe8iwg26D0rG",
        "u6-AJL3dEgep",
        "Kpbd5apGCrx8",
        "cvN8O6hoVIOJ",
        "zX9PYV3vU1OB",
        "AG135XHOVqn2",
        "5wmZMa-hWPjV",
        "guD_8w-HXRIe",
        "hoteisYYXzwO",
        "S2fI13vhYuK2",
        "C3K2De7baBRn",
        "igKFhfridDpU",
        "MnW4YCWUdbCl",
        "Gmacw__qNF0Y",
        "8fTlzpP9omji",
        "oaEqHIyror16",
        "VuPER3TRo7rR",
        "gKrCUvRKpHwM",
        "Khgj42b7pOhM",
        "MDUnFuI1pUy2",
        "FlA3JnEpphEk",
        "dJGJwOp6qDTU",
        "2S2ZiN7Kmlnz",
        "Z4TK4FS8iGki",
        "tAnJhnDLiSRL",
        "c0JtuLJdoUJ2",
        "r1WyXQ21YA3f",
        "ORQ05PtPgw_B",
        "aSgktRwkg6Nc",
        "HLMnB7VWg_PQ",
        "vzselQvVhQTA",
        "d6IetNZlhV-o",
        "erp--Qg_hlv9",
        "KEyLY68jhvdp",
        "OrWntEVZh4W6",
        "BCiWrUgAh-yb"
      ],
      "toc_visible": true,
      "include_colab_link": true
    }
  },
  "cells": [
    {
      "cell_type": "markdown",
      "metadata": {
        "id": "view-in-github",
        "colab_type": "text"
      },
      "source": [
        "<a href=\"https://colab.research.google.com/github/KARTHIKEYANC04052002/Machine-Learning-AI-Internship/blob/main/ML_Internship_Assignments.ipynb\" target=\"_parent\"><img src=\"https://colab.research.google.com/assets/colab-badge.svg\" alt=\"Open In Colab\"/></a>"
      ]
    },
    {
      "cell_type": "markdown",
      "metadata": {
        "id": "ng3nGc1RlWJM"
      },
      "source": [
        " # 12/05/2021"
      ]
    },
    {
      "cell_type": "markdown",
      "metadata": {
        "id": "dViMV1k9mgpF"
      },
      "source": [
        " ## ASSIGNMENT - 1 (Creating and Displaying DataSet - Using Pandas DataFrame)"
      ]
    },
    {
      "cell_type": "markdown",
      "metadata": {
        "id": "ifiG3f4fUZXj"
      },
      "source": [
        "### Importing the required modules"
      ]
    },
    {
      "cell_type": "code",
      "metadata": {
        "id": "dGN4BUOGUZX0"
      },
      "source": [
        "import pandas as pd"
      ],
      "execution_count": null,
      "outputs": []
    },
    {
      "cell_type": "markdown",
      "metadata": {
        "id": "DIUX2K6yUZX9"
      },
      "source": [
        "### Reading and converting the CSV File \"YoutubeData\" to DataFrame"
      ]
    },
    {
      "cell_type": "code",
      "metadata": {
        "id": "x8EJHmF3UZYB"
      },
      "source": [
        "comments_df = pd.read_csv('https://raw.githubusercontent.com/KARTHIKEYANC04052002/Machine-Learning-AI-Internship/main/YoutubeData.csv')"
      ],
      "execution_count": null,
      "outputs": []
    },
    {
      "cell_type": "markdown",
      "metadata": {
        "id": "OV0lkkwPUZYD"
      },
      "source": [
        "### Displaying the contents in the  DataFrame"
      ]
    },
    {
      "cell_type": "code",
      "metadata": {
        "id": "SzCqktavUZYH"
      },
      "source": [
        "comments_df"
      ],
      "execution_count": null,
      "outputs": []
    },
    {
      "cell_type": "markdown",
      "metadata": {
        "id": "FXWgsQN9UZYU"
      },
      "source": [
        "# 13/05/2021"
      ]
    },
    {
      "cell_type": "markdown",
      "metadata": {
        "id": "RwLADa85mZcq"
      },
      "source": [
        "## ASSIGNMENT - 1 (Create a Nested Dictionary)"
      ]
    },
    {
      "cell_type": "markdown",
      "metadata": {
        "id": "lSJIh8GGohpG"
      },
      "source": [
        "### Creating a Dictionary"
      ]
    },
    {
      "cell_type": "code",
      "metadata": {
        "id": "Ypbi8XMAovyk"
      },
      "source": [
        "MyCourse_dict = dict({'name':'Karthikeyan C','age':19, 'mail':'karthikeyan.c@sece.ac.in', 'course':'Machine Learning / AI', 'duration':'15 days'})\n",
        "MyCourse_dict"
      ],
      "execution_count": null,
      "outputs": []
    },
    {
      "cell_type": "markdown",
      "metadata": {
        "id": "ElOxy_E1pkAT"
      },
      "source": [
        "### Creating a Nested Dictionary"
      ]
    },
    {
      "cell_type": "code",
      "metadata": {
        "id": "wYDJjTMfptSj"
      },
      "source": [
        "AllCourse_dict = dict({1:{'name':'Karthikeyan C','age':19, 'mail':'karthikeyan.c@sece.ac.in', 'course':'Machine Learning / AI', 'duration':'15 days'},\n",
        "                       2:{'name':'Hariboobaalan P N','age':19, 'mail':'hariboobaalan.p.n@sece.ac.in', 'course':'Machine Learning / AI', 'duration':'15 days'},\n",
        "                       3:{'name':'Danush P S','age':19, 'mail':'danush.p.s@sece.ac.in', 'course':'Web Development', 'duration':'15 days'},\n",
        "                       4:{'name':'Praveen Babu R','age':19, 'mail':'praveenbabu.rcse@sece.ac.in', 'course':'Web Development', 'duration':'15 days'},\n",
        "                      })\n",
        "AllCourse_dict"
      ],
      "execution_count": null,
      "outputs": []
    },
    {
      "cell_type": "markdown",
      "metadata": {
        "id": "Ujk3eHPknFCq"
      },
      "source": [
        "## ASSIGNMENT - 2 (Create and Display DataFrame and visualize the dataset using matplotlib / seaborn)"
      ]
    },
    {
      "cell_type": "markdown",
      "metadata": {
        "id": "lecvEBZupiII"
      },
      "source": [
        "### Importing the required Modules"
      ]
    },
    {
      "cell_type": "code",
      "metadata": {
        "id": "8BYLth8ynVor"
      },
      "source": [
        "import pandas as pd\n",
        "import matplotlib.pyplot as plt"
      ],
      "execution_count": null,
      "outputs": []
    },
    {
      "cell_type": "markdown",
      "metadata": {
        "id": "XkGg5Z_3rhdl"
      },
      "source": [
        "### Creating a DataFrame from the \"Emoji_Sentiment_Data\" Dataset"
      ]
    },
    {
      "cell_type": "code",
      "metadata": {
        "id": "leYb9ZtMryQM"
      },
      "source": [
        "emoji_sentiments_df = pd.read_csv('https://raw.githubusercontent.com/KARTHIKEYANC04052002/Machine-Learning-AI-Internship/main/Emoji_Sentiment_Data.csv')\n",
        "emoji_sentiments_df"
      ],
      "execution_count": null,
      "outputs": []
    },
    {
      "cell_type": "markdown",
      "metadata": {
        "id": "8wmnlLpor4_t"
      },
      "source": [
        "### Visualizing the Emoji_Sentiments DataFrame"
      ]
    },
    {
      "cell_type": "code",
      "metadata": {
        "id": "I1lpoNlAs73a"
      },
      "source": [
        "plt.xticks(rotation='vertical')\n",
        "plt.plot(emoji_sentiments_df['Unicode name'][:20], emoji_sentiments_df['Positive'][:20], marker='*', color='green')\n",
        "plt.plot(emoji_sentiments_df['Unicode name'][:20], emoji_sentiments_df['Neutral'][:20], marker='.', color='blue')\n",
        "plt.plot(emoji_sentiments_df['Unicode name'][:20], emoji_sentiments_df['Negative'][:20], marker='d', color='red')\n",
        "plt.legend(['Positive', 'Neutral', 'Negative'])"
      ],
      "execution_count": null,
      "outputs": []
    },
    {
      "cell_type": "markdown",
      "metadata": {
        "id": "O1XIcSZCTbNJ"
      },
      "source": [
        "# 14/05/2021"
      ]
    },
    {
      "cell_type": "markdown",
      "metadata": {
        "id": "XKYvWad0TfCE"
      },
      "source": [
        "## ASSIGNMENT - 1 (Multiplication Table Using While Loop)"
      ]
    },
    {
      "cell_type": "markdown",
      "metadata": {
        "id": "Zv1Ff1s7hT-P"
      },
      "source": [
        "### Printing First 10 Multiples of Numbers from 1 to 10"
      ]
    },
    {
      "cell_type": "code",
      "metadata": {
        "id": "38zmZEJZTj-y"
      },
      "source": [
        "i = 1\n",
        "while i <= 10:\n",
        "  j = 1\n",
        "  print('Multiplication Table for {}'.format(i))\n",
        "  while j <= 10:\n",
        "    print(\"{} * {} = {}\".format(i, j, i * j))\n",
        "    j += 1\n",
        "  i += 1\n",
        "  print()"
      ],
      "execution_count": null,
      "outputs": []
    },
    {
      "cell_type": "markdown",
      "metadata": {
        "id": "3jQpPARFjhlj"
      },
      "source": [
        "### Multiplication Table from 1 to 10 in Table Format"
      ]
    },
    {
      "cell_type": "code",
      "metadata": {
        "id": "eLI-uTM4gXYN"
      },
      "source": [
        "i = 1\n",
        "print('   |', *map(lambda  x: str(x * i).rjust(2), range(1, 11)))\n",
        "print(*'_'*35,sep='')\n",
        "while i <= 10:\n",
        "  print(str(i).rjust(2), '|', *map(lambda  x: str(x * i).rjust(2), range(1, 11)))\n",
        "  i += 1"
      ],
      "execution_count": null,
      "outputs": []
    },
    {
      "cell_type": "markdown",
      "metadata": {
        "id": "FMw8tVI7o7bQ"
      },
      "source": [
        "# 17/05/2021"
      ]
    },
    {
      "cell_type": "markdown",
      "metadata": {
        "id": "Am7Rjg_lzliE"
      },
      "source": [
        "## ASSIGNMENT - 1 (Pattern Printing Using For Loop)"
      ]
    },
    {
      "cell_type": "markdown",
      "metadata": {
        "id": "xOQFkIW_zosi"
      },
      "source": [
        "### Star Pattern (Incremental - Right Angled Triangle)"
      ]
    },
    {
      "cell_type": "code",
      "metadata": {
        "id": "RxYt3XvTCpG-"
      },
      "source": [
        "# [print('*' * i) for i in range(5)]\n",
        "N = int(input(\"Enter a number:\"))\n",
        "for i in range(N):\n",
        "  for j in range(i + 1):\n",
        "    print('*', end = '')\n",
        "  print()"
      ],
      "execution_count": null,
      "outputs": []
    },
    {
      "cell_type": "markdown",
      "metadata": {
        "id": "sxZXcE0lC7ed"
      },
      "source": [
        "### Star Pattern (Decremental - Right Angled Triangle)"
      ]
    },
    {
      "cell_type": "code",
      "metadata": {
        "id": "_Kjy4ZGnCu-x"
      },
      "source": [
        "# [print('*' * i) for i in range(5,-1,-1)]\n",
        "N = int(input(\"Enter a number:\"))\n",
        "for i in range(N):\n",
        "  for j in range(N - i):\n",
        "    print('*', end = '')\n",
        "  print()"
      ],
      "execution_count": null,
      "outputs": []
    },
    {
      "cell_type": "markdown",
      "metadata": {
        "id": "np3_lmZ3DD7t"
      },
      "source": [
        "### String Pattern"
      ]
    },
    {
      "cell_type": "code",
      "metadata": {
        "id": "ZypXKr8GDYsM"
      },
      "source": [
        "# (lambda S : [print(S[:i]) for i in range(1, len(S) + 1)])(input(\"Enter the String:\").strip())\n",
        "S = input(\"Enter the String:\").strip() #python\n",
        "l = len(S)\n",
        "for i in range(l):\n",
        "  print(S[:i + 1])"
      ],
      "execution_count": null,
      "outputs": []
    },
    {
      "cell_type": "markdown",
      "metadata": {
        "id": "zWIJNgCoJLm-"
      },
      "source": [
        "## ASSIGNMENT - 2 (Number Counter)"
      ]
    },
    {
      "cell_type": "markdown",
      "metadata": {
        "id": "2A-bj_TjDNsp"
      },
      "source": [
        "### Number Counter Using For Loop"
      ]
    },
    {
      "cell_type": "code",
      "metadata": {
        "id": "dsQ3x2w-DXCP"
      },
      "source": [
        "# print(*range(10), sep='\\n')\n",
        "N = int(input(\"Enter a number:\"))\n",
        "for i in range(N):\n",
        "  print(i)"
      ],
      "execution_count": null,
      "outputs": []
    },
    {
      "cell_type": "markdown",
      "metadata": {
        "id": "Gjya3fdzGpZv"
      },
      "source": [
        "## ASSIGNMENT - 3 (Random Guess Game)"
      ]
    },
    {
      "cell_type": "markdown",
      "metadata": {
        "id": "fe8iwg26D0rG"
      },
      "source": [
        "### Random Guess Game (random module)"
      ]
    },
    {
      "cell_type": "code",
      "metadata": {
        "id": "vMf4TzudEF0x"
      },
      "source": [
        "import random\n",
        "print(\"Guess the number, Number lies between 1 - 10\\nPress 'B' to exit\")\n",
        "while True:\n",
        "  num = random.randint(1, 10)\n",
        "  ui = input()\n",
        "  if ui == 'B': break\n",
        "  elif ui.isdigit():\n",
        "    if num == int(ui): print(\"Hurray! You're Right!\"); break\n",
        "    else: print(\"Oh! You're Wrong the number is\", num)\n",
        "  else: print('Invalid Character')"
      ],
      "execution_count": null,
      "outputs": []
    },
    {
      "cell_type": "markdown",
      "metadata": {
        "id": "u6-AJL3dEgep"
      },
      "source": [
        "# 18/05/2021"
      ]
    },
    {
      "cell_type": "markdown",
      "metadata": {
        "id": "Kpbd5apGCrx8"
      },
      "source": [
        "## ASSIGNMENT - 1 (Limitation for number of arguments in a function)"
      ]
    },
    {
      "cell_type": "markdown",
      "metadata": {
        "id": "cvN8O6hoVIOJ"
      },
      "source": [
        "### Limitation for number of arguments in a function (Maximum possible arguments in Python)"
      ]
    },
    {
      "cell_type": "markdown",
      "metadata": {
        "id": "-D7rQq4hUUEe"
      },
      "source": [
        "- In Python 3.6 and earlier there is a limit of 255 arguments in Cpython.\n",
        "- In Python 3.7 and later versions there is no limit for number of arguments. (But depends on System Memory)"
      ]
    },
    {
      "cell_type": "markdown",
      "metadata": {
        "id": "zX9PYV3vU1OB"
      },
      "source": [
        "### Function to demonstrate variable number of arguments using '*' operator"
      ]
    },
    {
      "cell_type": "code",
      "metadata": {
        "id": "WZJJck5yVDpm"
      },
      "source": [
        "def function(*args):\n",
        "  for i in args: print(i, end = ' ')"
      ],
      "execution_count": null,
      "outputs": []
    },
    {
      "cell_type": "code",
      "metadata": {
        "id": "GPFovdAwVn_C"
      },
      "source": [
        "function(*range(100))"
      ],
      "execution_count": null,
      "outputs": []
    },
    {
      "cell_type": "markdown",
      "metadata": {
        "id": "AG135XHOVqn2"
      },
      "source": [
        "### Function to demonstrate variable number of keyword arguments using '**' operator"
      ]
    },
    {
      "cell_type": "code",
      "metadata": {
        "id": "c844w_ZWV-jJ"
      },
      "source": [
        "def function2(**kwargs):\n",
        "  for key in kwargs: print(key, ':', kwargs[key])"
      ],
      "execution_count": null,
      "outputs": []
    },
    {
      "cell_type": "code",
      "metadata": {
        "id": "GMAl0jOQWLsG"
      },
      "source": [
        "function2(python = \"Python\", java = \"Java\", c = \"C\")"
      ],
      "execution_count": null,
      "outputs": []
    },
    {
      "cell_type": "markdown",
      "metadata": {
        "id": "5wmZMa-hWPjV"
      },
      "source": [
        "## ASSIGNMENT - 2 (Functions)"
      ]
    },
    {
      "cell_type": "markdown",
      "metadata": {
        "id": "guD_8w-HXRIe"
      },
      "source": [
        "### Function to find Maximum of three numbers"
      ]
    },
    {
      "cell_type": "code",
      "metadata": {
        "id": "fnQ79C9FXZmd"
      },
      "source": [
        "def maxThree(a, b, c):\n",
        "  return a if a > b and a > c else b if b > c else c"
      ],
      "execution_count": null,
      "outputs": []
    },
    {
      "cell_type": "code",
      "metadata": {
        "id": "avnUPOzoXwar"
      },
      "source": [
        "maxThree(5, 7, 4)"
      ],
      "execution_count": null,
      "outputs": []
    },
    {
      "cell_type": "markdown",
      "metadata": {
        "id": "hoteisYYXzwO"
      },
      "source": [
        "### Function to find Minimum of three numbers"
      ]
    },
    {
      "cell_type": "code",
      "metadata": {
        "id": "mE3_28brYj5N"
      },
      "source": [
        "def minThree(a, b, c):\n",
        "  return a if a < b and a < c else b if b < c else c"
      ],
      "execution_count": null,
      "outputs": []
    },
    {
      "cell_type": "code",
      "metadata": {
        "id": "SrTou3HIYrpf"
      },
      "source": [
        "minThree(7, 6, 5)"
      ],
      "execution_count": null,
      "outputs": []
    },
    {
      "cell_type": "markdown",
      "metadata": {
        "id": "S2fI13vhYuK2"
      },
      "source": [
        "### Function to find sum of N Numbers"
      ]
    },
    {
      "cell_type": "code",
      "metadata": {
        "id": "hoiSI0hHZng8"
      },
      "source": [
        "def Sum(*args):\n",
        "  Sum = 0\n",
        "  for i in args: Sum += i\n",
        "  return Sum"
      ],
      "execution_count": null,
      "outputs": []
    },
    {
      "cell_type": "code",
      "metadata": {
        "id": "VjJscuevZ73G"
      },
      "source": [
        "Sum(10, 20, 30)"
      ],
      "execution_count": null,
      "outputs": []
    },
    {
      "cell_type": "markdown",
      "metadata": {
        "id": "C3K2De7baBRn"
      },
      "source": [
        "### Function to find product of N Numbers"
      ]
    },
    {
      "cell_type": "code",
      "metadata": {
        "id": "DYFOvmLLax1L"
      },
      "source": [
        "def Product(*args):\n",
        "  Product = 1\n",
        "  for i in args: Product *= i\n",
        "  return Product"
      ],
      "execution_count": null,
      "outputs": []
    },
    {
      "cell_type": "code",
      "metadata": {
        "id": "1_4_ZFbCbIwe"
      },
      "source": [
        "Product(10, 20, 30)"
      ],
      "execution_count": null,
      "outputs": []
    },
    {
      "cell_type": "markdown",
      "metadata": {
        "id": "igKFhfridDpU"
      },
      "source": [
        "### Function to find difference between two numbers (Subtraction)"
      ]
    },
    {
      "cell_type": "code",
      "metadata": {
        "id": "I3306doddRVE"
      },
      "source": [
        "def sub(a, b):\n",
        "  return a - b"
      ],
      "execution_count": null,
      "outputs": []
    },
    {
      "cell_type": "code",
      "metadata": {
        "id": "K43Arle8dY92"
      },
      "source": [
        "sub(10, 5)"
      ],
      "execution_count": null,
      "outputs": []
    },
    {
      "cell_type": "markdown",
      "metadata": {
        "id": "MnW4YCWUdbCl"
      },
      "source": [
        "# 19/05/2021"
      ]
    },
    {
      "cell_type": "markdown",
      "metadata": {
        "id": "Gmacw__qNF0Y"
      },
      "source": [
        "## ASSIGNMENT - 1 (Experimenting Linear Regression)"
      ]
    },
    {
      "cell_type": "markdown",
      "metadata": {
        "id": "8fTlzpP9omji"
      },
      "source": [
        "### Importing Required Modules"
      ]
    },
    {
      "cell_type": "code",
      "metadata": {
        "id": "yB-53tHUSxF5"
      },
      "source": [
        "import pandas as pd\n",
        "import numpy as np\n",
        "from sklearn.model_selection import train_test_split\n",
        "from sklearn.linear_model import LinearRegression\n",
        "import matplotlib.pyplot as plt\n",
        "import seaborn as sns"
      ],
      "execution_count": null,
      "outputs": []
    },
    {
      "cell_type": "markdown",
      "metadata": {
        "id": "oaEqHIyror16"
      },
      "source": [
        "### Loading the DataSet (US_House_Prices_DataSet)"
      ]
    },
    {
      "cell_type": "code",
      "metadata": {
        "id": "eyJxo1mXYVSX"
      },
      "source": [
        "house_df = pd.read_csv(\"https://raw.githubusercontent.com/KARTHIKEYANC04052002/Machine-Learning-AI-Internship/main/house_dataset.csv\")\n",
        "house_df"
      ],
      "execution_count": null,
      "outputs": []
    },
    {
      "cell_type": "code",
      "metadata": {
        "id": "TCrV4RK6dDgb"
      },
      "source": [
        "Columns = ['bedrooms', 'bathrooms', 'sqft_living', 'sqft_lot', 'floors', 'waterfront', 'view', 'condition', 'grade', 'sqft_above', 'sqft_basement', 'yr_built', 'yr_renovated', 'zipcode', 'sqft_living15', 'sqft_lot15']"
      ],
      "execution_count": null,
      "outputs": []
    },
    {
      "cell_type": "markdown",
      "metadata": {
        "id": "VuPER3TRo7rR"
      },
      "source": [
        "### Splitting the DataSet for Training and Testing"
      ]
    },
    {
      "cell_type": "code",
      "metadata": {
        "id": "CmNKY-vIdCG-"
      },
      "source": [
        "X, Y = house_df[Columns], house_df['price']\n",
        "train_x, test_x, train_y, test_y = train_test_split(X, Y, test_size = 0.3, random_state=1)"
      ],
      "execution_count": null,
      "outputs": []
    },
    {
      "cell_type": "markdown",
      "metadata": {
        "id": "gKrCUvRKpHwM"
      },
      "source": [
        "### Creating a Simple Linear Regression Model"
      ]
    },
    {
      "cell_type": "code",
      "metadata": {
        "id": "Mxjsq-U-d_Oz"
      },
      "source": [
        "linear_model = LinearRegression()"
      ],
      "execution_count": null,
      "outputs": []
    },
    {
      "cell_type": "markdown",
      "metadata": {
        "id": "Khgj42b7pOhM"
      },
      "source": [
        "### Fitting the Training data to the model"
      ]
    },
    {
      "cell_type": "code",
      "metadata": {
        "id": "Q8qwqJFmfx9B"
      },
      "source": [
        "linear_model.fit(train_x, train_y)"
      ],
      "execution_count": null,
      "outputs": []
    },
    {
      "cell_type": "markdown",
      "metadata": {
        "id": "MDUnFuI1pUy2"
      },
      "source": [
        "### Calculating the score of the model with train and test data"
      ]
    },
    {
      "cell_type": "code",
      "metadata": {
        "id": "uP4rXHefh-8L"
      },
      "source": [
        "linear_model.score(train_x, train_y), linear_model.score(test_x, test_y)"
      ],
      "execution_count": null,
      "outputs": []
    },
    {
      "cell_type": "markdown",
      "metadata": {
        "id": "FlA3JnEpphEk"
      },
      "source": [
        "### Prediction of test_set using the trained model"
      ]
    },
    {
      "cell_type": "code",
      "metadata": {
        "id": "kcGDPiagpq_Z"
      },
      "source": [
        "pred_y = linear_model.predict(test_x)\n",
        "pred_y"
      ],
      "execution_count": null,
      "outputs": []
    },
    {
      "cell_type": "markdown",
      "metadata": {
        "id": "dJGJwOp6qDTU"
      },
      "source": [
        "### Visualizing the Results as DataFrame"
      ]
    },
    {
      "cell_type": "code",
      "metadata": {
        "id": "wlH4DhRogiXf"
      },
      "source": [
        "Result_df = pd.DataFrame(pred_y, columns=['Predicted'])\n",
        "Result_df['Actual'] = pd.DataFrame(test_y).reset_index()['price']\n",
        "#Result_df['Diff'] = abs(Result_df['Actual'] - Result_df['Predicted'])\n",
        "#Result_df = Result_df.sort_values('Diff').drop('Diff', axis = 1)\n",
        "Result_df.head(25)"
      ],
      "execution_count": null,
      "outputs": []
    },
    {
      "cell_type": "markdown",
      "metadata": {
        "id": "2S2ZiN7Kmlnz"
      },
      "source": [
        "### Visualizing the Result as Graph"
      ]
    },
    {
      "cell_type": "code",
      "metadata": {
        "id": "vPT-CessoSTM"
      },
      "source": [
        "Result_df_sub = Result_df.head(25)\n",
        "plt.scatter(Result_df_sub.index.values, Result_df_sub['Predicted'], alpha=0.7, color='red')\n",
        "plt.scatter(Result_df_sub.index.values, Result_df_sub['Actual'], alpha=0.3, color='green', s=100)\n",
        "plt.legend(['Predicted', 'Actual'])"
      ],
      "execution_count": null,
      "outputs": []
    },
    {
      "cell_type": "markdown",
      "metadata": {
        "id": "Z4TK4FS8iGki"
      },
      "source": [
        "### Displaying the coefficients as DataFrame"
      ]
    },
    {
      "cell_type": "code",
      "metadata": {
        "id": "YVDRGGXEY0q1"
      },
      "source": [
        "coef = linear_model.coef_.tolist()\n",
        "params = train_x.columns.to_list()\n",
        "coef_df = pd.DataFrame(coef, params, columns=['Coefficient'])\n",
        "#coef_df['Parameter'] = train_x.columns.to_list()\n",
        "coef_df"
      ],
      "execution_count": null,
      "outputs": []
    },
    {
      "cell_type": "markdown",
      "metadata": {
        "id": "tAnJhnDLiSRL"
      },
      "source": [
        "### Visualizing the coefficients as Graph"
      ]
    },
    {
      "cell_type": "code",
      "metadata": {
        "id": "MS-7mktebhb3"
      },
      "source": [
        "plt.xticks(rotation='vertical')\n",
        "plt.scatter(params, coef_df.Coefficient)"
      ],
      "execution_count": null,
      "outputs": []
    },
    {
      "cell_type": "markdown",
      "metadata": {
        "id": "c0JtuLJdoUJ2"
      },
      "source": [
        "# 20/05/2021"
      ]
    },
    {
      "cell_type": "markdown",
      "metadata": {
        "id": "r1WyXQ21YA3f"
      },
      "source": [
        "## ASSIGNMENT - 1 (Example for Linear Regression)"
      ]
    },
    {
      "cell_type": "markdown",
      "metadata": {
        "id": "ORQ05PtPgw_B"
      },
      "source": [
        "### Creating DataFrame"
      ]
    },
    {
      "cell_type": "code",
      "metadata": {
        "id": "tMOrm2M2YMK8"
      },
      "source": [
        "num_df = pd.DataFrame({'X': [*range(1000)], 'A':[*map(lambda x: x ** 2, range(1000))], 'B':[*map(lambda x: x * 2, range(1000))], 'C':[*map(lambda x: 2, range(1000))], 'Y':[*map(lambda x: x ** 2 + x * 2 + 2, range(1000))]})\n",
        "num_df"
      ],
      "execution_count": null,
      "outputs": []
    },
    {
      "cell_type": "markdown",
      "metadata": {
        "id": "aSgktRwkg6Nc"
      },
      "source": [
        "### Creating a Linear Regression Model"
      ]
    },
    {
      "cell_type": "code",
      "metadata": {
        "id": "z654BW9RdGbd"
      },
      "source": [
        "num_lm = LinearRegression()"
      ],
      "execution_count": null,
      "outputs": []
    },
    {
      "cell_type": "markdown",
      "metadata": {
        "id": "HLMnB7VWg_PQ"
      },
      "source": [
        "### Splitting the DataSet for Training and Testing"
      ]
    },
    {
      "cell_type": "code",
      "metadata": {
        "id": "Ga6e5NtLdM-j"
      },
      "source": [
        "X, Y = num_df[['A']], num_df['Y']\n",
        "train_x, test_x, train_y, test_y = train_test_split(X, Y, test_size = 0.3, random_state=1)"
      ],
      "execution_count": null,
      "outputs": []
    },
    {
      "cell_type": "markdown",
      "metadata": {
        "id": "vzselQvVhQTA"
      },
      "source": [
        "### Fitting the Training data to the model"
      ]
    },
    {
      "cell_type": "code",
      "metadata": {
        "id": "MbBhpiHidjDy"
      },
      "source": [
        "num_lm.fit(train_x, train_y)"
      ],
      "execution_count": null,
      "outputs": []
    },
    {
      "cell_type": "markdown",
      "metadata": {
        "id": "d6IetNZlhV-o"
      },
      "source": [
        "### Calculating the Score of the model with Train and Test Data"
      ]
    },
    {
      "cell_type": "code",
      "metadata": {
        "id": "FeveIzkAdnmL"
      },
      "source": [
        "num_lm.score(train_x, train_y), num_lm.score(test_x, test_y)"
      ],
      "execution_count": null,
      "outputs": []
    },
    {
      "cell_type": "markdown",
      "metadata": {
        "id": "erp--Qg_hlv9"
      },
      "source": [
        "### Predicting the test_set using trained model"
      ]
    },
    {
      "cell_type": "code",
      "metadata": {
        "id": "Ukl2T7Jfd8R_"
      },
      "source": [
        "pred_y = num_lm.predict(test_x)\n",
        "pred_y"
      ],
      "execution_count": null,
      "outputs": []
    },
    {
      "cell_type": "markdown",
      "metadata": {
        "id": "KEyLY68jhvdp"
      },
      "source": [
        "### Visualizing the Results as DataFrame"
      ]
    },
    {
      "cell_type": "code",
      "metadata": {
        "id": "XhwlkplveGqj"
      },
      "source": [
        "Result_df = pd.DataFrame(pred_y, columns=['Predicted'])\n",
        "Result_df['Actual'] = pd.DataFrame(test_y).reset_index()['Y']\n",
        "#Result_df['Diff'] = abs(Result_df['Actual'] - Result_df['Predicted'])\n",
        "#Result_df = Result_df.sort_values('Diff').drop('Diff', axis = 1)\n",
        "Result_df.head(25)"
      ],
      "execution_count": null,
      "outputs": []
    },
    {
      "cell_type": "markdown",
      "metadata": {
        "id": "OrWntEVZh4W6"
      },
      "source": [
        "### Visualizing the Result as Graph"
      ]
    },
    {
      "cell_type": "code",
      "metadata": {
        "id": "ukQ4dCfTeNPZ"
      },
      "source": [
        "Result_df_sub = Result_df.head(25)\n",
        "plt.scatter(Result_df_sub.index.values, Result_df_sub['Predicted'], alpha=0.7, color='red', s=20)\n",
        "plt.scatter(Result_df_sub.index.values, Result_df_sub['Actual'], alpha=0.3, color='green', s=200)\n",
        "plt.legend(['Predicted', 'Actual'])"
      ],
      "execution_count": null,
      "outputs": []
    },
    {
      "cell_type": "markdown",
      "metadata": {
        "id": "BCiWrUgAh-yb"
      },
      "source": [
        "### Displaying the coefficients as DataFrame"
      ]
    },
    {
      "cell_type": "code",
      "metadata": {
        "id": "LiPWQOlPeQFT"
      },
      "source": [
        "coef = num_lm.coef_.tolist()\n",
        "params = train_x.columns.to_list()\n",
        "coef_df = pd.DataFrame(coef, params, columns=['Coefficient'])\n",
        "#coef_df['Parameter'] = train_x.columns.to_list()\n",
        "coef_df"
      ],
      "execution_count": null,
      "outputs": []
    },
    {
      "cell_type": "markdown",
      "metadata": {
        "id": "vYICgPpEvZZC"
      },
      "source": [
        "# 25/05/2021"
      ]
    },
    {
      "cell_type": "markdown",
      "metadata": {
        "id": "qYJpYd0ibqBP"
      },
      "source": [
        "## **Importing Required Models**"
      ]
    },
    {
      "cell_type": "code",
      "metadata": {
        "colab": {
          "base_uri": "https://localhost:8080/"
        },
        "id": "6hkVenkKUYL8",
        "outputId": "fdfdfeb6-aea1-4ba0-d1a1-ea973919fd61"
      },
      "source": [
        "!pip install word2number"
      ],
      "execution_count": 1,
      "outputs": [
        {
          "output_type": "stream",
          "text": [
            "Requirement already satisfied: word2number in /usr/local/lib/python3.7/dist-packages (1.1)\n"
          ],
          "name": "stdout"
        }
      ]
    },
    {
      "cell_type": "code",
      "metadata": {
        "id": "lY0ygvDdb37N"
      },
      "source": [
        "import pandas as pd\n",
        "import numpy as np\n",
        "import matplotlib.pyplot as plt\n",
        "import seaborn as sns\n",
        "from word2number import w2n\n",
        "from scipy import stats\n",
        "from sklearn.preprocessing import QuantileTransformer"
      ],
      "execution_count": 2,
      "outputs": []
    },
    {
      "cell_type": "code",
      "metadata": {
        "id": "chBb5B2tig24"
      },
      "source": [
        "W2N = w2n.word_to_num\n",
        "mpg2kmpl = 2.3521458\n",
        "QTransform = QuantileTransformer(n_quantiles=205)"
      ],
      "execution_count": 3,
      "outputs": []
    },
    {
      "cell_type": "markdown",
      "metadata": {
        "id": "CR4j4XpDbLVL"
      },
      "source": [
        "## SUPERVISED LEARNING"
      ]
    },
    {
      "cell_type": "markdown",
      "metadata": {
        "id": "fCP1-BHPbc0n"
      },
      "source": [
        "### LINEAR REGRESSION"
      ]
    },
    {
      "cell_type": "code",
      "metadata": {
        "id": "gxsq2_BG2F7u"
      },
      "source": [
        "cars_df = pd.read_csv(\"https://raw.githubusercontent.com/KARTHIKEYANC04052002/Machine-Learning-AI-Internship/main/CarPriceDataSet.csv\", index_col='car_ID')"
      ],
      "execution_count": 4,
      "outputs": []
    },
    {
      "cell_type": "code",
      "metadata": {
        "colab": {
          "base_uri": "https://localhost:8080/",
          "height": 448
        },
        "id": "JoBm6qV22PcG",
        "outputId": "245b51fa-2ca9-492a-c317-25368a9788e8"
      },
      "source": [
        "cars_df.head(10)"
      ],
      "execution_count": 5,
      "outputs": [
        {
          "output_type": "execute_result",
          "data": {
            "text/html": [
              "<div>\n",
              "<style scoped>\n",
              "    .dataframe tbody tr th:only-of-type {\n",
              "        vertical-align: middle;\n",
              "    }\n",
              "\n",
              "    .dataframe tbody tr th {\n",
              "        vertical-align: top;\n",
              "    }\n",
              "\n",
              "    .dataframe thead th {\n",
              "        text-align: right;\n",
              "    }\n",
              "</style>\n",
              "<table border=\"1\" class=\"dataframe\">\n",
              "  <thead>\n",
              "    <tr style=\"text-align: right;\">\n",
              "      <th></th>\n",
              "      <th>symboling</th>\n",
              "      <th>CarName</th>\n",
              "      <th>fueltype</th>\n",
              "      <th>aspiration</th>\n",
              "      <th>doornumber</th>\n",
              "      <th>carbody</th>\n",
              "      <th>drivewheel</th>\n",
              "      <th>enginelocation</th>\n",
              "      <th>wheelbase</th>\n",
              "      <th>carlength</th>\n",
              "      <th>carwidth</th>\n",
              "      <th>carheight</th>\n",
              "      <th>curbweight</th>\n",
              "      <th>enginetype</th>\n",
              "      <th>cylindernumber</th>\n",
              "      <th>enginesize</th>\n",
              "      <th>fuelsystem</th>\n",
              "      <th>boreratio</th>\n",
              "      <th>stroke</th>\n",
              "      <th>compressionratio</th>\n",
              "      <th>horsepower</th>\n",
              "      <th>peakrpm</th>\n",
              "      <th>citympg</th>\n",
              "      <th>highwaympg</th>\n",
              "      <th>price</th>\n",
              "    </tr>\n",
              "    <tr>\n",
              "      <th>car_ID</th>\n",
              "      <th></th>\n",
              "      <th></th>\n",
              "      <th></th>\n",
              "      <th></th>\n",
              "      <th></th>\n",
              "      <th></th>\n",
              "      <th></th>\n",
              "      <th></th>\n",
              "      <th></th>\n",
              "      <th></th>\n",
              "      <th></th>\n",
              "      <th></th>\n",
              "      <th></th>\n",
              "      <th></th>\n",
              "      <th></th>\n",
              "      <th></th>\n",
              "      <th></th>\n",
              "      <th></th>\n",
              "      <th></th>\n",
              "      <th></th>\n",
              "      <th></th>\n",
              "      <th></th>\n",
              "      <th></th>\n",
              "      <th></th>\n",
              "      <th></th>\n",
              "    </tr>\n",
              "  </thead>\n",
              "  <tbody>\n",
              "    <tr>\n",
              "      <th>1</th>\n",
              "      <td>3</td>\n",
              "      <td>alfa-romero giulia</td>\n",
              "      <td>gas</td>\n",
              "      <td>std</td>\n",
              "      <td>two</td>\n",
              "      <td>convertible</td>\n",
              "      <td>rwd</td>\n",
              "      <td>front</td>\n",
              "      <td>88.6</td>\n",
              "      <td>168.8</td>\n",
              "      <td>64.1</td>\n",
              "      <td>48.8</td>\n",
              "      <td>2548</td>\n",
              "      <td>dohc</td>\n",
              "      <td>four</td>\n",
              "      <td>130</td>\n",
              "      <td>mpfi</td>\n",
              "      <td>3.47</td>\n",
              "      <td>2.68</td>\n",
              "      <td>9.0</td>\n",
              "      <td>111</td>\n",
              "      <td>5000</td>\n",
              "      <td>21</td>\n",
              "      <td>27</td>\n",
              "      <td>13495.000</td>\n",
              "    </tr>\n",
              "    <tr>\n",
              "      <th>2</th>\n",
              "      <td>3</td>\n",
              "      <td>alfa-romero stelvio</td>\n",
              "      <td>gas</td>\n",
              "      <td>std</td>\n",
              "      <td>two</td>\n",
              "      <td>convertible</td>\n",
              "      <td>rwd</td>\n",
              "      <td>front</td>\n",
              "      <td>88.6</td>\n",
              "      <td>168.8</td>\n",
              "      <td>64.1</td>\n",
              "      <td>48.8</td>\n",
              "      <td>2548</td>\n",
              "      <td>dohc</td>\n",
              "      <td>four</td>\n",
              "      <td>130</td>\n",
              "      <td>mpfi</td>\n",
              "      <td>3.47</td>\n",
              "      <td>2.68</td>\n",
              "      <td>9.0</td>\n",
              "      <td>111</td>\n",
              "      <td>5000</td>\n",
              "      <td>21</td>\n",
              "      <td>27</td>\n",
              "      <td>16500.000</td>\n",
              "    </tr>\n",
              "    <tr>\n",
              "      <th>3</th>\n",
              "      <td>1</td>\n",
              "      <td>alfa-romero Quadrifoglio</td>\n",
              "      <td>gas</td>\n",
              "      <td>std</td>\n",
              "      <td>two</td>\n",
              "      <td>hatchback</td>\n",
              "      <td>rwd</td>\n",
              "      <td>front</td>\n",
              "      <td>94.5</td>\n",
              "      <td>171.2</td>\n",
              "      <td>65.5</td>\n",
              "      <td>52.4</td>\n",
              "      <td>2823</td>\n",
              "      <td>ohcv</td>\n",
              "      <td>six</td>\n",
              "      <td>152</td>\n",
              "      <td>mpfi</td>\n",
              "      <td>2.68</td>\n",
              "      <td>3.47</td>\n",
              "      <td>9.0</td>\n",
              "      <td>154</td>\n",
              "      <td>5000</td>\n",
              "      <td>19</td>\n",
              "      <td>26</td>\n",
              "      <td>16500.000</td>\n",
              "    </tr>\n",
              "    <tr>\n",
              "      <th>4</th>\n",
              "      <td>2</td>\n",
              "      <td>audi 100 ls</td>\n",
              "      <td>gas</td>\n",
              "      <td>std</td>\n",
              "      <td>four</td>\n",
              "      <td>sedan</td>\n",
              "      <td>fwd</td>\n",
              "      <td>front</td>\n",
              "      <td>99.8</td>\n",
              "      <td>176.6</td>\n",
              "      <td>66.2</td>\n",
              "      <td>54.3</td>\n",
              "      <td>2337</td>\n",
              "      <td>ohc</td>\n",
              "      <td>four</td>\n",
              "      <td>109</td>\n",
              "      <td>mpfi</td>\n",
              "      <td>3.19</td>\n",
              "      <td>3.40</td>\n",
              "      <td>10.0</td>\n",
              "      <td>102</td>\n",
              "      <td>5500</td>\n",
              "      <td>24</td>\n",
              "      <td>30</td>\n",
              "      <td>13950.000</td>\n",
              "    </tr>\n",
              "    <tr>\n",
              "      <th>5</th>\n",
              "      <td>2</td>\n",
              "      <td>audi 100ls</td>\n",
              "      <td>gas</td>\n",
              "      <td>std</td>\n",
              "      <td>four</td>\n",
              "      <td>sedan</td>\n",
              "      <td>4wd</td>\n",
              "      <td>front</td>\n",
              "      <td>99.4</td>\n",
              "      <td>176.6</td>\n",
              "      <td>66.4</td>\n",
              "      <td>54.3</td>\n",
              "      <td>2824</td>\n",
              "      <td>ohc</td>\n",
              "      <td>five</td>\n",
              "      <td>136</td>\n",
              "      <td>mpfi</td>\n",
              "      <td>3.19</td>\n",
              "      <td>3.40</td>\n",
              "      <td>8.0</td>\n",
              "      <td>115</td>\n",
              "      <td>5500</td>\n",
              "      <td>18</td>\n",
              "      <td>22</td>\n",
              "      <td>17450.000</td>\n",
              "    </tr>\n",
              "    <tr>\n",
              "      <th>6</th>\n",
              "      <td>2</td>\n",
              "      <td>audi fox</td>\n",
              "      <td>gas</td>\n",
              "      <td>std</td>\n",
              "      <td>two</td>\n",
              "      <td>sedan</td>\n",
              "      <td>fwd</td>\n",
              "      <td>front</td>\n",
              "      <td>99.8</td>\n",
              "      <td>177.3</td>\n",
              "      <td>66.3</td>\n",
              "      <td>53.1</td>\n",
              "      <td>2507</td>\n",
              "      <td>ohc</td>\n",
              "      <td>five</td>\n",
              "      <td>136</td>\n",
              "      <td>mpfi</td>\n",
              "      <td>3.19</td>\n",
              "      <td>3.40</td>\n",
              "      <td>8.5</td>\n",
              "      <td>110</td>\n",
              "      <td>5500</td>\n",
              "      <td>19</td>\n",
              "      <td>25</td>\n",
              "      <td>15250.000</td>\n",
              "    </tr>\n",
              "    <tr>\n",
              "      <th>7</th>\n",
              "      <td>1</td>\n",
              "      <td>audi 100ls</td>\n",
              "      <td>gas</td>\n",
              "      <td>std</td>\n",
              "      <td>four</td>\n",
              "      <td>sedan</td>\n",
              "      <td>fwd</td>\n",
              "      <td>front</td>\n",
              "      <td>105.8</td>\n",
              "      <td>192.7</td>\n",
              "      <td>71.4</td>\n",
              "      <td>55.7</td>\n",
              "      <td>2844</td>\n",
              "      <td>ohc</td>\n",
              "      <td>five</td>\n",
              "      <td>136</td>\n",
              "      <td>mpfi</td>\n",
              "      <td>3.19</td>\n",
              "      <td>3.40</td>\n",
              "      <td>8.5</td>\n",
              "      <td>110</td>\n",
              "      <td>5500</td>\n",
              "      <td>19</td>\n",
              "      <td>25</td>\n",
              "      <td>17710.000</td>\n",
              "    </tr>\n",
              "    <tr>\n",
              "      <th>8</th>\n",
              "      <td>1</td>\n",
              "      <td>audi 5000</td>\n",
              "      <td>gas</td>\n",
              "      <td>std</td>\n",
              "      <td>four</td>\n",
              "      <td>wagon</td>\n",
              "      <td>fwd</td>\n",
              "      <td>front</td>\n",
              "      <td>105.8</td>\n",
              "      <td>192.7</td>\n",
              "      <td>71.4</td>\n",
              "      <td>55.7</td>\n",
              "      <td>2954</td>\n",
              "      <td>ohc</td>\n",
              "      <td>five</td>\n",
              "      <td>136</td>\n",
              "      <td>mpfi</td>\n",
              "      <td>3.19</td>\n",
              "      <td>3.40</td>\n",
              "      <td>8.5</td>\n",
              "      <td>110</td>\n",
              "      <td>5500</td>\n",
              "      <td>19</td>\n",
              "      <td>25</td>\n",
              "      <td>18920.000</td>\n",
              "    </tr>\n",
              "    <tr>\n",
              "      <th>9</th>\n",
              "      <td>1</td>\n",
              "      <td>audi 4000</td>\n",
              "      <td>gas</td>\n",
              "      <td>turbo</td>\n",
              "      <td>four</td>\n",
              "      <td>sedan</td>\n",
              "      <td>fwd</td>\n",
              "      <td>front</td>\n",
              "      <td>105.8</td>\n",
              "      <td>192.7</td>\n",
              "      <td>71.4</td>\n",
              "      <td>55.9</td>\n",
              "      <td>3086</td>\n",
              "      <td>ohc</td>\n",
              "      <td>five</td>\n",
              "      <td>131</td>\n",
              "      <td>mpfi</td>\n",
              "      <td>3.13</td>\n",
              "      <td>3.40</td>\n",
              "      <td>8.3</td>\n",
              "      <td>140</td>\n",
              "      <td>5500</td>\n",
              "      <td>17</td>\n",
              "      <td>20</td>\n",
              "      <td>23875.000</td>\n",
              "    </tr>\n",
              "    <tr>\n",
              "      <th>10</th>\n",
              "      <td>0</td>\n",
              "      <td>audi 5000s (diesel)</td>\n",
              "      <td>gas</td>\n",
              "      <td>turbo</td>\n",
              "      <td>two</td>\n",
              "      <td>hatchback</td>\n",
              "      <td>4wd</td>\n",
              "      <td>front</td>\n",
              "      <td>99.5</td>\n",
              "      <td>178.2</td>\n",
              "      <td>67.9</td>\n",
              "      <td>52.0</td>\n",
              "      <td>3053</td>\n",
              "      <td>ohc</td>\n",
              "      <td>five</td>\n",
              "      <td>131</td>\n",
              "      <td>mpfi</td>\n",
              "      <td>3.13</td>\n",
              "      <td>3.40</td>\n",
              "      <td>7.0</td>\n",
              "      <td>160</td>\n",
              "      <td>5500</td>\n",
              "      <td>16</td>\n",
              "      <td>22</td>\n",
              "      <td>17859.167</td>\n",
              "    </tr>\n",
              "  </tbody>\n",
              "</table>\n",
              "</div>"
            ],
            "text/plain": [
              "        symboling                   CarName  ... highwaympg      price\n",
              "car_ID                                       ...                      \n",
              "1               3        alfa-romero giulia  ...         27  13495.000\n",
              "2               3       alfa-romero stelvio  ...         27  16500.000\n",
              "3               1  alfa-romero Quadrifoglio  ...         26  16500.000\n",
              "4               2               audi 100 ls  ...         30  13950.000\n",
              "5               2                audi 100ls  ...         22  17450.000\n",
              "6               2                  audi fox  ...         25  15250.000\n",
              "7               1                audi 100ls  ...         25  17710.000\n",
              "8               1                 audi 5000  ...         25  18920.000\n",
              "9               1                 audi 4000  ...         20  23875.000\n",
              "10              0       audi 5000s (diesel)  ...         22  17859.167\n",
              "\n",
              "[10 rows x 25 columns]"
            ]
          },
          "metadata": {
            "tags": []
          },
          "execution_count": 5
        }
      ]
    },
    {
      "cell_type": "code",
      "metadata": {
        "id": "TzeNkZ-SLssC"
      },
      "source": [
        "def BrandClean(X):\n",
        "  if X == 'alfa-romero': X = 'alfa-romeo'\n",
        "  elif X == 'maxda': X = 'mazda'\n",
        "  elif X == 'porcshce': X = 'porsche'\n",
        "  elif X == 'toyouta': X = 'toyota'\n",
        "  elif X == 'vokswagen': X = 'volkswagen'\n",
        "  elif X == 'vw': X = 'volkswagen'\n",
        "  return X.title()"
      ],
      "execution_count": 6,
      "outputs": []
    },
    {
      "cell_type": "code",
      "metadata": {
        "id": "AEQvl54v2aq1"
      },
      "source": [
        "cars_df['Brand'] = cars_df['CarName'].apply(lambda x: BrandClean(x.split()[0]))\n",
        "cars_df['Model'] = cars_df['CarName'].apply(lambda x: ''.join(x.split()[1:]).title())"
      ],
      "execution_count": 7,
      "outputs": []
    },
    {
      "cell_type": "code",
      "metadata": {
        "id": "Nltdx-UBQBfP"
      },
      "source": [
        "cars_df['doornumber'] = cars_df['doornumber'].apply(lambda x:W2N(x))\n",
        "cars_df['cylindernumber'] = cars_df['cylindernumber'].apply(lambda x:W2N(x))"
      ],
      "execution_count": 8,
      "outputs": []
    },
    {
      "cell_type": "code",
      "metadata": {
        "id": "_JkKomV-hceN"
      },
      "source": [
        "cars_df['city_mileage'] = cars_df['citympg'] / mpg2kmpl\n",
        "cars_df['highway_mileage'] = cars_df['highwaympg'] / mpg2kmpl"
      ],
      "execution_count": 9,
      "outputs": []
    },
    {
      "cell_type": "code",
      "metadata": {
        "colab": {
          "base_uri": "https://localhost:8080/"
        },
        "id": "Knf9ys1Yy6Rx",
        "outputId": "fe3d7b6d-669e-41d7-a1b8-9743473bd55b"
      },
      "source": [
        "print(cars_df['Brand'].unique())"
      ],
      "execution_count": 10,
      "outputs": [
        {
          "output_type": "stream",
          "text": [
            "['Alfa-Romeo' 'Audi' 'Bmw' 'Chevrolet' 'Dodge' 'Honda' 'Isuzu' 'Jaguar'\n",
            " 'Mazda' 'Buick' 'Mercury' 'Mitsubishi' 'Nissan' 'Peugeot' 'Plymouth'\n",
            " 'Porsche' 'Renault' 'Saab' 'Subaru' 'Toyota' 'Volkswagen' 'Volvo']\n"
          ],
          "name": "stdout"
        }
      ]
    },
    {
      "cell_type": "code",
      "metadata": {
        "id": "5XLnkti73rjs"
      },
      "source": [
        "columns = cars_df.select_dtypes('object').columns.to_list()\n",
        "columns.remove('Model')\n",
        "columns.remove('CarName')\n",
        "for col in columns:\n",
        "  value = cars_df.groupby(col)['price'].mean().to_dict()\n",
        "  cars_df[col+'_value'] = cars_df[col].apply(lambda x:value[x])\n",
        "cars_df = cars_df.drop(cars_df.select_dtypes('object').columns, axis=1)"
      ],
      "execution_count": 11,
      "outputs": []
    },
    {
      "cell_type": "code",
      "metadata": {
        "colab": {
          "base_uri": "https://localhost:8080/",
          "height": 440
        },
        "id": "11WKIsCAQr8h",
        "outputId": "371487c1-4145-4411-c557-5a61620e19fd"
      },
      "source": [
        "cars_df"
      ],
      "execution_count": 12,
      "outputs": [
        {
          "output_type": "execute_result",
          "data": {
            "text/html": [
              "<div>\n",
              "<style scoped>\n",
              "    .dataframe tbody tr th:only-of-type {\n",
              "        vertical-align: middle;\n",
              "    }\n",
              "\n",
              "    .dataframe tbody tr th {\n",
              "        vertical-align: top;\n",
              "    }\n",
              "\n",
              "    .dataframe thead th {\n",
              "        text-align: right;\n",
              "    }\n",
              "</style>\n",
              "<table border=\"1\" class=\"dataframe\">\n",
              "  <thead>\n",
              "    <tr style=\"text-align: right;\">\n",
              "      <th></th>\n",
              "      <th>symboling</th>\n",
              "      <th>doornumber</th>\n",
              "      <th>wheelbase</th>\n",
              "      <th>carlength</th>\n",
              "      <th>carwidth</th>\n",
              "      <th>carheight</th>\n",
              "      <th>curbweight</th>\n",
              "      <th>cylindernumber</th>\n",
              "      <th>enginesize</th>\n",
              "      <th>boreratio</th>\n",
              "      <th>stroke</th>\n",
              "      <th>compressionratio</th>\n",
              "      <th>horsepower</th>\n",
              "      <th>peakrpm</th>\n",
              "      <th>citympg</th>\n",
              "      <th>highwaympg</th>\n",
              "      <th>price</th>\n",
              "      <th>city_mileage</th>\n",
              "      <th>highway_mileage</th>\n",
              "      <th>fueltype_value</th>\n",
              "      <th>aspiration_value</th>\n",
              "      <th>carbody_value</th>\n",
              "      <th>drivewheel_value</th>\n",
              "      <th>enginelocation_value</th>\n",
              "      <th>enginetype_value</th>\n",
              "      <th>fuelsystem_value</th>\n",
              "      <th>Brand_value</th>\n",
              "    </tr>\n",
              "    <tr>\n",
              "      <th>car_ID</th>\n",
              "      <th></th>\n",
              "      <th></th>\n",
              "      <th></th>\n",
              "      <th></th>\n",
              "      <th></th>\n",
              "      <th></th>\n",
              "      <th></th>\n",
              "      <th></th>\n",
              "      <th></th>\n",
              "      <th></th>\n",
              "      <th></th>\n",
              "      <th></th>\n",
              "      <th></th>\n",
              "      <th></th>\n",
              "      <th></th>\n",
              "      <th></th>\n",
              "      <th></th>\n",
              "      <th></th>\n",
              "      <th></th>\n",
              "      <th></th>\n",
              "      <th></th>\n",
              "      <th></th>\n",
              "      <th></th>\n",
              "      <th></th>\n",
              "      <th></th>\n",
              "      <th></th>\n",
              "      <th></th>\n",
              "    </tr>\n",
              "  </thead>\n",
              "  <tbody>\n",
              "    <tr>\n",
              "      <th>1</th>\n",
              "      <td>3</td>\n",
              "      <td>2</td>\n",
              "      <td>88.6</td>\n",
              "      <td>168.8</td>\n",
              "      <td>64.1</td>\n",
              "      <td>48.8</td>\n",
              "      <td>2548</td>\n",
              "      <td>4</td>\n",
              "      <td>130</td>\n",
              "      <td>3.47</td>\n",
              "      <td>2.68</td>\n",
              "      <td>9.0</td>\n",
              "      <td>111</td>\n",
              "      <td>5000</td>\n",
              "      <td>21</td>\n",
              "      <td>27</td>\n",
              "      <td>13495.0</td>\n",
              "      <td>8.928018</td>\n",
              "      <td>11.478880</td>\n",
              "      <td>12999.7982</td>\n",
              "      <td>12611.270833</td>\n",
              "      <td>21890.500000</td>\n",
              "      <td>19910.809211</td>\n",
              "      <td>12961.097361</td>\n",
              "      <td>18116.416667</td>\n",
              "      <td>17754.60284</td>\n",
              "      <td>15498.333333</td>\n",
              "    </tr>\n",
              "    <tr>\n",
              "      <th>2</th>\n",
              "      <td>3</td>\n",
              "      <td>2</td>\n",
              "      <td>88.6</td>\n",
              "      <td>168.8</td>\n",
              "      <td>64.1</td>\n",
              "      <td>48.8</td>\n",
              "      <td>2548</td>\n",
              "      <td>4</td>\n",
              "      <td>130</td>\n",
              "      <td>3.47</td>\n",
              "      <td>2.68</td>\n",
              "      <td>9.0</td>\n",
              "      <td>111</td>\n",
              "      <td>5000</td>\n",
              "      <td>21</td>\n",
              "      <td>27</td>\n",
              "      <td>16500.0</td>\n",
              "      <td>8.928018</td>\n",
              "      <td>11.478880</td>\n",
              "      <td>12999.7982</td>\n",
              "      <td>12611.270833</td>\n",
              "      <td>21890.500000</td>\n",
              "      <td>19910.809211</td>\n",
              "      <td>12961.097361</td>\n",
              "      <td>18116.416667</td>\n",
              "      <td>17754.60284</td>\n",
              "      <td>15498.333333</td>\n",
              "    </tr>\n",
              "    <tr>\n",
              "      <th>3</th>\n",
              "      <td>1</td>\n",
              "      <td>2</td>\n",
              "      <td>94.5</td>\n",
              "      <td>171.2</td>\n",
              "      <td>65.5</td>\n",
              "      <td>52.4</td>\n",
              "      <td>2823</td>\n",
              "      <td>6</td>\n",
              "      <td>152</td>\n",
              "      <td>2.68</td>\n",
              "      <td>3.47</td>\n",
              "      <td>9.0</td>\n",
              "      <td>154</td>\n",
              "      <td>5000</td>\n",
              "      <td>19</td>\n",
              "      <td>26</td>\n",
              "      <td>16500.0</td>\n",
              "      <td>8.077731</td>\n",
              "      <td>11.053737</td>\n",
              "      <td>12999.7982</td>\n",
              "      <td>12611.270833</td>\n",
              "      <td>10376.652386</td>\n",
              "      <td>19910.809211</td>\n",
              "      <td>12961.097361</td>\n",
              "      <td>25098.384615</td>\n",
              "      <td>17754.60284</td>\n",
              "      <td>15498.333333</td>\n",
              "    </tr>\n",
              "    <tr>\n",
              "      <th>4</th>\n",
              "      <td>2</td>\n",
              "      <td>4</td>\n",
              "      <td>99.8</td>\n",
              "      <td>176.6</td>\n",
              "      <td>66.2</td>\n",
              "      <td>54.3</td>\n",
              "      <td>2337</td>\n",
              "      <td>4</td>\n",
              "      <td>109</td>\n",
              "      <td>3.19</td>\n",
              "      <td>3.40</td>\n",
              "      <td>10.0</td>\n",
              "      <td>102</td>\n",
              "      <td>5500</td>\n",
              "      <td>24</td>\n",
              "      <td>30</td>\n",
              "      <td>13950.0</td>\n",
              "      <td>10.203449</td>\n",
              "      <td>12.754311</td>\n",
              "      <td>12999.7982</td>\n",
              "      <td>12611.270833</td>\n",
              "      <td>14344.270833</td>\n",
              "      <td>9239.308333</td>\n",
              "      <td>12961.097361</td>\n",
              "      <td>11574.048426</td>\n",
              "      <td>17754.60284</td>\n",
              "      <td>17859.166714</td>\n",
              "    </tr>\n",
              "    <tr>\n",
              "      <th>5</th>\n",
              "      <td>2</td>\n",
              "      <td>4</td>\n",
              "      <td>99.4</td>\n",
              "      <td>176.6</td>\n",
              "      <td>66.4</td>\n",
              "      <td>54.3</td>\n",
              "      <td>2824</td>\n",
              "      <td>5</td>\n",
              "      <td>136</td>\n",
              "      <td>3.19</td>\n",
              "      <td>3.40</td>\n",
              "      <td>8.0</td>\n",
              "      <td>115</td>\n",
              "      <td>5500</td>\n",
              "      <td>18</td>\n",
              "      <td>22</td>\n",
              "      <td>17450.0</td>\n",
              "      <td>7.652587</td>\n",
              "      <td>9.353162</td>\n",
              "      <td>12999.7982</td>\n",
              "      <td>12611.270833</td>\n",
              "      <td>14344.270833</td>\n",
              "      <td>11087.463000</td>\n",
              "      <td>12961.097361</td>\n",
              "      <td>11574.048426</td>\n",
              "      <td>17754.60284</td>\n",
              "      <td>17859.166714</td>\n",
              "    </tr>\n",
              "    <tr>\n",
              "      <th>...</th>\n",
              "      <td>...</td>\n",
              "      <td>...</td>\n",
              "      <td>...</td>\n",
              "      <td>...</td>\n",
              "      <td>...</td>\n",
              "      <td>...</td>\n",
              "      <td>...</td>\n",
              "      <td>...</td>\n",
              "      <td>...</td>\n",
              "      <td>...</td>\n",
              "      <td>...</td>\n",
              "      <td>...</td>\n",
              "      <td>...</td>\n",
              "      <td>...</td>\n",
              "      <td>...</td>\n",
              "      <td>...</td>\n",
              "      <td>...</td>\n",
              "      <td>...</td>\n",
              "      <td>...</td>\n",
              "      <td>...</td>\n",
              "      <td>...</td>\n",
              "      <td>...</td>\n",
              "      <td>...</td>\n",
              "      <td>...</td>\n",
              "      <td>...</td>\n",
              "      <td>...</td>\n",
              "      <td>...</td>\n",
              "    </tr>\n",
              "    <tr>\n",
              "      <th>201</th>\n",
              "      <td>-1</td>\n",
              "      <td>4</td>\n",
              "      <td>109.1</td>\n",
              "      <td>188.8</td>\n",
              "      <td>68.9</td>\n",
              "      <td>55.5</td>\n",
              "      <td>2952</td>\n",
              "      <td>4</td>\n",
              "      <td>141</td>\n",
              "      <td>3.78</td>\n",
              "      <td>3.15</td>\n",
              "      <td>9.5</td>\n",
              "      <td>114</td>\n",
              "      <td>5400</td>\n",
              "      <td>23</td>\n",
              "      <td>28</td>\n",
              "      <td>16845.0</td>\n",
              "      <td>9.778305</td>\n",
              "      <td>11.904024</td>\n",
              "      <td>12999.7982</td>\n",
              "      <td>12611.270833</td>\n",
              "      <td>14344.270833</td>\n",
              "      <td>19910.809211</td>\n",
              "      <td>12961.097361</td>\n",
              "      <td>11574.048426</td>\n",
              "      <td>17754.60284</td>\n",
              "      <td>18063.181818</td>\n",
              "    </tr>\n",
              "    <tr>\n",
              "      <th>202</th>\n",
              "      <td>-1</td>\n",
              "      <td>4</td>\n",
              "      <td>109.1</td>\n",
              "      <td>188.8</td>\n",
              "      <td>68.8</td>\n",
              "      <td>55.5</td>\n",
              "      <td>3049</td>\n",
              "      <td>4</td>\n",
              "      <td>141</td>\n",
              "      <td>3.78</td>\n",
              "      <td>3.15</td>\n",
              "      <td>8.7</td>\n",
              "      <td>160</td>\n",
              "      <td>5300</td>\n",
              "      <td>19</td>\n",
              "      <td>25</td>\n",
              "      <td>19045.0</td>\n",
              "      <td>8.077731</td>\n",
              "      <td>10.628593</td>\n",
              "      <td>12999.7982</td>\n",
              "      <td>16298.166676</td>\n",
              "      <td>14344.270833</td>\n",
              "      <td>19910.809211</td>\n",
              "      <td>12961.097361</td>\n",
              "      <td>11574.048426</td>\n",
              "      <td>17754.60284</td>\n",
              "      <td>18063.181818</td>\n",
              "    </tr>\n",
              "    <tr>\n",
              "      <th>203</th>\n",
              "      <td>-1</td>\n",
              "      <td>4</td>\n",
              "      <td>109.1</td>\n",
              "      <td>188.8</td>\n",
              "      <td>68.9</td>\n",
              "      <td>55.5</td>\n",
              "      <td>3012</td>\n",
              "      <td>6</td>\n",
              "      <td>173</td>\n",
              "      <td>3.58</td>\n",
              "      <td>2.87</td>\n",
              "      <td>8.8</td>\n",
              "      <td>134</td>\n",
              "      <td>5500</td>\n",
              "      <td>18</td>\n",
              "      <td>23</td>\n",
              "      <td>21485.0</td>\n",
              "      <td>7.652587</td>\n",
              "      <td>9.778305</td>\n",
              "      <td>12999.7982</td>\n",
              "      <td>12611.270833</td>\n",
              "      <td>14344.270833</td>\n",
              "      <td>19910.809211</td>\n",
              "      <td>12961.097361</td>\n",
              "      <td>25098.384615</td>\n",
              "      <td>17754.60284</td>\n",
              "      <td>18063.181818</td>\n",
              "    </tr>\n",
              "    <tr>\n",
              "      <th>204</th>\n",
              "      <td>-1</td>\n",
              "      <td>4</td>\n",
              "      <td>109.1</td>\n",
              "      <td>188.8</td>\n",
              "      <td>68.9</td>\n",
              "      <td>55.5</td>\n",
              "      <td>3217</td>\n",
              "      <td>6</td>\n",
              "      <td>145</td>\n",
              "      <td>3.01</td>\n",
              "      <td>3.40</td>\n",
              "      <td>23.0</td>\n",
              "      <td>106</td>\n",
              "      <td>4800</td>\n",
              "      <td>26</td>\n",
              "      <td>27</td>\n",
              "      <td>22470.0</td>\n",
              "      <td>11.053737</td>\n",
              "      <td>11.478880</td>\n",
              "      <td>15838.1500</td>\n",
              "      <td>16298.166676</td>\n",
              "      <td>14344.270833</td>\n",
              "      <td>19910.809211</td>\n",
              "      <td>12961.097361</td>\n",
              "      <td>11574.048426</td>\n",
              "      <td>15838.15000</td>\n",
              "      <td>18063.181818</td>\n",
              "    </tr>\n",
              "    <tr>\n",
              "      <th>205</th>\n",
              "      <td>-1</td>\n",
              "      <td>4</td>\n",
              "      <td>109.1</td>\n",
              "      <td>188.8</td>\n",
              "      <td>68.9</td>\n",
              "      <td>55.5</td>\n",
              "      <td>3062</td>\n",
              "      <td>4</td>\n",
              "      <td>141</td>\n",
              "      <td>3.78</td>\n",
              "      <td>3.15</td>\n",
              "      <td>9.5</td>\n",
              "      <td>114</td>\n",
              "      <td>5400</td>\n",
              "      <td>19</td>\n",
              "      <td>25</td>\n",
              "      <td>22625.0</td>\n",
              "      <td>8.077731</td>\n",
              "      <td>10.628593</td>\n",
              "      <td>12999.7982</td>\n",
              "      <td>16298.166676</td>\n",
              "      <td>14344.270833</td>\n",
              "      <td>19910.809211</td>\n",
              "      <td>12961.097361</td>\n",
              "      <td>11574.048426</td>\n",
              "      <td>17754.60284</td>\n",
              "      <td>18063.181818</td>\n",
              "    </tr>\n",
              "  </tbody>\n",
              "</table>\n",
              "<p>205 rows × 27 columns</p>\n",
              "</div>"
            ],
            "text/plain": [
              "        symboling  doornumber  ...  fuelsystem_value   Brand_value\n",
              "car_ID                         ...                                \n",
              "1               3           2  ...       17754.60284  15498.333333\n",
              "2               3           2  ...       17754.60284  15498.333333\n",
              "3               1           2  ...       17754.60284  15498.333333\n",
              "4               2           4  ...       17754.60284  17859.166714\n",
              "5               2           4  ...       17754.60284  17859.166714\n",
              "...           ...         ...  ...               ...           ...\n",
              "201            -1           4  ...       17754.60284  18063.181818\n",
              "202            -1           4  ...       17754.60284  18063.181818\n",
              "203            -1           4  ...       17754.60284  18063.181818\n",
              "204            -1           4  ...       15838.15000  18063.181818\n",
              "205            -1           4  ...       17754.60284  18063.181818\n",
              "\n",
              "[205 rows x 27 columns]"
            ]
          },
          "metadata": {
            "tags": []
          },
          "execution_count": 12
        }
      ]
    },
    {
      "cell_type": "code",
      "metadata": {
        "colab": {
          "base_uri": "https://localhost:8080/",
          "height": 823
        },
        "id": "PMnjSUJMQ3Ef",
        "outputId": "11e08b12-95eb-459d-8827-6c2dc0fddc73"
      },
      "source": [
        "cols = cars_df.select_dtypes(exclude='object').columns\n",
        "pearson_coeff, p_value, sig = [], [], []\n",
        "for i in list(cols):\n",
        "    x, y = stats.pearsonr(cars_df[i], cars_df['price'])\n",
        "    pearson_coeff.append(x)\n",
        "    p_value.append(y)\n",
        "    sig.append('Significant' if y<0.05 else 'Insignificant')\n",
        "columns=['Columns', 'Pearson_Co-relation', 'P-Value', 'Significance']\n",
        "P_df = pd.DataFrame({columns[0]:cols, columns[1]:pearson_coeff, columns[2]:p_value, columns[3]:sig})\n",
        "cars_df = cars_df.drop(P_df[P_df['Significance'] == 'Insignificant']['Columns'].to_list(), axis=1)\n",
        "P_df"
      ],
      "execution_count": 13,
      "outputs": [
        {
          "output_type": "execute_result",
          "data": {
            "text/html": [
              "<div>\n",
              "<style scoped>\n",
              "    .dataframe tbody tr th:only-of-type {\n",
              "        vertical-align: middle;\n",
              "    }\n",
              "\n",
              "    .dataframe tbody tr th {\n",
              "        vertical-align: top;\n",
              "    }\n",
              "\n",
              "    .dataframe thead th {\n",
              "        text-align: right;\n",
              "    }\n",
              "</style>\n",
              "<table border=\"1\" class=\"dataframe\">\n",
              "  <thead>\n",
              "    <tr style=\"text-align: right;\">\n",
              "      <th></th>\n",
              "      <th>Columns</th>\n",
              "      <th>Pearson_Co-relation</th>\n",
              "      <th>P-Value</th>\n",
              "      <th>Significance</th>\n",
              "    </tr>\n",
              "  </thead>\n",
              "  <tbody>\n",
              "    <tr>\n",
              "      <th>0</th>\n",
              "      <td>symboling</td>\n",
              "      <td>-0.079978</td>\n",
              "      <td>2.543118e-01</td>\n",
              "      <td>Insignificant</td>\n",
              "    </tr>\n",
              "    <tr>\n",
              "      <th>1</th>\n",
              "      <td>doornumber</td>\n",
              "      <td>0.031835</td>\n",
              "      <td>6.504484e-01</td>\n",
              "      <td>Insignificant</td>\n",
              "    </tr>\n",
              "    <tr>\n",
              "      <th>2</th>\n",
              "      <td>wheelbase</td>\n",
              "      <td>0.577816</td>\n",
              "      <td>1.182820e-19</td>\n",
              "      <td>Significant</td>\n",
              "    </tr>\n",
              "    <tr>\n",
              "      <th>3</th>\n",
              "      <td>carlength</td>\n",
              "      <td>0.682920</td>\n",
              "      <td>1.678707e-29</td>\n",
              "      <td>Significant</td>\n",
              "    </tr>\n",
              "    <tr>\n",
              "      <th>4</th>\n",
              "      <td>carwidth</td>\n",
              "      <td>0.759325</td>\n",
              "      <td>9.627438e-40</td>\n",
              "      <td>Significant</td>\n",
              "    </tr>\n",
              "    <tr>\n",
              "      <th>5</th>\n",
              "      <td>carheight</td>\n",
              "      <td>0.119336</td>\n",
              "      <td>8.832832e-02</td>\n",
              "      <td>Insignificant</td>\n",
              "    </tr>\n",
              "    <tr>\n",
              "      <th>6</th>\n",
              "      <td>curbweight</td>\n",
              "      <td>0.835305</td>\n",
              "      <td>1.214445e-54</td>\n",
              "      <td>Significant</td>\n",
              "    </tr>\n",
              "    <tr>\n",
              "      <th>7</th>\n",
              "      <td>cylindernumber</td>\n",
              "      <td>0.718305</td>\n",
              "      <td>8.028863e-34</td>\n",
              "      <td>Significant</td>\n",
              "    </tr>\n",
              "    <tr>\n",
              "      <th>8</th>\n",
              "      <td>enginesize</td>\n",
              "      <td>0.874145</td>\n",
              "      <td>1.354764e-65</td>\n",
              "      <td>Significant</td>\n",
              "    </tr>\n",
              "    <tr>\n",
              "      <th>9</th>\n",
              "      <td>boreratio</td>\n",
              "      <td>0.553173</td>\n",
              "      <td>7.907922e-18</td>\n",
              "      <td>Significant</td>\n",
              "    </tr>\n",
              "    <tr>\n",
              "      <th>10</th>\n",
              "      <td>stroke</td>\n",
              "      <td>0.079443</td>\n",
              "      <td>2.575137e-01</td>\n",
              "      <td>Insignificant</td>\n",
              "    </tr>\n",
              "    <tr>\n",
              "      <th>11</th>\n",
              "      <td>compressionratio</td>\n",
              "      <td>0.067984</td>\n",
              "      <td>3.327724e-01</td>\n",
              "      <td>Insignificant</td>\n",
              "    </tr>\n",
              "    <tr>\n",
              "      <th>12</th>\n",
              "      <td>horsepower</td>\n",
              "      <td>0.808139</td>\n",
              "      <td>1.483437e-48</td>\n",
              "      <td>Significant</td>\n",
              "    </tr>\n",
              "    <tr>\n",
              "      <th>13</th>\n",
              "      <td>peakrpm</td>\n",
              "      <td>-0.085267</td>\n",
              "      <td>2.241412e-01</td>\n",
              "      <td>Insignificant</td>\n",
              "    </tr>\n",
              "    <tr>\n",
              "      <th>14</th>\n",
              "      <td>citympg</td>\n",
              "      <td>-0.685751</td>\n",
              "      <td>7.978684e-30</td>\n",
              "      <td>Significant</td>\n",
              "    </tr>\n",
              "    <tr>\n",
              "      <th>15</th>\n",
              "      <td>highwaympg</td>\n",
              "      <td>-0.697599</td>\n",
              "      <td>3.230681e-31</td>\n",
              "      <td>Significant</td>\n",
              "    </tr>\n",
              "    <tr>\n",
              "      <th>16</th>\n",
              "      <td>price</td>\n",
              "      <td>1.000000</td>\n",
              "      <td>0.000000e+00</td>\n",
              "      <td>Significant</td>\n",
              "    </tr>\n",
              "    <tr>\n",
              "      <th>17</th>\n",
              "      <td>city_mileage</td>\n",
              "      <td>-0.685751</td>\n",
              "      <td>7.978684e-30</td>\n",
              "      <td>Significant</td>\n",
              "    </tr>\n",
              "    <tr>\n",
              "      <th>18</th>\n",
              "      <td>highway_mileage</td>\n",
              "      <td>-0.697599</td>\n",
              "      <td>3.230681e-31</td>\n",
              "      <td>Significant</td>\n",
              "    </tr>\n",
              "    <tr>\n",
              "      <th>19</th>\n",
              "      <td>fueltype_value</td>\n",
              "      <td>0.105679</td>\n",
              "      <td>1.315356e-01</td>\n",
              "      <td>Insignificant</td>\n",
              "    </tr>\n",
              "    <tr>\n",
              "      <th>20</th>\n",
              "      <td>aspiration_value</td>\n",
              "      <td>0.177926</td>\n",
              "      <td>1.070030e-02</td>\n",
              "      <td>Significant</td>\n",
              "    </tr>\n",
              "    <tr>\n",
              "      <th>21</th>\n",
              "      <td>carbody_value</td>\n",
              "      <td>0.372030</td>\n",
              "      <td>3.962585e-08</td>\n",
              "      <td>Significant</td>\n",
              "    </tr>\n",
              "    <tr>\n",
              "      <th>22</th>\n",
              "      <td>drivewheel_value</td>\n",
              "      <td>0.640673</td>\n",
              "      <td>4.415578e-25</td>\n",
              "      <td>Significant</td>\n",
              "    </tr>\n",
              "    <tr>\n",
              "      <th>23</th>\n",
              "      <td>enginelocation_value</td>\n",
              "      <td>0.324973</td>\n",
              "      <td>1.993020e-06</td>\n",
              "      <td>Significant</td>\n",
              "    </tr>\n",
              "    <tr>\n",
              "      <th>24</th>\n",
              "      <td>enginetype_value</td>\n",
              "      <td>0.470384</td>\n",
              "      <td>1.107391e-12</td>\n",
              "      <td>Significant</td>\n",
              "    </tr>\n",
              "    <tr>\n",
              "      <th>25</th>\n",
              "      <td>fuelsystem_value</td>\n",
              "      <td>0.597700</td>\n",
              "      <td>3.048383e-21</td>\n",
              "      <td>Significant</td>\n",
              "    </tr>\n",
              "    <tr>\n",
              "      <th>26</th>\n",
              "      <td>Brand_value</td>\n",
              "      <td>0.895520</td>\n",
              "      <td>2.607648e-73</td>\n",
              "      <td>Significant</td>\n",
              "    </tr>\n",
              "  </tbody>\n",
              "</table>\n",
              "</div>"
            ],
            "text/plain": [
              "                 Columns  Pearson_Co-relation       P-Value   Significance\n",
              "0              symboling            -0.079978  2.543118e-01  Insignificant\n",
              "1             doornumber             0.031835  6.504484e-01  Insignificant\n",
              "2              wheelbase             0.577816  1.182820e-19    Significant\n",
              "3              carlength             0.682920  1.678707e-29    Significant\n",
              "4               carwidth             0.759325  9.627438e-40    Significant\n",
              "5              carheight             0.119336  8.832832e-02  Insignificant\n",
              "6             curbweight             0.835305  1.214445e-54    Significant\n",
              "7         cylindernumber             0.718305  8.028863e-34    Significant\n",
              "8             enginesize             0.874145  1.354764e-65    Significant\n",
              "9              boreratio             0.553173  7.907922e-18    Significant\n",
              "10                stroke             0.079443  2.575137e-01  Insignificant\n",
              "11      compressionratio             0.067984  3.327724e-01  Insignificant\n",
              "12            horsepower             0.808139  1.483437e-48    Significant\n",
              "13               peakrpm            -0.085267  2.241412e-01  Insignificant\n",
              "14               citympg            -0.685751  7.978684e-30    Significant\n",
              "15            highwaympg            -0.697599  3.230681e-31    Significant\n",
              "16                 price             1.000000  0.000000e+00    Significant\n",
              "17          city_mileage            -0.685751  7.978684e-30    Significant\n",
              "18       highway_mileage            -0.697599  3.230681e-31    Significant\n",
              "19        fueltype_value             0.105679  1.315356e-01  Insignificant\n",
              "20      aspiration_value             0.177926  1.070030e-02    Significant\n",
              "21         carbody_value             0.372030  3.962585e-08    Significant\n",
              "22      drivewheel_value             0.640673  4.415578e-25    Significant\n",
              "23  enginelocation_value             0.324973  1.993020e-06    Significant\n",
              "24      enginetype_value             0.470384  1.107391e-12    Significant\n",
              "25      fuelsystem_value             0.597700  3.048383e-21    Significant\n",
              "26           Brand_value             0.895520  2.607648e-73    Significant"
            ]
          },
          "metadata": {
            "tags": []
          },
          "execution_count": 13
        }
      ]
    },
    {
      "cell_type": "code",
      "metadata": {
        "id": "Q_dADgxQjFER"
      },
      "source": [
        "columns = cars_df.columns.to_list()\n",
        "#columns.remove('price')\n",
        "cars_df[columns] = QTransform.fit_transform(cars_df[columns])"
      ],
      "execution_count": 14,
      "outputs": []
    },
    {
      "cell_type": "code",
      "metadata": {
        "colab": {
          "base_uri": "https://localhost:8080/",
          "height": 440
        },
        "id": "iVoyQDNLqz4X",
        "outputId": "d6c9cace-11c9-45e5-c486-70ec810e2f09"
      },
      "source": [
        "cars_df"
      ],
      "execution_count": 15,
      "outputs": [
        {
          "output_type": "execute_result",
          "data": {
            "text/html": [
              "<div>\n",
              "<style scoped>\n",
              "    .dataframe tbody tr th:only-of-type {\n",
              "        vertical-align: middle;\n",
              "    }\n",
              "\n",
              "    .dataframe tbody tr th {\n",
              "        vertical-align: top;\n",
              "    }\n",
              "\n",
              "    .dataframe thead th {\n",
              "        text-align: right;\n",
              "    }\n",
              "</style>\n",
              "<table border=\"1\" class=\"dataframe\">\n",
              "  <thead>\n",
              "    <tr style=\"text-align: right;\">\n",
              "      <th></th>\n",
              "      <th>wheelbase</th>\n",
              "      <th>carlength</th>\n",
              "      <th>carwidth</th>\n",
              "      <th>curbweight</th>\n",
              "      <th>cylindernumber</th>\n",
              "      <th>enginesize</th>\n",
              "      <th>boreratio</th>\n",
              "      <th>horsepower</th>\n",
              "      <th>citympg</th>\n",
              "      <th>highwaympg</th>\n",
              "      <th>price</th>\n",
              "      <th>city_mileage</th>\n",
              "      <th>highway_mileage</th>\n",
              "      <th>aspiration_value</th>\n",
              "      <th>carbody_value</th>\n",
              "      <th>drivewheel_value</th>\n",
              "      <th>enginelocation_value</th>\n",
              "      <th>enginetype_value</th>\n",
              "      <th>fuelsystem_value</th>\n",
              "      <th>Brand_value</th>\n",
              "    </tr>\n",
              "    <tr>\n",
              "      <th>car_ID</th>\n",
              "      <th></th>\n",
              "      <th></th>\n",
              "      <th></th>\n",
              "      <th></th>\n",
              "      <th></th>\n",
              "      <th></th>\n",
              "      <th></th>\n",
              "      <th></th>\n",
              "      <th></th>\n",
              "      <th></th>\n",
              "      <th></th>\n",
              "      <th></th>\n",
              "      <th></th>\n",
              "      <th></th>\n",
              "      <th></th>\n",
              "      <th></th>\n",
              "      <th></th>\n",
              "      <th></th>\n",
              "      <th></th>\n",
              "      <th></th>\n",
              "    </tr>\n",
              "  </thead>\n",
              "  <tbody>\n",
              "    <tr>\n",
              "      <th>1</th>\n",
              "      <td>0.017157</td>\n",
              "      <td>0.306373</td>\n",
              "      <td>0.252451</td>\n",
              "      <td>0.583333</td>\n",
              "      <td>0.411765</td>\n",
              "      <td>0.644608</td>\n",
              "      <td>0.678922</td>\n",
              "      <td>0.659314</td>\n",
              "      <td>0.301471</td>\n",
              "      <td>0.318627</td>\n",
              "      <td>0.642157</td>\n",
              "      <td>0.301471</td>\n",
              "      <td>0.318627</td>\n",
              "      <td>0.0</td>\n",
              "      <td>0.948529</td>\n",
              "      <td>1.000000</td>\n",
              "      <td>0.0</td>\n",
              "      <td>0.904412</td>\n",
              "      <td>1.000000</td>\n",
              "      <td>0.784314</td>\n",
              "    </tr>\n",
              "    <tr>\n",
              "      <th>2</th>\n",
              "      <td>0.017157</td>\n",
              "      <td>0.306373</td>\n",
              "      <td>0.252451</td>\n",
              "      <td>0.583333</td>\n",
              "      <td>0.411765</td>\n",
              "      <td>0.644608</td>\n",
              "      <td>0.678922</td>\n",
              "      <td>0.659314</td>\n",
              "      <td>0.301471</td>\n",
              "      <td>0.318627</td>\n",
              "      <td>0.742647</td>\n",
              "      <td>0.301471</td>\n",
              "      <td>0.318627</td>\n",
              "      <td>0.0</td>\n",
              "      <td>0.948529</td>\n",
              "      <td>1.000000</td>\n",
              "      <td>0.0</td>\n",
              "      <td>0.904412</td>\n",
              "      <td>1.000000</td>\n",
              "      <td>0.784314</td>\n",
              "    </tr>\n",
              "    <tr>\n",
              "      <th>3</th>\n",
              "      <td>0.235294</td>\n",
              "      <td>0.397059</td>\n",
              "      <td>0.507353</td>\n",
              "      <td>0.705882</td>\n",
              "      <td>0.914216</td>\n",
              "      <td>0.806373</td>\n",
              "      <td>0.004902</td>\n",
              "      <td>0.862745</td>\n",
              "      <td>0.200980</td>\n",
              "      <td>0.299020</td>\n",
              "      <td>0.742647</td>\n",
              "      <td>0.200980</td>\n",
              "      <td>0.299020</td>\n",
              "      <td>0.0</td>\n",
              "      <td>0.000000</td>\n",
              "      <td>1.000000</td>\n",
              "      <td>0.0</td>\n",
              "      <td>0.965686</td>\n",
              "      <td>1.000000</td>\n",
              "      <td>0.784314</td>\n",
              "    </tr>\n",
              "    <tr>\n",
              "      <th>4</th>\n",
              "      <td>0.688725</td>\n",
              "      <td>0.644608</td>\n",
              "      <td>0.593137</td>\n",
              "      <td>0.404412</td>\n",
              "      <td>0.411765</td>\n",
              "      <td>0.406863</td>\n",
              "      <td>0.375000</td>\n",
              "      <td>0.593137</td>\n",
              "      <td>0.453431</td>\n",
              "      <td>0.480392</td>\n",
              "      <td>0.671569</td>\n",
              "      <td>0.453431</td>\n",
              "      <td>0.480392</td>\n",
              "      <td>0.0</td>\n",
              "      <td>0.698529</td>\n",
              "      <td>0.000000</td>\n",
              "      <td>0.0</td>\n",
              "      <td>0.000000</td>\n",
              "      <td>1.000000</td>\n",
              "      <td>0.813725</td>\n",
              "    </tr>\n",
              "    <tr>\n",
              "      <th>5</th>\n",
              "      <td>0.676471</td>\n",
              "      <td>0.644608</td>\n",
              "      <td>0.627451</td>\n",
              "      <td>0.710784</td>\n",
              "      <td>0.825980</td>\n",
              "      <td>0.696078</td>\n",
              "      <td>0.375000</td>\n",
              "      <td>0.710784</td>\n",
              "      <td>0.127451</td>\n",
              "      <td>0.061275</td>\n",
              "      <td>0.799020</td>\n",
              "      <td>0.127451</td>\n",
              "      <td>0.061275</td>\n",
              "      <td>0.0</td>\n",
              "      <td>0.698529</td>\n",
              "      <td>0.607843</td>\n",
              "      <td>0.0</td>\n",
              "      <td>0.000000</td>\n",
              "      <td>1.000000</td>\n",
              "      <td>0.813725</td>\n",
              "    </tr>\n",
              "    <tr>\n",
              "      <th>...</th>\n",
              "      <td>...</td>\n",
              "      <td>...</td>\n",
              "      <td>...</td>\n",
              "      <td>...</td>\n",
              "      <td>...</td>\n",
              "      <td>...</td>\n",
              "      <td>...</td>\n",
              "      <td>...</td>\n",
              "      <td>...</td>\n",
              "      <td>...</td>\n",
              "      <td>...</td>\n",
              "      <td>...</td>\n",
              "      <td>...</td>\n",
              "      <td>...</td>\n",
              "      <td>...</td>\n",
              "      <td>...</td>\n",
              "      <td>...</td>\n",
              "      <td>...</td>\n",
              "      <td>...</td>\n",
              "      <td>...</td>\n",
              "    </tr>\n",
              "    <tr>\n",
              "      <th>201</th>\n",
              "      <td>0.928922</td>\n",
              "      <td>0.877451</td>\n",
              "      <td>0.914216</td>\n",
              "      <td>0.754902</td>\n",
              "      <td>0.411765</td>\n",
              "      <td>0.735294</td>\n",
              "      <td>0.963235</td>\n",
              "      <td>0.693627</td>\n",
              "      <td>0.370098</td>\n",
              "      <td>0.362745</td>\n",
              "      <td>0.774510</td>\n",
              "      <td>0.370098</td>\n",
              "      <td>0.362745</td>\n",
              "      <td>0.0</td>\n",
              "      <td>0.698529</td>\n",
              "      <td>1.000000</td>\n",
              "      <td>0.0</td>\n",
              "      <td>0.000000</td>\n",
              "      <td>1.000000</td>\n",
              "      <td>0.857843</td>\n",
              "    </tr>\n",
              "    <tr>\n",
              "      <th>202</th>\n",
              "      <td>0.928922</td>\n",
              "      <td>0.877451</td>\n",
              "      <td>0.901961</td>\n",
              "      <td>0.803922</td>\n",
              "      <td>0.411765</td>\n",
              "      <td>0.735294</td>\n",
              "      <td>0.963235</td>\n",
              "      <td>0.899510</td>\n",
              "      <td>0.200980</td>\n",
              "      <td>0.245098</td>\n",
              "      <td>0.867647</td>\n",
              "      <td>0.200980</td>\n",
              "      <td>0.245098</td>\n",
              "      <td>1.0</td>\n",
              "      <td>0.698529</td>\n",
              "      <td>1.000000</td>\n",
              "      <td>0.0</td>\n",
              "      <td>0.000000</td>\n",
              "      <td>1.000000</td>\n",
              "      <td>0.857843</td>\n",
              "    </tr>\n",
              "    <tr>\n",
              "      <th>203</th>\n",
              "      <td>0.928922</td>\n",
              "      <td>0.877451</td>\n",
              "      <td>0.914216</td>\n",
              "      <td>0.774510</td>\n",
              "      <td>0.914216</td>\n",
              "      <td>0.882353</td>\n",
              "      <td>0.737745</td>\n",
              "      <td>0.799020</td>\n",
              "      <td>0.127451</td>\n",
              "      <td>0.100490</td>\n",
              "      <td>0.887255</td>\n",
              "      <td>0.127451</td>\n",
              "      <td>0.100490</td>\n",
              "      <td>0.0</td>\n",
              "      <td>0.698529</td>\n",
              "      <td>1.000000</td>\n",
              "      <td>0.0</td>\n",
              "      <td>0.965686</td>\n",
              "      <td>1.000000</td>\n",
              "      <td>0.857843</td>\n",
              "    </tr>\n",
              "    <tr>\n",
              "      <th>204</th>\n",
              "      <td>0.928922</td>\n",
              "      <td>0.877451</td>\n",
              "      <td>0.914216</td>\n",
              "      <td>0.892157</td>\n",
              "      <td>0.914216</td>\n",
              "      <td>0.754902</td>\n",
              "      <td>0.122549</td>\n",
              "      <td>0.607843</td>\n",
              "      <td>0.575980</td>\n",
              "      <td>0.318627</td>\n",
              "      <td>0.897059</td>\n",
              "      <td>0.575980</td>\n",
              "      <td>0.318627</td>\n",
              "      <td>1.0</td>\n",
              "      <td>0.698529</td>\n",
              "      <td>1.000000</td>\n",
              "      <td>0.0</td>\n",
              "      <td>0.000000</td>\n",
              "      <td>0.492647</td>\n",
              "      <td>0.857843</td>\n",
              "    </tr>\n",
              "    <tr>\n",
              "      <th>205</th>\n",
              "      <td>0.928922</td>\n",
              "      <td>0.877451</td>\n",
              "      <td>0.914216</td>\n",
              "      <td>0.823529</td>\n",
              "      <td>0.411765</td>\n",
              "      <td>0.735294</td>\n",
              "      <td>0.963235</td>\n",
              "      <td>0.693627</td>\n",
              "      <td>0.200980</td>\n",
              "      <td>0.245098</td>\n",
              "      <td>0.901961</td>\n",
              "      <td>0.200980</td>\n",
              "      <td>0.245098</td>\n",
              "      <td>1.0</td>\n",
              "      <td>0.698529</td>\n",
              "      <td>1.000000</td>\n",
              "      <td>0.0</td>\n",
              "      <td>0.000000</td>\n",
              "      <td>1.000000</td>\n",
              "      <td>0.857843</td>\n",
              "    </tr>\n",
              "  </tbody>\n",
              "</table>\n",
              "<p>205 rows × 20 columns</p>\n",
              "</div>"
            ],
            "text/plain": [
              "        wheelbase  carlength  ...  fuelsystem_value  Brand_value\n",
              "car_ID                        ...                               \n",
              "1        0.017157   0.306373  ...          1.000000     0.784314\n",
              "2        0.017157   0.306373  ...          1.000000     0.784314\n",
              "3        0.235294   0.397059  ...          1.000000     0.784314\n",
              "4        0.688725   0.644608  ...          1.000000     0.813725\n",
              "5        0.676471   0.644608  ...          1.000000     0.813725\n",
              "...           ...        ...  ...               ...          ...\n",
              "201      0.928922   0.877451  ...          1.000000     0.857843\n",
              "202      0.928922   0.877451  ...          1.000000     0.857843\n",
              "203      0.928922   0.877451  ...          1.000000     0.857843\n",
              "204      0.928922   0.877451  ...          0.492647     0.857843\n",
              "205      0.928922   0.877451  ...          1.000000     0.857843\n",
              "\n",
              "[205 rows x 20 columns]"
            ]
          },
          "metadata": {
            "tags": []
          },
          "execution_count": 15
        }
      ]
    },
    {
      "cell_type": "code",
      "metadata": {
        "colab": {
          "base_uri": "https://localhost:8080/",
          "height": 1000
        },
        "id": "2WjrPilMr1uq",
        "outputId": "54ffac1c-41f1-49c8-efb3-7bf25f982e8b"
      },
      "source": [
        "N = len(cars_df.columns)\n",
        "plt.figure(figsize = (N, N))\n",
        "sns.heatmap(cars_df.corr(method ='pearson'), cmap='coolwarm', annot=True, linewidths=.5)\n",
        "plt.show()"
      ],
      "execution_count": 16,
      "outputs": [
        {
          "output_type": "display_data",
          "data": {
            "image/png": "[encoded data removed]",
            "text/plain": [
              "<Figure size 1440x1440 with 2 Axes>"
            ]
          },
          "metadata": {
            "tags": [],
            "needs_background": "light"
          }
        }
      ]
    },
    {
      "cell_type": "code",
      "metadata": {
        "colab": {
          "base_uri": "https://localhost:8080/"
        },
        "id": "dPryAcwUsQ4q",
        "outputId": "87b03f4c-c99d-4d06-96fc-09d91360cd9b"
      },
      "source": [
        "cars_df.corr(method ='pearson').unstack().sort_values().drop_duplicates()"
      ],
      "execution_count": 17,
      "outputs": [
        {
          "output_type": "execute_result",
          "data": {
            "text/plain": [
              "horsepower  city_mileage      -0.910212\n",
              "citympg     horsepower        -0.910186\n",
              "highwaympg  horsepower        -0.886050\n",
              "horsepower  highway_mileage   -0.885914\n",
              "curbweight  highwaympg        -0.834628\n",
              "                                 ...   \n",
              "highwaympg  city_mileage       0.967851\n",
              "citympg     highwaympg         0.967852\n",
              "highwaympg  highway_mileage    0.999998\n",
              "citympg     city_mileage       0.999998\n",
              "wheelbase   wheelbase          1.000000\n",
              "Length: 191, dtype: float64"
            ]
          },
          "metadata": {
            "tags": []
          },
          "execution_count": 17
        }
      ]
    },
    {
      "cell_type": "code",
      "metadata": {
        "colab": {
          "base_uri": "https://localhost:8080/",
          "height": 622
        },
        "id": "wz1w1WGAtaBS",
        "outputId": "abd102cd-ac07-4a0b-c21a-4393b315eea6"
      },
      "source": [
        "cols = cars_df.select_dtypes(exclude='object').columns\n",
        "pearson_coeff, p_value, sig = [], [], []\n",
        "for i in list(cols):\n",
        "    x, y = stats.pearsonr(cars_df[i], cars_df['price'])\n",
        "    pearson_coeff.append(x)\n",
        "    p_value.append(y)\n",
        "    sig.append('Significant' if y<0.05 and x > 0.80 else 'Insignificant')\n",
        "columns=['Columns', 'Pearson_Co-relation', 'P-Value', 'Significance']\n",
        "P_df = pd.DataFrame({columns[0]:cols, columns[1]:pearson_coeff, columns[2]:p_value, columns[3]:sig})\n",
        "cars_df = cars_df.drop(P_df[P_df['Significance'] == 'Insignificant']['Columns'].to_list(), axis=1)\n",
        "P_df"
      ],
      "execution_count": 18,
      "outputs": [
        {
          "output_type": "execute_result",
          "data": {
            "text/html": [
              "<div>\n",
              "<style scoped>\n",
              "    .dataframe tbody tr th:only-of-type {\n",
              "        vertical-align: middle;\n",
              "    }\n",
              "\n",
              "    .dataframe tbody tr th {\n",
              "        vertical-align: top;\n",
              "    }\n",
              "\n",
              "    .dataframe thead th {\n",
              "        text-align: right;\n",
              "    }\n",
              "</style>\n",
              "<table border=\"1\" class=\"dataframe\">\n",
              "  <thead>\n",
              "    <tr style=\"text-align: right;\">\n",
              "      <th></th>\n",
              "      <th>Columns</th>\n",
              "      <th>Pearson_Co-relation</th>\n",
              "      <th>P-Value</th>\n",
              "      <th>Significance</th>\n",
              "    </tr>\n",
              "  </thead>\n",
              "  <tbody>\n",
              "    <tr>\n",
              "      <th>0</th>\n",
              "      <td>wheelbase</td>\n",
              "      <td>0.681711</td>\n",
              "      <td>2.300569e-29</td>\n",
              "      <td>Insignificant</td>\n",
              "    </tr>\n",
              "    <tr>\n",
              "      <th>1</th>\n",
              "      <td>carlength</td>\n",
              "      <td>0.804260</td>\n",
              "      <td>9.141667e-48</td>\n",
              "      <td>Significant</td>\n",
              "    </tr>\n",
              "    <tr>\n",
              "      <th>2</th>\n",
              "      <td>carwidth</td>\n",
              "      <td>0.811361</td>\n",
              "      <td>3.173284e-49</td>\n",
              "      <td>Significant</td>\n",
              "    </tr>\n",
              "    <tr>\n",
              "      <th>3</th>\n",
              "      <td>curbweight</td>\n",
              "      <td>0.909073</td>\n",
              "      <td>3.974519e-79</td>\n",
              "      <td>Significant</td>\n",
              "    </tr>\n",
              "    <tr>\n",
              "      <th>4</th>\n",
              "      <td>cylindernumber</td>\n",
              "      <td>0.584301</td>\n",
              "      <td>3.686395e-20</td>\n",
              "      <td>Insignificant</td>\n",
              "    </tr>\n",
              "    <tr>\n",
              "      <th>5</th>\n",
              "      <td>enginesize</td>\n",
              "      <td>0.825935</td>\n",
              "      <td>2.007628e-52</td>\n",
              "      <td>Significant</td>\n",
              "    </tr>\n",
              "    <tr>\n",
              "      <th>6</th>\n",
              "      <td>boreratio</td>\n",
              "      <td>0.643870</td>\n",
              "      <td>2.161529e-25</td>\n",
              "      <td>Insignificant</td>\n",
              "    </tr>\n",
              "    <tr>\n",
              "      <th>7</th>\n",
              "      <td>horsepower</td>\n",
              "      <td>0.854230</td>\n",
              "      <td>1.400344e-59</td>\n",
              "      <td>Significant</td>\n",
              "    </tr>\n",
              "    <tr>\n",
              "      <th>8</th>\n",
              "      <td>citympg</td>\n",
              "      <td>-0.829298</td>\n",
              "      <td>3.326999e-53</td>\n",
              "      <td>Insignificant</td>\n",
              "    </tr>\n",
              "    <tr>\n",
              "      <th>9</th>\n",
              "      <td>highwaympg</td>\n",
              "      <td>-0.822727</td>\n",
              "      <td>1.076246e-51</td>\n",
              "      <td>Insignificant</td>\n",
              "    </tr>\n",
              "    <tr>\n",
              "      <th>10</th>\n",
              "      <td>price</td>\n",
              "      <td>1.000000</td>\n",
              "      <td>0.000000e+00</td>\n",
              "      <td>Significant</td>\n",
              "    </tr>\n",
              "    <tr>\n",
              "      <th>11</th>\n",
              "      <td>city_mileage</td>\n",
              "      <td>-0.829312</td>\n",
              "      <td>3.301381e-53</td>\n",
              "      <td>Insignificant</td>\n",
              "    </tr>\n",
              "    <tr>\n",
              "      <th>12</th>\n",
              "      <td>highway_mileage</td>\n",
              "      <td>-0.822504</td>\n",
              "      <td>1.207720e-51</td>\n",
              "      <td>Insignificant</td>\n",
              "    </tr>\n",
              "    <tr>\n",
              "      <th>13</th>\n",
              "      <td>aspiration_value</td>\n",
              "      <td>0.308961</td>\n",
              "      <td>6.563755e-06</td>\n",
              "      <td>Insignificant</td>\n",
              "    </tr>\n",
              "    <tr>\n",
              "      <th>14</th>\n",
              "      <td>carbody_value</td>\n",
              "      <td>0.309372</td>\n",
              "      <td>6.371276e-06</td>\n",
              "      <td>Insignificant</td>\n",
              "    </tr>\n",
              "    <tr>\n",
              "      <th>15</th>\n",
              "      <td>drivewheel_value</td>\n",
              "      <td>0.677541</td>\n",
              "      <td>6.742123e-29</td>\n",
              "      <td>Insignificant</td>\n",
              "    </tr>\n",
              "    <tr>\n",
              "      <th>16</th>\n",
              "      <td>enginelocation_value</td>\n",
              "      <td>0.194951</td>\n",
              "      <td>5.092263e-03</td>\n",
              "      <td>Insignificant</td>\n",
              "    </tr>\n",
              "    <tr>\n",
              "      <th>17</th>\n",
              "      <td>enginetype_value</td>\n",
              "      <td>0.373359</td>\n",
              "      <td>3.513887e-08</td>\n",
              "      <td>Insignificant</td>\n",
              "    </tr>\n",
              "    <tr>\n",
              "      <th>18</th>\n",
              "      <td>fuelsystem_value</td>\n",
              "      <td>0.744606</td>\n",
              "      <td>1.730924e-37</td>\n",
              "      <td>Insignificant</td>\n",
              "    </tr>\n",
              "    <tr>\n",
              "      <th>19</th>\n",
              "      <td>Brand_value</td>\n",
              "      <td>0.736476</td>\n",
              "      <td>2.620199e-36</td>\n",
              "      <td>Insignificant</td>\n",
              "    </tr>\n",
              "  </tbody>\n",
              "</table>\n",
              "</div>"
            ],
            "text/plain": [
              "                 Columns  Pearson_Co-relation       P-Value   Significance\n",
              "0              wheelbase             0.681711  2.300569e-29  Insignificant\n",
              "1              carlength             0.804260  9.141667e-48    Significant\n",
              "2               carwidth             0.811361  3.173284e-49    Significant\n",
              "3             curbweight             0.909073  3.974519e-79    Significant\n",
              "4         cylindernumber             0.584301  3.686395e-20  Insignificant\n",
              "5             enginesize             0.825935  2.007628e-52    Significant\n",
              "6              boreratio             0.643870  2.161529e-25  Insignificant\n",
              "7             horsepower             0.854230  1.400344e-59    Significant\n",
              "8                citympg            -0.829298  3.326999e-53  Insignificant\n",
              "9             highwaympg            -0.822727  1.076246e-51  Insignificant\n",
              "10                 price             1.000000  0.000000e+00    Significant\n",
              "11          city_mileage            -0.829312  3.301381e-53  Insignificant\n",
              "12       highway_mileage            -0.822504  1.207720e-51  Insignificant\n",
              "13      aspiration_value             0.308961  6.563755e-06  Insignificant\n",
              "14         carbody_value             0.309372  6.371276e-06  Insignificant\n",
              "15      drivewheel_value             0.677541  6.742123e-29  Insignificant\n",
              "16  enginelocation_value             0.194951  5.092263e-03  Insignificant\n",
              "17      enginetype_value             0.373359  3.513887e-08  Insignificant\n",
              "18      fuelsystem_value             0.744606  1.730924e-37  Insignificant\n",
              "19           Brand_value             0.736476  2.620199e-36  Insignificant"
            ]
          },
          "metadata": {
            "tags": []
          },
          "execution_count": 18
        }
      ]
    },
    {
      "cell_type": "code",
      "metadata": {
        "colab": {
          "base_uri": "https://localhost:8080/",
          "height": 220
        },
        "id": "EmsWRN5nxcKY",
        "outputId": "1b142597-24b6-4a4e-829e-0e7f32663932"
      },
      "source": [
        "P_df[P_df['Significance'] == 'Significant']"
      ],
      "execution_count": 19,
      "outputs": [
        {
          "output_type": "execute_result",
          "data": {
            "text/html": [
              "<div>\n",
              "<style scoped>\n",
              "    .dataframe tbody tr th:only-of-type {\n",
              "        vertical-align: middle;\n",
              "    }\n",
              "\n",
              "    .dataframe tbody tr th {\n",
              "        vertical-align: top;\n",
              "    }\n",
              "\n",
              "    .dataframe thead th {\n",
              "        text-align: right;\n",
              "    }\n",
              "</style>\n",
              "<table border=\"1\" class=\"dataframe\">\n",
              "  <thead>\n",
              "    <tr style=\"text-align: right;\">\n",
              "      <th></th>\n",
              "      <th>Columns</th>\n",
              "      <th>Pearson_Co-relation</th>\n",
              "      <th>P-Value</th>\n",
              "      <th>Significance</th>\n",
              "    </tr>\n",
              "  </thead>\n",
              "  <tbody>\n",
              "    <tr>\n",
              "      <th>1</th>\n",
              "      <td>carlength</td>\n",
              "      <td>0.804260</td>\n",
              "      <td>9.141667e-48</td>\n",
              "      <td>Significant</td>\n",
              "    </tr>\n",
              "    <tr>\n",
              "      <th>2</th>\n",
              "      <td>carwidth</td>\n",
              "      <td>0.811361</td>\n",
              "      <td>3.173284e-49</td>\n",
              "      <td>Significant</td>\n",
              "    </tr>\n",
              "    <tr>\n",
              "      <th>3</th>\n",
              "      <td>curbweight</td>\n",
              "      <td>0.909073</td>\n",
              "      <td>3.974519e-79</td>\n",
              "      <td>Significant</td>\n",
              "    </tr>\n",
              "    <tr>\n",
              "      <th>5</th>\n",
              "      <td>enginesize</td>\n",
              "      <td>0.825935</td>\n",
              "      <td>2.007628e-52</td>\n",
              "      <td>Significant</td>\n",
              "    </tr>\n",
              "    <tr>\n",
              "      <th>7</th>\n",
              "      <td>horsepower</td>\n",
              "      <td>0.854230</td>\n",
              "      <td>1.400344e-59</td>\n",
              "      <td>Significant</td>\n",
              "    </tr>\n",
              "    <tr>\n",
              "      <th>10</th>\n",
              "      <td>price</td>\n",
              "      <td>1.000000</td>\n",
              "      <td>0.000000e+00</td>\n",
              "      <td>Significant</td>\n",
              "    </tr>\n",
              "  </tbody>\n",
              "</table>\n",
              "</div>"
            ],
            "text/plain": [
              "       Columns  Pearson_Co-relation       P-Value Significance\n",
              "1    carlength             0.804260  9.141667e-48  Significant\n",
              "2     carwidth             0.811361  3.173284e-49  Significant\n",
              "3   curbweight             0.909073  3.974519e-79  Significant\n",
              "5   enginesize             0.825935  2.007628e-52  Significant\n",
              "7   horsepower             0.854230  1.400344e-59  Significant\n",
              "10       price             1.000000  0.000000e+00  Significant"
            ]
          },
          "metadata": {
            "tags": []
          },
          "execution_count": 19
        }
      ]
    },
    {
      "cell_type": "code",
      "metadata": {
        "colab": {
          "base_uri": "https://localhost:8080/",
          "height": 427
        },
        "id": "lkAdpCgFyD1w",
        "outputId": "531ffdae-2c17-4e52-b80b-4b5973036101"
      },
      "source": [
        "N = len(cars_df.columns)\n",
        "plt.figure(figsize = (N, N))\n",
        "sns.heatmap(cars_df.corr(method ='pearson'), cmap='Reds', annot=True, linewidths=.5)\n",
        "plt.show()"
      ],
      "execution_count": 20,
      "outputs": [
        {
          "output_type": "display_data",
          "data": {
            "image/png": "[encoded data removed]",
            "text/plain": [
              "<Figure size 432x432 with 2 Axes>"
            ]
          },
          "metadata": {
            "tags": [],
            "needs_background": "light"
          }
        }
      ]
    },
    {
      "cell_type": "code",
      "metadata": {
        "colab": {
          "base_uri": "https://localhost:8080/",
          "height": 67
        },
        "id": "PxG4tfVmtpzx",
        "outputId": "dcba196b-45c9-4c40-ac98-3246b9844012"
      },
      "source": [
        "'''\n",
        "from statsmodels.stats.outliers_influence import variance_inflation_factor\n",
        "X = cars_df.drop('price', axis=1)\n",
        "y = cars_df['price']\n",
        "vif_df = pd.DataFrame()\n",
        "vif_df['variables'] = X.columns\n",
        "vif_df['vif'] = [variance_inflation_factor(X.values, i) for i in range(X.shape[1])]\n",
        "for index,column in enumerate(X.columns):\n",
        "    print(index, column, vif_df['vif'][index])\n",
        "    if vif_df['vif'][index] > 10:\n",
        "        vif_df = vif_df.drop([index], axis=0)\n",
        "'''"
      ],
      "execution_count": 21,
      "outputs": [
        {
          "output_type": "execute_result",
          "data": {
            "application/vnd.google.colaboratory.intrinsic+json": {
              "type": "string"
            },
            "text/plain": [
              "\"\\nfrom statsmodels.stats.outliers_influence import variance_inflation_factor\\nX = cars_df.drop('price', axis=1)\\ny = cars_df['price']\\nvif_df = pd.DataFrame()\\nvif_df['variables'] = X.columns\\nvif_df['vif'] = [variance_inflation_factor(X.values, i) for i in range(X.shape[1])]\\nfor index,column in enumerate(X.columns):\\n    print(index, column, vif_df['vif'][index])\\n    if vif_df['vif'][index] > 10:\\n        vif_df = vif_df.drop([index], axis=0)\\n\""
            ]
          },
          "metadata": {
            "tags": []
          },
          "execution_count": 21
        }
      ]
    },
    {
      "cell_type": "code",
      "metadata": {
        "execution": {
          "iopub.execute_input": "2021-05-05T13:27:19.245436Z",
          "iopub.status.busy": "2021-05-05T13:27:19.244831Z",
          "iopub.status.idle": "2021-05-05T13:27:19.247363Z",
          "shell.execute_reply": "2021-05-05T13:27:19.246807Z"
        },
        "papermill": {
          "duration": 0.060705,
          "end_time": "2021-05-05T13:27:19.247496",
          "exception": false,
          "start_time": "2021-05-05T13:27:19.186791",
          "status": "completed"
        },
        "tags": [],
        "id": "cardiac-coalition"
      },
      "source": [
        "#columns = list(vif_df['variables'])\n",
        "data = cars_df#[columns]\n",
        "#data = pd.concat([data, cars_df['price']], axis=1)"
      ],
      "execution_count": 22,
      "outputs": []
    },
    {
      "cell_type": "code",
      "metadata": {
        "execution": {
          "iopub.execute_input": "2021-05-05T13:27:19.353779Z",
          "iopub.status.busy": "2021-05-05T13:27:19.353169Z",
          "iopub.status.idle": "2021-05-05T13:27:19.428072Z",
          "shell.execute_reply": "2021-05-05T13:27:19.427435Z"
        },
        "papermill": {
          "duration": 0.130099,
          "end_time": "2021-05-05T13:27:19.428263",
          "exception": false,
          "start_time": "2021-05-05T13:27:19.298164",
          "status": "completed"
        },
        "tags": [],
        "id": "equal-edward"
      },
      "source": [
        "from sklearn.model_selection import train_test_split\n",
        "\n",
        "X = data.drop('price', axis=1)\n",
        "y = data['price']\n",
        "\n",
        "X_train, X_test, y_train, y_test = train_test_split( X, y, train_size = 0.75, test_size=0.25, random_state=1)"
      ],
      "execution_count": 23,
      "outputs": []
    },
    {
      "cell_type": "code",
      "metadata": {
        "execution": {
          "iopub.execute_input": "2021-05-05T13:27:19.535284Z",
          "iopub.status.busy": "2021-05-05T13:27:19.534494Z",
          "iopub.status.idle": "2021-05-05T13:27:19.668219Z",
          "shell.execute_reply": "2021-05-05T13:27:19.668736Z"
        },
        "papermill": {
          "duration": 0.189625,
          "end_time": "2021-05-05T13:27:19.668913",
          "exception": false,
          "start_time": "2021-05-05T13:27:19.479288",
          "status": "completed"
        },
        "tags": [],
        "colab": {
          "base_uri": "https://localhost:8080/"
        },
        "id": "close-breed",
        "outputId": "f6b6007f-e821-438b-f2a0-481273c410e3"
      },
      "source": [
        "from sklearn.linear_model import LinearRegression\n",
        "from sklearn.metrics import r2_score\n",
        "\n",
        "model = LinearRegression().fit(X_train, y_train)\n",
        "\n",
        "print(f'R Square Value of Test Data: {round(r2_score(y_test, model.predict(X_test))*100, 2)}%')\n",
        "print(f'R Square Value of Train Data: {round(r2_score(y_train, model.predict(X_train))*100,2)}%')"
      ],
      "execution_count": 24,
      "outputs": [
        {
          "output_type": "stream",
          "text": [
            "R Square Value of Test Data: 88.52%\n",
            "R Square Value of Train Data: 86.47%\n"
          ],
          "name": "stdout"
        }
      ]
    },
    {
      "cell_type": "code",
      "metadata": {
        "colab": {
          "base_uri": "https://localhost:8080/",
          "height": 420
        },
        "id": "iHaf3g2PCmzs",
        "outputId": "a2791979-3424-49ad-b734-97aa9efdab36"
      },
      "source": [
        "r_df = pd.DataFrame({'Prediction':model.predict(X_train), 'Actual':y_train})\n",
        "r_df"
      ],
      "execution_count": 28,
      "outputs": [
        {
          "output_type": "execute_result",
          "data": {
            "text/html": [
              "<div>\n",
              "<style scoped>\n",
              "    .dataframe tbody tr th:only-of-type {\n",
              "        vertical-align: middle;\n",
              "    }\n",
              "\n",
              "    .dataframe tbody tr th {\n",
              "        vertical-align: top;\n",
              "    }\n",
              "\n",
              "    .dataframe thead th {\n",
              "        text-align: right;\n",
              "    }\n",
              "</style>\n",
              "<table border=\"1\" class=\"dataframe\">\n",
              "  <thead>\n",
              "    <tr style=\"text-align: right;\">\n",
              "      <th></th>\n",
              "      <th>Prediction</th>\n",
              "      <th>Actual</th>\n",
              "    </tr>\n",
              "    <tr>\n",
              "      <th>car_ID</th>\n",
              "      <th></th>\n",
              "      <th></th>\n",
              "    </tr>\n",
              "  </thead>\n",
              "  <tbody>\n",
              "    <tr>\n",
              "      <th>15</th>\n",
              "      <td>0.778630</td>\n",
              "      <td>0.911765</td>\n",
              "    </tr>\n",
              "    <tr>\n",
              "      <th>163</th>\n",
              "      <td>0.250979</td>\n",
              "      <td>0.411765</td>\n",
              "    </tr>\n",
              "    <tr>\n",
              "      <th>60</th>\n",
              "      <td>0.434071</td>\n",
              "      <td>0.365196</td>\n",
              "    </tr>\n",
              "    <tr>\n",
              "      <th>20</th>\n",
              "      <td>0.100083</td>\n",
              "      <td>0.063725</td>\n",
              "    </tr>\n",
              "    <tr>\n",
              "      <th>178</th>\n",
              "      <td>0.522990</td>\n",
              "      <td>0.549020</td>\n",
              "    </tr>\n",
              "    <tr>\n",
              "      <th>...</th>\n",
              "      <td>...</td>\n",
              "      <td>...</td>\n",
              "    </tr>\n",
              "    <tr>\n",
              "      <th>134</th>\n",
              "      <td>0.629927</td>\n",
              "      <td>0.588235</td>\n",
              "    </tr>\n",
              "    <tr>\n",
              "      <th>138</th>\n",
              "      <td>0.777047</td>\n",
              "      <td>0.852941</td>\n",
              "    </tr>\n",
              "    <tr>\n",
              "      <th>73</th>\n",
              "      <td>0.940373</td>\n",
              "      <td>0.965686</td>\n",
              "    </tr>\n",
              "    <tr>\n",
              "      <th>141</th>\n",
              "      <td>0.275428</td>\n",
              "      <td>0.215686</td>\n",
              "    </tr>\n",
              "    <tr>\n",
              "      <th>38</th>\n",
              "      <td>0.341766</td>\n",
              "      <td>0.259804</td>\n",
              "    </tr>\n",
              "  </tbody>\n",
              "</table>\n",
              "<p>153 rows × 2 columns</p>\n",
              "</div>"
            ],
            "text/plain": [
              "        Prediction    Actual\n",
              "car_ID                      \n",
              "15        0.778630  0.911765\n",
              "163       0.250979  0.411765\n",
              "60        0.434071  0.365196\n",
              "20        0.100083  0.063725\n",
              "178       0.522990  0.549020\n",
              "...            ...       ...\n",
              "134       0.629927  0.588235\n",
              "138       0.777047  0.852941\n",
              "73        0.940373  0.965686\n",
              "141       0.275428  0.215686\n",
              "38        0.341766  0.259804\n",
              "\n",
              "[153 rows x 2 columns]"
            ]
          },
          "metadata": {
            "tags": []
          },
          "execution_count": 28
        }
      ]
    },
    {
      "cell_type": "code",
      "metadata": {
        "colab": {
          "base_uri": "https://localhost:8080/"
        },
        "id": "CX-ABVRT16_H",
        "outputId": "f5a7b48d-d31c-48cc-c386-c9e153a71dde"
      },
      "source": [
        "rtest_df = pd.DataFrame({'Prediction':model.predict(X_test), 'Actual':y_test})\n",
        "rtest_df"
      ],
      "execution_count": 32,
      "outputs": [
        {
          "output_type": "execute_result",
          "data": {
            "text/plain": [
              "(52, 2)"
            ]
          },
          "metadata": {
            "tags": []
          },
          "execution_count": 32
        }
      ]
    },
    {
      "cell_type": "markdown",
      "metadata": {
        "id": "fzwbITAU1IMJ"
      },
      "source": [
        "### LOGISTIC REGRESSION"
      ]
    },
    {
      "cell_type": "code",
      "metadata": {
        "id": "MPYBRRXX3dAH"
      },
      "source": [
        ""
      ],
      "execution_count": null,
      "outputs": []
    }
  ]
}