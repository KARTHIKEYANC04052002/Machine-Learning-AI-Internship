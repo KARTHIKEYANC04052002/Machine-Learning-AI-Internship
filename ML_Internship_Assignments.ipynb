{
  "nbformat": 4,
  "nbformat_minor": 0,
  "metadata": {
    "kernelspec": {
      "display_name": "Python 3",
      "language": "python",
      "name": "python3"
    },
    "language_info": {
      "codemirror_mode": {
        "name": "ipython",
        "version": 3
      },
      "file_extension": ".py",
      "mimetype": "text/x-python",
      "name": "python",
      "nbconvert_exporter": "python",
      "pygments_lexer": "ipython3",
      "version": "3.8.5"
    },
    "colab": {
      "name": "ML Internship Assignments.ipynb",
      "provenance": [],
      "collapsed_sections": [
        "ng3nGc1RlWJM",
        "dViMV1k9mgpF",
        "ifiG3f4fUZXj",
        "DIUX2K6yUZX9",
        "OV0lkkwPUZYD",
        "FXWgsQN9UZYU",
        "RwLADa85mZcq",
        "lSJIh8GGohpG",
        "ElOxy_E1pkAT",
        "Ujk3eHPknFCq",
        "lecvEBZupiII",
        "XkGg5Z_3rhdl",
        "8wmnlLpor4_t",
        "O1XIcSZCTbNJ",
        "XKYvWad0TfCE",
        "Zv1Ff1s7hT-P",
        "3jQpPARFjhlj"
      ],
      "toc_visible": true,
      "include_colab_link": true
    }
  },
  "cells": [
    {
      "cell_type": "markdown",
      "metadata": {
        "id": "view-in-github",
        "colab_type": "text"
      },
      "source": [
        "<a href=\"https://colab.research.google.com/github/KARTHIKEYANC04052002/Machine-Learning-AI-Internship/blob/main/ML_Internship_Assignments.ipynb\" target=\"_parent\"><img src=\"https://colab.research.google.com/assets/colab-badge.svg\" alt=\"Open In Colab\"/></a>"
      ]
    },
    {
      "cell_type": "markdown",
      "metadata": {
        "id": "ng3nGc1RlWJM"
      },
      "source": [
        " # 12/05/2021"
      ]
    },
    {
      "cell_type": "markdown",
      "metadata": {
        "id": "dViMV1k9mgpF"
      },
      "source": [
        " ## ASSIGNMENT - 1 (Creating and Displaying DataSet - Using Pandas DataFrame)"
      ]
    },
    {
      "cell_type": "markdown",
      "metadata": {
        "id": "ifiG3f4fUZXj"
      },
      "source": [
        "### Importing the required modules"
      ]
    },
    {
      "cell_type": "code",
      "metadata": {
        "id": "dGN4BUOGUZX0"
      },
      "source": [
        "import pandas as pd"
      ],
      "execution_count": null,
      "outputs": []
    },
    {
      "cell_type": "markdown",
      "metadata": {
        "id": "DIUX2K6yUZX9"
      },
      "source": [
        "### Reading and converting the CSV File \"YoutubeData\" to DataFrame"
      ]
    },
    {
      "cell_type": "code",
      "metadata": {
        "id": "x8EJHmF3UZYB"
      },
      "source": [
        "comments_df = pd.read_csv('https://raw.githubusercontent.com/KARTHIKEYANC04052002/Machine-Learning-AI-Internship/main/YoutubeData.csv')"
      ],
      "execution_count": null,
      "outputs": []
    },
    {
      "cell_type": "markdown",
      "metadata": {
        "id": "OV0lkkwPUZYD"
      },
      "source": [
        "### Displaying the contents in the  DataFrame"
      ]
    },
    {
      "cell_type": "code",
      "metadata": {
        "id": "SzCqktavUZYH"
      },
      "source": [
        "comments_df"
      ],
      "execution_count": null,
      "outputs": []
    },
    {
      "cell_type": "markdown",
      "metadata": {
        "id": "FXWgsQN9UZYU"
      },
      "source": [
        "# 13/05/2021"
      ]
    },
    {
      "cell_type": "markdown",
      "metadata": {
        "id": "RwLADa85mZcq"
      },
      "source": [
        "## ASSIGNMENT - 1 (Create a Nested Dictionary)"
      ]
    },
    {
      "cell_type": "markdown",
      "metadata": {
        "id": "lSJIh8GGohpG"
      },
      "source": [
        "### Creating a Dictionary"
      ]
    },
    {
      "cell_type": "code",
      "metadata": {
        "id": "Ypbi8XMAovyk"
      },
      "source": [
        "MyCourse_dict = dict({'name':'Karthikeyan C','age':19, 'mail':'karthikeyan.c@sece.ac.in', 'course':'Machine Learning / AI', 'duration':'15 days'})\n",
        "MyCourse_dict"
      ],
      "execution_count": null,
      "outputs": []
    },
    {
      "cell_type": "markdown",
      "metadata": {
        "id": "ElOxy_E1pkAT"
      },
      "source": [
        "### Creating a Nested Dictionary"
      ]
    },
    {
      "cell_type": "code",
      "metadata": {
        "id": "wYDJjTMfptSj"
      },
      "source": [
        "AllCourse_dict = dict({1:{'name':'Karthikeyan C','age':19, 'mail':'karthikeyan.c@sece.ac.in', 'course':'Machine Learning / AI', 'duration':'15 days'},\n",
        "                       2:{'name':'Hariboobaalan P N','age':19, 'mail':'hariboobaalan.p.n@sece.ac.in', 'course':'Machine Learning / AI', 'duration':'15 days'},\n",
        "                       3:{'name':'Danush P S','age':19, 'mail':'danush.p.s@sece.ac.in', 'course':'Web Development', 'duration':'15 days'},\n",
        "                       4:{'name':'Praveen Babu R','age':19, 'mail':'praveenbabu.rcse@sece.ac.in', 'course':'Web Development', 'duration':'15 days'},\n",
        "                      })\n",
        "AllCourse_dict"
      ],
      "execution_count": null,
      "outputs": []
    },
    {
      "cell_type": "markdown",
      "metadata": {
        "id": "Ujk3eHPknFCq"
      },
      "source": [
        "## ASSIGNMENT - 2 (Create and Display DataFrame and visualize the dataset using matplotlib / seaborn)"
      ]
    },
    {
      "cell_type": "markdown",
      "metadata": {
        "id": "lecvEBZupiII"
      },
      "source": [
        "### Importing the required Modules"
      ]
    },
    {
      "cell_type": "code",
      "metadata": {
        "id": "8BYLth8ynVor"
      },
      "source": [
        "import pandas as pd\n",
        "import matplotlib.pyplot as plt"
      ],
      "execution_count": null,
      "outputs": []
    },
    {
      "cell_type": "markdown",
      "metadata": {
        "id": "XkGg5Z_3rhdl"
      },
      "source": [
        "### Creating a DataFrame from the \"Emoji_Sentiment_Data\" Dataset"
      ]
    },
    {
      "cell_type": "code",
      "metadata": {
        "id": "leYb9ZtMryQM"
      },
      "source": [
        "emoji_sentiments_df = pd.read_csv('https://raw.githubusercontent.com/KARTHIKEYANC04052002/Machine-Learning-AI-Internship/main/Emoji_Sentiment_Data.csv')\n",
        "emoji_sentiments_df"
      ],
      "execution_count": null,
      "outputs": []
    },
    {
      "cell_type": "markdown",
      "metadata": {
        "id": "8wmnlLpor4_t"
      },
      "source": [
        "### Visualizing the Emoji_Sentiments DataFrame"
      ]
    },
    {
      "cell_type": "code",
      "metadata": {
        "id": "I1lpoNlAs73a"
      },
      "source": [
        "plt.xticks(rotation='vertical')\n",
        "plt.plot(emoji_sentiments_df['Unicode name'][:20], emoji_sentiments_df['Positive'][:20], marker='*', color='green')\n",
        "plt.plot(emoji_sentiments_df['Unicode name'][:20], emoji_sentiments_df['Neutral'][:20], marker='.', color='blue')\n",
        "plt.plot(emoji_sentiments_df['Unicode name'][:20], emoji_sentiments_df['Negative'][:20], marker='d', color='red')\n",
        "plt.legend(['Positive', 'Neutral', 'Negative'])"
      ],
      "execution_count": null,
      "outputs": []
    },
    {
      "cell_type": "markdown",
      "metadata": {
        "id": "O1XIcSZCTbNJ"
      },
      "source": [
        "# 14/05/2021"
      ]
    },
    {
      "cell_type": "markdown",
      "metadata": {
        "id": "XKYvWad0TfCE"
      },
      "source": [
        "## ASSIGNMENT - 1 (Multiplication Table Using While Loop)"
      ]
    },
    {
      "cell_type": "markdown",
      "metadata": {
        "id": "Zv1Ff1s7hT-P"
      },
      "source": [
        "### Printing First 10 Multiples of Numbers from 1 to 10"
      ]
    },
    {
      "cell_type": "code",
      "metadata": {
        "id": "38zmZEJZTj-y"
      },
      "source": [
        "i = 1\n",
        "while i <= 10:\n",
        "  j = 1\n",
        "  print('Multiplication Table for {}'.format(i))\n",
        "  while j <= 10:\n",
        "    print(\"{} * {} = {}\".format(i, j, i * j))\n",
        "    j += 1\n",
        "  i += 1\n",
        "  print()"
      ],
      "execution_count": null,
      "outputs": []
    },
    {
      "cell_type": "markdown",
      "metadata": {
        "id": "3jQpPARFjhlj"
      },
      "source": [
        "### Multiplication Table from 1 to 10 in Table Format"
      ]
    },
    {
      "cell_type": "code",
      "metadata": {
        "id": "eLI-uTM4gXYN"
      },
      "source": [
        "i = 1\n",
        "print('   |', *map(lambda  x: str(x * i).rjust(2), range(1, 11)))\n",
        "print(*'_'*35,sep='')\n",
        "while i <= 10:\n",
        "  print(str(i).rjust(2), '|', *map(lambda  x: str(x * i).rjust(2), range(1, 11)))\n",
        "  i += 1"
      ],
      "execution_count": null,
      "outputs": []
    },
    {
      "cell_type": "markdown",
      "metadata": {
        "id": "FMw8tVI7o7bQ"
      },
      "source": [
        "# 17/05/2021"
      ]
    },
    {
      "cell_type": "markdown",
      "metadata": {
        "id": "Am7Rjg_lzliE"
      },
      "source": [
        "## ASSIGNMENT - 1 (Pattern Printing Using For Loop)"
      ]
    },
    {
      "cell_type": "markdown",
      "metadata": {
        "id": "xOQFkIW_zosi"
      },
      "source": [
        "### Star Pattern (Incremental - Right Angled Triangle)"
      ]
    },
    {
      "cell_type": "code",
      "metadata": {
        "id": "RxYt3XvTCpG-"
      },
      "source": [
        "# [print('*' * i) for i in range(5)]\n",
        "N = int(input(\"Enter a number:\"))\n",
        "for i in range(N):\n",
        "  for j in range(i + 1):\n",
        "    print('*', end = '')\n",
        "  print()"
      ],
      "execution_count": null,
      "outputs": []
    },
    {
      "cell_type": "markdown",
      "metadata": {
        "id": "sxZXcE0lC7ed"
      },
      "source": [
        "### Star Pattern (Decremental - Right Angled Triangle)"
      ]
    },
    {
      "cell_type": "code",
      "metadata": {
        "id": "_Kjy4ZGnCu-x"
      },
      "source": [
        "# [print('*' * i) for i in range(5,-1,-1)]\n",
        "N = int(input(\"Enter a number:\"))\n",
        "for i in range(N):\n",
        "  for j in range(N - i):\n",
        "    print('*', end = '')\n",
        "  print()"
      ],
      "execution_count": null,
      "outputs": []
    },
    {
      "cell_type": "markdown",
      "metadata": {
        "id": "np3_lmZ3DD7t"
      },
      "source": [
        "### String Pattern"
      ]
    },
    {
      "cell_type": "code",
      "metadata": {
        "id": "ZypXKr8GDYsM"
      },
      "source": [
        "# (lambda S : [print(S[:i]) for i in range(1, len(S) + 1)])(input(\"Enter the String:\").strip())\n",
        "S = input(\"Enter the String:\").strip() #python\n",
        "l = len(S)\n",
        "for i in range(l):\n",
        "  print(S[:i + 1])"
      ],
      "execution_count": null,
      "outputs": []
    },
    {
      "cell_type": "markdown",
      "metadata": {
        "id": "zWIJNgCoJLm-"
      },
      "source": [
        "## ASSIGNMENT - 2 (Number Counter)"
      ]
    },
    {
      "cell_type": "markdown",
      "metadata": {
        "id": "2A-bj_TjDNsp"
      },
      "source": [
        "### Number Counter Using For Loop"
      ]
    },
    {
      "cell_type": "code",
      "metadata": {
        "id": "dsQ3x2w-DXCP"
      },
      "source": [
        "# print(*range(10), sep='\\n')\n",
        "N = int(input(\"Enter a number:\"))\n",
        "for i in range(N):\n",
        "  print(i)"
      ],
      "execution_count": null,
      "outputs": []
    },
    {
      "cell_type": "markdown",
      "metadata": {
        "id": "Gjya3fdzGpZv"
      },
      "source": [
        "## ASSIGNMENT - 3 (Random Guess Game)"
      ]
    },
    {
      "cell_type": "markdown",
      "metadata": {
        "id": "fe8iwg26D0rG"
      },
      "source": [
        "### Random Guess Game (random module)"
      ]
    },
    {
      "cell_type": "code",
      "metadata": {
        "id": "vMf4TzudEF0x"
      },
      "source": [
        "import random\n",
        "print(\"Guess the number, Number lies between 1 - 10\\nPress 'B' to exit\")\n",
        "while True:\n",
        "  num = random.randint(1, 10)\n",
        "  ui = input()\n",
        "  if ui == 'B': break\n",
        "  elif ui.isdigit():\n",
        "    if num == int(ui): print(\"Hurray! You're Right!\"); break\n",
        "    else: print(\"Oh! You're Wrong the number is\", num)\n",
        "  else: print('Invalid Character')"
      ],
      "execution_count": null,
      "outputs": []
    },
    {
      "cell_type": "markdown",
      "metadata": {
        "id": "u6-AJL3dEgep"
      },
      "source": [
        "# 18/05/2021"
      ]
    },
    {
      "cell_type": "markdown",
      "metadata": {
        "id": "Kpbd5apGCrx8"
      },
      "source": [
        "## ASSIGNMENT - 1 (Limitation for number of arguments in a function)"
      ]
    },
    {
      "cell_type": "markdown",
      "metadata": {
        "id": "cvN8O6hoVIOJ"
      },
      "source": [
        "### Limitation for number of arguments in a function (Maximum possible arguments in Python)"
      ]
    },
    {
      "cell_type": "markdown",
      "metadata": {
        "id": "-D7rQq4hUUEe"
      },
      "source": [
        "- In Python 3.6 and earlier there is a limit of 255 arguments in Cpython.\n",
        "- In Python 3.7 and later versions there is no limit for number of arguments. (But depends on System Memory)"
      ]
    },
    {
      "cell_type": "markdown",
      "metadata": {
        "id": "zX9PYV3vU1OB"
      },
      "source": [
        "### Function to demonstrate variable number of arguments using '*' operator"
      ]
    },
    {
      "cell_type": "code",
      "metadata": {
        "id": "WZJJck5yVDpm"
      },
      "source": [
        "def function(*args):\n",
        "  for i in args: print(i, end = ' ')"
      ],
      "execution_count": null,
      "outputs": []
    },
    {
      "cell_type": "code",
      "metadata": {
        "id": "GPFovdAwVn_C"
      },
      "source": [
        "function(*range(100))"
      ],
      "execution_count": null,
      "outputs": []
    },
    {
      "cell_type": "markdown",
      "metadata": {
        "id": "AG135XHOVqn2"
      },
      "source": [
        "### Function to demonstrate variable number of keyword arguments using '**' operator"
      ]
    },
    {
      "cell_type": "code",
      "metadata": {
        "id": "c844w_ZWV-jJ"
      },
      "source": [
        "def function2(**kwargs):\n",
        "  for key in kwargs: print(key, ':', kwargs[key])"
      ],
      "execution_count": null,
      "outputs": []
    },
    {
      "cell_type": "code",
      "metadata": {
        "id": "GMAl0jOQWLsG"
      },
      "source": [
        "function2(python = \"Python\", java = \"Java\", c = \"C\")"
      ],
      "execution_count": null,
      "outputs": []
    },
    {
      "cell_type": "markdown",
      "metadata": {
        "id": "5wmZMa-hWPjV"
      },
      "source": [
        "## ASSIGNMENT - 2 (Functions)"
      ]
    },
    {
      "cell_type": "markdown",
      "metadata": {
        "id": "guD_8w-HXRIe"
      },
      "source": [
        "### Function to find Maximum of three numbers"
      ]
    },
    {
      "cell_type": "code",
      "metadata": {
        "id": "fnQ79C9FXZmd"
      },
      "source": [
        "def maxThree(a, b, c):\n",
        "  return a if a > b and a > c else b if b > c else c"
      ],
      "execution_count": null,
      "outputs": []
    },
    {
      "cell_type": "code",
      "metadata": {
        "id": "avnUPOzoXwar"
      },
      "source": [
        "maxThree(5, 7, 4)"
      ],
      "execution_count": null,
      "outputs": []
    },
    {
      "cell_type": "markdown",
      "metadata": {
        "id": "hoteisYYXzwO"
      },
      "source": [
        "### Function to find Minimum of three numbers"
      ]
    },
    {
      "cell_type": "code",
      "metadata": {
        "id": "mE3_28brYj5N"
      },
      "source": [
        "def minThree(a, b, c):\n",
        "  return a if a < b and a < c else b if b < c else c"
      ],
      "execution_count": null,
      "outputs": []
    },
    {
      "cell_type": "code",
      "metadata": {
        "id": "SrTou3HIYrpf"
      },
      "source": [
        "minThree(7, 6, 5)"
      ],
      "execution_count": null,
      "outputs": []
    },
    {
      "cell_type": "markdown",
      "metadata": {
        "id": "S2fI13vhYuK2"
      },
      "source": [
        "### Function to find sum of N Numbers"
      ]
    },
    {
      "cell_type": "code",
      "metadata": {
        "id": "hoiSI0hHZng8"
      },
      "source": [
        "def Sum(*args):\n",
        "  Sum = 0\n",
        "  for i in args: Sum += i\n",
        "  return Sum"
      ],
      "execution_count": null,
      "outputs": []
    },
    {
      "cell_type": "code",
      "metadata": {
        "id": "VjJscuevZ73G"
      },
      "source": [
        "Sum(10, 20, 30)"
      ],
      "execution_count": null,
      "outputs": []
    },
    {
      "cell_type": "markdown",
      "metadata": {
        "id": "C3K2De7baBRn"
      },
      "source": [
        "### Function to find product of N Numbers"
      ]
    },
    {
      "cell_type": "code",
      "metadata": {
        "id": "DYFOvmLLax1L"
      },
      "source": [
        "def Product(*args):\n",
        "  Product = 1\n",
        "  for i in args: Product *= i\n",
        "  return Product"
      ],
      "execution_count": null,
      "outputs": []
    },
    {
      "cell_type": "code",
      "metadata": {
        "id": "1_4_ZFbCbIwe"
      },
      "source": [
        "Product(10, 20, 30)"
      ],
      "execution_count": null,
      "outputs": []
    },
    {
      "cell_type": "markdown",
      "metadata": {
        "id": "igKFhfridDpU"
      },
      "source": [
        "### Function to find difference between two numbers (Subtraction)"
      ]
    },
    {
      "cell_type": "code",
      "metadata": {
        "id": "I3306doddRVE"
      },
      "source": [
        "def sub(a, b):\n",
        "  return a - b"
      ],
      "execution_count": null,
      "outputs": []
    },
    {
      "cell_type": "code",
      "metadata": {
        "id": "K43Arle8dY92"
      },
      "source": [
        "sub(10, 5)"
      ],
      "execution_count": null,
      "outputs": []
    },
    {
      "cell_type": "markdown",
      "metadata": {
        "id": "MnW4YCWUdbCl"
      },
      "source": [
        "# 19/05/2021"
      ]
    },
    {
      "cell_type": "markdown",
      "metadata": {
        "id": "Gmacw__qNF0Y"
      },
      "source": [
        "## ASSIGNMENT - 1 (Experimenting Linear Regression)"
      ]
    },
    {
      "cell_type": "markdown",
      "metadata": {
        "id": "8fTlzpP9omji"
      },
      "source": [
        "### Importing Required Modules"
      ]
    },
    {
      "cell_type": "code",
      "metadata": {
        "id": "yB-53tHUSxF5"
      },
      "source": [
        "import pandas as pd\n",
        "import numpy as np\n",
        "from sklearn.model_selection import train_test_split\n",
        "from sklearn.linear_model import LinearRegression\n",
        "import matplotlib.pyplot as plt\n",
        "import seaborn as sns"
      ],
      "execution_count": null,
      "outputs": []
    },
    {
      "cell_type": "markdown",
      "metadata": {
        "id": "oaEqHIyror16"
      },
      "source": [
        "### Loading the DataSet (US_House_Prices_DataSet)"
      ]
    },
    {
      "cell_type": "code",
      "metadata": {
        "colab": {
          "base_uri": "https://localhost:8080/",
          "height": 436
        },
        "id": "eyJxo1mXYVSX",
        "outputId": "20886932-4116-497f-99d8-81ec7b03362d"
      },
      "source": [
        "house_df = pd.read_csv(\"https://raw.githubusercontent.com/KARTHIKEYANC04052002/Machine-Learning-AI-Internship/main/house_dataset.csv\")\n",
        "house_df"
      ],
      "execution_count": null,
      "outputs": [
        {
          "output_type": "execute_result",
          "data": {
            "text/html": [
              "<div>\n",
              "<style scoped>\n",
              "    .dataframe tbody tr th:only-of-type {\n",
              "        vertical-align: middle;\n",
              "    }\n",
              "\n",
              "    .dataframe tbody tr th {\n",
              "        vertical-align: top;\n",
              "    }\n",
              "\n",
              "    .dataframe thead th {\n",
              "        text-align: right;\n",
              "    }\n",
              "</style>\n",
              "<table border=\"1\" class=\"dataframe\">\n",
              "  <thead>\n",
              "    <tr style=\"text-align: right;\">\n",
              "      <th></th>\n",
              "      <th>id</th>\n",
              "      <th>date</th>\n",
              "      <th>price</th>\n",
              "      <th>bedrooms</th>\n",
              "      <th>bathrooms</th>\n",
              "      <th>sqft_living</th>\n",
              "      <th>sqft_lot</th>\n",
              "      <th>floors</th>\n",
              "      <th>waterfront</th>\n",
              "      <th>view</th>\n",
              "      <th>condition</th>\n",
              "      <th>grade</th>\n",
              "      <th>sqft_above</th>\n",
              "      <th>sqft_basement</th>\n",
              "      <th>yr_built</th>\n",
              "      <th>yr_renovated</th>\n",
              "      <th>zipcode</th>\n",
              "      <th>lat</th>\n",
              "      <th>long</th>\n",
              "      <th>sqft_living15</th>\n",
              "      <th>sqft_lot15</th>\n",
              "    </tr>\n",
              "  </thead>\n",
              "  <tbody>\n",
              "    <tr>\n",
              "      <th>0</th>\n",
              "      <td>7129300520</td>\n",
              "      <td>20141013T000000</td>\n",
              "      <td>221900</td>\n",
              "      <td>3</td>\n",
              "      <td>1.00</td>\n",
              "      <td>1180</td>\n",
              "      <td>5650</td>\n",
              "      <td>1.0</td>\n",
              "      <td>0</td>\n",
              "      <td>0</td>\n",
              "      <td>3</td>\n",
              "      <td>7</td>\n",
              "      <td>1180</td>\n",
              "      <td>0</td>\n",
              "      <td>1955</td>\n",
              "      <td>0</td>\n",
              "      <td>98178</td>\n",
              "      <td>47.5112</td>\n",
              "      <td>-122.257</td>\n",
              "      <td>1340</td>\n",
              "      <td>5650</td>\n",
              "    </tr>\n",
              "    <tr>\n",
              "      <th>1</th>\n",
              "      <td>6414100192</td>\n",
              "      <td>20141209T000000</td>\n",
              "      <td>538000</td>\n",
              "      <td>3</td>\n",
              "      <td>2.25</td>\n",
              "      <td>2570</td>\n",
              "      <td>7242</td>\n",
              "      <td>2.0</td>\n",
              "      <td>0</td>\n",
              "      <td>0</td>\n",
              "      <td>3</td>\n",
              "      <td>7</td>\n",
              "      <td>2170</td>\n",
              "      <td>400</td>\n",
              "      <td>1951</td>\n",
              "      <td>1991</td>\n",
              "      <td>98125</td>\n",
              "      <td>47.7210</td>\n",
              "      <td>-122.319</td>\n",
              "      <td>1690</td>\n",
              "      <td>7639</td>\n",
              "    </tr>\n",
              "    <tr>\n",
              "      <th>2</th>\n",
              "      <td>5631500400</td>\n",
              "      <td>20150225T000000</td>\n",
              "      <td>180000</td>\n",
              "      <td>2</td>\n",
              "      <td>1.00</td>\n",
              "      <td>770</td>\n",
              "      <td>10000</td>\n",
              "      <td>1.0</td>\n",
              "      <td>0</td>\n",
              "      <td>0</td>\n",
              "      <td>3</td>\n",
              "      <td>6</td>\n",
              "      <td>770</td>\n",
              "      <td>0</td>\n",
              "      <td>1933</td>\n",
              "      <td>0</td>\n",
              "      <td>98028</td>\n",
              "      <td>47.7379</td>\n",
              "      <td>-122.233</td>\n",
              "      <td>2720</td>\n",
              "      <td>8062</td>\n",
              "    </tr>\n",
              "    <tr>\n",
              "      <th>3</th>\n",
              "      <td>2487200875</td>\n",
              "      <td>20141209T000000</td>\n",
              "      <td>604000</td>\n",
              "      <td>4</td>\n",
              "      <td>3.00</td>\n",
              "      <td>1960</td>\n",
              "      <td>5000</td>\n",
              "      <td>1.0</td>\n",
              "      <td>0</td>\n",
              "      <td>0</td>\n",
              "      <td>5</td>\n",
              "      <td>7</td>\n",
              "      <td>1050</td>\n",
              "      <td>910</td>\n",
              "      <td>1965</td>\n",
              "      <td>0</td>\n",
              "      <td>98136</td>\n",
              "      <td>47.5208</td>\n",
              "      <td>-122.393</td>\n",
              "      <td>1360</td>\n",
              "      <td>5000</td>\n",
              "    </tr>\n",
              "    <tr>\n",
              "      <th>4</th>\n",
              "      <td>1954400510</td>\n",
              "      <td>20150218T000000</td>\n",
              "      <td>510000</td>\n",
              "      <td>3</td>\n",
              "      <td>2.00</td>\n",
              "      <td>1680</td>\n",
              "      <td>8080</td>\n",
              "      <td>1.0</td>\n",
              "      <td>0</td>\n",
              "      <td>0</td>\n",
              "      <td>3</td>\n",
              "      <td>8</td>\n",
              "      <td>1680</td>\n",
              "      <td>0</td>\n",
              "      <td>1987</td>\n",
              "      <td>0</td>\n",
              "      <td>98074</td>\n",
              "      <td>47.6168</td>\n",
              "      <td>-122.045</td>\n",
              "      <td>1800</td>\n",
              "      <td>7503</td>\n",
              "    </tr>\n",
              "    <tr>\n",
              "      <th>...</th>\n",
              "      <td>...</td>\n",
              "      <td>...</td>\n",
              "      <td>...</td>\n",
              "      <td>...</td>\n",
              "      <td>...</td>\n",
              "      <td>...</td>\n",
              "      <td>...</td>\n",
              "      <td>...</td>\n",
              "      <td>...</td>\n",
              "      <td>...</td>\n",
              "      <td>...</td>\n",
              "      <td>...</td>\n",
              "      <td>...</td>\n",
              "      <td>...</td>\n",
              "      <td>...</td>\n",
              "      <td>...</td>\n",
              "      <td>...</td>\n",
              "      <td>...</td>\n",
              "      <td>...</td>\n",
              "      <td>...</td>\n",
              "      <td>...</td>\n",
              "    </tr>\n",
              "    <tr>\n",
              "      <th>21608</th>\n",
              "      <td>263000018</td>\n",
              "      <td>20140521T000000</td>\n",
              "      <td>360000</td>\n",
              "      <td>3</td>\n",
              "      <td>2.50</td>\n",
              "      <td>1530</td>\n",
              "      <td>1131</td>\n",
              "      <td>3.0</td>\n",
              "      <td>0</td>\n",
              "      <td>0</td>\n",
              "      <td>3</td>\n",
              "      <td>8</td>\n",
              "      <td>1530</td>\n",
              "      <td>0</td>\n",
              "      <td>2009</td>\n",
              "      <td>0</td>\n",
              "      <td>98103</td>\n",
              "      <td>47.6993</td>\n",
              "      <td>-122.346</td>\n",
              "      <td>1530</td>\n",
              "      <td>1509</td>\n",
              "    </tr>\n",
              "    <tr>\n",
              "      <th>21609</th>\n",
              "      <td>6600060120</td>\n",
              "      <td>20150223T000000</td>\n",
              "      <td>400000</td>\n",
              "      <td>4</td>\n",
              "      <td>2.50</td>\n",
              "      <td>2310</td>\n",
              "      <td>5813</td>\n",
              "      <td>2.0</td>\n",
              "      <td>0</td>\n",
              "      <td>0</td>\n",
              "      <td>3</td>\n",
              "      <td>8</td>\n",
              "      <td>2310</td>\n",
              "      <td>0</td>\n",
              "      <td>2014</td>\n",
              "      <td>0</td>\n",
              "      <td>98146</td>\n",
              "      <td>47.5107</td>\n",
              "      <td>-122.362</td>\n",
              "      <td>1830</td>\n",
              "      <td>7200</td>\n",
              "    </tr>\n",
              "    <tr>\n",
              "      <th>21610</th>\n",
              "      <td>1523300141</td>\n",
              "      <td>20140623T000000</td>\n",
              "      <td>402101</td>\n",
              "      <td>2</td>\n",
              "      <td>0.75</td>\n",
              "      <td>1020</td>\n",
              "      <td>1350</td>\n",
              "      <td>2.0</td>\n",
              "      <td>0</td>\n",
              "      <td>0</td>\n",
              "      <td>3</td>\n",
              "      <td>7</td>\n",
              "      <td>1020</td>\n",
              "      <td>0</td>\n",
              "      <td>2009</td>\n",
              "      <td>0</td>\n",
              "      <td>98144</td>\n",
              "      <td>47.5944</td>\n",
              "      <td>-122.299</td>\n",
              "      <td>1020</td>\n",
              "      <td>2007</td>\n",
              "    </tr>\n",
              "    <tr>\n",
              "      <th>21611</th>\n",
              "      <td>291310100</td>\n",
              "      <td>20150116T000000</td>\n",
              "      <td>400000</td>\n",
              "      <td>3</td>\n",
              "      <td>2.50</td>\n",
              "      <td>1600</td>\n",
              "      <td>2388</td>\n",
              "      <td>2.0</td>\n",
              "      <td>0</td>\n",
              "      <td>0</td>\n",
              "      <td>3</td>\n",
              "      <td>8</td>\n",
              "      <td>1600</td>\n",
              "      <td>0</td>\n",
              "      <td>2004</td>\n",
              "      <td>0</td>\n",
              "      <td>98027</td>\n",
              "      <td>47.5345</td>\n",
              "      <td>-122.069</td>\n",
              "      <td>1410</td>\n",
              "      <td>1287</td>\n",
              "    </tr>\n",
              "    <tr>\n",
              "      <th>21612</th>\n",
              "      <td>1523300157</td>\n",
              "      <td>20141015T000000</td>\n",
              "      <td>325000</td>\n",
              "      <td>2</td>\n",
              "      <td>0.75</td>\n",
              "      <td>1020</td>\n",
              "      <td>1076</td>\n",
              "      <td>2.0</td>\n",
              "      <td>0</td>\n",
              "      <td>0</td>\n",
              "      <td>3</td>\n",
              "      <td>7</td>\n",
              "      <td>1020</td>\n",
              "      <td>0</td>\n",
              "      <td>2008</td>\n",
              "      <td>0</td>\n",
              "      <td>98144</td>\n",
              "      <td>47.5941</td>\n",
              "      <td>-122.299</td>\n",
              "      <td>1020</td>\n",
              "      <td>1357</td>\n",
              "    </tr>\n",
              "  </tbody>\n",
              "</table>\n",
              "<p>21613 rows × 21 columns</p>\n",
              "</div>"
            ],
            "text/plain": [
              "               id             date   price  ...     long  sqft_living15  sqft_lot15\n",
              "0      7129300520  20141013T000000  221900  ... -122.257           1340        5650\n",
              "1      6414100192  20141209T000000  538000  ... -122.319           1690        7639\n",
              "2      5631500400  20150225T000000  180000  ... -122.233           2720        8062\n",
              "3      2487200875  20141209T000000  604000  ... -122.393           1360        5000\n",
              "4      1954400510  20150218T000000  510000  ... -122.045           1800        7503\n",
              "...           ...              ...     ...  ...      ...            ...         ...\n",
              "21608   263000018  20140521T000000  360000  ... -122.346           1530        1509\n",
              "21609  6600060120  20150223T000000  400000  ... -122.362           1830        7200\n",
              "21610  1523300141  20140623T000000  402101  ... -122.299           1020        2007\n",
              "21611   291310100  20150116T000000  400000  ... -122.069           1410        1287\n",
              "21612  1523300157  20141015T000000  325000  ... -122.299           1020        1357\n",
              "\n",
              "[21613 rows x 21 columns]"
            ]
          },
          "metadata": {
            "tags": []
          },
          "execution_count": 81
        }
      ]
    },
    {
      "cell_type": "code",
      "metadata": {
        "id": "TCrV4RK6dDgb"
      },
      "source": [
        "Columns = ['bedrooms', 'bathrooms', 'sqft_living', 'sqft_lot', 'floors', 'waterfront', 'view', 'condition', 'grade', 'sqft_above', 'sqft_basement', 'yr_built', 'yr_renovated', 'zipcode', 'sqft_living15', 'sqft_lot15']"
      ],
      "execution_count": null,
      "outputs": []
    },
    {
      "cell_type": "markdown",
      "metadata": {
        "id": "VuPER3TRo7rR"
      },
      "source": [
        "### Splitting the DataSet for Training and Testing"
      ]
    },
    {
      "cell_type": "code",
      "metadata": {
        "id": "CmNKY-vIdCG-"
      },
      "source": [
        "X, Y = house_df[Columns], house_df['price']\n",
        "train_x, test_x, train_y, test_y = train_test_split(X, Y, test_size = 0.3, random_state=1)"
      ],
      "execution_count": null,
      "outputs": []
    },
    {
      "cell_type": "markdown",
      "metadata": {
        "id": "gKrCUvRKpHwM"
      },
      "source": [
        "### Creating a Simple Linear Regression Model"
      ]
    },
    {
      "cell_type": "code",
      "metadata": {
        "id": "Mxjsq-U-d_Oz"
      },
      "source": [
        "linear_model = LinearRegression()"
      ],
      "execution_count": null,
      "outputs": []
    },
    {
      "cell_type": "markdown",
      "metadata": {
        "id": "Khgj42b7pOhM"
      },
      "source": [
        "### Fitting the Training data to the model"
      ]
    },
    {
      "cell_type": "code",
      "metadata": {
        "colab": {
          "base_uri": "https://localhost:8080/"
        },
        "id": "Q8qwqJFmfx9B",
        "outputId": "7a6b9ffe-3389-46d7-e55b-4906b7155f6b"
      },
      "source": [
        "linear_model.fit(train_x, train_y)"
      ],
      "execution_count": null,
      "outputs": [
        {
          "output_type": "execute_result",
          "data": {
            "text/plain": [
              "LinearRegression(copy_X=True, fit_intercept=True, n_jobs=None, normalize=False)"
            ]
          },
          "metadata": {
            "tags": []
          },
          "execution_count": 85
        }
      ]
    },
    {
      "cell_type": "markdown",
      "metadata": {
        "id": "MDUnFuI1pUy2"
      },
      "source": [
        "### Calculating the score of the model with train and test data"
      ]
    },
    {
      "cell_type": "code",
      "metadata": {
        "colab": {
          "base_uri": "https://localhost:8080/"
        },
        "id": "uP4rXHefh-8L",
        "outputId": "5782c65a-025a-459b-ce3c-62730fdd494a"
      },
      "source": [
        "linear_model.score(train_x, train_y), linear_model.score(test_x, test_y)"
      ],
      "execution_count": null,
      "outputs": [
        {
          "output_type": "execute_result",
          "data": {
            "text/plain": [
              "(0.6527330026778635, 0.6540254504905334)"
            ]
          },
          "metadata": {
            "tags": []
          },
          "execution_count": 86
        }
      ]
    },
    {
      "cell_type": "markdown",
      "metadata": {
        "id": "FlA3JnEpphEk"
      },
      "source": [
        "### Prediction of test_set using the trained model"
      ]
    },
    {
      "cell_type": "code",
      "metadata": {
        "colab": {
          "base_uri": "https://localhost:8080/"
        },
        "id": "kcGDPiagpq_Z",
        "outputId": "58c9b204-0b40-446a-a048-cba4747302c8"
      },
      "source": [
        "pred_y = linear_model.predict(test_x)\n",
        "pred_y"
      ],
      "execution_count": null,
      "outputs": [
        {
          "output_type": "execute_result",
          "data": {
            "text/plain": [
              "array([ 726650.51711311,  311372.56596644,  847702.64936282, ...,\n",
              "        365300.12870479, 2104979.66454953,  881522.93134849])"
            ]
          },
          "metadata": {
            "tags": []
          },
          "execution_count": 87
        }
      ]
    },
    {
      "cell_type": "markdown",
      "metadata": {
        "id": "dJGJwOp6qDTU"
      },
      "source": [
        "### Visualizing the Results as DataFrame"
      ]
    },
    {
      "cell_type": "code",
      "metadata": {
        "colab": {
          "base_uri": "https://localhost:8080/",
          "height": 816
        },
        "id": "wlH4DhRogiXf",
        "outputId": "71e369f9-4f74-4ab9-dd19-fa8e538b6717"
      },
      "source": [
        "Result_df = pd.DataFrame(pred_y, columns=['Predicted'])\n",
        "Result_df['Actual'] = pd.DataFrame(test_y).reset_index()['price']\n",
        "#Result_df['Diff'] = abs(Result_df['Actual'] - Result_df['Predicted'])\n",
        "#Result_df = Result_df.sort_values('Diff').drop('Diff', axis = 1)\n",
        "Result_df.head(25)"
      ],
      "execution_count": null,
      "outputs": [
        {
          "output_type": "execute_result",
          "data": {
            "text/html": [
              "<div>\n",
              "<style scoped>\n",
              "    .dataframe tbody tr th:only-of-type {\n",
              "        vertical-align: middle;\n",
              "    }\n",
              "\n",
              "    .dataframe tbody tr th {\n",
              "        vertical-align: top;\n",
              "    }\n",
              "\n",
              "    .dataframe thead th {\n",
              "        text-align: right;\n",
              "    }\n",
              "</style>\n",
              "<table border=\"1\" class=\"dataframe\">\n",
              "  <thead>\n",
              "    <tr style=\"text-align: right;\">\n",
              "      <th></th>\n",
              "      <th>Predicted</th>\n",
              "      <th>Actual</th>\n",
              "    </tr>\n",
              "  </thead>\n",
              "  <tbody>\n",
              "    <tr>\n",
              "      <th>0</th>\n",
              "      <td>7.266505e+05</td>\n",
              "      <td>459000</td>\n",
              "    </tr>\n",
              "    <tr>\n",
              "      <th>1</th>\n",
              "      <td>3.113726e+05</td>\n",
              "      <td>445000</td>\n",
              "    </tr>\n",
              "    <tr>\n",
              "      <th>2</th>\n",
              "      <td>8.477026e+05</td>\n",
              "      <td>1057000</td>\n",
              "    </tr>\n",
              "    <tr>\n",
              "      <th>3</th>\n",
              "      <td>6.725155e+05</td>\n",
              "      <td>732350</td>\n",
              "    </tr>\n",
              "    <tr>\n",
              "      <th>4</th>\n",
              "      <td>3.322276e+05</td>\n",
              "      <td>235000</td>\n",
              "    </tr>\n",
              "    <tr>\n",
              "      <th>5</th>\n",
              "      <td>5.863355e+05</td>\n",
              "      <td>555000</td>\n",
              "    </tr>\n",
              "    <tr>\n",
              "      <th>6</th>\n",
              "      <td>5.837205e+05</td>\n",
              "      <td>365000</td>\n",
              "    </tr>\n",
              "    <tr>\n",
              "      <th>7</th>\n",
              "      <td>8.271578e+05</td>\n",
              "      <td>685000</td>\n",
              "    </tr>\n",
              "    <tr>\n",
              "      <th>8</th>\n",
              "      <td>5.201836e+05</td>\n",
              "      <td>525000</td>\n",
              "    </tr>\n",
              "    <tr>\n",
              "      <th>9</th>\n",
              "      <td>6.020439e+05</td>\n",
              "      <td>449950</td>\n",
              "    </tr>\n",
              "    <tr>\n",
              "      <th>10</th>\n",
              "      <td>3.344998e+05</td>\n",
              "      <td>280000</td>\n",
              "    </tr>\n",
              "    <tr>\n",
              "      <th>11</th>\n",
              "      <td>3.542701e+05</td>\n",
              "      <td>428000</td>\n",
              "    </tr>\n",
              "    <tr>\n",
              "      <th>12</th>\n",
              "      <td>5.518380e+05</td>\n",
              "      <td>575000</td>\n",
              "    </tr>\n",
              "    <tr>\n",
              "      <th>13</th>\n",
              "      <td>4.121346e+05</td>\n",
              "      <td>313100</td>\n",
              "    </tr>\n",
              "    <tr>\n",
              "      <th>14</th>\n",
              "      <td>5.370773e+05</td>\n",
              "      <td>637500</td>\n",
              "    </tr>\n",
              "    <tr>\n",
              "      <th>15</th>\n",
              "      <td>8.312710e+05</td>\n",
              "      <td>732000</td>\n",
              "    </tr>\n",
              "    <tr>\n",
              "      <th>16</th>\n",
              "      <td>2.929716e+05</td>\n",
              "      <td>400000</td>\n",
              "    </tr>\n",
              "    <tr>\n",
              "      <th>17</th>\n",
              "      <td>7.908955e+05</td>\n",
              "      <td>829000</td>\n",
              "    </tr>\n",
              "    <tr>\n",
              "      <th>18</th>\n",
              "      <td>3.257958e+05</td>\n",
              "      <td>469500</td>\n",
              "    </tr>\n",
              "    <tr>\n",
              "      <th>19</th>\n",
              "      <td>4.216584e+05</td>\n",
              "      <td>537000</td>\n",
              "    </tr>\n",
              "    <tr>\n",
              "      <th>20</th>\n",
              "      <td>3.479027e+05</td>\n",
              "      <td>224000</td>\n",
              "    </tr>\n",
              "    <tr>\n",
              "      <th>21</th>\n",
              "      <td>4.681581e+05</td>\n",
              "      <td>597500</td>\n",
              "    </tr>\n",
              "    <tr>\n",
              "      <th>22</th>\n",
              "      <td>1.368393e+06</td>\n",
              "      <td>1058997</td>\n",
              "    </tr>\n",
              "    <tr>\n",
              "      <th>23</th>\n",
              "      <td>7.614732e+05</td>\n",
              "      <td>720000</td>\n",
              "    </tr>\n",
              "    <tr>\n",
              "      <th>24</th>\n",
              "      <td>5.149667e+05</td>\n",
              "      <td>569950</td>\n",
              "    </tr>\n",
              "  </tbody>\n",
              "</table>\n",
              "</div>"
            ],
            "text/plain": [
              "       Predicted   Actual\n",
              "0   7.266505e+05   459000\n",
              "1   3.113726e+05   445000\n",
              "2   8.477026e+05  1057000\n",
              "3   6.725155e+05   732350\n",
              "4   3.322276e+05   235000\n",
              "5   5.863355e+05   555000\n",
              "6   5.837205e+05   365000\n",
              "7   8.271578e+05   685000\n",
              "8   5.201836e+05   525000\n",
              "9   6.020439e+05   449950\n",
              "10  3.344998e+05   280000\n",
              "11  3.542701e+05   428000\n",
              "12  5.518380e+05   575000\n",
              "13  4.121346e+05   313100\n",
              "14  5.370773e+05   637500\n",
              "15  8.312710e+05   732000\n",
              "16  2.929716e+05   400000\n",
              "17  7.908955e+05   829000\n",
              "18  3.257958e+05   469500\n",
              "19  4.216584e+05   537000\n",
              "20  3.479027e+05   224000\n",
              "21  4.681581e+05   597500\n",
              "22  1.368393e+06  1058997\n",
              "23  7.614732e+05   720000\n",
              "24  5.149667e+05   569950"
            ]
          },
          "metadata": {
            "tags": []
          },
          "execution_count": 88
        }
      ]
    },
    {
      "cell_type": "markdown",
      "metadata": {
        "id": "2S2ZiN7Kmlnz"
      },
      "source": [
        "### Visualizing the Result as Graph"
      ]
    },
    {
      "cell_type": "code",
      "metadata": {
        "colab": {
          "base_uri": "https://localhost:8080/",
          "height": 293
        },
        "id": "vPT-CessoSTM",
        "outputId": "90cca440-bd69-4d74-f9c4-259378de5e20"
      },
      "source": [
        "Result_df_sub = Result_df.head(25)\n",
        "plt.scatter(Result_df_sub.index.values, Result_df_sub['Predicted'], alpha=0.7, color='red')\n",
        "plt.scatter(Result_df_sub.index.values, Result_df_sub['Actual'], alpha=0.3, color='green', s=100)\n",
        "plt.legend(['Predicted', 'Actual'])"
      ],
      "execution_count": null,
      "outputs": [
        {
          "output_type": "execute_result",
          "data": {
            "text/plain": [
              "<matplotlib.legend.Legend at 0x7fe235026cd0>"
            ]
          },
          "metadata": {
            "tags": []
          },
          "execution_count": 89
        },
        {
          "output_type": "display_data",
          "data": {
            "image/png": "[encoded data removed]",
            "text/plain": [
              "<Figure size 432x288 with 1 Axes>"
            ]
          },
          "metadata": {
            "tags": [],
            "needs_background": "light"
          }
        }
      ]
    },
    {
      "cell_type": "markdown",
      "metadata": {
        "id": "Z4TK4FS8iGki"
      },
      "source": [
        "### Displaying the coefficients as DataFrame"
      ]
    },
    {
      "cell_type": "code",
      "metadata": {
        "colab": {
          "base_uri": "https://localhost:8080/",
          "height": 540
        },
        "id": "YVDRGGXEY0q1",
        "outputId": "8ebbd8af-9632-4968-bcda-3946d42e6104"
      },
      "source": [
        "coef = linear_model.coef_.tolist()\n",
        "params = train_x.columns.to_list()\n",
        "coef_df = pd.DataFrame(coef, params, columns=['Coefficient'])\n",
        "#coef_df['Parameter'] = train_x.columns.to_list()\n",
        "coef_df"
      ],
      "execution_count": null,
      "outputs": [
        {
          "output_type": "execute_result",
          "data": {
            "text/html": [
              "<div>\n",
              "<style scoped>\n",
              "    .dataframe tbody tr th:only-of-type {\n",
              "        vertical-align: middle;\n",
              "    }\n",
              "\n",
              "    .dataframe tbody tr th {\n",
              "        vertical-align: top;\n",
              "    }\n",
              "\n",
              "    .dataframe thead th {\n",
              "        text-align: right;\n",
              "    }\n",
              "</style>\n",
              "<table border=\"1\" class=\"dataframe\">\n",
              "  <thead>\n",
              "    <tr style=\"text-align: right;\">\n",
              "      <th></th>\n",
              "      <th>Coefficient</th>\n",
              "    </tr>\n",
              "  </thead>\n",
              "  <tbody>\n",
              "    <tr>\n",
              "      <th>bedrooms</th>\n",
              "      <td>-34674.183446</td>\n",
              "    </tr>\n",
              "    <tr>\n",
              "      <th>bathrooms</th>\n",
              "      <td>42868.683781</td>\n",
              "    </tr>\n",
              "    <tr>\n",
              "      <th>sqft_living</th>\n",
              "      <td>104.275440</td>\n",
              "    </tr>\n",
              "    <tr>\n",
              "      <th>sqft_lot</th>\n",
              "      <td>-0.017056</td>\n",
              "    </tr>\n",
              "    <tr>\n",
              "      <th>floors</th>\n",
              "      <td>29242.684286</td>\n",
              "    </tr>\n",
              "    <tr>\n",
              "      <th>waterfront</th>\n",
              "      <td>564191.491832</td>\n",
              "    </tr>\n",
              "    <tr>\n",
              "      <th>view</th>\n",
              "      <td>41320.425432</td>\n",
              "    </tr>\n",
              "    <tr>\n",
              "      <th>condition</th>\n",
              "      <td>18842.517989</td>\n",
              "    </tr>\n",
              "    <tr>\n",
              "      <th>grade</th>\n",
              "      <td>119000.627634</td>\n",
              "    </tr>\n",
              "    <tr>\n",
              "      <th>sqft_above</th>\n",
              "      <td>49.821388</td>\n",
              "    </tr>\n",
              "    <tr>\n",
              "      <th>sqft_basement</th>\n",
              "      <td>54.454052</td>\n",
              "    </tr>\n",
              "    <tr>\n",
              "      <th>yr_built</th>\n",
              "      <td>-3484.813243</td>\n",
              "    </tr>\n",
              "    <tr>\n",
              "      <th>yr_renovated</th>\n",
              "      <td>13.560567</td>\n",
              "    </tr>\n",
              "    <tr>\n",
              "      <th>zipcode</th>\n",
              "      <td>29.474905</td>\n",
              "    </tr>\n",
              "    <tr>\n",
              "      <th>sqft_living15</th>\n",
              "      <td>24.279773</td>\n",
              "    </tr>\n",
              "    <tr>\n",
              "      <th>sqft_lot15</th>\n",
              "      <td>-0.488209</td>\n",
              "    </tr>\n",
              "  </tbody>\n",
              "</table>\n",
              "</div>"
            ],
            "text/plain": [
              "                 Coefficient\n",
              "bedrooms       -34674.183446\n",
              "bathrooms       42868.683781\n",
              "sqft_living       104.275440\n",
              "sqft_lot           -0.017056\n",
              "floors          29242.684286\n",
              "waterfront     564191.491832\n",
              "view            41320.425432\n",
              "condition       18842.517989\n",
              "grade          119000.627634\n",
              "sqft_above         49.821388\n",
              "sqft_basement      54.454052\n",
              "yr_built        -3484.813243\n",
              "yr_renovated       13.560567\n",
              "zipcode            29.474905\n",
              "sqft_living15      24.279773\n",
              "sqft_lot15         -0.488209"
            ]
          },
          "metadata": {
            "tags": []
          },
          "execution_count": 90
        }
      ]
    },
    {
      "cell_type": "markdown",
      "metadata": {
        "id": "tAnJhnDLiSRL"
      },
      "source": [
        "### Visualizing the coefficients as Graph"
      ]
    },
    {
      "cell_type": "code",
      "metadata": {
        "colab": {
          "base_uri": "https://localhost:8080/",
          "height": 346
        },
        "id": "MS-7mktebhb3",
        "outputId": "740512ac-da4a-41c1-8145-45d049f505ad"
      },
      "source": [
        "plt.xticks(rotation='vertical')\n",
        "plt.scatter(params, coef_df.Coefficient)"
      ],
      "execution_count": null,
      "outputs": [
        {
          "output_type": "execute_result",
          "data": {
            "text/plain": [
              "<matplotlib.collections.PathCollection at 0x7fe234fb6410>"
            ]
          },
          "metadata": {
            "tags": []
          },
          "execution_count": 91
        },
        {
          "output_type": "display_data",
          "data": {
            "image/png": "[encoded data removed]",
            "text/plain": [
              "<Figure size 432x288 with 1 Axes>"
            ]
          },
          "metadata": {
            "tags": [],
            "needs_background": "light"
          }
        }
      ]
    },
    {
      "cell_type": "markdown",
      "metadata": {
        "id": "c0JtuLJdoUJ2"
      },
      "source": [
        "# 20/05/2021"
      ]
    },
    {
      "cell_type": "markdown",
      "metadata": {
        "id": "r1WyXQ21YA3f"
      },
      "source": [
        "## ASSIGNMENT - 1 (Example for Linear Regression)"
      ]
    },
    {
      "cell_type": "markdown",
      "metadata": {
        "id": "ORQ05PtPgw_B"
      },
      "source": [
        "### Creating DataFrame"
      ]
    },
    {
      "cell_type": "code",
      "metadata": {
        "id": "tMOrm2M2YMK8",
        "colab": {
          "base_uri": "https://localhost:8080/",
          "height": 416
        },
        "outputId": "4665b0cf-5996-4a82-c99a-9c4f355ba9c6"
      },
      "source": [
        "num_df = pd.DataFrame({'X': [*range(1000)], 'A':[*map(lambda x: x ** 2, range(1000))], 'B':[*map(lambda x: x * 2, range(1000))], 'C':[*map(lambda x: 2, range(1000))], 'Y':[*map(lambda x: x ** 2 + x * 2 + 2, range(1000))]})\n",
        "num_df"
      ],
      "execution_count": null,
      "outputs": [
        {
          "output_type": "execute_result",
          "data": {
            "text/html": [
              "<div>\n",
              "<style scoped>\n",
              "    .dataframe tbody tr th:only-of-type {\n",
              "        vertical-align: middle;\n",
              "    }\n",
              "\n",
              "    .dataframe tbody tr th {\n",
              "        vertical-align: top;\n",
              "    }\n",
              "\n",
              "    .dataframe thead th {\n",
              "        text-align: right;\n",
              "    }\n",
              "</style>\n",
              "<table border=\"1\" class=\"dataframe\">\n",
              "  <thead>\n",
              "    <tr style=\"text-align: right;\">\n",
              "      <th></th>\n",
              "      <th>X</th>\n",
              "      <th>A</th>\n",
              "      <th>B</th>\n",
              "      <th>C</th>\n",
              "      <th>Y</th>\n",
              "    </tr>\n",
              "  </thead>\n",
              "  <tbody>\n",
              "    <tr>\n",
              "      <th>0</th>\n",
              "      <td>0</td>\n",
              "      <td>0</td>\n",
              "      <td>0</td>\n",
              "      <td>2</td>\n",
              "      <td>2</td>\n",
              "    </tr>\n",
              "    <tr>\n",
              "      <th>1</th>\n",
              "      <td>1</td>\n",
              "      <td>1</td>\n",
              "      <td>2</td>\n",
              "      <td>2</td>\n",
              "      <td>5</td>\n",
              "    </tr>\n",
              "    <tr>\n",
              "      <th>2</th>\n",
              "      <td>2</td>\n",
              "      <td>4</td>\n",
              "      <td>4</td>\n",
              "      <td>2</td>\n",
              "      <td>10</td>\n",
              "    </tr>\n",
              "    <tr>\n",
              "      <th>3</th>\n",
              "      <td>3</td>\n",
              "      <td>9</td>\n",
              "      <td>6</td>\n",
              "      <td>2</td>\n",
              "      <td>17</td>\n",
              "    </tr>\n",
              "    <tr>\n",
              "      <th>4</th>\n",
              "      <td>4</td>\n",
              "      <td>16</td>\n",
              "      <td>8</td>\n",
              "      <td>2</td>\n",
              "      <td>26</td>\n",
              "    </tr>\n",
              "    <tr>\n",
              "      <th>...</th>\n",
              "      <td>...</td>\n",
              "      <td>...</td>\n",
              "      <td>...</td>\n",
              "      <td>...</td>\n",
              "      <td>...</td>\n",
              "    </tr>\n",
              "    <tr>\n",
              "      <th>995</th>\n",
              "      <td>995</td>\n",
              "      <td>990025</td>\n",
              "      <td>1990</td>\n",
              "      <td>2</td>\n",
              "      <td>992017</td>\n",
              "    </tr>\n",
              "    <tr>\n",
              "      <th>996</th>\n",
              "      <td>996</td>\n",
              "      <td>992016</td>\n",
              "      <td>1992</td>\n",
              "      <td>2</td>\n",
              "      <td>994010</td>\n",
              "    </tr>\n",
              "    <tr>\n",
              "      <th>997</th>\n",
              "      <td>997</td>\n",
              "      <td>994009</td>\n",
              "      <td>1994</td>\n",
              "      <td>2</td>\n",
              "      <td>996005</td>\n",
              "    </tr>\n",
              "    <tr>\n",
              "      <th>998</th>\n",
              "      <td>998</td>\n",
              "      <td>996004</td>\n",
              "      <td>1996</td>\n",
              "      <td>2</td>\n",
              "      <td>998002</td>\n",
              "    </tr>\n",
              "    <tr>\n",
              "      <th>999</th>\n",
              "      <td>999</td>\n",
              "      <td>998001</td>\n",
              "      <td>1998</td>\n",
              "      <td>2</td>\n",
              "      <td>1000001</td>\n",
              "    </tr>\n",
              "  </tbody>\n",
              "</table>\n",
              "<p>1000 rows × 5 columns</p>\n",
              "</div>"
            ],
            "text/plain": [
              "       X       A     B  C        Y\n",
              "0      0       0     0  2        2\n",
              "1      1       1     2  2        5\n",
              "2      2       4     4  2       10\n",
              "3      3       9     6  2       17\n",
              "4      4      16     8  2       26\n",
              "..   ...     ...   ... ..      ...\n",
              "995  995  990025  1990  2   992017\n",
              "996  996  992016  1992  2   994010\n",
              "997  997  994009  1994  2   996005\n",
              "998  998  996004  1996  2   998002\n",
              "999  999  998001  1998  2  1000001\n",
              "\n",
              "[1000 rows x 5 columns]"
            ]
          },
          "metadata": {
            "tags": []
          },
          "execution_count": 145
        }
      ]
    },
    {
      "cell_type": "markdown",
      "metadata": {
        "id": "aSgktRwkg6Nc"
      },
      "source": [
        "### Creating a Linear Regression Model"
      ]
    },
    {
      "cell_type": "code",
      "metadata": {
        "id": "z654BW9RdGbd"
      },
      "source": [
        "num_lm = LinearRegression()"
      ],
      "execution_count": null,
      "outputs": []
    },
    {
      "cell_type": "markdown",
      "metadata": {
        "id": "HLMnB7VWg_PQ"
      },
      "source": [
        "### Splitting the DataSet for Training and Testing"
      ]
    },
    {
      "cell_type": "code",
      "metadata": {
        "id": "Ga6e5NtLdM-j"
      },
      "source": [
        "X, Y = num_df[['A']], num_df['Y']\n",
        "train_x, test_x, train_y, test_y = train_test_split(X, Y, test_size = 0.3, random_state=1)"
      ],
      "execution_count": null,
      "outputs": []
    },
    {
      "cell_type": "markdown",
      "metadata": {
        "id": "vzselQvVhQTA"
      },
      "source": [
        "### Fitting the Training data to the model"
      ]
    },
    {
      "cell_type": "code",
      "metadata": {
        "colab": {
          "base_uri": "https://localhost:8080/"
        },
        "id": "MbBhpiHidjDy",
        "outputId": "814613fc-1861-4edf-e979-db0db7713dd8"
      },
      "source": [
        "num_lm.fit(train_x, train_y)"
      ],
      "execution_count": null,
      "outputs": [
        {
          "output_type": "execute_result",
          "data": {
            "text/plain": [
              "LinearRegression(copy_X=True, fit_intercept=True, n_jobs=None, normalize=False)"
            ]
          },
          "metadata": {
            "tags": []
          },
          "execution_count": 148
        }
      ]
    },
    {
      "cell_type": "markdown",
      "metadata": {
        "id": "d6IetNZlhV-o"
      },
      "source": [
        "### Calculating the Score of the model with Train and Test Data"
      ]
    },
    {
      "cell_type": "code",
      "metadata": {
        "colab": {
          "base_uri": "https://localhost:8080/"
        },
        "id": "FeveIzkAdnmL",
        "outputId": "1828f836-2a5f-451e-96aa-e41cf685e82a"
      },
      "source": [
        "num_lm.score(train_x, train_y), num_lm.score(test_x, test_y)"
      ],
      "execution_count": null,
      "outputs": [
        {
          "output_type": "execute_result",
          "data": {
            "text/plain": [
              "(0.9999997708802538, 0.9999997534930267)"
            ]
          },
          "metadata": {
            "tags": []
          },
          "execution_count": 149
        }
      ]
    },
    {
      "cell_type": "markdown",
      "metadata": {
        "id": "erp--Qg_hlv9"
      },
      "source": [
        "### Predicting the test_set using trained model"
      ]
    },
    {
      "cell_type": "code",
      "metadata": {
        "colab": {
          "base_uri": "https://localhost:8080/"
        },
        "id": "Ukl2T7Jfd8R_",
        "outputId": "11fad469-5127-4280-890f-439708925ab2"
      },
      "source": [
        "pred_y = num_lm.predict(test_x)\n",
        "pred_y"
      ],
      "execution_count": null,
      "outputs": [
        {
          "output_type": "execute_result",
          "data": {
            "text/plain": [
              "array([2.57908581e+05, 6.70757008e+05, 2.05064584e+05, 1.36055303e+05,\n",
              "       5.90510435e+04, 8.65037972e+05, 6.91499627e+04, 6.57708563e+05,\n",
              "       1.01690925e+05, 2.78263072e+03, 1.99666471e+05, 2.05789702e+04,\n",
              "       9.39159832e+05, 1.19625523e+05, 9.44987750e+05, 1.80993249e+04,\n",
              "       1.12134249e+04, 4.13191836e+02, 3.61052811e+05, 2.46854874e+05,\n",
              "       4.94106072e+05, 2.23579269e+05, 3.58652314e+05, 2.52854112e+05,\n",
              "       1.88218024e+05, 1.45647032e+04, 1.20630165e+04, 4.19771815e+05,\n",
              "       3.47949263e+05, 1.40515659e+05, 8.30031391e+05, 5.16868715e+05,\n",
              "       5.54952060e+05, 2.44871157e+05, 1.63899466e+05, 7.55940350e+04,\n",
              "       6.47254337e+03, 5.21193818e+05, 4.15891545e+05, 3.78080711e+05,\n",
              "       7.62188295e+05, 4.78754312e+05, 8.49232722e+03, 1.05972706e+04,\n",
              "       9.22970862e+03, 3.33931001e+05, 2.89287366e+05, 2.06127935e+03,\n",
              "       2.05971283e+05, 9.92260310e+05, 5.09700286e+05, 1.53529397e+03,\n",
              "       4.09464505e+05, 1.60442348e+03, 2.23222361e+04, 2.07790691e+05,\n",
              "       7.85072165e+05, 4.59566365e+05, 2.37016442e+05, 4.70482816e+05,\n",
              "       9.48030209e+04, 5.71274398e+04, 1.56694969e+05, 5.40144319e+05,\n",
              "       6.77329321e+05, 6.60958652e+05, 2.16077215e+05, 6.67482874e+05,\n",
              "       2.79684376e+05, 6.66666694e+02, 5.04001610e+05, 1.37534073e+05,\n",
              "       5.85671369e+04, 9.31417327e+05, 2.09618115e+05, 4.61005420e+03,\n",
              "       3.69265957e+04, 7.03939171e+05, 1.10143760e+05, 4.08185108e+05,\n",
              "       6.55241702e+04, 5.51974482e+05, 5.72985845e+05, 5.74501684e+05,\n",
              "       9.06475601e+05, 9.86288121e+05, 2.15148475e+05, 7.12359947e+05,\n",
              "       3.29322367e+05, 2.78627396e+05, 4.28895908e+05, 3.61651693e+04,\n",
              "       2.68167801e+05, 9.16028498e+05, 1.72094819e+05, 4.51463185e+05,\n",
              "       3.13444622e+05, 3.52686137e+05, 6.70660587e+04, 2.41376370e+04,\n",
              "       1.12812760e+05, 5.46441465e+02, 8.31855809e+05, 2.47588007e+04,\n",
              "       1.83904944e+05, 6.80627499e+05, 7.17999271e+04, 2.90364384e+05,\n",
              "       5.61776605e+04, 8.93185704e+05, 2.30248764e+05, 6.17758722e+05,\n",
              "       9.04571033e+05, 3.86465778e+03, 7.55215231e+05, 3.10596046e+04,\n",
              "       5.06846940e+05, 2.02356511e+05, 1.48041517e+04, 6.31996394e+05,\n",
              "       3.28379361e+04, 9.72796606e+04, 3.86141160e+02, 3.80837636e+04,\n",
              "       1.91704555e+05, 4.67741681e+05, 6.39976344e+05, 5.57937653e+05,\n",
              "       3.91735291e+05, 4.80139908e+05, 3.04547955e+05, 6.19965616e+04,\n",
              "       4.35473230e+05, 3.81131775e+02, 9.96251787e+05, 7.41365285e+05,\n",
              "       6.03683353e+05, 7.36204617e+05, 1.28781676e+05, 5.92848054e+05,\n",
              "       5.71612631e+03, 1.40918173e+04, 8.81872510e+05, 2.87139342e+05,\n",
              "       1.27212496e+04, 2.59944395e+05, 2.63013144e+05, 8.41007955e+05,\n",
              "       3.08980259e+05, 3.05653026e+05, 1.25928331e+05, 9.43043107e+05,\n",
              "       4.41244390e+02, 3.38571695e+05, 3.51901025e+03, 3.32775837e+05,\n",
              "       4.98334994e+05, 4.24973560e+05, 7.44636773e+03, 5.24586934e+04,\n",
              "       2.57055744e+04, 4.24810013e+04, 1.60314509e+04, 4.74609547e+05,\n",
              "       7.88622817e+05, 2.24526043e+05, 6.00248678e+04, 3.57455071e+05,\n",
              "       6.36778353e+05, 3.84734937e+04, 4.12577096e+04, 6.95043866e+03,\n",
              "       2.35072801e+05, 1.96994466e+05, 3.35088169e+05, 4.08539532e+04,\n",
              "       3.50380578e+04, 2.67132862e+05, 6.75683237e+05, 9.37221200e+05,\n",
              "       4.71206933e+04, 2.88181654e+03, 6.14616836e+05, 4.52808706e+05,\n",
              "       2.82867339e+05, 9.91581798e+04, 4.04522006e+04, 5.01994610e+04,\n",
              "       3.45592848e+05, 9.68479759e+05, 4.89895183e+05, 6.83933693e+05,\n",
              "       5.47680197e+04, 3.42073255e+05, 9.50833701e+05, 1.85624164e+05,\n",
              "       7.65686849e+05, 3.03444889e+05, 3.70734949e+05, 4.33065479e+04,\n",
              "       1.46575010e+05, 9.90267577e+05, 9.66511071e+05, 2.59027036e+03,\n",
              "       2.72327594e+05, 4.05632326e+05, 7.38801831e+02, 1.34584547e+05,\n",
              "       1.16194095e+05, 9.08382173e+05, 4.56857290e+05, 9.41888704e+04,\n",
              "       6.98910751e+05, 1.84763552e+05, 6.78977408e+05, 9.29665806e+04,\n",
              "       1.26638662e+05, 3.17649259e+04, 8.95078250e+05, 3.98388113e+03,\n",
              "       9.60373333e+04, 7.97534512e+05, 9.11481740e+04, 8.48365739e+05,\n",
              "       3.53875365e+05, 5.80585081e+05, 1.18476130e+04, 5.59433456e+05,\n",
              "       9.78353256e+05, 6.51232431e+05, 1.01965198e+04, 6.29944310e+04,\n",
              "       6.95568490e+05, 2.25474820e+05, 4.95513709e+05, 8.87520090e+05,\n",
              "       1.47341446e+05, 4.63645006e+05, 3.31996136e+04, 5.21394542e+02,\n",
              "       3.76851408e+05, 7.61568492e+03, 1.02969320e+05, 4.22368680e+05,\n",
              "       5.05423273e+05, 1.48880329e+05, 7.93963823e+05, 1.93459844e+05,\n",
              "       1.86363309e+04, 3.22469529e+05, 8.93478012e+04, 2.60251731e+04,\n",
              "       7.23359313e+04, 4.34153758e+05, 9.94255047e+05, 4.12029310e+05,\n",
              "       8.22753758e+05, 6.49618407e+05, 7.99322862e+05, 1.51982140e+05,\n",
              "       1.50456041e+04, 7.02261028e+05, 3.54117578e+04, 6.33604756e+02,\n",
              "       5.99027631e+05, 2.43882305e+05, 1.16876373e+05, 1.82193738e+05,\n",
              "       2.18875457e+05, 1.16342132e+04, 1.67153562e+05, 9.07117152e+02,\n",
              "       6.92234243e+05, 5.14706022e+03, 8.11897419e+05, 4.58210826e+05,\n",
              "       6.43182350e+05, 3.59851561e+05, 4.14602130e+05, 1.15513820e+05,\n",
              "       4.92700439e+05, 7.63936570e+05, 5.86340221e+03, 4.79903224e+04,\n",
              "       2.76519447e+05, 7.07339301e+04, 7.95748166e+05, 1.24998348e+04,\n",
              "       1.89957282e+05, 9.62579706e+05, 4.00550806e+05, 3.46663614e+04,\n",
              "       8.23266478e+04, 3.39736878e+05, 8.10095043e+05, 2.11453553e+05,\n",
              "       1.72925375e+05, 4.10510824e+03, 1.21012121e+05, 1.22406733e+05])"
            ]
          },
          "metadata": {
            "tags": []
          },
          "execution_count": 150
        }
      ]
    },
    {
      "cell_type": "markdown",
      "metadata": {
        "id": "KEyLY68jhvdp"
      },
      "source": [
        "### Visualizing the Results as DataFrame"
      ]
    },
    {
      "cell_type": "code",
      "metadata": {
        "colab": {
          "base_uri": "https://localhost:8080/",
          "height": 816
        },
        "id": "XhwlkplveGqj",
        "outputId": "d4c75d41-afc0-42cd-b2ef-ad1e4021cff5"
      },
      "source": [
        "Result_df = pd.DataFrame(pred_y, columns=['Predicted'])\n",
        "Result_df['Actual'] = pd.DataFrame(test_y).reset_index()['Y']\n",
        "#Result_df['Diff'] = abs(Result_df['Actual'] - Result_df['Predicted'])\n",
        "#Result_df = Result_df.sort_values('Diff').drop('Diff', axis = 1)\n",
        "Result_df.head(25)"
      ],
      "execution_count": null,
      "outputs": [
        {
          "output_type": "execute_result",
          "data": {
            "text/html": [
              "<div>\n",
              "<style scoped>\n",
              "    .dataframe tbody tr th:only-of-type {\n",
              "        vertical-align: middle;\n",
              "    }\n",
              "\n",
              "    .dataframe tbody tr th {\n",
              "        vertical-align: top;\n",
              "    }\n",
              "\n",
              "    .dataframe thead th {\n",
              "        text-align: right;\n",
              "    }\n",
              "</style>\n",
              "<table border=\"1\" class=\"dataframe\">\n",
              "  <thead>\n",
              "    <tr style=\"text-align: right;\">\n",
              "      <th></th>\n",
              "      <th>Predicted</th>\n",
              "      <th>Actual</th>\n",
              "    </tr>\n",
              "  </thead>\n",
              "  <tbody>\n",
              "    <tr>\n",
              "      <th>0</th>\n",
              "      <td>257908.581482</td>\n",
              "      <td>258065</td>\n",
              "    </tr>\n",
              "    <tr>\n",
              "      <th>1</th>\n",
              "      <td>670757.008169</td>\n",
              "      <td>670762</td>\n",
              "    </tr>\n",
              "    <tr>\n",
              "      <th>2</th>\n",
              "      <td>205064.583992</td>\n",
              "      <td>205210</td>\n",
              "    </tr>\n",
              "    <tr>\n",
              "      <th>3</th>\n",
              "      <td>136055.302598</td>\n",
              "      <td>136162</td>\n",
              "    </tr>\n",
              "    <tr>\n",
              "      <th>4</th>\n",
              "      <td>59051.043483</td>\n",
              "      <td>59050</td>\n",
              "    </tr>\n",
              "    <tr>\n",
              "      <th>5</th>\n",
              "      <td>865037.972454</td>\n",
              "      <td>864901</td>\n",
              "    </tr>\n",
              "    <tr>\n",
              "      <th>6</th>\n",
              "      <td>69149.962711</td>\n",
              "      <td>69170</td>\n",
              "    </tr>\n",
              "    <tr>\n",
              "      <th>7</th>\n",
              "      <td>657708.563325</td>\n",
              "      <td>657722</td>\n",
              "    </tr>\n",
              "    <tr>\n",
              "      <th>8</th>\n",
              "      <td>101690.924669</td>\n",
              "      <td>101762</td>\n",
              "    </tr>\n",
              "    <tr>\n",
              "      <th>9</th>\n",
              "      <td>2782.630723</td>\n",
              "      <td>2501</td>\n",
              "    </tr>\n",
              "    <tr>\n",
              "      <th>10</th>\n",
              "      <td>199666.471214</td>\n",
              "      <td>199810</td>\n",
              "    </tr>\n",
              "    <tr>\n",
              "      <th>11</th>\n",
              "      <td>20578.970232</td>\n",
              "      <td>20450</td>\n",
              "    </tr>\n",
              "    <tr>\n",
              "      <th>12</th>\n",
              "      <td>939159.831707</td>\n",
              "      <td>938962</td>\n",
              "    </tr>\n",
              "    <tr>\n",
              "      <th>13</th>\n",
              "      <td>119625.523191</td>\n",
              "      <td>119717</td>\n",
              "    </tr>\n",
              "    <tr>\n",
              "      <th>14</th>\n",
              "      <td>944987.749678</td>\n",
              "      <td>944785</td>\n",
              "    </tr>\n",
              "    <tr>\n",
              "      <th>15</th>\n",
              "      <td>18099.324886</td>\n",
              "      <td>17957</td>\n",
              "    </tr>\n",
              "    <tr>\n",
              "      <th>16</th>\n",
              "      <td>11213.424900</td>\n",
              "      <td>11026</td>\n",
              "    </tr>\n",
              "    <tr>\n",
              "      <th>17</th>\n",
              "      <td>413.191836</td>\n",
              "      <td>50</td>\n",
              "    </tr>\n",
              "    <tr>\n",
              "      <th>18</th>\n",
              "      <td>361052.810993</td>\n",
              "      <td>361202</td>\n",
              "    </tr>\n",
              "    <tr>\n",
              "      <th>19</th>\n",
              "      <td>246854.873561</td>\n",
              "      <td>247010</td>\n",
              "    </tr>\n",
              "    <tr>\n",
              "      <th>20</th>\n",
              "      <td>494106.071826</td>\n",
              "      <td>494210</td>\n",
              "    </tr>\n",
              "    <tr>\n",
              "      <th>21</th>\n",
              "      <td>223579.269244</td>\n",
              "      <td>223730</td>\n",
              "    </tr>\n",
              "    <tr>\n",
              "      <th>22</th>\n",
              "      <td>358652.313922</td>\n",
              "      <td>358802</td>\n",
              "    </tr>\n",
              "    <tr>\n",
              "      <th>23</th>\n",
              "      <td>252854.112483</td>\n",
              "      <td>253010</td>\n",
              "    </tr>\n",
              "    <tr>\n",
              "      <th>24</th>\n",
              "      <td>188218.023791</td>\n",
              "      <td>188357</td>\n",
              "    </tr>\n",
              "  </tbody>\n",
              "</table>\n",
              "</div>"
            ],
            "text/plain": [
              "        Predicted  Actual\n",
              "0   257908.581482  258065\n",
              "1   670757.008169  670762\n",
              "2   205064.583992  205210\n",
              "3   136055.302598  136162\n",
              "4    59051.043483   59050\n",
              "5   865037.972454  864901\n",
              "6    69149.962711   69170\n",
              "7   657708.563325  657722\n",
              "8   101690.924669  101762\n",
              "9     2782.630723    2501\n",
              "10  199666.471214  199810\n",
              "11   20578.970232   20450\n",
              "12  939159.831707  938962\n",
              "13  119625.523191  119717\n",
              "14  944987.749678  944785\n",
              "15   18099.324886   17957\n",
              "16   11213.424900   11026\n",
              "17     413.191836      50\n",
              "18  361052.810993  361202\n",
              "19  246854.873561  247010\n",
              "20  494106.071826  494210\n",
              "21  223579.269244  223730\n",
              "22  358652.313922  358802\n",
              "23  252854.112483  253010\n",
              "24  188218.023791  188357"
            ]
          },
          "metadata": {
            "tags": []
          },
          "execution_count": 151
        }
      ]
    },
    {
      "cell_type": "markdown",
      "metadata": {
        "id": "OrWntEVZh4W6"
      },
      "source": [
        "### Visualizing the Result as Graph"
      ]
    },
    {
      "cell_type": "code",
      "metadata": {
        "colab": {
          "base_uri": "https://localhost:8080/",
          "height": 282
        },
        "id": "ukQ4dCfTeNPZ",
        "outputId": "f0e6339d-338d-4d1b-f341-3c948c0fa4ed"
      },
      "source": [
        "Result_df_sub = Result_df.head(25)\n",
        "plt.scatter(Result_df_sub.index.values, Result_df_sub['Predicted'], alpha=0.7, color='red', s=20)\n",
        "plt.scatter(Result_df_sub.index.values, Result_df_sub['Actual'], alpha=0.3, color='green', s=200)\n",
        "plt.legend(['Predicted', 'Actual'])"
      ],
      "execution_count": null,
      "outputs": [
        {
          "output_type": "execute_result",
          "data": {
            "text/plain": [
              "<matplotlib.legend.Legend at 0x7fe23504a8d0>"
            ]
          },
          "metadata": {
            "tags": []
          },
          "execution_count": 152
        },
        {
          "output_type": "display_data",
          "data": {
            "image/png": "[encoded data removed]",
            "text/plain": [
              "<Figure size 432x288 with 1 Axes>"
            ]
          },
          "metadata": {
            "tags": [],
            "needs_background": "light"
          }
        }
      ]
    },
    {
      "cell_type": "markdown",
      "metadata": {
        "id": "BCiWrUgAh-yb"
      },
      "source": [
        "### Displaying the coefficients as DataFrame"
      ]
    },
    {
      "cell_type": "code",
      "metadata": {
        "colab": {
          "base_uri": "https://localhost:8080/",
          "height": 80
        },
        "id": "LiPWQOlPeQFT",
        "outputId": "763ab8ff-1496-4a00-84ac-07ceae1ff5c6"
      },
      "source": [
        "coef = num_lm.coef_.tolist()\n",
        "params = train_x.columns.to_list()\n",
        "coef_df = pd.DataFrame(coef, params, columns=['Coefficient'])\n",
        "#coef_df['Parameter'] = train_x.columns.to_list()\n",
        "coef_df"
      ],
      "execution_count": null,
      "outputs": [
        {
          "output_type": "execute_result",
          "data": {
            "text/html": [
              "<div>\n",
              "<style scoped>\n",
              "    .dataframe tbody tr th:only-of-type {\n",
              "        vertical-align: middle;\n",
              "    }\n",
              "\n",
              "    .dataframe tbody tr th {\n",
              "        vertical-align: top;\n",
              "    }\n",
              "\n",
              "    .dataframe thead th {\n",
              "        text-align: right;\n",
              "    }\n",
              "</style>\n",
              "<table border=\"1\" class=\"dataframe\">\n",
              "  <thead>\n",
              "    <tr style=\"text-align: right;\">\n",
              "      <th></th>\n",
              "      <th>Coefficient</th>\n",
              "    </tr>\n",
              "  </thead>\n",
              "  <tbody>\n",
              "    <tr>\n",
              "      <th>A</th>\n",
              "      <td>1.001877</td>\n",
              "    </tr>\n",
              "  </tbody>\n",
              "</table>\n",
              "</div>"
            ],
            "text/plain": [
              "   Coefficient\n",
              "A     1.001877"
            ]
          },
          "metadata": {
            "tags": []
          },
          "execution_count": 153
        }
      ]
    },
    {
      "cell_type": "markdown",
      "metadata": {
        "id": "vYICgPpEvZZC"
      },
      "source": [
        "# 25/05/2021"
      ]
    },
    {
      "cell_type": "markdown",
      "metadata": {
        "id": "qYJpYd0ibqBP"
      },
      "source": [
        "## **Importing Required Models**"
      ]
    },
    {
      "cell_type": "code",
      "metadata": {
        "id": "lY0ygvDdb37N"
      },
      "source": [
        "import pandas as pd\n",
        "import numpy as np\n",
        "import matplotlib.pyplot as plt\n",
        "import seaborn as sns"
      ],
      "execution_count": 2,
      "outputs": []
    },
    {
      "cell_type": "markdown",
      "metadata": {
        "id": "CR4j4XpDbLVL"
      },
      "source": [
        "## SUPERVISED LEARNING"
      ]
    },
    {
      "cell_type": "markdown",
      "metadata": {
        "id": "fCP1-BHPbc0n"
      },
      "source": [
        "### LINEAR REGRESSION"
      ]
    },
    {
      "cell_type": "code",
      "metadata": {
        "id": "RYG5Clt6cXAA"
      },
      "source": [
        ""
      ],
      "execution_count": null,
      "outputs": []
    }
  ]
}