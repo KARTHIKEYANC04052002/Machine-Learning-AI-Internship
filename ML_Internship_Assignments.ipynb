{
  "nbformat": 4,
  "nbformat_minor": 0,
  "metadata": {
    "kernelspec": {
      "display_name": "Python 3",
      "language": "python",
      "name": "python3"
    },
    "language_info": {
      "codemirror_mode": {
        "name": "ipython",
        "version": 3
      },
      "file_extension": ".py",
      "mimetype": "text/x-python",
      "name": "python",
      "nbconvert_exporter": "python",
      "pygments_lexer": "ipython3",
      "version": "3.8.5"
    },
    "colab": {
      "name": "ML Internship Assignments.ipynb",
      "provenance": [],
      "collapsed_sections": [],
      "include_colab_link": true
    }
  },
  "cells": [
    {
      "cell_type": "markdown",
      "metadata": {
        "id": "view-in-github",
        "colab_type": "text"
      },
      "source": [
        "<a href=\"https://colab.research.google.com/github/KARTHIKEYANC04052002/Machine-Learning-AI-Internship/blob/main/ML_Internship_Assignments.ipynb\" target=\"_parent\"><img src=\"https://colab.research.google.com/assets/colab-badge.svg\" alt=\"Open In Colab\"/></a>"
      ]
    },
    {
      "cell_type": "markdown",
      "metadata": {
        "id": "ng3nGc1RlWJM"
      },
      "source": [
        " # 12/05/2021"
      ]
    },
    {
      "cell_type": "markdown",
      "metadata": {
        "id": "dViMV1k9mgpF"
      },
      "source": [
        " ## ASSIGNMENT - 1 (Creating and Displaying DataSet - Using Pandas DataFrame)"
      ]
    },
    {
      "cell_type": "markdown",
      "metadata": {
        "id": "ifiG3f4fUZXj"
      },
      "source": [
        "### Importing the required modules"
      ]
    },
    {
      "cell_type": "code",
      "metadata": {
        "id": "dGN4BUOGUZX0"
      },
      "source": [
        "import pandas as pd"
      ],
      "execution_count": 1,
      "outputs": []
    },
    {
      "cell_type": "markdown",
      "metadata": {
        "id": "DIUX2K6yUZX9"
      },
      "source": [
        "### Reading and converting the CSV File \"YoutubeData\" to DataFrame"
      ]
    },
    {
      "cell_type": "code",
      "metadata": {
        "id": "x8EJHmF3UZYB"
      },
      "source": [
        "comments_df = pd.read_csv('https://raw.githubusercontent.com/KARTHIKEYANC04052002/Machine-Learning-AI-Internship/main/YoutubeData.csv')"
      ],
      "execution_count": 2,
      "outputs": []
    },
    {
      "cell_type": "markdown",
      "metadata": {
        "id": "OV0lkkwPUZYD"
      },
      "source": [
        "### Displaying the contents in the  DataFrame"
      ]
    },
    {
      "cell_type": "code",
      "metadata": {
        "id": "SzCqktavUZYH",
        "colab": {
          "base_uri": "https://localhost:8080/",
          "height": 391
        },
        "outputId": "e80ee430-11fa-4d89-b6f6-a77c6e3290cf"
      },
      "source": [
        "comments_df"
      ],
      "execution_count": 3,
      "outputs": [
        {
          "output_type": "execute_result",
          "data": {
            "text/html": [
              "<div>\n",
              "<style scoped>\n",
              "    .dataframe tbody tr th:only-of-type {\n",
              "        vertical-align: middle;\n",
              "    }\n",
              "\n",
              "    .dataframe tbody tr th {\n",
              "        vertical-align: top;\n",
              "    }\n",
              "\n",
              "    .dataframe thead th {\n",
              "        text-align: right;\n",
              "    }\n",
              "</style>\n",
              "<table border=\"1\" class=\"dataframe\">\n",
              "  <thead>\n",
              "    <tr style=\"text-align: right;\">\n",
              "      <th></th>\n",
              "      <th>Unnamed: 0</th>\n",
              "      <th>cid</th>\n",
              "      <th>text</th>\n",
              "      <th>time</th>\n",
              "      <th>author</th>\n",
              "      <th>channel</th>\n",
              "      <th>votes</th>\n",
              "      <th>photo</th>\n",
              "      <th>heart</th>\n",
              "    </tr>\n",
              "  </thead>\n",
              "  <tbody>\n",
              "    <tr>\n",
              "      <th>0</th>\n",
              "      <td>0</td>\n",
              "      <td>Ugwq3XDRkg38pLrTHCB4AaABAg</td>\n",
              "      <td>Super song</td>\n",
              "      <td>9 hours ago</td>\n",
              "      <td>Sanjay Y</td>\n",
              "      <td>UCgHON47L-TZOPNcKHUk7e3g</td>\n",
              "      <td>0</td>\n",
              "      <td>https://yt3.ggpht.com/ytc/AAUvwnj34mM6i9oQOnvV...</td>\n",
              "      <td>False</td>\n",
              "    </tr>\n",
              "    <tr>\n",
              "      <th>1</th>\n",
              "      <td>1</td>\n",
              "      <td>UgzERL9HcsZoFbB8Qld4AaABAg</td>\n",
              "      <td>Semma bgm helavi voice tha best</td>\n",
              "      <td>9 hours ago</td>\n",
              "      <td>Sanjay Y</td>\n",
              "      <td>UCgHON47L-TZOPNcKHUk7e3g</td>\n",
              "      <td>0</td>\n",
              "      <td>https://yt3.ggpht.com/ytc/AAUvwnj34mM6i9oQOnvV...</td>\n",
              "      <td>False</td>\n",
              "    </tr>\n",
              "    <tr>\n",
              "      <th>2</th>\n",
              "      <td>2</td>\n",
              "      <td>UgzuOi1-cZfrAFtccIt4AaABAg</td>\n",
              "      <td>Nalla irrukku</td>\n",
              "      <td>9 hours ago</td>\n",
              "      <td>Sanjay Y</td>\n",
              "      <td>UCgHON47L-TZOPNcKHUk7e3g</td>\n",
              "      <td>0</td>\n",
              "      <td>https://yt3.ggpht.com/ytc/AAUvwnj34mM6i9oQOnvV...</td>\n",
              "      <td>False</td>\n",
              "    </tr>\n",
              "    <tr>\n",
              "      <th>3</th>\n",
              "      <td>3</td>\n",
              "      <td>UgzCc9DFQUC2jFsB3Od4AaABAg</td>\n",
              "      <td>Heart touching yaa</td>\n",
              "      <td>9 hours ago</td>\n",
              "      <td>Sanjay Y</td>\n",
              "      <td>UCgHON47L-TZOPNcKHUk7e3g</td>\n",
              "      <td>0</td>\n",
              "      <td>https://yt3.ggpht.com/ytc/AAUvwnj34mM6i9oQOnvV...</td>\n",
              "      <td>False</td>\n",
              "    </tr>\n",
              "    <tr>\n",
              "      <th>4</th>\n",
              "      <td>4</td>\n",
              "      <td>Ugzc7aMh6-Tr_49Ub2x4AaABAg</td>\n",
              "      <td>Intha helavi voicesum music best</td>\n",
              "      <td>9 hours ago</td>\n",
              "      <td>Sanjay Y</td>\n",
              "      <td>UCgHON47L-TZOPNcKHUk7e3g</td>\n",
              "      <td>0</td>\n",
              "      <td>https://yt3.ggpht.com/ytc/AAUvwnj34mM6i9oQOnvV...</td>\n",
              "      <td>False</td>\n",
              "    </tr>\n",
              "    <tr>\n",
              "      <th>...</th>\n",
              "      <td>...</td>\n",
              "      <td>...</td>\n",
              "      <td>...</td>\n",
              "      <td>...</td>\n",
              "      <td>...</td>\n",
              "      <td>...</td>\n",
              "      <td>...</td>\n",
              "      <td>...</td>\n",
              "      <td>...</td>\n",
              "    </tr>\n",
              "    <tr>\n",
              "      <th>1288</th>\n",
              "      <td>1288</td>\n",
              "      <td>UgzBPAZQKUjpTbycA214AaABAg</td>\n",
              "      <td>Waiting  50M views</td>\n",
              "      <td>2 weeks ago</td>\n",
              "      <td>fazmir rock</td>\n",
              "      <td>UCOIp_cpn1c2lKrzp3-GZzhw</td>\n",
              "      <td>3</td>\n",
              "      <td>https://yt3.ggpht.com/ytc/AAUvwnifo1OwWE4ohj_o...</td>\n",
              "      <td>False</td>\n",
              "    </tr>\n",
              "    <tr>\n",
              "      <th>1289</th>\n",
              "      <td>1289</td>\n",
              "      <td>UgwY8cZU0IzFDGjvgcN4AaABAg</td>\n",
              "      <td>Super</td>\n",
              "      <td>2 weeks ago</td>\n",
              "      <td>Murugan Murugan</td>\n",
              "      <td>UChHwa457AHmxeyyBsrQLLhQ</td>\n",
              "      <td>0</td>\n",
              "      <td>https://yt3.ggpht.com/ytc/AAUvwnj63GbQHHqGWS_I...</td>\n",
              "      <td>False</td>\n",
              "    </tr>\n",
              "    <tr>\n",
              "      <th>1290</th>\n",
              "      <td>1290</td>\n",
              "      <td>Ugw6rI8bC3Fs6_r-_o54AaABAg</td>\n",
              "      <td>Super song</td>\n",
              "      <td>2 weeks ago</td>\n",
              "      <td>Ggghgg Tgggh</td>\n",
              "      <td>UC7lxZ82P2H0eSK07hbSaXlQ</td>\n",
              "      <td>0</td>\n",
              "      <td>https://yt3.ggpht.com/ytc/AAUvwngSJc_uD5DW3qxX...</td>\n",
              "      <td>False</td>\n",
              "    </tr>\n",
              "    <tr>\n",
              "      <th>1291</th>\n",
              "      <td>1291</td>\n",
              "      <td>Ugyrv16QwJ2pZy0lTPl4AaABAg</td>\n",
              "      <td>கர்ணன் 🔪🔪🔪</td>\n",
              "      <td>2 weeks ago</td>\n",
              "      <td>ancy Bala ancy Bala</td>\n",
              "      <td>UCmnF5_JYWq5cHDNxxcXQDBA</td>\n",
              "      <td>1</td>\n",
              "      <td>https://yt3.ggpht.com/ytc/AAUvwnivcs57_elV4nK5...</td>\n",
              "      <td>False</td>\n",
              "    </tr>\n",
              "    <tr>\n",
              "      <th>1292</th>\n",
              "      <td>1292</td>\n",
              "      <td>UgzrUJSsiJDoN7pYxp94AaABAg</td>\n",
              "      <td>supr.supr.sog</td>\n",
              "      <td>2 weeks ago</td>\n",
              "      <td>Gopi Nathan</td>\n",
              "      <td>UCjw3TQaK7d8eL8p4FCBPOPg</td>\n",
              "      <td>0</td>\n",
              "      <td>https://yt3.ggpht.com/ytc/AAUvwnhwexW07EqpBBTT...</td>\n",
              "      <td>False</td>\n",
              "    </tr>\n",
              "  </tbody>\n",
              "</table>\n",
              "<p>1293 rows × 9 columns</p>\n",
              "</div>"
            ],
            "text/plain": [
              "      Unnamed: 0  ...  heart\n",
              "0              0  ...  False\n",
              "1              1  ...  False\n",
              "2              2  ...  False\n",
              "3              3  ...  False\n",
              "4              4  ...  False\n",
              "...          ...  ...    ...\n",
              "1288        1288  ...  False\n",
              "1289        1289  ...  False\n",
              "1290        1290  ...  False\n",
              "1291        1291  ...  False\n",
              "1292        1292  ...  False\n",
              "\n",
              "[1293 rows x 9 columns]"
            ]
          },
          "metadata": {
            "tags": []
          },
          "execution_count": 3
        }
      ]
    },
    {
      "cell_type": "markdown",
      "metadata": {
        "id": "FXWgsQN9UZYU"
      },
      "source": [
        "# 13/05/2021"
      ]
    },
    {
      "cell_type": "markdown",
      "metadata": {
        "id": "RwLADa85mZcq"
      },
      "source": [
        "## ASSIGNMENT - 1 (Create a Nested Dictionary)"
      ]
    },
    {
      "cell_type": "markdown",
      "metadata": {
        "id": "lSJIh8GGohpG"
      },
      "source": [
        "### Creating a Dictionary"
      ]
    },
    {
      "cell_type": "code",
      "metadata": {
        "id": "Ypbi8XMAovyk",
        "colab": {
          "base_uri": "https://localhost:8080/"
        },
        "outputId": "4936e03d-53eb-4add-de5d-8d95c740bcd2"
      },
      "source": [
        "MyCourse_dict = dict({'name':'Karthikeyan C','age':19, 'mail':'karthikeyan.c@sece.ac.in', 'course':'Machine Learning / AI', 'duration':'15 days'})\n",
        "MyCourse_dict"
      ],
      "execution_count": 4,
      "outputs": [
        {
          "output_type": "execute_result",
          "data": {
            "text/plain": [
              "{'age': 19,\n",
              " 'course': 'Machine Learning / AI',\n",
              " 'duration': '15 days',\n",
              " 'mail': 'karthikeyan.c@sece.ac.in',\n",
              " 'name': 'Karthikeyan C'}"
            ]
          },
          "metadata": {
            "tags": []
          },
          "execution_count": 4
        }
      ]
    },
    {
      "cell_type": "markdown",
      "metadata": {
        "id": "ElOxy_E1pkAT"
      },
      "source": [
        "### Creating a Nested Dictionary"
      ]
    },
    {
      "cell_type": "code",
      "metadata": {
        "id": "wYDJjTMfptSj",
        "colab": {
          "base_uri": "https://localhost:8080/"
        },
        "outputId": "f583b2a2-7902-40a2-8c9c-bb7ea174f532"
      },
      "source": [
        "AllCourse_dict = dict({1:{'name':'Karthikeyan C','age':19, 'mail':'karthikeyan.c@sece.ac.in', 'course':'Machine Learning / AI', 'duration':'15 days'},\n",
        "                       2:{'name':'Hariboobaalan P N','age':19, 'mail':'hariboobaalan.p.n@sece.ac.in', 'course':'Machine Learning / AI', 'duration':'15 days'},\n",
        "                       3:{'name':'Danush P S','age':19, 'mail':'danush.p.s@sece.ac.in', 'course':'Web Development', 'duration':'15 days'},\n",
        "                       4:{'name':'Praveen Babu R','age':19, 'mail':'praveenbabu.rcse@sece.ac.in', 'course':'Web Development', 'duration':'15 days'},\n",
        "                      })\n",
        "AllCourse_dict"
      ],
      "execution_count": 5,
      "outputs": [
        {
          "output_type": "execute_result",
          "data": {
            "text/plain": [
              "{1: {'age': 19,\n",
              "  'course': 'Machine Learning / AI',\n",
              "  'duration': '15 days',\n",
              "  'mail': 'karthikeyan.c@sece.ac.in',\n",
              "  'name': 'Karthikeyan C'},\n",
              " 2: {'age': 19,\n",
              "  'course': 'Machine Learning / AI',\n",
              "  'duration': '15 days',\n",
              "  'mail': 'hariboobaalan.p.n@sece.ac.in',\n",
              "  'name': 'Hariboobaalan P N'},\n",
              " 3: {'age': 19,\n",
              "  'course': 'Web Development',\n",
              "  'duration': '15 days',\n",
              "  'mail': 'danush.p.s@sece.ac.in',\n",
              "  'name': 'Danush P S'},\n",
              " 4: {'age': 19,\n",
              "  'course': 'Web Development',\n",
              "  'duration': '15 days',\n",
              "  'mail': 'praveenbabu.rcse@sece.ac.in',\n",
              "  'name': 'Praveen Babu R'}}"
            ]
          },
          "metadata": {
            "tags": []
          },
          "execution_count": 5
        }
      ]
    },
    {
      "cell_type": "markdown",
      "metadata": {
        "id": "Ujk3eHPknFCq"
      },
      "source": [
        "## ASSIGNMENT - 2 (Create and Display DataFrame and visualize the dataset using matplotlib / seaborn)"
      ]
    },
    {
      "cell_type": "markdown",
      "metadata": {
        "id": "lecvEBZupiII"
      },
      "source": [
        "### Importing the required Modules"
      ]
    },
    {
      "cell_type": "code",
      "metadata": {
        "id": "8BYLth8ynVor"
      },
      "source": [
        "import pandas as pd\n",
        "import matplotlib.pyplot as plt"
      ],
      "execution_count": 6,
      "outputs": []
    },
    {
      "cell_type": "markdown",
      "metadata": {
        "id": "XkGg5Z_3rhdl"
      },
      "source": [
        "### Creating a DataFrame from the \"Emoji_Sentiment_Data\" Dataset"
      ]
    },
    {
      "cell_type": "code",
      "metadata": {
        "id": "leYb9ZtMryQM",
        "colab": {
          "base_uri": "https://localhost:8080/",
          "height": 391
        },
        "outputId": "244d788f-10b6-4f01-cc69-fc7532e80eb1"
      },
      "source": [
        "emoji_sentiments_df = pd.read_csv('https://raw.githubusercontent.com/KARTHIKEYANC04052002/Machine-Learning-AI-Internship/main/Emoji_Sentiment_Data.csv')\n",
        "emoji_sentiments_df"
      ],
      "execution_count": 7,
      "outputs": [
        {
          "output_type": "execute_result",
          "data": {
            "text/html": [
              "<div>\n",
              "<style scoped>\n",
              "    .dataframe tbody tr th:only-of-type {\n",
              "        vertical-align: middle;\n",
              "    }\n",
              "\n",
              "    .dataframe tbody tr th {\n",
              "        vertical-align: top;\n",
              "    }\n",
              "\n",
              "    .dataframe thead th {\n",
              "        text-align: right;\n",
              "    }\n",
              "</style>\n",
              "<table border=\"1\" class=\"dataframe\">\n",
              "  <thead>\n",
              "    <tr style=\"text-align: right;\">\n",
              "      <th></th>\n",
              "      <th>Emoji</th>\n",
              "      <th>Unicode codepoint</th>\n",
              "      <th>Occurrences</th>\n",
              "      <th>Position</th>\n",
              "      <th>Negative</th>\n",
              "      <th>Neutral</th>\n",
              "      <th>Positive</th>\n",
              "      <th>Unicode name</th>\n",
              "      <th>Unicode block</th>\n",
              "    </tr>\n",
              "  </thead>\n",
              "  <tbody>\n",
              "    <tr>\n",
              "      <th>0</th>\n",
              "      <td>😂</td>\n",
              "      <td>0x1f602</td>\n",
              "      <td>14622</td>\n",
              "      <td>0.805101</td>\n",
              "      <td>3614</td>\n",
              "      <td>4163</td>\n",
              "      <td>6845</td>\n",
              "      <td>FACE WITH TEARS OF JOY</td>\n",
              "      <td>Emoticons</td>\n",
              "    </tr>\n",
              "    <tr>\n",
              "      <th>1</th>\n",
              "      <td>❤</td>\n",
              "      <td>0x2764</td>\n",
              "      <td>8050</td>\n",
              "      <td>0.746943</td>\n",
              "      <td>355</td>\n",
              "      <td>1334</td>\n",
              "      <td>6361</td>\n",
              "      <td>HEAVY BLACK HEART</td>\n",
              "      <td>Dingbats</td>\n",
              "    </tr>\n",
              "    <tr>\n",
              "      <th>2</th>\n",
              "      <td>♥</td>\n",
              "      <td>0x2665</td>\n",
              "      <td>7144</td>\n",
              "      <td>0.753806</td>\n",
              "      <td>252</td>\n",
              "      <td>1942</td>\n",
              "      <td>4950</td>\n",
              "      <td>BLACK HEART SUIT</td>\n",
              "      <td>Miscellaneous Symbols</td>\n",
              "    </tr>\n",
              "    <tr>\n",
              "      <th>3</th>\n",
              "      <td>😍</td>\n",
              "      <td>0x1f60d</td>\n",
              "      <td>6359</td>\n",
              "      <td>0.765292</td>\n",
              "      <td>329</td>\n",
              "      <td>1390</td>\n",
              "      <td>4640</td>\n",
              "      <td>SMILING FACE WITH HEART-SHAPED EYES</td>\n",
              "      <td>Emoticons</td>\n",
              "    </tr>\n",
              "    <tr>\n",
              "      <th>4</th>\n",
              "      <td>😭</td>\n",
              "      <td>0x1f62d</td>\n",
              "      <td>5526</td>\n",
              "      <td>0.803352</td>\n",
              "      <td>2412</td>\n",
              "      <td>1218</td>\n",
              "      <td>1896</td>\n",
              "      <td>LOUDLY CRYING FACE</td>\n",
              "      <td>Emoticons</td>\n",
              "    </tr>\n",
              "    <tr>\n",
              "      <th>...</th>\n",
              "      <td>...</td>\n",
              "      <td>...</td>\n",
              "      <td>...</td>\n",
              "      <td>...</td>\n",
              "      <td>...</td>\n",
              "      <td>...</td>\n",
              "      <td>...</td>\n",
              "      <td>...</td>\n",
              "      <td>...</td>\n",
              "    </tr>\n",
              "    <tr>\n",
              "      <th>964</th>\n",
              "      <td>➛</td>\n",
              "      <td>0x279b</td>\n",
              "      <td>1</td>\n",
              "      <td>0.011628</td>\n",
              "      <td>0</td>\n",
              "      <td>1</td>\n",
              "      <td>0</td>\n",
              "      <td>DRAFTING POINT RIGHTWARDS ARROW</td>\n",
              "      <td>Dingbats</td>\n",
              "    </tr>\n",
              "    <tr>\n",
              "      <th>965</th>\n",
              "      <td>♝</td>\n",
              "      <td>0x265d</td>\n",
              "      <td>1</td>\n",
              "      <td>0.280000</td>\n",
              "      <td>0</td>\n",
              "      <td>1</td>\n",
              "      <td>0</td>\n",
              "      <td>BLACK CHESS BISHOP</td>\n",
              "      <td>Miscellaneous Symbols</td>\n",
              "    </tr>\n",
              "    <tr>\n",
              "      <th>966</th>\n",
              "      <td>❋</td>\n",
              "      <td>0x274b</td>\n",
              "      <td>1</td>\n",
              "      <td>0.888889</td>\n",
              "      <td>0</td>\n",
              "      <td>1</td>\n",
              "      <td>0</td>\n",
              "      <td>HEAVY EIGHT TEARDROP-SPOKED PROPELLER ASTERISK</td>\n",
              "      <td>Dingbats</td>\n",
              "    </tr>\n",
              "    <tr>\n",
              "      <th>967</th>\n",
              "      <td>✆</td>\n",
              "      <td>0x2706</td>\n",
              "      <td>1</td>\n",
              "      <td>0.557252</td>\n",
              "      <td>0</td>\n",
              "      <td>1</td>\n",
              "      <td>0</td>\n",
              "      <td>TELEPHONE LOCATION SIGN</td>\n",
              "      <td>Dingbats</td>\n",
              "    </tr>\n",
              "    <tr>\n",
              "      <th>968</th>\n",
              "      <td>📔</td>\n",
              "      <td>0x1f4d4</td>\n",
              "      <td>1</td>\n",
              "      <td>0.814815</td>\n",
              "      <td>0</td>\n",
              "      <td>0</td>\n",
              "      <td>1</td>\n",
              "      <td>NOTEBOOK WITH DECORATIVE COVER</td>\n",
              "      <td>Miscellaneous Symbols and Pictographs</td>\n",
              "    </tr>\n",
              "  </tbody>\n",
              "</table>\n",
              "<p>969 rows × 9 columns</p>\n",
              "</div>"
            ],
            "text/plain": [
              "    Emoji  ...                          Unicode block\n",
              "0       😂  ...                              Emoticons\n",
              "1       ❤  ...                               Dingbats\n",
              "2       ♥  ...                  Miscellaneous Symbols\n",
              "3       😍  ...                              Emoticons\n",
              "4       😭  ...                              Emoticons\n",
              "..    ...  ...                                    ...\n",
              "964     ➛  ...                               Dingbats\n",
              "965     ♝  ...                  Miscellaneous Symbols\n",
              "966     ❋  ...                               Dingbats\n",
              "967     ✆  ...                               Dingbats\n",
              "968     📔  ...  Miscellaneous Symbols and Pictographs\n",
              "\n",
              "[969 rows x 9 columns]"
            ]
          },
          "metadata": {
            "tags": []
          },
          "execution_count": 7
        }
      ]
    },
    {
      "cell_type": "markdown",
      "metadata": {
        "id": "8wmnlLpor4_t"
      },
      "source": [
        "### Visualizing the Emoji_Sentiments DataFrame"
      ]
    },
    {
      "cell_type": "code",
      "metadata": {
        "id": "I1lpoNlAs73a",
        "colab": {
          "base_uri": "https://localhost:8080/",
          "height": 511
        },
        "outputId": "80510811-5c71-4a5e-9679-5e34c5229e50"
      },
      "source": [
        "plt.xticks(rotation='vertical')\n",
        "plt.plot(emoji_sentiments_df['Unicode name'][:20], emoji_sentiments_df['Positive'][:20], marker='*', color='green')\n",
        "plt.plot(emoji_sentiments_df['Unicode name'][:20], emoji_sentiments_df['Neutral'][:20], marker='.', color='blue')\n",
        "plt.plot(emoji_sentiments_df['Unicode name'][:20], emoji_sentiments_df['Negative'][:20], marker='d', color='red')\n",
        "plt.legend(['Positive', 'Neutral', 'Negative'])"
      ],
      "execution_count": 8,
      "outputs": [
        {
          "output_type": "execute_result",
          "data": {
            "text/plain": [
              "<matplotlib.legend.Legend at 0x7fdbcd522490>"
            ]
          },
          "metadata": {
            "tags": []
          },
          "execution_count": 8
        },
        {
          "output_type": "display_data",
          "data": {
            "image/png": "[encoded data removed]",
            "text/plain": [
              "<Figure size 432x288 with 1 Axes>"
            ]
          },
          "metadata": {
            "tags": [],
            "needs_background": "light"
          }
        }
      ]
    },
    {
      "cell_type": "markdown",
      "metadata": {
        "id": "O1XIcSZCTbNJ"
      },
      "source": [
        "# 14/05/2021"
      ]
    },
    {
      "cell_type": "markdown",
      "metadata": {
        "id": "XKYvWad0TfCE"
      },
      "source": [
        "## ASSIGNMENT - 1 (Multiplication Table Using While Loop)"
      ]
    },
    {
      "cell_type": "markdown",
      "metadata": {
        "id": "Zv1Ff1s7hT-P"
      },
      "source": [
        "### Printing First 10 Multiples of Numbers from 1 to 10"
      ]
    },
    {
      "cell_type": "code",
      "metadata": {
        "id": "38zmZEJZTj-y",
        "colab": {
          "base_uri": "https://localhost:8080/"
        },
        "outputId": "b6738191-1c8a-45a9-e629-db97412104a3"
      },
      "source": [
        "i = 1\n",
        "while i <= 10:\n",
        "  j = 1\n",
        "  print('Multiplication Table for {}'.format(i))\n",
        "  while j <= 10:\n",
        "    print(\"{} * {} = {}\".format(i, j, i * j))\n",
        "    j += 1\n",
        "  i += 1\n",
        "  print()"
      ],
      "execution_count": 9,
      "outputs": [
        {
          "output_type": "stream",
          "text": [
            "Multiplication Table for 1\n",
            "1 * 1 = 1\n",
            "1 * 2 = 2\n",
            "1 * 3 = 3\n",
            "1 * 4 = 4\n",
            "1 * 5 = 5\n",
            "1 * 6 = 6\n",
            "1 * 7 = 7\n",
            "1 * 8 = 8\n",
            "1 * 9 = 9\n",
            "1 * 10 = 10\n",
            "\n",
            "Multiplication Table for 2\n",
            "2 * 1 = 2\n",
            "2 * 2 = 4\n",
            "2 * 3 = 6\n",
            "2 * 4 = 8\n",
            "2 * 5 = 10\n",
            "2 * 6 = 12\n",
            "2 * 7 = 14\n",
            "2 * 8 = 16\n",
            "2 * 9 = 18\n",
            "2 * 10 = 20\n",
            "\n",
            "Multiplication Table for 3\n",
            "3 * 1 = 3\n",
            "3 * 2 = 6\n",
            "3 * 3 = 9\n",
            "3 * 4 = 12\n",
            "3 * 5 = 15\n",
            "3 * 6 = 18\n",
            "3 * 7 = 21\n",
            "3 * 8 = 24\n",
            "3 * 9 = 27\n",
            "3 * 10 = 30\n",
            "\n",
            "Multiplication Table for 4\n",
            "4 * 1 = 4\n",
            "4 * 2 = 8\n",
            "4 * 3 = 12\n",
            "4 * 4 = 16\n",
            "4 * 5 = 20\n",
            "4 * 6 = 24\n",
            "4 * 7 = 28\n",
            "4 * 8 = 32\n",
            "4 * 9 = 36\n",
            "4 * 10 = 40\n",
            "\n",
            "Multiplication Table for 5\n",
            "5 * 1 = 5\n",
            "5 * 2 = 10\n",
            "5 * 3 = 15\n",
            "5 * 4 = 20\n",
            "5 * 5 = 25\n",
            "5 * 6 = 30\n",
            "5 * 7 = 35\n",
            "5 * 8 = 40\n",
            "5 * 9 = 45\n",
            "5 * 10 = 50\n",
            "\n",
            "Multiplication Table for 6\n",
            "6 * 1 = 6\n",
            "6 * 2 = 12\n",
            "6 * 3 = 18\n",
            "6 * 4 = 24\n",
            "6 * 5 = 30\n",
            "6 * 6 = 36\n",
            "6 * 7 = 42\n",
            "6 * 8 = 48\n",
            "6 * 9 = 54\n",
            "6 * 10 = 60\n",
            "\n",
            "Multiplication Table for 7\n",
            "7 * 1 = 7\n",
            "7 * 2 = 14\n",
            "7 * 3 = 21\n",
            "7 * 4 = 28\n",
            "7 * 5 = 35\n",
            "7 * 6 = 42\n",
            "7 * 7 = 49\n",
            "7 * 8 = 56\n",
            "7 * 9 = 63\n",
            "7 * 10 = 70\n",
            "\n",
            "Multiplication Table for 8\n",
            "8 * 1 = 8\n",
            "8 * 2 = 16\n",
            "8 * 3 = 24\n",
            "8 * 4 = 32\n",
            "8 * 5 = 40\n",
            "8 * 6 = 48\n",
            "8 * 7 = 56\n",
            "8 * 8 = 64\n",
            "8 * 9 = 72\n",
            "8 * 10 = 80\n",
            "\n",
            "Multiplication Table for 9\n",
            "9 * 1 = 9\n",
            "9 * 2 = 18\n",
            "9 * 3 = 27\n",
            "9 * 4 = 36\n",
            "9 * 5 = 45\n",
            "9 * 6 = 54\n",
            "9 * 7 = 63\n",
            "9 * 8 = 72\n",
            "9 * 9 = 81\n",
            "9 * 10 = 90\n",
            "\n",
            "Multiplication Table for 10\n",
            "10 * 1 = 10\n",
            "10 * 2 = 20\n",
            "10 * 3 = 30\n",
            "10 * 4 = 40\n",
            "10 * 5 = 50\n",
            "10 * 6 = 60\n",
            "10 * 7 = 70\n",
            "10 * 8 = 80\n",
            "10 * 9 = 90\n",
            "10 * 10 = 100\n",
            "\n"
          ],
          "name": "stdout"
        }
      ]
    },
    {
      "cell_type": "markdown",
      "metadata": {
        "id": "3jQpPARFjhlj"
      },
      "source": [
        "### Multiplication Table from 1 to 10 in Table Format"
      ]
    },
    {
      "cell_type": "code",
      "metadata": {
        "id": "eLI-uTM4gXYN",
        "colab": {
          "base_uri": "https://localhost:8080/"
        },
        "outputId": "f538c57a-2228-4907-fc7a-dc0c83795b78"
      },
      "source": [
        "i = 1\n",
        "print('   |', *map(lambda  x: str(x * i).rjust(2), range(1, 11)))\n",
        "print(*'_'*35,sep='')\n",
        "while i <= 10:\n",
        "  print(str(i).rjust(2), '|', *map(lambda  x: str(x * i).rjust(2), range(1, 11)))\n",
        "  i += 1"
      ],
      "execution_count": 10,
      "outputs": [
        {
          "output_type": "stream",
          "text": [
            "   |  1  2  3  4  5  6  7  8  9 10\n",
            "___________________________________\n",
            " 1 |  1  2  3  4  5  6  7  8  9 10\n",
            " 2 |  2  4  6  8 10 12 14 16 18 20\n",
            " 3 |  3  6  9 12 15 18 21 24 27 30\n",
            " 4 |  4  8 12 16 20 24 28 32 36 40\n",
            " 5 |  5 10 15 20 25 30 35 40 45 50\n",
            " 6 |  6 12 18 24 30 36 42 48 54 60\n",
            " 7 |  7 14 21 28 35 42 49 56 63 70\n",
            " 8 |  8 16 24 32 40 48 56 64 72 80\n",
            " 9 |  9 18 27 36 45 54 63 72 81 90\n",
            "10 | 10 20 30 40 50 60 70 80 90 100\n"
          ],
          "name": "stdout"
        }
      ]
    },
    {
      "cell_type": "markdown",
      "metadata": {
        "id": "FMw8tVI7o7bQ"
      },
      "source": [
        "# 17/05/2021"
      ]
    },
    {
      "cell_type": "markdown",
      "metadata": {
        "id": "Am7Rjg_lzliE"
      },
      "source": [
        "## ASSIGNMENT - 1 (Pattern Printing Using For Loop)"
      ]
    },
    {
      "cell_type": "markdown",
      "metadata": {
        "id": "xOQFkIW_zosi"
      },
      "source": [
        "### Star Pattern (Incremental - Right Angled Triangle)"
      ]
    },
    {
      "cell_type": "code",
      "metadata": {
        "id": "RxYt3XvTCpG-",
        "colab": {
          "base_uri": "https://localhost:8080/"
        },
        "outputId": "e8633b7b-2f2e-45f6-d6cc-ed003f65b6cc"
      },
      "source": [
        "# [print('*' * i) for i in range(5)]\n",
        "N = int(input(\"Enter a number:\"))\n",
        "for i in range(N):\n",
        "  for j in range(i + 1):\n",
        "    print('*', end = '')\n",
        "  print()"
      ],
      "execution_count": 11,
      "outputs": [
        {
          "output_type": "stream",
          "text": [
            "Enter a number:5\n",
            "*\n",
            "**\n",
            "***\n",
            "****\n",
            "*****\n"
          ],
          "name": "stdout"
        }
      ]
    },
    {
      "cell_type": "markdown",
      "metadata": {
        "id": "sxZXcE0lC7ed"
      },
      "source": [
        "### Star Pattern (Decremental - Right Angled Triangle)"
      ]
    },
    {
      "cell_type": "code",
      "metadata": {
        "id": "_Kjy4ZGnCu-x",
        "colab": {
          "base_uri": "https://localhost:8080/"
        },
        "outputId": "e8b8089e-3397-4e05-bea0-704438963be1"
      },
      "source": [
        "# [print('*' * i) for i in range(5,-1,-1)]\n",
        "N = int(input(\"Enter a number:\"))\n",
        "for i in range(N):\n",
        "  for j in range(N - i):\n",
        "    print('*', end = '')\n",
        "  print()"
      ],
      "execution_count": 12,
      "outputs": [
        {
          "output_type": "stream",
          "text": [
            "Enter a number:5\n",
            "*****\n",
            "****\n",
            "***\n",
            "**\n",
            "*\n"
          ],
          "name": "stdout"
        }
      ]
    },
    {
      "cell_type": "markdown",
      "metadata": {
        "id": "np3_lmZ3DD7t"
      },
      "source": [
        "### String Pattern"
      ]
    },
    {
      "cell_type": "code",
      "metadata": {
        "id": "ZypXKr8GDYsM",
        "colab": {
          "base_uri": "https://localhost:8080/"
        },
        "outputId": "9df16597-9f73-4b6e-a7ee-6771922d8b64"
      },
      "source": [
        "# (lambda S : [print(S[:i]) for i in range(1, len(S) + 1)])(input(\"Enter the String:\").strip())\n",
        "S = input(\"Enter the String:\").strip() #python\n",
        "l = len(S)\n",
        "for i in range(l):\n",
        "  print(S[:i + 1])"
      ],
      "execution_count": 13,
      "outputs": [
        {
          "output_type": "stream",
          "text": [
            "Enter the String:python\n",
            "p\n",
            "py\n",
            "pyt\n",
            "pyth\n",
            "pytho\n",
            "python\n"
          ],
          "name": "stdout"
        }
      ]
    },
    {
      "cell_type": "markdown",
      "metadata": {
        "id": "zWIJNgCoJLm-"
      },
      "source": [
        "## ASSIGNMENT - 2 (Number Counter)"
      ]
    },
    {
      "cell_type": "markdown",
      "metadata": {
        "id": "2A-bj_TjDNsp"
      },
      "source": [
        "### Number Counter Using For Loop"
      ]
    },
    {
      "cell_type": "code",
      "metadata": {
        "id": "dsQ3x2w-DXCP",
        "colab": {
          "base_uri": "https://localhost:8080/"
        },
        "outputId": "ac3cc432-2066-4544-d54b-bb42e10bb85f"
      },
      "source": [
        "# print(*range(10), sep='\\n')\n",
        "N = int(input(\"Enter a number:\"))\n",
        "for i in range(N):\n",
        "  print(i)"
      ],
      "execution_count": 14,
      "outputs": [
        {
          "output_type": "stream",
          "text": [
            "Enter a number:10\n",
            "0\n",
            "1\n",
            "2\n",
            "3\n",
            "4\n",
            "5\n",
            "6\n",
            "7\n",
            "8\n",
            "9\n"
          ],
          "name": "stdout"
        }
      ]
    },
    {
      "cell_type": "markdown",
      "metadata": {
        "id": "Gjya3fdzGpZv"
      },
      "source": [
        "## ASSIGNMENT - 3 (Random Guess Game)"
      ]
    },
    {
      "cell_type": "markdown",
      "metadata": {
        "id": "fe8iwg26D0rG"
      },
      "source": [
        "### Random Guess Game (random module)"
      ]
    },
    {
      "cell_type": "code",
      "metadata": {
        "id": "vMf4TzudEF0x",
        "colab": {
          "base_uri": "https://localhost:8080/"
        },
        "outputId": "d73d3edd-633d-42f1-bf89-8292c6306fce"
      },
      "source": [
        "import random\n",
        "print(\"Guess the number, Number lies between 1 - 10\\nPress 'B' to exit\")\n",
        "while True:\n",
        "  num = random.randint(1, 10)\n",
        "  ui = input()\n",
        "  if ui == 'B': break\n",
        "  elif ui.isdigit():\n",
        "    if num == int(ui): print(\"Hurray! You're Right!\"); break\n",
        "    else: print(\"Oh! You're Wrong the number is\", num)\n",
        "  else: print('Invalid Character')"
      ],
      "execution_count": 15,
      "outputs": [
        {
          "output_type": "stream",
          "text": [
            "Guess the number, Number lies between 1 - 10\n",
            "Press 'B' to exit\n",
            "1\n",
            "Oh! You're Wrong the number is 6\n",
            "2\n",
            "Oh! You're Wrong the number is 7\n",
            "3\n",
            "Oh! You're Wrong the number is 1\n",
            "4\n",
            "Oh! You're Wrong the number is 2\n",
            "5\n",
            "Oh! You're Wrong the number is 4\n",
            "6\n",
            "Oh! You're Wrong the number is 3\n",
            "7\n",
            "Oh! You're Wrong the number is 10\n",
            "8\n",
            "Oh! You're Wrong the number is 7\n",
            "9\n",
            "Oh! You're Wrong the number is 4\n",
            "B\n"
          ],
          "name": "stdout"
        }
      ]
    },
    {
      "cell_type": "markdown",
      "metadata": {
        "id": "u6-AJL3dEgep"
      },
      "source": [
        "# 18/05/2021"
      ]
    },
    {
      "cell_type": "markdown",
      "metadata": {
        "id": "Kpbd5apGCrx8"
      },
      "source": [
        "## ASSIGNMENT - 1 (Limitation for number of arguments in a function)"
      ]
    },
    {
      "cell_type": "markdown",
      "metadata": {
        "id": "cvN8O6hoVIOJ"
      },
      "source": [
        "### Limitation for number of arguments in a function (Maximum possible arguments in Python)"
      ]
    },
    {
      "cell_type": "markdown",
      "metadata": {
        "id": "-D7rQq4hUUEe"
      },
      "source": [
        "- In Python 3.6 and earlier there is a limit of 255 arguments in Cpython.\n",
        "- In Python 3.7 and later versions there is no limit for number of arguments. (But depends on System Memory)"
      ]
    },
    {
      "cell_type": "markdown",
      "metadata": {
        "id": "zX9PYV3vU1OB"
      },
      "source": [
        "### Function to demonstrate variable number of arguments using '*' operator"
      ]
    },
    {
      "cell_type": "code",
      "metadata": {
        "id": "WZJJck5yVDpm"
      },
      "source": [
        "def function(*args):\n",
        "  for i in args: print(i, end = ' ')"
      ],
      "execution_count": 16,
      "outputs": []
    },
    {
      "cell_type": "code",
      "metadata": {
        "id": "GPFovdAwVn_C",
        "colab": {
          "base_uri": "https://localhost:8080/"
        },
        "outputId": "f2414276-023a-4e66-df98-f1da1652ee6f"
      },
      "source": [
        "function(*range(100))"
      ],
      "execution_count": 17,
      "outputs": [
        {
          "output_type": "stream",
          "text": [
            "0 1 2 3 4 5 6 7 8 9 10 11 12 13 14 15 16 17 18 19 20 21 22 23 24 25 26 27 28 29 30 31 32 33 34 35 36 37 38 39 40 41 42 43 44 45 46 47 48 49 50 51 52 53 54 55 56 57 58 59 60 61 62 63 64 65 66 67 68 69 70 71 72 73 74 75 76 77 78 79 80 81 82 83 84 85 86 87 88 89 90 91 92 93 94 95 96 97 98 99 "
          ],
          "name": "stdout"
        }
      ]
    },
    {
      "cell_type": "markdown",
      "metadata": {
        "id": "AG135XHOVqn2"
      },
      "source": [
        "### Function to demonstrate variable number of keyword arguments using '**' operator"
      ]
    },
    {
      "cell_type": "code",
      "metadata": {
        "id": "c844w_ZWV-jJ"
      },
      "source": [
        "def function2(**kwargs):\n",
        "  for key in kwargs: print(key, ':', kwargs[key])"
      ],
      "execution_count": 18,
      "outputs": []
    },
    {
      "cell_type": "code",
      "metadata": {
        "id": "GMAl0jOQWLsG",
        "colab": {
          "base_uri": "https://localhost:8080/"
        },
        "outputId": "efdcace7-d67d-460a-c0f2-23912d279e87"
      },
      "source": [
        "function2(python = \"Python\", java = \"Java\", c = \"C\")"
      ],
      "execution_count": 19,
      "outputs": [
        {
          "output_type": "stream",
          "text": [
            "python : Python\n",
            "java : Java\n",
            "c : C\n"
          ],
          "name": "stdout"
        }
      ]
    },
    {
      "cell_type": "markdown",
      "metadata": {
        "id": "5wmZMa-hWPjV"
      },
      "source": [
        "## ASSIGNMENT - 2 (Functions)"
      ]
    },
    {
      "cell_type": "markdown",
      "metadata": {
        "id": "guD_8w-HXRIe"
      },
      "source": [
        "### Function to find Maximum of three numbers"
      ]
    },
    {
      "cell_type": "code",
      "metadata": {
        "id": "fnQ79C9FXZmd"
      },
      "source": [
        "def maxThree(a, b, c):\n",
        "  return a if a > b and a > c else b if b > c else c"
      ],
      "execution_count": 20,
      "outputs": []
    },
    {
      "cell_type": "code",
      "metadata": {
        "id": "avnUPOzoXwar",
        "colab": {
          "base_uri": "https://localhost:8080/"
        },
        "outputId": "9e352d87-a214-4086-cc12-8b93030a0bbe"
      },
      "source": [
        "maxThree(5, 7, 4)"
      ],
      "execution_count": 21,
      "outputs": [
        {
          "output_type": "execute_result",
          "data": {
            "text/plain": [
              "7"
            ]
          },
          "metadata": {
            "tags": []
          },
          "execution_count": 21
        }
      ]
    },
    {
      "cell_type": "markdown",
      "metadata": {
        "id": "hoteisYYXzwO"
      },
      "source": [
        "### Function to find Minimum of three numbers"
      ]
    },
    {
      "cell_type": "code",
      "metadata": {
        "id": "mE3_28brYj5N"
      },
      "source": [
        "def minThree(a, b, c):\n",
        "  return a if a < b and a < c else b if b < c else c"
      ],
      "execution_count": 22,
      "outputs": []
    },
    {
      "cell_type": "code",
      "metadata": {
        "id": "SrTou3HIYrpf",
        "colab": {
          "base_uri": "https://localhost:8080/"
        },
        "outputId": "a18cea3a-6c70-4f39-86cd-529a15fbe7f7"
      },
      "source": [
        "minThree(7, 6, 5)"
      ],
      "execution_count": 23,
      "outputs": [
        {
          "output_type": "execute_result",
          "data": {
            "text/plain": [
              "5"
            ]
          },
          "metadata": {
            "tags": []
          },
          "execution_count": 23
        }
      ]
    },
    {
      "cell_type": "markdown",
      "metadata": {
        "id": "S2fI13vhYuK2"
      },
      "source": [
        "### Function to find sum of N Numbers"
      ]
    },
    {
      "cell_type": "code",
      "metadata": {
        "id": "hoiSI0hHZng8"
      },
      "source": [
        "def Sum(*args):\n",
        "  Sum = 0\n",
        "  for i in args: Sum += i\n",
        "  return Sum"
      ],
      "execution_count": 24,
      "outputs": []
    },
    {
      "cell_type": "code",
      "metadata": {
        "id": "VjJscuevZ73G",
        "colab": {
          "base_uri": "https://localhost:8080/"
        },
        "outputId": "8fe67a03-985d-4f79-853a-a4d1dc9adba0"
      },
      "source": [
        "Sum(10, 20, 30)"
      ],
      "execution_count": 25,
      "outputs": [
        {
          "output_type": "execute_result",
          "data": {
            "text/plain": [
              "60"
            ]
          },
          "metadata": {
            "tags": []
          },
          "execution_count": 25
        }
      ]
    },
    {
      "cell_type": "markdown",
      "metadata": {
        "id": "C3K2De7baBRn"
      },
      "source": [
        "### Function to find product of N Numbers"
      ]
    },
    {
      "cell_type": "code",
      "metadata": {
        "id": "DYFOvmLLax1L"
      },
      "source": [
        "def Product(*args):\n",
        "  Product = 1\n",
        "  for i in args: Product *= i\n",
        "  return Product"
      ],
      "execution_count": 26,
      "outputs": []
    },
    {
      "cell_type": "code",
      "metadata": {
        "id": "1_4_ZFbCbIwe",
        "colab": {
          "base_uri": "https://localhost:8080/"
        },
        "outputId": "5018fd0e-e7c4-4209-d805-de87ba07f7cb"
      },
      "source": [
        "Product(10, 20, 30)"
      ],
      "execution_count": 27,
      "outputs": [
        {
          "output_type": "execute_result",
          "data": {
            "text/plain": [
              "6000"
            ]
          },
          "metadata": {
            "tags": []
          },
          "execution_count": 27
        }
      ]
    },
    {
      "cell_type": "markdown",
      "metadata": {
        "id": "igKFhfridDpU"
      },
      "source": [
        "### Function to find difference between two numbers (Subtraction)"
      ]
    },
    {
      "cell_type": "code",
      "metadata": {
        "id": "I3306doddRVE"
      },
      "source": [
        "def sub(a, b):\n",
        "  return a - b"
      ],
      "execution_count": 28,
      "outputs": []
    },
    {
      "cell_type": "code",
      "metadata": {
        "id": "K43Arle8dY92",
        "colab": {
          "base_uri": "https://localhost:8080/"
        },
        "outputId": "f20f8562-69c0-40a1-8bea-50a66fd0cecb"
      },
      "source": [
        "sub(10, 5)"
      ],
      "execution_count": 29,
      "outputs": [
        {
          "output_type": "execute_result",
          "data": {
            "text/plain": [
              "5"
            ]
          },
          "metadata": {
            "tags": []
          },
          "execution_count": 29
        }
      ]
    },
    {
      "cell_type": "markdown",
      "metadata": {
        "id": "MnW4YCWUdbCl"
      },
      "source": [
        "# 19/05/2021"
      ]
    },
    {
      "cell_type": "markdown",
      "metadata": {
        "id": "Gmacw__qNF0Y"
      },
      "source": [
        "## ASSIGNMENT - 1 (Experimenting Linear Regression)"
      ]
    },
    {
      "cell_type": "markdown",
      "metadata": {
        "id": "8fTlzpP9omji"
      },
      "source": [
        "### Importing Required Modules"
      ]
    },
    {
      "cell_type": "code",
      "metadata": {
        "id": "yB-53tHUSxF5"
      },
      "source": [
        "import pandas as pd\n",
        "import numpy as np\n",
        "from sklearn.model_selection import train_test_split\n",
        "from sklearn.linear_model import LinearRegression\n",
        "import matplotlib.pyplot as plt\n",
        "import seaborn as sns"
      ],
      "execution_count": 30,
      "outputs": []
    },
    {
      "cell_type": "markdown",
      "metadata": {
        "id": "oaEqHIyror16"
      },
      "source": [
        "### Loading the DataSet (US_House_Prices_DataSet)"
      ]
    },
    {
      "cell_type": "code",
      "metadata": {
        "id": "eyJxo1mXYVSX",
        "colab": {
          "base_uri": "https://localhost:8080/",
          "height": 411
        },
        "outputId": "44f509ea-95f2-45df-aa0f-75bed5da8b8e"
      },
      "source": [
        "house_df = pd.read_csv(\"https://raw.githubusercontent.com/KARTHIKEYANC04052002/Machine-Learning-AI-Internship/main/HousePrice.csv\")\n",
        "house_df"
      ],
      "execution_count": 31,
      "outputs": [
        {
          "output_type": "execute_result",
          "data": {
            "text/html": [
              "<div>\n",
              "<style scoped>\n",
              "    .dataframe tbody tr th:only-of-type {\n",
              "        vertical-align: middle;\n",
              "    }\n",
              "\n",
              "    .dataframe tbody tr th {\n",
              "        vertical-align: top;\n",
              "    }\n",
              "\n",
              "    .dataframe thead th {\n",
              "        text-align: right;\n",
              "    }\n",
              "</style>\n",
              "<table border=\"1\" class=\"dataframe\">\n",
              "  <thead>\n",
              "    <tr style=\"text-align: right;\">\n",
              "      <th></th>\n",
              "      <th>id</th>\n",
              "      <th>date</th>\n",
              "      <th>price</th>\n",
              "      <th>bedrooms</th>\n",
              "      <th>bathrooms</th>\n",
              "      <th>sqft_living</th>\n",
              "      <th>sqft_lot</th>\n",
              "      <th>floors</th>\n",
              "      <th>waterfront</th>\n",
              "      <th>view</th>\n",
              "      <th>condition</th>\n",
              "      <th>grade</th>\n",
              "      <th>sqft_above</th>\n",
              "      <th>sqft_basement</th>\n",
              "      <th>yr_built</th>\n",
              "      <th>yr_renovated</th>\n",
              "      <th>zipcode</th>\n",
              "      <th>lat</th>\n",
              "      <th>long</th>\n",
              "      <th>sqft_living15</th>\n",
              "      <th>sqft_lot15</th>\n",
              "    </tr>\n",
              "  </thead>\n",
              "  <tbody>\n",
              "    <tr>\n",
              "      <th>0</th>\n",
              "      <td>7129300520</td>\n",
              "      <td>20141013T000000</td>\n",
              "      <td>221900</td>\n",
              "      <td>3</td>\n",
              "      <td>1.00</td>\n",
              "      <td>1180</td>\n",
              "      <td>5650</td>\n",
              "      <td>1.0</td>\n",
              "      <td>0</td>\n",
              "      <td>0</td>\n",
              "      <td>3</td>\n",
              "      <td>7</td>\n",
              "      <td>1180</td>\n",
              "      <td>0</td>\n",
              "      <td>1955</td>\n",
              "      <td>0</td>\n",
              "      <td>98178</td>\n",
              "      <td>47.5112</td>\n",
              "      <td>-122.257</td>\n",
              "      <td>1340</td>\n",
              "      <td>5650</td>\n",
              "    </tr>\n",
              "    <tr>\n",
              "      <th>1</th>\n",
              "      <td>6414100192</td>\n",
              "      <td>20141209T000000</td>\n",
              "      <td>538000</td>\n",
              "      <td>3</td>\n",
              "      <td>2.25</td>\n",
              "      <td>2570</td>\n",
              "      <td>7242</td>\n",
              "      <td>2.0</td>\n",
              "      <td>0</td>\n",
              "      <td>0</td>\n",
              "      <td>3</td>\n",
              "      <td>7</td>\n",
              "      <td>2170</td>\n",
              "      <td>400</td>\n",
              "      <td>1951</td>\n",
              "      <td>1991</td>\n",
              "      <td>98125</td>\n",
              "      <td>47.7210</td>\n",
              "      <td>-122.319</td>\n",
              "      <td>1690</td>\n",
              "      <td>7639</td>\n",
              "    </tr>\n",
              "    <tr>\n",
              "      <th>2</th>\n",
              "      <td>5631500400</td>\n",
              "      <td>20150225T000000</td>\n",
              "      <td>180000</td>\n",
              "      <td>2</td>\n",
              "      <td>1.00</td>\n",
              "      <td>770</td>\n",
              "      <td>10000</td>\n",
              "      <td>1.0</td>\n",
              "      <td>0</td>\n",
              "      <td>0</td>\n",
              "      <td>3</td>\n",
              "      <td>6</td>\n",
              "      <td>770</td>\n",
              "      <td>0</td>\n",
              "      <td>1933</td>\n",
              "      <td>0</td>\n",
              "      <td>98028</td>\n",
              "      <td>47.7379</td>\n",
              "      <td>-122.233</td>\n",
              "      <td>2720</td>\n",
              "      <td>8062</td>\n",
              "    </tr>\n",
              "    <tr>\n",
              "      <th>3</th>\n",
              "      <td>2487200875</td>\n",
              "      <td>20141209T000000</td>\n",
              "      <td>604000</td>\n",
              "      <td>4</td>\n",
              "      <td>3.00</td>\n",
              "      <td>1960</td>\n",
              "      <td>5000</td>\n",
              "      <td>1.0</td>\n",
              "      <td>0</td>\n",
              "      <td>0</td>\n",
              "      <td>5</td>\n",
              "      <td>7</td>\n",
              "      <td>1050</td>\n",
              "      <td>910</td>\n",
              "      <td>1965</td>\n",
              "      <td>0</td>\n",
              "      <td>98136</td>\n",
              "      <td>47.5208</td>\n",
              "      <td>-122.393</td>\n",
              "      <td>1360</td>\n",
              "      <td>5000</td>\n",
              "    </tr>\n",
              "    <tr>\n",
              "      <th>4</th>\n",
              "      <td>1954400510</td>\n",
              "      <td>20150218T000000</td>\n",
              "      <td>510000</td>\n",
              "      <td>3</td>\n",
              "      <td>2.00</td>\n",
              "      <td>1680</td>\n",
              "      <td>8080</td>\n",
              "      <td>1.0</td>\n",
              "      <td>0</td>\n",
              "      <td>0</td>\n",
              "      <td>3</td>\n",
              "      <td>8</td>\n",
              "      <td>1680</td>\n",
              "      <td>0</td>\n",
              "      <td>1987</td>\n",
              "      <td>0</td>\n",
              "      <td>98074</td>\n",
              "      <td>47.6168</td>\n",
              "      <td>-122.045</td>\n",
              "      <td>1800</td>\n",
              "      <td>7503</td>\n",
              "    </tr>\n",
              "    <tr>\n",
              "      <th>...</th>\n",
              "      <td>...</td>\n",
              "      <td>...</td>\n",
              "      <td>...</td>\n",
              "      <td>...</td>\n",
              "      <td>...</td>\n",
              "      <td>...</td>\n",
              "      <td>...</td>\n",
              "      <td>...</td>\n",
              "      <td>...</td>\n",
              "      <td>...</td>\n",
              "      <td>...</td>\n",
              "      <td>...</td>\n",
              "      <td>...</td>\n",
              "      <td>...</td>\n",
              "      <td>...</td>\n",
              "      <td>...</td>\n",
              "      <td>...</td>\n",
              "      <td>...</td>\n",
              "      <td>...</td>\n",
              "      <td>...</td>\n",
              "      <td>...</td>\n",
              "    </tr>\n",
              "    <tr>\n",
              "      <th>21608</th>\n",
              "      <td>263000018</td>\n",
              "      <td>20140521T000000</td>\n",
              "      <td>360000</td>\n",
              "      <td>3</td>\n",
              "      <td>2.50</td>\n",
              "      <td>1530</td>\n",
              "      <td>1131</td>\n",
              "      <td>3.0</td>\n",
              "      <td>0</td>\n",
              "      <td>0</td>\n",
              "      <td>3</td>\n",
              "      <td>8</td>\n",
              "      <td>1530</td>\n",
              "      <td>0</td>\n",
              "      <td>2009</td>\n",
              "      <td>0</td>\n",
              "      <td>98103</td>\n",
              "      <td>47.6993</td>\n",
              "      <td>-122.346</td>\n",
              "      <td>1530</td>\n",
              "      <td>1509</td>\n",
              "    </tr>\n",
              "    <tr>\n",
              "      <th>21609</th>\n",
              "      <td>6600060120</td>\n",
              "      <td>20150223T000000</td>\n",
              "      <td>400000</td>\n",
              "      <td>4</td>\n",
              "      <td>2.50</td>\n",
              "      <td>2310</td>\n",
              "      <td>5813</td>\n",
              "      <td>2.0</td>\n",
              "      <td>0</td>\n",
              "      <td>0</td>\n",
              "      <td>3</td>\n",
              "      <td>8</td>\n",
              "      <td>2310</td>\n",
              "      <td>0</td>\n",
              "      <td>2014</td>\n",
              "      <td>0</td>\n",
              "      <td>98146</td>\n",
              "      <td>47.5107</td>\n",
              "      <td>-122.362</td>\n",
              "      <td>1830</td>\n",
              "      <td>7200</td>\n",
              "    </tr>\n",
              "    <tr>\n",
              "      <th>21610</th>\n",
              "      <td>1523300141</td>\n",
              "      <td>20140623T000000</td>\n",
              "      <td>402101</td>\n",
              "      <td>2</td>\n",
              "      <td>0.75</td>\n",
              "      <td>1020</td>\n",
              "      <td>1350</td>\n",
              "      <td>2.0</td>\n",
              "      <td>0</td>\n",
              "      <td>0</td>\n",
              "      <td>3</td>\n",
              "      <td>7</td>\n",
              "      <td>1020</td>\n",
              "      <td>0</td>\n",
              "      <td>2009</td>\n",
              "      <td>0</td>\n",
              "      <td>98144</td>\n",
              "      <td>47.5944</td>\n",
              "      <td>-122.299</td>\n",
              "      <td>1020</td>\n",
              "      <td>2007</td>\n",
              "    </tr>\n",
              "    <tr>\n",
              "      <th>21611</th>\n",
              "      <td>291310100</td>\n",
              "      <td>20150116T000000</td>\n",
              "      <td>400000</td>\n",
              "      <td>3</td>\n",
              "      <td>2.50</td>\n",
              "      <td>1600</td>\n",
              "      <td>2388</td>\n",
              "      <td>2.0</td>\n",
              "      <td>0</td>\n",
              "      <td>0</td>\n",
              "      <td>3</td>\n",
              "      <td>8</td>\n",
              "      <td>1600</td>\n",
              "      <td>0</td>\n",
              "      <td>2004</td>\n",
              "      <td>0</td>\n",
              "      <td>98027</td>\n",
              "      <td>47.5345</td>\n",
              "      <td>-122.069</td>\n",
              "      <td>1410</td>\n",
              "      <td>1287</td>\n",
              "    </tr>\n",
              "    <tr>\n",
              "      <th>21612</th>\n",
              "      <td>1523300157</td>\n",
              "      <td>20141015T000000</td>\n",
              "      <td>325000</td>\n",
              "      <td>2</td>\n",
              "      <td>0.75</td>\n",
              "      <td>1020</td>\n",
              "      <td>1076</td>\n",
              "      <td>2.0</td>\n",
              "      <td>0</td>\n",
              "      <td>0</td>\n",
              "      <td>3</td>\n",
              "      <td>7</td>\n",
              "      <td>1020</td>\n",
              "      <td>0</td>\n",
              "      <td>2008</td>\n",
              "      <td>0</td>\n",
              "      <td>98144</td>\n",
              "      <td>47.5941</td>\n",
              "      <td>-122.299</td>\n",
              "      <td>1020</td>\n",
              "      <td>1357</td>\n",
              "    </tr>\n",
              "  </tbody>\n",
              "</table>\n",
              "<p>21613 rows × 21 columns</p>\n",
              "</div>"
            ],
            "text/plain": [
              "               id             date   price  ...     long  sqft_living15  sqft_lot15\n",
              "0      7129300520  20141013T000000  221900  ... -122.257           1340        5650\n",
              "1      6414100192  20141209T000000  538000  ... -122.319           1690        7639\n",
              "2      5631500400  20150225T000000  180000  ... -122.233           2720        8062\n",
              "3      2487200875  20141209T000000  604000  ... -122.393           1360        5000\n",
              "4      1954400510  20150218T000000  510000  ... -122.045           1800        7503\n",
              "...           ...              ...     ...  ...      ...            ...         ...\n",
              "21608   263000018  20140521T000000  360000  ... -122.346           1530        1509\n",
              "21609  6600060120  20150223T000000  400000  ... -122.362           1830        7200\n",
              "21610  1523300141  20140623T000000  402101  ... -122.299           1020        2007\n",
              "21611   291310100  20150116T000000  400000  ... -122.069           1410        1287\n",
              "21612  1523300157  20141015T000000  325000  ... -122.299           1020        1357\n",
              "\n",
              "[21613 rows x 21 columns]"
            ]
          },
          "metadata": {
            "tags": []
          },
          "execution_count": 31
        }
      ]
    },
    {
      "cell_type": "code",
      "metadata": {
        "id": "TCrV4RK6dDgb"
      },
      "source": [
        "Columns = ['bedrooms', 'bathrooms', 'sqft_living', 'sqft_lot', 'floors', 'waterfront', 'view', 'condition', 'grade', 'sqft_above', 'sqft_basement', 'yr_built', 'yr_renovated', 'zipcode', 'sqft_living15', 'sqft_lot15']"
      ],
      "execution_count": 32,
      "outputs": []
    },
    {
      "cell_type": "markdown",
      "metadata": {
        "id": "VuPER3TRo7rR"
      },
      "source": [
        "### Splitting the DataSet for Training and Testing"
      ]
    },
    {
      "cell_type": "code",
      "metadata": {
        "id": "CmNKY-vIdCG-"
      },
      "source": [
        "X, Y = house_df[Columns], house_df['price']\n",
        "train_x, test_x, train_y, test_y = train_test_split(X, Y, test_size = 0.3, random_state=1)"
      ],
      "execution_count": 33,
      "outputs": []
    },
    {
      "cell_type": "markdown",
      "metadata": {
        "id": "gKrCUvRKpHwM"
      },
      "source": [
        "### Creating a Simple Linear Regression Model"
      ]
    },
    {
      "cell_type": "code",
      "metadata": {
        "id": "Mxjsq-U-d_Oz"
      },
      "source": [
        "linear_model = LinearRegression()"
      ],
      "execution_count": 34,
      "outputs": []
    },
    {
      "cell_type": "markdown",
      "metadata": {
        "id": "Khgj42b7pOhM"
      },
      "source": [
        "### Fitting the Training data to the model"
      ]
    },
    {
      "cell_type": "code",
      "metadata": {
        "id": "Q8qwqJFmfx9B",
        "colab": {
          "base_uri": "https://localhost:8080/"
        },
        "outputId": "f5ea4bd0-27c0-41cc-b8d0-351842d6d67b"
      },
      "source": [
        "linear_model.fit(train_x, train_y)"
      ],
      "execution_count": 35,
      "outputs": [
        {
          "output_type": "execute_result",
          "data": {
            "text/plain": [
              "LinearRegression(copy_X=True, fit_intercept=True, n_jobs=None, normalize=False)"
            ]
          },
          "metadata": {
            "tags": []
          },
          "execution_count": 35
        }
      ]
    },
    {
      "cell_type": "markdown",
      "metadata": {
        "id": "MDUnFuI1pUy2"
      },
      "source": [
        "### Calculating the score of the model with train and test data"
      ]
    },
    {
      "cell_type": "code",
      "metadata": {
        "id": "uP4rXHefh-8L",
        "colab": {
          "base_uri": "https://localhost:8080/"
        },
        "outputId": "8f7cb190-89e3-4685-b530-41ce166c9ac0"
      },
      "source": [
        "linear_model.score(train_x, train_y), linear_model.score(test_x, test_y)"
      ],
      "execution_count": 36,
      "outputs": [
        {
          "output_type": "execute_result",
          "data": {
            "text/plain": [
              "(0.6527330026778635, 0.6540254504905334)"
            ]
          },
          "metadata": {
            "tags": []
          },
          "execution_count": 36
        }
      ]
    },
    {
      "cell_type": "markdown",
      "metadata": {
        "id": "FlA3JnEpphEk"
      },
      "source": [
        "### Prediction of test_set using the trained model"
      ]
    },
    {
      "cell_type": "code",
      "metadata": {
        "id": "kcGDPiagpq_Z",
        "colab": {
          "base_uri": "https://localhost:8080/"
        },
        "outputId": "0bfeae92-179d-4b90-cbf9-b493e23b41a0"
      },
      "source": [
        "pred_y = linear_model.predict(test_x)\n",
        "pred_y"
      ],
      "execution_count": 37,
      "outputs": [
        {
          "output_type": "execute_result",
          "data": {
            "text/plain": [
              "array([ 726650.51711311,  311372.56596644,  847702.64936282, ...,\n",
              "        365300.12870479, 2104979.66454953,  881522.93134849])"
            ]
          },
          "metadata": {
            "tags": []
          },
          "execution_count": 37
        }
      ]
    },
    {
      "cell_type": "markdown",
      "metadata": {
        "id": "dJGJwOp6qDTU"
      },
      "source": [
        "### Visualizing the Results as DataFrame"
      ]
    },
    {
      "cell_type": "code",
      "metadata": {
        "id": "wlH4DhRogiXf",
        "colab": {
          "base_uri": "https://localhost:8080/",
          "height": 766
        },
        "outputId": "10633530-1d8c-40fc-ff17-670ec71c45c5"
      },
      "source": [
        "Result_df = pd.DataFrame(pred_y, columns=['Predicted'])\n",
        "Result_df['Actual'] = pd.DataFrame(test_y).reset_index()['price']\n",
        "#Result_df['Diff'] = abs(Result_df['Actual'] - Result_df['Predicted'])\n",
        "#Result_df = Result_df.sort_values('Diff').drop('Diff', axis = 1)\n",
        "Result_df.head(25)"
      ],
      "execution_count": 38,
      "outputs": [
        {
          "output_type": "execute_result",
          "data": {
            "text/html": [
              "<div>\n",
              "<style scoped>\n",
              "    .dataframe tbody tr th:only-of-type {\n",
              "        vertical-align: middle;\n",
              "    }\n",
              "\n",
              "    .dataframe tbody tr th {\n",
              "        vertical-align: top;\n",
              "    }\n",
              "\n",
              "    .dataframe thead th {\n",
              "        text-align: right;\n",
              "    }\n",
              "</style>\n",
              "<table border=\"1\" class=\"dataframe\">\n",
              "  <thead>\n",
              "    <tr style=\"text-align: right;\">\n",
              "      <th></th>\n",
              "      <th>Predicted</th>\n",
              "      <th>Actual</th>\n",
              "    </tr>\n",
              "  </thead>\n",
              "  <tbody>\n",
              "    <tr>\n",
              "      <th>0</th>\n",
              "      <td>7.266505e+05</td>\n",
              "      <td>459000</td>\n",
              "    </tr>\n",
              "    <tr>\n",
              "      <th>1</th>\n",
              "      <td>3.113726e+05</td>\n",
              "      <td>445000</td>\n",
              "    </tr>\n",
              "    <tr>\n",
              "      <th>2</th>\n",
              "      <td>8.477026e+05</td>\n",
              "      <td>1057000</td>\n",
              "    </tr>\n",
              "    <tr>\n",
              "      <th>3</th>\n",
              "      <td>6.725155e+05</td>\n",
              "      <td>732350</td>\n",
              "    </tr>\n",
              "    <tr>\n",
              "      <th>4</th>\n",
              "      <td>3.322276e+05</td>\n",
              "      <td>235000</td>\n",
              "    </tr>\n",
              "    <tr>\n",
              "      <th>5</th>\n",
              "      <td>5.863355e+05</td>\n",
              "      <td>555000</td>\n",
              "    </tr>\n",
              "    <tr>\n",
              "      <th>6</th>\n",
              "      <td>5.837205e+05</td>\n",
              "      <td>365000</td>\n",
              "    </tr>\n",
              "    <tr>\n",
              "      <th>7</th>\n",
              "      <td>8.271578e+05</td>\n",
              "      <td>685000</td>\n",
              "    </tr>\n",
              "    <tr>\n",
              "      <th>8</th>\n",
              "      <td>5.201836e+05</td>\n",
              "      <td>525000</td>\n",
              "    </tr>\n",
              "    <tr>\n",
              "      <th>9</th>\n",
              "      <td>6.020439e+05</td>\n",
              "      <td>449950</td>\n",
              "    </tr>\n",
              "    <tr>\n",
              "      <th>10</th>\n",
              "      <td>3.344998e+05</td>\n",
              "      <td>280000</td>\n",
              "    </tr>\n",
              "    <tr>\n",
              "      <th>11</th>\n",
              "      <td>3.542701e+05</td>\n",
              "      <td>428000</td>\n",
              "    </tr>\n",
              "    <tr>\n",
              "      <th>12</th>\n",
              "      <td>5.518380e+05</td>\n",
              "      <td>575000</td>\n",
              "    </tr>\n",
              "    <tr>\n",
              "      <th>13</th>\n",
              "      <td>4.121346e+05</td>\n",
              "      <td>313100</td>\n",
              "    </tr>\n",
              "    <tr>\n",
              "      <th>14</th>\n",
              "      <td>5.370773e+05</td>\n",
              "      <td>637500</td>\n",
              "    </tr>\n",
              "    <tr>\n",
              "      <th>15</th>\n",
              "      <td>8.312710e+05</td>\n",
              "      <td>732000</td>\n",
              "    </tr>\n",
              "    <tr>\n",
              "      <th>16</th>\n",
              "      <td>2.929716e+05</td>\n",
              "      <td>400000</td>\n",
              "    </tr>\n",
              "    <tr>\n",
              "      <th>17</th>\n",
              "      <td>7.908955e+05</td>\n",
              "      <td>829000</td>\n",
              "    </tr>\n",
              "    <tr>\n",
              "      <th>18</th>\n",
              "      <td>3.257958e+05</td>\n",
              "      <td>469500</td>\n",
              "    </tr>\n",
              "    <tr>\n",
              "      <th>19</th>\n",
              "      <td>4.216584e+05</td>\n",
              "      <td>537000</td>\n",
              "    </tr>\n",
              "    <tr>\n",
              "      <th>20</th>\n",
              "      <td>3.479027e+05</td>\n",
              "      <td>224000</td>\n",
              "    </tr>\n",
              "    <tr>\n",
              "      <th>21</th>\n",
              "      <td>4.681581e+05</td>\n",
              "      <td>597500</td>\n",
              "    </tr>\n",
              "    <tr>\n",
              "      <th>22</th>\n",
              "      <td>1.368393e+06</td>\n",
              "      <td>1058997</td>\n",
              "    </tr>\n",
              "    <tr>\n",
              "      <th>23</th>\n",
              "      <td>7.614732e+05</td>\n",
              "      <td>720000</td>\n",
              "    </tr>\n",
              "    <tr>\n",
              "      <th>24</th>\n",
              "      <td>5.149667e+05</td>\n",
              "      <td>569950</td>\n",
              "    </tr>\n",
              "  </tbody>\n",
              "</table>\n",
              "</div>"
            ],
            "text/plain": [
              "       Predicted   Actual\n",
              "0   7.266505e+05   459000\n",
              "1   3.113726e+05   445000\n",
              "2   8.477026e+05  1057000\n",
              "3   6.725155e+05   732350\n",
              "4   3.322276e+05   235000\n",
              "5   5.863355e+05   555000\n",
              "6   5.837205e+05   365000\n",
              "7   8.271578e+05   685000\n",
              "8   5.201836e+05   525000\n",
              "9   6.020439e+05   449950\n",
              "10  3.344998e+05   280000\n",
              "11  3.542701e+05   428000\n",
              "12  5.518380e+05   575000\n",
              "13  4.121346e+05   313100\n",
              "14  5.370773e+05   637500\n",
              "15  8.312710e+05   732000\n",
              "16  2.929716e+05   400000\n",
              "17  7.908955e+05   829000\n",
              "18  3.257958e+05   469500\n",
              "19  4.216584e+05   537000\n",
              "20  3.479027e+05   224000\n",
              "21  4.681581e+05   597500\n",
              "22  1.368393e+06  1058997\n",
              "23  7.614732e+05   720000\n",
              "24  5.149667e+05   569950"
            ]
          },
          "metadata": {
            "tags": []
          },
          "execution_count": 38
        }
      ]
    },
    {
      "cell_type": "markdown",
      "metadata": {
        "id": "2S2ZiN7Kmlnz"
      },
      "source": [
        "### Visualizing the Result as Graph"
      ]
    },
    {
      "cell_type": "code",
      "metadata": {
        "id": "vPT-CessoSTM",
        "colab": {
          "base_uri": "https://localhost:8080/",
          "height": 292
        },
        "outputId": "1deb9db1-f7f0-4639-f4ee-311fc748a379"
      },
      "source": [
        "Result_df_sub = Result_df.head(25)\n",
        "plt.scatter(Result_df_sub.index.values, Result_df_sub['Predicted'], alpha=0.7, color='red')\n",
        "plt.scatter(Result_df_sub.index.values, Result_df_sub['Actual'], alpha=0.3, color='green', s=100)\n",
        "plt.legend(['Predicted', 'Actual'])"
      ],
      "execution_count": 39,
      "outputs": [
        {
          "output_type": "execute_result",
          "data": {
            "text/plain": [
              "<matplotlib.legend.Legend at 0x7fdbbc3a0590>"
            ]
          },
          "metadata": {
            "tags": []
          },
          "execution_count": 39
        },
        {
          "output_type": "display_data",
          "data": {
            "image/png": "[encoded data removed]",
            "text/plain": [
              "<Figure size 432x288 with 1 Axes>"
            ]
          },
          "metadata": {
            "tags": [],
            "needs_background": "light"
          }
        }
      ]
    },
    {
      "cell_type": "markdown",
      "metadata": {
        "id": "Z4TK4FS8iGki"
      },
      "source": [
        "### Displaying the coefficients as DataFrame"
      ]
    },
    {
      "cell_type": "code",
      "metadata": {
        "id": "YVDRGGXEY0q1",
        "colab": {
          "base_uri": "https://localhost:8080/",
          "height": 507
        },
        "outputId": "43898370-afeb-4799-da28-5d07e4387164"
      },
      "source": [
        "coef = linear_model.coef_.tolist()\n",
        "params = train_x.columns.to_list()\n",
        "coef_df = pd.DataFrame(coef, params, columns=['Coefficient'])\n",
        "#coef_df['Parameter'] = train_x.columns.to_list()\n",
        "coef_df"
      ],
      "execution_count": 40,
      "outputs": [
        {
          "output_type": "execute_result",
          "data": {
            "text/html": [
              "<div>\n",
              "<style scoped>\n",
              "    .dataframe tbody tr th:only-of-type {\n",
              "        vertical-align: middle;\n",
              "    }\n",
              "\n",
              "    .dataframe tbody tr th {\n",
              "        vertical-align: top;\n",
              "    }\n",
              "\n",
              "    .dataframe thead th {\n",
              "        text-align: right;\n",
              "    }\n",
              "</style>\n",
              "<table border=\"1\" class=\"dataframe\">\n",
              "  <thead>\n",
              "    <tr style=\"text-align: right;\">\n",
              "      <th></th>\n",
              "      <th>Coefficient</th>\n",
              "    </tr>\n",
              "  </thead>\n",
              "  <tbody>\n",
              "    <tr>\n",
              "      <th>bedrooms</th>\n",
              "      <td>-34674.183446</td>\n",
              "    </tr>\n",
              "    <tr>\n",
              "      <th>bathrooms</th>\n",
              "      <td>42868.683781</td>\n",
              "    </tr>\n",
              "    <tr>\n",
              "      <th>sqft_living</th>\n",
              "      <td>104.275440</td>\n",
              "    </tr>\n",
              "    <tr>\n",
              "      <th>sqft_lot</th>\n",
              "      <td>-0.017056</td>\n",
              "    </tr>\n",
              "    <tr>\n",
              "      <th>floors</th>\n",
              "      <td>29242.684286</td>\n",
              "    </tr>\n",
              "    <tr>\n",
              "      <th>waterfront</th>\n",
              "      <td>564191.491832</td>\n",
              "    </tr>\n",
              "    <tr>\n",
              "      <th>view</th>\n",
              "      <td>41320.425432</td>\n",
              "    </tr>\n",
              "    <tr>\n",
              "      <th>condition</th>\n",
              "      <td>18842.517989</td>\n",
              "    </tr>\n",
              "    <tr>\n",
              "      <th>grade</th>\n",
              "      <td>119000.627634</td>\n",
              "    </tr>\n",
              "    <tr>\n",
              "      <th>sqft_above</th>\n",
              "      <td>49.821388</td>\n",
              "    </tr>\n",
              "    <tr>\n",
              "      <th>sqft_basement</th>\n",
              "      <td>54.454052</td>\n",
              "    </tr>\n",
              "    <tr>\n",
              "      <th>yr_built</th>\n",
              "      <td>-3484.813243</td>\n",
              "    </tr>\n",
              "    <tr>\n",
              "      <th>yr_renovated</th>\n",
              "      <td>13.560567</td>\n",
              "    </tr>\n",
              "    <tr>\n",
              "      <th>zipcode</th>\n",
              "      <td>29.474905</td>\n",
              "    </tr>\n",
              "    <tr>\n",
              "      <th>sqft_living15</th>\n",
              "      <td>24.279773</td>\n",
              "    </tr>\n",
              "    <tr>\n",
              "      <th>sqft_lot15</th>\n",
              "      <td>-0.488209</td>\n",
              "    </tr>\n",
              "  </tbody>\n",
              "</table>\n",
              "</div>"
            ],
            "text/plain": [
              "                 Coefficient\n",
              "bedrooms       -34674.183446\n",
              "bathrooms       42868.683781\n",
              "sqft_living       104.275440\n",
              "sqft_lot           -0.017056\n",
              "floors          29242.684286\n",
              "waterfront     564191.491832\n",
              "view            41320.425432\n",
              "condition       18842.517989\n",
              "grade          119000.627634\n",
              "sqft_above         49.821388\n",
              "sqft_basement      54.454052\n",
              "yr_built        -3484.813243\n",
              "yr_renovated       13.560567\n",
              "zipcode            29.474905\n",
              "sqft_living15      24.279773\n",
              "sqft_lot15         -0.488209"
            ]
          },
          "metadata": {
            "tags": []
          },
          "execution_count": 40
        }
      ]
    },
    {
      "cell_type": "markdown",
      "metadata": {
        "id": "tAnJhnDLiSRL"
      },
      "source": [
        "### Visualizing the coefficients as Graph"
      ]
    },
    {
      "cell_type": "code",
      "metadata": {
        "id": "MS-7mktebhb3",
        "colab": {
          "base_uri": "https://localhost:8080/",
          "height": 345
        },
        "outputId": "48041f1d-e083-4b83-f048-d61dac6ec312"
      },
      "source": [
        "plt.xticks(rotation='vertical')\n",
        "plt.scatter(params, coef_df.Coefficient)"
      ],
      "execution_count": 41,
      "outputs": [
        {
          "output_type": "execute_result",
          "data": {
            "text/plain": [
              "<matplotlib.collections.PathCollection at 0x7fdbcd44d7d0>"
            ]
          },
          "metadata": {
            "tags": []
          },
          "execution_count": 41
        },
        {
          "output_type": "display_data",
          "data": {
            "image/png": "[encoded data removed]",
            "text/plain": [
              "<Figure size 432x288 with 1 Axes>"
            ]
          },
          "metadata": {
            "tags": [],
            "needs_background": "light"
          }
        }
      ]
    },
    {
      "cell_type": "markdown",
      "metadata": {
        "id": "c0JtuLJdoUJ2"
      },
      "source": [
        "# 20/05/2021"
      ]
    },
    {
      "cell_type": "markdown",
      "metadata": {
        "id": "r1WyXQ21YA3f"
      },
      "source": [
        "## ASSIGNMENT - 1 (Example for Linear Regression)"
      ]
    },
    {
      "cell_type": "markdown",
      "metadata": {
        "id": "ORQ05PtPgw_B"
      },
      "source": [
        "### Creating DataFrame"
      ]
    },
    {
      "cell_type": "code",
      "metadata": {
        "id": "tMOrm2M2YMK8",
        "colab": {
          "base_uri": "https://localhost:8080/",
          "height": 391
        },
        "outputId": "45901b11-456f-4ad1-a9a6-022dc5e3deea"
      },
      "source": [
        "num_df = pd.DataFrame({'X': [*range(1000)], 'A':[*map(lambda x: x ** 2, range(1000))], 'B':[*map(lambda x: x * 2, range(1000))], 'C':[*map(lambda x: 2, range(1000))], 'Y':[*map(lambda x: x ** 2 + x * 2 + 2, range(1000))]})\n",
        "num_df"
      ],
      "execution_count": 42,
      "outputs": [
        {
          "output_type": "execute_result",
          "data": {
            "text/html": [
              "<div>\n",
              "<style scoped>\n",
              "    .dataframe tbody tr th:only-of-type {\n",
              "        vertical-align: middle;\n",
              "    }\n",
              "\n",
              "    .dataframe tbody tr th {\n",
              "        vertical-align: top;\n",
              "    }\n",
              "\n",
              "    .dataframe thead th {\n",
              "        text-align: right;\n",
              "    }\n",
              "</style>\n",
              "<table border=\"1\" class=\"dataframe\">\n",
              "  <thead>\n",
              "    <tr style=\"text-align: right;\">\n",
              "      <th></th>\n",
              "      <th>X</th>\n",
              "      <th>A</th>\n",
              "      <th>B</th>\n",
              "      <th>C</th>\n",
              "      <th>Y</th>\n",
              "    </tr>\n",
              "  </thead>\n",
              "  <tbody>\n",
              "    <tr>\n",
              "      <th>0</th>\n",
              "      <td>0</td>\n",
              "      <td>0</td>\n",
              "      <td>0</td>\n",
              "      <td>2</td>\n",
              "      <td>2</td>\n",
              "    </tr>\n",
              "    <tr>\n",
              "      <th>1</th>\n",
              "      <td>1</td>\n",
              "      <td>1</td>\n",
              "      <td>2</td>\n",
              "      <td>2</td>\n",
              "      <td>5</td>\n",
              "    </tr>\n",
              "    <tr>\n",
              "      <th>2</th>\n",
              "      <td>2</td>\n",
              "      <td>4</td>\n",
              "      <td>4</td>\n",
              "      <td>2</td>\n",
              "      <td>10</td>\n",
              "    </tr>\n",
              "    <tr>\n",
              "      <th>3</th>\n",
              "      <td>3</td>\n",
              "      <td>9</td>\n",
              "      <td>6</td>\n",
              "      <td>2</td>\n",
              "      <td>17</td>\n",
              "    </tr>\n",
              "    <tr>\n",
              "      <th>4</th>\n",
              "      <td>4</td>\n",
              "      <td>16</td>\n",
              "      <td>8</td>\n",
              "      <td>2</td>\n",
              "      <td>26</td>\n",
              "    </tr>\n",
              "    <tr>\n",
              "      <th>...</th>\n",
              "      <td>...</td>\n",
              "      <td>...</td>\n",
              "      <td>...</td>\n",
              "      <td>...</td>\n",
              "      <td>...</td>\n",
              "    </tr>\n",
              "    <tr>\n",
              "      <th>995</th>\n",
              "      <td>995</td>\n",
              "      <td>990025</td>\n",
              "      <td>1990</td>\n",
              "      <td>2</td>\n",
              "      <td>992017</td>\n",
              "    </tr>\n",
              "    <tr>\n",
              "      <th>996</th>\n",
              "      <td>996</td>\n",
              "      <td>992016</td>\n",
              "      <td>1992</td>\n",
              "      <td>2</td>\n",
              "      <td>994010</td>\n",
              "    </tr>\n",
              "    <tr>\n",
              "      <th>997</th>\n",
              "      <td>997</td>\n",
              "      <td>994009</td>\n",
              "      <td>1994</td>\n",
              "      <td>2</td>\n",
              "      <td>996005</td>\n",
              "    </tr>\n",
              "    <tr>\n",
              "      <th>998</th>\n",
              "      <td>998</td>\n",
              "      <td>996004</td>\n",
              "      <td>1996</td>\n",
              "      <td>2</td>\n",
              "      <td>998002</td>\n",
              "    </tr>\n",
              "    <tr>\n",
              "      <th>999</th>\n",
              "      <td>999</td>\n",
              "      <td>998001</td>\n",
              "      <td>1998</td>\n",
              "      <td>2</td>\n",
              "      <td>1000001</td>\n",
              "    </tr>\n",
              "  </tbody>\n",
              "</table>\n",
              "<p>1000 rows × 5 columns</p>\n",
              "</div>"
            ],
            "text/plain": [
              "       X       A     B  C        Y\n",
              "0      0       0     0  2        2\n",
              "1      1       1     2  2        5\n",
              "2      2       4     4  2       10\n",
              "3      3       9     6  2       17\n",
              "4      4      16     8  2       26\n",
              "..   ...     ...   ... ..      ...\n",
              "995  995  990025  1990  2   992017\n",
              "996  996  992016  1992  2   994010\n",
              "997  997  994009  1994  2   996005\n",
              "998  998  996004  1996  2   998002\n",
              "999  999  998001  1998  2  1000001\n",
              "\n",
              "[1000 rows x 5 columns]"
            ]
          },
          "metadata": {
            "tags": []
          },
          "execution_count": 42
        }
      ]
    },
    {
      "cell_type": "markdown",
      "metadata": {
        "id": "aSgktRwkg6Nc"
      },
      "source": [
        "### Creating a Linear Regression Model"
      ]
    },
    {
      "cell_type": "code",
      "metadata": {
        "id": "z654BW9RdGbd"
      },
      "source": [
        "num_lm = LinearRegression()"
      ],
      "execution_count": 43,
      "outputs": []
    },
    {
      "cell_type": "markdown",
      "metadata": {
        "id": "HLMnB7VWg_PQ"
      },
      "source": [
        "### Splitting the DataSet for Training and Testing"
      ]
    },
    {
      "cell_type": "code",
      "metadata": {
        "id": "Ga6e5NtLdM-j"
      },
      "source": [
        "X, Y = num_df[['A']], num_df['Y']\n",
        "train_x, test_x, train_y, test_y = train_test_split(X, Y, test_size = 0.3, random_state=1)"
      ],
      "execution_count": 44,
      "outputs": []
    },
    {
      "cell_type": "markdown",
      "metadata": {
        "id": "vzselQvVhQTA"
      },
      "source": [
        "### Fitting the Training data to the model"
      ]
    },
    {
      "cell_type": "code",
      "metadata": {
        "id": "MbBhpiHidjDy",
        "colab": {
          "base_uri": "https://localhost:8080/"
        },
        "outputId": "1c623905-3825-4598-d37d-d3c33372a72e"
      },
      "source": [
        "num_lm.fit(train_x, train_y)"
      ],
      "execution_count": 45,
      "outputs": [
        {
          "output_type": "execute_result",
          "data": {
            "text/plain": [
              "LinearRegression(copy_X=True, fit_intercept=True, n_jobs=None, normalize=False)"
            ]
          },
          "metadata": {
            "tags": []
          },
          "execution_count": 45
        }
      ]
    },
    {
      "cell_type": "markdown",
      "metadata": {
        "id": "d6IetNZlhV-o"
      },
      "source": [
        "### Calculating the Score of the model with Train and Test Data"
      ]
    },
    {
      "cell_type": "code",
      "metadata": {
        "id": "FeveIzkAdnmL",
        "colab": {
          "base_uri": "https://localhost:8080/"
        },
        "outputId": "b4f01934-b0fb-46a8-e56b-42ad336f18a9"
      },
      "source": [
        "num_lm.score(train_x, train_y), num_lm.score(test_x, test_y)"
      ],
      "execution_count": 46,
      "outputs": [
        {
          "output_type": "execute_result",
          "data": {
            "text/plain": [
              "(0.9999997708802538, 0.9999997534930267)"
            ]
          },
          "metadata": {
            "tags": []
          },
          "execution_count": 46
        }
      ]
    },
    {
      "cell_type": "markdown",
      "metadata": {
        "id": "erp--Qg_hlv9"
      },
      "source": [
        "### Predicting the test_set using trained model"
      ]
    },
    {
      "cell_type": "code",
      "metadata": {
        "id": "Ukl2T7Jfd8R_",
        "colab": {
          "base_uri": "https://localhost:8080/"
        },
        "outputId": "f00ed28e-5c93-4955-d02c-835bff4ccb8b"
      },
      "source": [
        "pred_y = num_lm.predict(test_x)\n",
        "pred_y"
      ],
      "execution_count": 47,
      "outputs": [
        {
          "output_type": "execute_result",
          "data": {
            "text/plain": [
              "array([2.57908581e+05, 6.70757008e+05, 2.05064584e+05, 1.36055303e+05,\n",
              "       5.90510435e+04, 8.65037972e+05, 6.91499627e+04, 6.57708563e+05,\n",
              "       1.01690925e+05, 2.78263072e+03, 1.99666471e+05, 2.05789702e+04,\n",
              "       9.39159832e+05, 1.19625523e+05, 9.44987750e+05, 1.80993249e+04,\n",
              "       1.12134249e+04, 4.13191836e+02, 3.61052811e+05, 2.46854874e+05,\n",
              "       4.94106072e+05, 2.23579269e+05, 3.58652314e+05, 2.52854112e+05,\n",
              "       1.88218024e+05, 1.45647032e+04, 1.20630165e+04, 4.19771815e+05,\n",
              "       3.47949263e+05, 1.40515659e+05, 8.30031391e+05, 5.16868715e+05,\n",
              "       5.54952060e+05, 2.44871157e+05, 1.63899466e+05, 7.55940350e+04,\n",
              "       6.47254337e+03, 5.21193818e+05, 4.15891545e+05, 3.78080711e+05,\n",
              "       7.62188295e+05, 4.78754312e+05, 8.49232722e+03, 1.05972706e+04,\n",
              "       9.22970862e+03, 3.33931001e+05, 2.89287366e+05, 2.06127935e+03,\n",
              "       2.05971283e+05, 9.92260310e+05, 5.09700286e+05, 1.53529397e+03,\n",
              "       4.09464505e+05, 1.60442348e+03, 2.23222361e+04, 2.07790691e+05,\n",
              "       7.85072165e+05, 4.59566365e+05, 2.37016442e+05, 4.70482816e+05,\n",
              "       9.48030209e+04, 5.71274398e+04, 1.56694969e+05, 5.40144319e+05,\n",
              "       6.77329321e+05, 6.60958652e+05, 2.16077215e+05, 6.67482874e+05,\n",
              "       2.79684376e+05, 6.66666694e+02, 5.04001610e+05, 1.37534073e+05,\n",
              "       5.85671369e+04, 9.31417327e+05, 2.09618115e+05, 4.61005420e+03,\n",
              "       3.69265957e+04, 7.03939171e+05, 1.10143760e+05, 4.08185108e+05,\n",
              "       6.55241702e+04, 5.51974482e+05, 5.72985845e+05, 5.74501684e+05,\n",
              "       9.06475601e+05, 9.86288121e+05, 2.15148475e+05, 7.12359947e+05,\n",
              "       3.29322367e+05, 2.78627396e+05, 4.28895908e+05, 3.61651693e+04,\n",
              "       2.68167801e+05, 9.16028498e+05, 1.72094819e+05, 4.51463185e+05,\n",
              "       3.13444622e+05, 3.52686137e+05, 6.70660587e+04, 2.41376370e+04,\n",
              "       1.12812760e+05, 5.46441465e+02, 8.31855809e+05, 2.47588007e+04,\n",
              "       1.83904944e+05, 6.80627499e+05, 7.17999271e+04, 2.90364384e+05,\n",
              "       5.61776605e+04, 8.93185704e+05, 2.30248764e+05, 6.17758722e+05,\n",
              "       9.04571033e+05, 3.86465778e+03, 7.55215231e+05, 3.10596046e+04,\n",
              "       5.06846940e+05, 2.02356511e+05, 1.48041517e+04, 6.31996394e+05,\n",
              "       3.28379361e+04, 9.72796606e+04, 3.86141160e+02, 3.80837636e+04,\n",
              "       1.91704555e+05, 4.67741681e+05, 6.39976344e+05, 5.57937653e+05,\n",
              "       3.91735291e+05, 4.80139908e+05, 3.04547955e+05, 6.19965616e+04,\n",
              "       4.35473230e+05, 3.81131775e+02, 9.96251787e+05, 7.41365285e+05,\n",
              "       6.03683353e+05, 7.36204617e+05, 1.28781676e+05, 5.92848054e+05,\n",
              "       5.71612631e+03, 1.40918173e+04, 8.81872510e+05, 2.87139342e+05,\n",
              "       1.27212496e+04, 2.59944395e+05, 2.63013144e+05, 8.41007955e+05,\n",
              "       3.08980259e+05, 3.05653026e+05, 1.25928331e+05, 9.43043107e+05,\n",
              "       4.41244390e+02, 3.38571695e+05, 3.51901025e+03, 3.32775837e+05,\n",
              "       4.98334994e+05, 4.24973560e+05, 7.44636773e+03, 5.24586934e+04,\n",
              "       2.57055744e+04, 4.24810013e+04, 1.60314509e+04, 4.74609547e+05,\n",
              "       7.88622817e+05, 2.24526043e+05, 6.00248678e+04, 3.57455071e+05,\n",
              "       6.36778353e+05, 3.84734937e+04, 4.12577096e+04, 6.95043866e+03,\n",
              "       2.35072801e+05, 1.96994466e+05, 3.35088169e+05, 4.08539532e+04,\n",
              "       3.50380578e+04, 2.67132862e+05, 6.75683237e+05, 9.37221200e+05,\n",
              "       4.71206933e+04, 2.88181654e+03, 6.14616836e+05, 4.52808706e+05,\n",
              "       2.82867339e+05, 9.91581798e+04, 4.04522006e+04, 5.01994610e+04,\n",
              "       3.45592848e+05, 9.68479759e+05, 4.89895183e+05, 6.83933693e+05,\n",
              "       5.47680197e+04, 3.42073255e+05, 9.50833701e+05, 1.85624164e+05,\n",
              "       7.65686849e+05, 3.03444889e+05, 3.70734949e+05, 4.33065479e+04,\n",
              "       1.46575010e+05, 9.90267577e+05, 9.66511071e+05, 2.59027036e+03,\n",
              "       2.72327594e+05, 4.05632326e+05, 7.38801831e+02, 1.34584547e+05,\n",
              "       1.16194095e+05, 9.08382173e+05, 4.56857290e+05, 9.41888704e+04,\n",
              "       6.98910751e+05, 1.84763552e+05, 6.78977408e+05, 9.29665806e+04,\n",
              "       1.26638662e+05, 3.17649259e+04, 8.95078250e+05, 3.98388113e+03,\n",
              "       9.60373333e+04, 7.97534512e+05, 9.11481740e+04, 8.48365739e+05,\n",
              "       3.53875365e+05, 5.80585081e+05, 1.18476130e+04, 5.59433456e+05,\n",
              "       9.78353256e+05, 6.51232431e+05, 1.01965198e+04, 6.29944310e+04,\n",
              "       6.95568490e+05, 2.25474820e+05, 4.95513709e+05, 8.87520090e+05,\n",
              "       1.47341446e+05, 4.63645006e+05, 3.31996136e+04, 5.21394542e+02,\n",
              "       3.76851408e+05, 7.61568492e+03, 1.02969320e+05, 4.22368680e+05,\n",
              "       5.05423273e+05, 1.48880329e+05, 7.93963823e+05, 1.93459844e+05,\n",
              "       1.86363309e+04, 3.22469529e+05, 8.93478012e+04, 2.60251731e+04,\n",
              "       7.23359313e+04, 4.34153758e+05, 9.94255047e+05, 4.12029310e+05,\n",
              "       8.22753758e+05, 6.49618407e+05, 7.99322862e+05, 1.51982140e+05,\n",
              "       1.50456041e+04, 7.02261028e+05, 3.54117578e+04, 6.33604756e+02,\n",
              "       5.99027631e+05, 2.43882305e+05, 1.16876373e+05, 1.82193738e+05,\n",
              "       2.18875457e+05, 1.16342132e+04, 1.67153562e+05, 9.07117152e+02,\n",
              "       6.92234243e+05, 5.14706022e+03, 8.11897419e+05, 4.58210826e+05,\n",
              "       6.43182350e+05, 3.59851561e+05, 4.14602130e+05, 1.15513820e+05,\n",
              "       4.92700439e+05, 7.63936570e+05, 5.86340221e+03, 4.79903224e+04,\n",
              "       2.76519447e+05, 7.07339301e+04, 7.95748166e+05, 1.24998348e+04,\n",
              "       1.89957282e+05, 9.62579706e+05, 4.00550806e+05, 3.46663614e+04,\n",
              "       8.23266478e+04, 3.39736878e+05, 8.10095043e+05, 2.11453553e+05,\n",
              "       1.72925375e+05, 4.10510824e+03, 1.21012121e+05, 1.22406733e+05])"
            ]
          },
          "metadata": {
            "tags": []
          },
          "execution_count": 47
        }
      ]
    },
    {
      "cell_type": "markdown",
      "metadata": {
        "id": "KEyLY68jhvdp"
      },
      "source": [
        "### Visualizing the Results as DataFrame"
      ]
    },
    {
      "cell_type": "code",
      "metadata": {
        "id": "XhwlkplveGqj",
        "colab": {
          "base_uri": "https://localhost:8080/",
          "height": 766
        },
        "outputId": "13a140ec-f12d-482d-d278-407e69995912"
      },
      "source": [
        "Result_df = pd.DataFrame(pred_y, columns=['Predicted'])\n",
        "Result_df['Actual'] = pd.DataFrame(test_y).reset_index()['Y']\n",
        "#Result_df['Diff'] = abs(Result_df['Actual'] - Result_df['Predicted'])\n",
        "#Result_df = Result_df.sort_values('Diff').drop('Diff', axis = 1)\n",
        "Result_df.head(25)"
      ],
      "execution_count": 48,
      "outputs": [
        {
          "output_type": "execute_result",
          "data": {
            "text/html": [
              "<div>\n",
              "<style scoped>\n",
              "    .dataframe tbody tr th:only-of-type {\n",
              "        vertical-align: middle;\n",
              "    }\n",
              "\n",
              "    .dataframe tbody tr th {\n",
              "        vertical-align: top;\n",
              "    }\n",
              "\n",
              "    .dataframe thead th {\n",
              "        text-align: right;\n",
              "    }\n",
              "</style>\n",
              "<table border=\"1\" class=\"dataframe\">\n",
              "  <thead>\n",
              "    <tr style=\"text-align: right;\">\n",
              "      <th></th>\n",
              "      <th>Predicted</th>\n",
              "      <th>Actual</th>\n",
              "    </tr>\n",
              "  </thead>\n",
              "  <tbody>\n",
              "    <tr>\n",
              "      <th>0</th>\n",
              "      <td>257908.581482</td>\n",
              "      <td>258065</td>\n",
              "    </tr>\n",
              "    <tr>\n",
              "      <th>1</th>\n",
              "      <td>670757.008169</td>\n",
              "      <td>670762</td>\n",
              "    </tr>\n",
              "    <tr>\n",
              "      <th>2</th>\n",
              "      <td>205064.583992</td>\n",
              "      <td>205210</td>\n",
              "    </tr>\n",
              "    <tr>\n",
              "      <th>3</th>\n",
              "      <td>136055.302598</td>\n",
              "      <td>136162</td>\n",
              "    </tr>\n",
              "    <tr>\n",
              "      <th>4</th>\n",
              "      <td>59051.043483</td>\n",
              "      <td>59050</td>\n",
              "    </tr>\n",
              "    <tr>\n",
              "      <th>5</th>\n",
              "      <td>865037.972454</td>\n",
              "      <td>864901</td>\n",
              "    </tr>\n",
              "    <tr>\n",
              "      <th>6</th>\n",
              "      <td>69149.962711</td>\n",
              "      <td>69170</td>\n",
              "    </tr>\n",
              "    <tr>\n",
              "      <th>7</th>\n",
              "      <td>657708.563325</td>\n",
              "      <td>657722</td>\n",
              "    </tr>\n",
              "    <tr>\n",
              "      <th>8</th>\n",
              "      <td>101690.924669</td>\n",
              "      <td>101762</td>\n",
              "    </tr>\n",
              "    <tr>\n",
              "      <th>9</th>\n",
              "      <td>2782.630723</td>\n",
              "      <td>2501</td>\n",
              "    </tr>\n",
              "    <tr>\n",
              "      <th>10</th>\n",
              "      <td>199666.471214</td>\n",
              "      <td>199810</td>\n",
              "    </tr>\n",
              "    <tr>\n",
              "      <th>11</th>\n",
              "      <td>20578.970232</td>\n",
              "      <td>20450</td>\n",
              "    </tr>\n",
              "    <tr>\n",
              "      <th>12</th>\n",
              "      <td>939159.831707</td>\n",
              "      <td>938962</td>\n",
              "    </tr>\n",
              "    <tr>\n",
              "      <th>13</th>\n",
              "      <td>119625.523191</td>\n",
              "      <td>119717</td>\n",
              "    </tr>\n",
              "    <tr>\n",
              "      <th>14</th>\n",
              "      <td>944987.749678</td>\n",
              "      <td>944785</td>\n",
              "    </tr>\n",
              "    <tr>\n",
              "      <th>15</th>\n",
              "      <td>18099.324886</td>\n",
              "      <td>17957</td>\n",
              "    </tr>\n",
              "    <tr>\n",
              "      <th>16</th>\n",
              "      <td>11213.424900</td>\n",
              "      <td>11026</td>\n",
              "    </tr>\n",
              "    <tr>\n",
              "      <th>17</th>\n",
              "      <td>413.191836</td>\n",
              "      <td>50</td>\n",
              "    </tr>\n",
              "    <tr>\n",
              "      <th>18</th>\n",
              "      <td>361052.810993</td>\n",
              "      <td>361202</td>\n",
              "    </tr>\n",
              "    <tr>\n",
              "      <th>19</th>\n",
              "      <td>246854.873561</td>\n",
              "      <td>247010</td>\n",
              "    </tr>\n",
              "    <tr>\n",
              "      <th>20</th>\n",
              "      <td>494106.071826</td>\n",
              "      <td>494210</td>\n",
              "    </tr>\n",
              "    <tr>\n",
              "      <th>21</th>\n",
              "      <td>223579.269244</td>\n",
              "      <td>223730</td>\n",
              "    </tr>\n",
              "    <tr>\n",
              "      <th>22</th>\n",
              "      <td>358652.313922</td>\n",
              "      <td>358802</td>\n",
              "    </tr>\n",
              "    <tr>\n",
              "      <th>23</th>\n",
              "      <td>252854.112483</td>\n",
              "      <td>253010</td>\n",
              "    </tr>\n",
              "    <tr>\n",
              "      <th>24</th>\n",
              "      <td>188218.023791</td>\n",
              "      <td>188357</td>\n",
              "    </tr>\n",
              "  </tbody>\n",
              "</table>\n",
              "</div>"
            ],
            "text/plain": [
              "        Predicted  Actual\n",
              "0   257908.581482  258065\n",
              "1   670757.008169  670762\n",
              "2   205064.583992  205210\n",
              "3   136055.302598  136162\n",
              "4    59051.043483   59050\n",
              "5   865037.972454  864901\n",
              "6    69149.962711   69170\n",
              "7   657708.563325  657722\n",
              "8   101690.924669  101762\n",
              "9     2782.630723    2501\n",
              "10  199666.471214  199810\n",
              "11   20578.970232   20450\n",
              "12  939159.831707  938962\n",
              "13  119625.523191  119717\n",
              "14  944987.749678  944785\n",
              "15   18099.324886   17957\n",
              "16   11213.424900   11026\n",
              "17     413.191836      50\n",
              "18  361052.810993  361202\n",
              "19  246854.873561  247010\n",
              "20  494106.071826  494210\n",
              "21  223579.269244  223730\n",
              "22  358652.313922  358802\n",
              "23  252854.112483  253010\n",
              "24  188218.023791  188357"
            ]
          },
          "metadata": {
            "tags": []
          },
          "execution_count": 48
        }
      ]
    },
    {
      "cell_type": "markdown",
      "metadata": {
        "id": "OrWntEVZh4W6"
      },
      "source": [
        "### Visualizing the Result as Graph"
      ]
    },
    {
      "cell_type": "code",
      "metadata": {
        "id": "ukQ4dCfTeNPZ",
        "colab": {
          "base_uri": "https://localhost:8080/",
          "height": 281
        },
        "outputId": "ffc4aa27-df70-47a1-9781-6a424de307c1"
      },
      "source": [
        "Result_df_sub = Result_df.head(25)\n",
        "plt.scatter(Result_df_sub.index.values, Result_df_sub['Predicted'], alpha=0.7, color='red', s=20)\n",
        "plt.scatter(Result_df_sub.index.values, Result_df_sub['Actual'], alpha=0.3, color='green', s=200)\n",
        "plt.legend(['Predicted', 'Actual'])"
      ],
      "execution_count": 49,
      "outputs": [
        {
          "output_type": "execute_result",
          "data": {
            "text/plain": [
              "<matplotlib.legend.Legend at 0x7fdbb1ab1210>"
            ]
          },
          "metadata": {
            "tags": []
          },
          "execution_count": 49
        },
        {
          "output_type": "display_data",
          "data": {
            "image/png": "[encoded data removed]",
            "text/plain": [
              "<Figure size 432x288 with 1 Axes>"
            ]
          },
          "metadata": {
            "tags": [],
            "needs_background": "light"
          }
        }
      ]
    },
    {
      "cell_type": "markdown",
      "metadata": {
        "id": "BCiWrUgAh-yb"
      },
      "source": [
        "### Displaying the coefficients as DataFrame"
      ]
    },
    {
      "cell_type": "code",
      "metadata": {
        "id": "LiPWQOlPeQFT",
        "colab": {
          "base_uri": "https://localhost:8080/",
          "height": 76
        },
        "outputId": "a0a5b342-0588-4d3c-bff1-59f6dcb8164e"
      },
      "source": [
        "coef = num_lm.coef_.tolist()\n",
        "params = train_x.columns.to_list()\n",
        "coef_df = pd.DataFrame(coef, params, columns=['Coefficient'])\n",
        "#coef_df['Parameter'] = train_x.columns.to_list()\n",
        "coef_df"
      ],
      "execution_count": 50,
      "outputs": [
        {
          "output_type": "execute_result",
          "data": {
            "text/html": [
              "<div>\n",
              "<style scoped>\n",
              "    .dataframe tbody tr th:only-of-type {\n",
              "        vertical-align: middle;\n",
              "    }\n",
              "\n",
              "    .dataframe tbody tr th {\n",
              "        vertical-align: top;\n",
              "    }\n",
              "\n",
              "    .dataframe thead th {\n",
              "        text-align: right;\n",
              "    }\n",
              "</style>\n",
              "<table border=\"1\" class=\"dataframe\">\n",
              "  <thead>\n",
              "    <tr style=\"text-align: right;\">\n",
              "      <th></th>\n",
              "      <th>Coefficient</th>\n",
              "    </tr>\n",
              "  </thead>\n",
              "  <tbody>\n",
              "    <tr>\n",
              "      <th>A</th>\n",
              "      <td>1.001877</td>\n",
              "    </tr>\n",
              "  </tbody>\n",
              "</table>\n",
              "</div>"
            ],
            "text/plain": [
              "   Coefficient\n",
              "A     1.001877"
            ]
          },
          "metadata": {
            "tags": []
          },
          "execution_count": 50
        }
      ]
    },
    {
      "cell_type": "markdown",
      "metadata": {
        "id": "vYICgPpEvZZC"
      },
      "source": [
        "# 25/05/2021"
      ]
    },
    {
      "cell_type": "markdown",
      "metadata": {
        "id": "qYJpYd0ibqBP"
      },
      "source": [
        "## **Importing Required Models**"
      ]
    },
    {
      "cell_type": "code",
      "metadata": {
        "colab": {
          "base_uri": "https://localhost:8080/"
        },
        "id": "6hkVenkKUYL8",
        "outputId": "dff64609-0f59-4122-9711-812cffc5ffb3"
      },
      "source": [
        "!pip install word2number"
      ],
      "execution_count": 51,
      "outputs": [
        {
          "output_type": "stream",
          "text": [
            "Requirement already satisfied: word2number in /usr/local/lib/python3.7/dist-packages (1.1)\n"
          ],
          "name": "stdout"
        }
      ]
    },
    {
      "cell_type": "code",
      "metadata": {
        "id": "lY0ygvDdb37N"
      },
      "source": [
        "import pandas as pd\n",
        "import numpy as np\n",
        "import matplotlib.pyplot as plt\n",
        "import seaborn as sns\n",
        "from word2number import w2n\n",
        "from scipy import stats\n",
        "from sklearn.preprocessing import QuantileTransformer"
      ],
      "execution_count": 52,
      "outputs": []
    },
    {
      "cell_type": "code",
      "metadata": {
        "id": "chBb5B2tig24"
      },
      "source": [
        "W2N = w2n.word_to_num\n",
        "mpg2kmpl = 2.3521458\n",
        "QTransform = QuantileTransformer(n_quantiles=205)"
      ],
      "execution_count": 53,
      "outputs": []
    },
    {
      "cell_type": "markdown",
      "metadata": {
        "id": "CR4j4XpDbLVL"
      },
      "source": [
        "## SUPERVISED LEARNING"
      ]
    },
    {
      "cell_type": "markdown",
      "metadata": {
        "id": "fCP1-BHPbc0n"
      },
      "source": [
        "### LINEAR REGRESSION"
      ]
    },
    {
      "cell_type": "code",
      "metadata": {
        "id": "gxsq2_BG2F7u"
      },
      "source": [
        "cars_df = pd.read_csv(\"https://raw.githubusercontent.com/KARTHIKEYANC04052002/Machine-Learning-AI-Internship/main/CarPriceDataSet.csv\", index_col='car_ID')"
      ],
      "execution_count": 54,
      "outputs": []
    },
    {
      "cell_type": "code",
      "metadata": {
        "colab": {
          "base_uri": "https://localhost:8080/",
          "height": 448
        },
        "id": "JoBm6qV22PcG",
        "outputId": "a5dd7993-6f27-4ddd-874f-f5a643aebb6f"
      },
      "source": [
        "cars_df.head(10)"
      ],
      "execution_count": 55,
      "outputs": [
        {
          "output_type": "execute_result",
          "data": {
            "text/html": [
              "<div>\n",
              "<style scoped>\n",
              "    .dataframe tbody tr th:only-of-type {\n",
              "        vertical-align: middle;\n",
              "    }\n",
              "\n",
              "    .dataframe tbody tr th {\n",
              "        vertical-align: top;\n",
              "    }\n",
              "\n",
              "    .dataframe thead th {\n",
              "        text-align: right;\n",
              "    }\n",
              "</style>\n",
              "<table border=\"1\" class=\"dataframe\">\n",
              "  <thead>\n",
              "    <tr style=\"text-align: right;\">\n",
              "      <th></th>\n",
              "      <th>symboling</th>\n",
              "      <th>CarName</th>\n",
              "      <th>fueltype</th>\n",
              "      <th>aspiration</th>\n",
              "      <th>doornumber</th>\n",
              "      <th>carbody</th>\n",
              "      <th>drivewheel</th>\n",
              "      <th>enginelocation</th>\n",
              "      <th>wheelbase</th>\n",
              "      <th>carlength</th>\n",
              "      <th>carwidth</th>\n",
              "      <th>carheight</th>\n",
              "      <th>curbweight</th>\n",
              "      <th>enginetype</th>\n",
              "      <th>cylindernumber</th>\n",
              "      <th>enginesize</th>\n",
              "      <th>fuelsystem</th>\n",
              "      <th>boreratio</th>\n",
              "      <th>stroke</th>\n",
              "      <th>compressionratio</th>\n",
              "      <th>horsepower</th>\n",
              "      <th>peakrpm</th>\n",
              "      <th>citympg</th>\n",
              "      <th>highwaympg</th>\n",
              "      <th>price</th>\n",
              "    </tr>\n",
              "    <tr>\n",
              "      <th>car_ID</th>\n",
              "      <th></th>\n",
              "      <th></th>\n",
              "      <th></th>\n",
              "      <th></th>\n",
              "      <th></th>\n",
              "      <th></th>\n",
              "      <th></th>\n",
              "      <th></th>\n",
              "      <th></th>\n",
              "      <th></th>\n",
              "      <th></th>\n",
              "      <th></th>\n",
              "      <th></th>\n",
              "      <th></th>\n",
              "      <th></th>\n",
              "      <th></th>\n",
              "      <th></th>\n",
              "      <th></th>\n",
              "      <th></th>\n",
              "      <th></th>\n",
              "      <th></th>\n",
              "      <th></th>\n",
              "      <th></th>\n",
              "      <th></th>\n",
              "      <th></th>\n",
              "    </tr>\n",
              "  </thead>\n",
              "  <tbody>\n",
              "    <tr>\n",
              "      <th>1</th>\n",
              "      <td>3</td>\n",
              "      <td>alfa-romero giulia</td>\n",
              "      <td>gas</td>\n",
              "      <td>std</td>\n",
              "      <td>two</td>\n",
              "      <td>convertible</td>\n",
              "      <td>rwd</td>\n",
              "      <td>front</td>\n",
              "      <td>88.6</td>\n",
              "      <td>168.8</td>\n",
              "      <td>64.1</td>\n",
              "      <td>48.8</td>\n",
              "      <td>2548</td>\n",
              "      <td>dohc</td>\n",
              "      <td>four</td>\n",
              "      <td>130</td>\n",
              "      <td>mpfi</td>\n",
              "      <td>3.47</td>\n",
              "      <td>2.68</td>\n",
              "      <td>9.0</td>\n",
              "      <td>111</td>\n",
              "      <td>5000</td>\n",
              "      <td>21</td>\n",
              "      <td>27</td>\n",
              "      <td>13495.000</td>\n",
              "    </tr>\n",
              "    <tr>\n",
              "      <th>2</th>\n",
              "      <td>3</td>\n",
              "      <td>alfa-romero stelvio</td>\n",
              "      <td>gas</td>\n",
              "      <td>std</td>\n",
              "      <td>two</td>\n",
              "      <td>convertible</td>\n",
              "      <td>rwd</td>\n",
              "      <td>front</td>\n",
              "      <td>88.6</td>\n",
              "      <td>168.8</td>\n",
              "      <td>64.1</td>\n",
              "      <td>48.8</td>\n",
              "      <td>2548</td>\n",
              "      <td>dohc</td>\n",
              "      <td>four</td>\n",
              "      <td>130</td>\n",
              "      <td>mpfi</td>\n",
              "      <td>3.47</td>\n",
              "      <td>2.68</td>\n",
              "      <td>9.0</td>\n",
              "      <td>111</td>\n",
              "      <td>5000</td>\n",
              "      <td>21</td>\n",
              "      <td>27</td>\n",
              "      <td>16500.000</td>\n",
              "    </tr>\n",
              "    <tr>\n",
              "      <th>3</th>\n",
              "      <td>1</td>\n",
              "      <td>alfa-romero Quadrifoglio</td>\n",
              "      <td>gas</td>\n",
              "      <td>std</td>\n",
              "      <td>two</td>\n",
              "      <td>hatchback</td>\n",
              "      <td>rwd</td>\n",
              "      <td>front</td>\n",
              "      <td>94.5</td>\n",
              "      <td>171.2</td>\n",
              "      <td>65.5</td>\n",
              "      <td>52.4</td>\n",
              "      <td>2823</td>\n",
              "      <td>ohcv</td>\n",
              "      <td>six</td>\n",
              "      <td>152</td>\n",
              "      <td>mpfi</td>\n",
              "      <td>2.68</td>\n",
              "      <td>3.47</td>\n",
              "      <td>9.0</td>\n",
              "      <td>154</td>\n",
              "      <td>5000</td>\n",
              "      <td>19</td>\n",
              "      <td>26</td>\n",
              "      <td>16500.000</td>\n",
              "    </tr>\n",
              "    <tr>\n",
              "      <th>4</th>\n",
              "      <td>2</td>\n",
              "      <td>audi 100 ls</td>\n",
              "      <td>gas</td>\n",
              "      <td>std</td>\n",
              "      <td>four</td>\n",
              "      <td>sedan</td>\n",
              "      <td>fwd</td>\n",
              "      <td>front</td>\n",
              "      <td>99.8</td>\n",
              "      <td>176.6</td>\n",
              "      <td>66.2</td>\n",
              "      <td>54.3</td>\n",
              "      <td>2337</td>\n",
              "      <td>ohc</td>\n",
              "      <td>four</td>\n",
              "      <td>109</td>\n",
              "      <td>mpfi</td>\n",
              "      <td>3.19</td>\n",
              "      <td>3.40</td>\n",
              "      <td>10.0</td>\n",
              "      <td>102</td>\n",
              "      <td>5500</td>\n",
              "      <td>24</td>\n",
              "      <td>30</td>\n",
              "      <td>13950.000</td>\n",
              "    </tr>\n",
              "    <tr>\n",
              "      <th>5</th>\n",
              "      <td>2</td>\n",
              "      <td>audi 100ls</td>\n",
              "      <td>gas</td>\n",
              "      <td>std</td>\n",
              "      <td>four</td>\n",
              "      <td>sedan</td>\n",
              "      <td>4wd</td>\n",
              "      <td>front</td>\n",
              "      <td>99.4</td>\n",
              "      <td>176.6</td>\n",
              "      <td>66.4</td>\n",
              "      <td>54.3</td>\n",
              "      <td>2824</td>\n",
              "      <td>ohc</td>\n",
              "      <td>five</td>\n",
              "      <td>136</td>\n",
              "      <td>mpfi</td>\n",
              "      <td>3.19</td>\n",
              "      <td>3.40</td>\n",
              "      <td>8.0</td>\n",
              "      <td>115</td>\n",
              "      <td>5500</td>\n",
              "      <td>18</td>\n",
              "      <td>22</td>\n",
              "      <td>17450.000</td>\n",
              "    </tr>\n",
              "    <tr>\n",
              "      <th>6</th>\n",
              "      <td>2</td>\n",
              "      <td>audi fox</td>\n",
              "      <td>gas</td>\n",
              "      <td>std</td>\n",
              "      <td>two</td>\n",
              "      <td>sedan</td>\n",
              "      <td>fwd</td>\n",
              "      <td>front</td>\n",
              "      <td>99.8</td>\n",
              "      <td>177.3</td>\n",
              "      <td>66.3</td>\n",
              "      <td>53.1</td>\n",
              "      <td>2507</td>\n",
              "      <td>ohc</td>\n",
              "      <td>five</td>\n",
              "      <td>136</td>\n",
              "      <td>mpfi</td>\n",
              "      <td>3.19</td>\n",
              "      <td>3.40</td>\n",
              "      <td>8.5</td>\n",
              "      <td>110</td>\n",
              "      <td>5500</td>\n",
              "      <td>19</td>\n",
              "      <td>25</td>\n",
              "      <td>15250.000</td>\n",
              "    </tr>\n",
              "    <tr>\n",
              "      <th>7</th>\n",
              "      <td>1</td>\n",
              "      <td>audi 100ls</td>\n",
              "      <td>gas</td>\n",
              "      <td>std</td>\n",
              "      <td>four</td>\n",
              "      <td>sedan</td>\n",
              "      <td>fwd</td>\n",
              "      <td>front</td>\n",
              "      <td>105.8</td>\n",
              "      <td>192.7</td>\n",
              "      <td>71.4</td>\n",
              "      <td>55.7</td>\n",
              "      <td>2844</td>\n",
              "      <td>ohc</td>\n",
              "      <td>five</td>\n",
              "      <td>136</td>\n",
              "      <td>mpfi</td>\n",
              "      <td>3.19</td>\n",
              "      <td>3.40</td>\n",
              "      <td>8.5</td>\n",
              "      <td>110</td>\n",
              "      <td>5500</td>\n",
              "      <td>19</td>\n",
              "      <td>25</td>\n",
              "      <td>17710.000</td>\n",
              "    </tr>\n",
              "    <tr>\n",
              "      <th>8</th>\n",
              "      <td>1</td>\n",
              "      <td>audi 5000</td>\n",
              "      <td>gas</td>\n",
              "      <td>std</td>\n",
              "      <td>four</td>\n",
              "      <td>wagon</td>\n",
              "      <td>fwd</td>\n",
              "      <td>front</td>\n",
              "      <td>105.8</td>\n",
              "      <td>192.7</td>\n",
              "      <td>71.4</td>\n",
              "      <td>55.7</td>\n",
              "      <td>2954</td>\n",
              "      <td>ohc</td>\n",
              "      <td>five</td>\n",
              "      <td>136</td>\n",
              "      <td>mpfi</td>\n",
              "      <td>3.19</td>\n",
              "      <td>3.40</td>\n",
              "      <td>8.5</td>\n",
              "      <td>110</td>\n",
              "      <td>5500</td>\n",
              "      <td>19</td>\n",
              "      <td>25</td>\n",
              "      <td>18920.000</td>\n",
              "    </tr>\n",
              "    <tr>\n",
              "      <th>9</th>\n",
              "      <td>1</td>\n",
              "      <td>audi 4000</td>\n",
              "      <td>gas</td>\n",
              "      <td>turbo</td>\n",
              "      <td>four</td>\n",
              "      <td>sedan</td>\n",
              "      <td>fwd</td>\n",
              "      <td>front</td>\n",
              "      <td>105.8</td>\n",
              "      <td>192.7</td>\n",
              "      <td>71.4</td>\n",
              "      <td>55.9</td>\n",
              "      <td>3086</td>\n",
              "      <td>ohc</td>\n",
              "      <td>five</td>\n",
              "      <td>131</td>\n",
              "      <td>mpfi</td>\n",
              "      <td>3.13</td>\n",
              "      <td>3.40</td>\n",
              "      <td>8.3</td>\n",
              "      <td>140</td>\n",
              "      <td>5500</td>\n",
              "      <td>17</td>\n",
              "      <td>20</td>\n",
              "      <td>23875.000</td>\n",
              "    </tr>\n",
              "    <tr>\n",
              "      <th>10</th>\n",
              "      <td>0</td>\n",
              "      <td>audi 5000s (diesel)</td>\n",
              "      <td>gas</td>\n",
              "      <td>turbo</td>\n",
              "      <td>two</td>\n",
              "      <td>hatchback</td>\n",
              "      <td>4wd</td>\n",
              "      <td>front</td>\n",
              "      <td>99.5</td>\n",
              "      <td>178.2</td>\n",
              "      <td>67.9</td>\n",
              "      <td>52.0</td>\n",
              "      <td>3053</td>\n",
              "      <td>ohc</td>\n",
              "      <td>five</td>\n",
              "      <td>131</td>\n",
              "      <td>mpfi</td>\n",
              "      <td>3.13</td>\n",
              "      <td>3.40</td>\n",
              "      <td>7.0</td>\n",
              "      <td>160</td>\n",
              "      <td>5500</td>\n",
              "      <td>16</td>\n",
              "      <td>22</td>\n",
              "      <td>17859.167</td>\n",
              "    </tr>\n",
              "  </tbody>\n",
              "</table>\n",
              "</div>"
            ],
            "text/plain": [
              "        symboling                   CarName  ... highwaympg      price\n",
              "car_ID                                       ...                      \n",
              "1               3        alfa-romero giulia  ...         27  13495.000\n",
              "2               3       alfa-romero stelvio  ...         27  16500.000\n",
              "3               1  alfa-romero Quadrifoglio  ...         26  16500.000\n",
              "4               2               audi 100 ls  ...         30  13950.000\n",
              "5               2                audi 100ls  ...         22  17450.000\n",
              "6               2                  audi fox  ...         25  15250.000\n",
              "7               1                audi 100ls  ...         25  17710.000\n",
              "8               1                 audi 5000  ...         25  18920.000\n",
              "9               1                 audi 4000  ...         20  23875.000\n",
              "10              0       audi 5000s (diesel)  ...         22  17859.167\n",
              "\n",
              "[10 rows x 25 columns]"
            ]
          },
          "metadata": {
            "tags": []
          },
          "execution_count": 55
        }
      ]
    },
    {
      "cell_type": "code",
      "metadata": {
        "id": "TzeNkZ-SLssC"
      },
      "source": [
        "def BrandClean(X):\n",
        "  if X == 'alfa-romero': X = 'alfa-romeo'\n",
        "  elif X == 'maxda': X = 'mazda'\n",
        "  elif X == 'porcshce': X = 'porsche'\n",
        "  elif X == 'toyouta': X = 'toyota'\n",
        "  elif X == 'vokswagen': X = 'volkswagen'\n",
        "  elif X == 'vw': X = 'volkswagen'\n",
        "  return X.title()"
      ],
      "execution_count": 56,
      "outputs": []
    },
    {
      "cell_type": "code",
      "metadata": {
        "id": "AEQvl54v2aq1"
      },
      "source": [
        "cars_df['Brand'] = cars_df['CarName'].apply(lambda x: BrandClean(x.split()[0]))\n",
        "cars_df['Model'] = cars_df['CarName'].apply(lambda x: ''.join(x.split()[1:]).title())"
      ],
      "execution_count": 57,
      "outputs": []
    },
    {
      "cell_type": "code",
      "metadata": {
        "id": "Nltdx-UBQBfP"
      },
      "source": [
        "cars_df['doornumber'] = cars_df['doornumber'].apply(lambda x:W2N(x))\n",
        "cars_df['cylindernumber'] = cars_df['cylindernumber'].apply(lambda x:W2N(x))"
      ],
      "execution_count": 58,
      "outputs": []
    },
    {
      "cell_type": "code",
      "metadata": {
        "id": "_JkKomV-hceN"
      },
      "source": [
        "cars_df['city_mileage'] = cars_df['citympg'] / mpg2kmpl\n",
        "cars_df['highway_mileage'] = cars_df['highwaympg'] / mpg2kmpl"
      ],
      "execution_count": 59,
      "outputs": []
    },
    {
      "cell_type": "code",
      "metadata": {
        "colab": {
          "base_uri": "https://localhost:8080/"
        },
        "id": "Knf9ys1Yy6Rx",
        "outputId": "02f4b589-b86a-48c4-fddd-c8c55efe0c58"
      },
      "source": [
        "print(cars_df['Brand'].unique())"
      ],
      "execution_count": 60,
      "outputs": [
        {
          "output_type": "stream",
          "text": [
            "['Alfa-Romeo' 'Audi' 'Bmw' 'Chevrolet' 'Dodge' 'Honda' 'Isuzu' 'Jaguar'\n",
            " 'Mazda' 'Buick' 'Mercury' 'Mitsubishi' 'Nissan' 'Peugeot' 'Plymouth'\n",
            " 'Porsche' 'Renault' 'Saab' 'Subaru' 'Toyota' 'Volkswagen' 'Volvo']\n"
          ],
          "name": "stdout"
        }
      ]
    },
    {
      "cell_type": "code",
      "metadata": {
        "id": "5XLnkti73rjs"
      },
      "source": [
        "columns = cars_df.select_dtypes('object').columns.to_list()\n",
        "columns.remove('Model')\n",
        "columns.remove('CarName')\n",
        "for col in columns:\n",
        "  value = cars_df.groupby(col)['price'].mean().to_dict()\n",
        "  cars_df[col+'_value'] = cars_df[col].apply(lambda x:value[x])\n",
        "cars_df = cars_df.drop(cars_df.select_dtypes('object').columns, axis=1)"
      ],
      "execution_count": 61,
      "outputs": []
    },
    {
      "cell_type": "code",
      "metadata": {
        "colab": {
          "base_uri": "https://localhost:8080/",
          "height": 440
        },
        "id": "11WKIsCAQr8h",
        "outputId": "2529a065-7688-47c0-933a-3a972a21e33d"
      },
      "source": [
        "cars_df"
      ],
      "execution_count": 62,
      "outputs": [
        {
          "output_type": "execute_result",
          "data": {
            "text/html": [
              "<div>\n",
              "<style scoped>\n",
              "    .dataframe tbody tr th:only-of-type {\n",
              "        vertical-align: middle;\n",
              "    }\n",
              "\n",
              "    .dataframe tbody tr th {\n",
              "        vertical-align: top;\n",
              "    }\n",
              "\n",
              "    .dataframe thead th {\n",
              "        text-align: right;\n",
              "    }\n",
              "</style>\n",
              "<table border=\"1\" class=\"dataframe\">\n",
              "  <thead>\n",
              "    <tr style=\"text-align: right;\">\n",
              "      <th></th>\n",
              "      <th>symboling</th>\n",
              "      <th>doornumber</th>\n",
              "      <th>wheelbase</th>\n",
              "      <th>carlength</th>\n",
              "      <th>carwidth</th>\n",
              "      <th>carheight</th>\n",
              "      <th>curbweight</th>\n",
              "      <th>cylindernumber</th>\n",
              "      <th>enginesize</th>\n",
              "      <th>boreratio</th>\n",
              "      <th>stroke</th>\n",
              "      <th>compressionratio</th>\n",
              "      <th>horsepower</th>\n",
              "      <th>peakrpm</th>\n",
              "      <th>citympg</th>\n",
              "      <th>highwaympg</th>\n",
              "      <th>price</th>\n",
              "      <th>city_mileage</th>\n",
              "      <th>highway_mileage</th>\n",
              "      <th>fueltype_value</th>\n",
              "      <th>aspiration_value</th>\n",
              "      <th>carbody_value</th>\n",
              "      <th>drivewheel_value</th>\n",
              "      <th>enginelocation_value</th>\n",
              "      <th>enginetype_value</th>\n",
              "      <th>fuelsystem_value</th>\n",
              "      <th>Brand_value</th>\n",
              "    </tr>\n",
              "    <tr>\n",
              "      <th>car_ID</th>\n",
              "      <th></th>\n",
              "      <th></th>\n",
              "      <th></th>\n",
              "      <th></th>\n",
              "      <th></th>\n",
              "      <th></th>\n",
              "      <th></th>\n",
              "      <th></th>\n",
              "      <th></th>\n",
              "      <th></th>\n",
              "      <th></th>\n",
              "      <th></th>\n",
              "      <th></th>\n",
              "      <th></th>\n",
              "      <th></th>\n",
              "      <th></th>\n",
              "      <th></th>\n",
              "      <th></th>\n",
              "      <th></th>\n",
              "      <th></th>\n",
              "      <th></th>\n",
              "      <th></th>\n",
              "      <th></th>\n",
              "      <th></th>\n",
              "      <th></th>\n",
              "      <th></th>\n",
              "      <th></th>\n",
              "    </tr>\n",
              "  </thead>\n",
              "  <tbody>\n",
              "    <tr>\n",
              "      <th>1</th>\n",
              "      <td>3</td>\n",
              "      <td>2</td>\n",
              "      <td>88.6</td>\n",
              "      <td>168.8</td>\n",
              "      <td>64.1</td>\n",
              "      <td>48.8</td>\n",
              "      <td>2548</td>\n",
              "      <td>4</td>\n",
              "      <td>130</td>\n",
              "      <td>3.47</td>\n",
              "      <td>2.68</td>\n",
              "      <td>9.0</td>\n",
              "      <td>111</td>\n",
              "      <td>5000</td>\n",
              "      <td>21</td>\n",
              "      <td>27</td>\n",
              "      <td>13495.0</td>\n",
              "      <td>8.928018</td>\n",
              "      <td>11.478880</td>\n",
              "      <td>12999.7982</td>\n",
              "      <td>12611.270833</td>\n",
              "      <td>21890.500000</td>\n",
              "      <td>19910.809211</td>\n",
              "      <td>12961.097361</td>\n",
              "      <td>18116.416667</td>\n",
              "      <td>17754.60284</td>\n",
              "      <td>15498.333333</td>\n",
              "    </tr>\n",
              "    <tr>\n",
              "      <th>2</th>\n",
              "      <td>3</td>\n",
              "      <td>2</td>\n",
              "      <td>88.6</td>\n",
              "      <td>168.8</td>\n",
              "      <td>64.1</td>\n",
              "      <td>48.8</td>\n",
              "      <td>2548</td>\n",
              "      <td>4</td>\n",
              "      <td>130</td>\n",
              "      <td>3.47</td>\n",
              "      <td>2.68</td>\n",
              "      <td>9.0</td>\n",
              "      <td>111</td>\n",
              "      <td>5000</td>\n",
              "      <td>21</td>\n",
              "      <td>27</td>\n",
              "      <td>16500.0</td>\n",
              "      <td>8.928018</td>\n",
              "      <td>11.478880</td>\n",
              "      <td>12999.7982</td>\n",
              "      <td>12611.270833</td>\n",
              "      <td>21890.500000</td>\n",
              "      <td>19910.809211</td>\n",
              "      <td>12961.097361</td>\n",
              "      <td>18116.416667</td>\n",
              "      <td>17754.60284</td>\n",
              "      <td>15498.333333</td>\n",
              "    </tr>\n",
              "    <tr>\n",
              "      <th>3</th>\n",
              "      <td>1</td>\n",
              "      <td>2</td>\n",
              "      <td>94.5</td>\n",
              "      <td>171.2</td>\n",
              "      <td>65.5</td>\n",
              "      <td>52.4</td>\n",
              "      <td>2823</td>\n",
              "      <td>6</td>\n",
              "      <td>152</td>\n",
              "      <td>2.68</td>\n",
              "      <td>3.47</td>\n",
              "      <td>9.0</td>\n",
              "      <td>154</td>\n",
              "      <td>5000</td>\n",
              "      <td>19</td>\n",
              "      <td>26</td>\n",
              "      <td>16500.0</td>\n",
              "      <td>8.077731</td>\n",
              "      <td>11.053737</td>\n",
              "      <td>12999.7982</td>\n",
              "      <td>12611.270833</td>\n",
              "      <td>10376.652386</td>\n",
              "      <td>19910.809211</td>\n",
              "      <td>12961.097361</td>\n",
              "      <td>25098.384615</td>\n",
              "      <td>17754.60284</td>\n",
              "      <td>15498.333333</td>\n",
              "    </tr>\n",
              "    <tr>\n",
              "      <th>4</th>\n",
              "      <td>2</td>\n",
              "      <td>4</td>\n",
              "      <td>99.8</td>\n",
              "      <td>176.6</td>\n",
              "      <td>66.2</td>\n",
              "      <td>54.3</td>\n",
              "      <td>2337</td>\n",
              "      <td>4</td>\n",
              "      <td>109</td>\n",
              "      <td>3.19</td>\n",
              "      <td>3.40</td>\n",
              "      <td>10.0</td>\n",
              "      <td>102</td>\n",
              "      <td>5500</td>\n",
              "      <td>24</td>\n",
              "      <td>30</td>\n",
              "      <td>13950.0</td>\n",
              "      <td>10.203449</td>\n",
              "      <td>12.754311</td>\n",
              "      <td>12999.7982</td>\n",
              "      <td>12611.270833</td>\n",
              "      <td>14344.270833</td>\n",
              "      <td>9239.308333</td>\n",
              "      <td>12961.097361</td>\n",
              "      <td>11574.048426</td>\n",
              "      <td>17754.60284</td>\n",
              "      <td>17859.166714</td>\n",
              "    </tr>\n",
              "    <tr>\n",
              "      <th>5</th>\n",
              "      <td>2</td>\n",
              "      <td>4</td>\n",
              "      <td>99.4</td>\n",
              "      <td>176.6</td>\n",
              "      <td>66.4</td>\n",
              "      <td>54.3</td>\n",
              "      <td>2824</td>\n",
              "      <td>5</td>\n",
              "      <td>136</td>\n",
              "      <td>3.19</td>\n",
              "      <td>3.40</td>\n",
              "      <td>8.0</td>\n",
              "      <td>115</td>\n",
              "      <td>5500</td>\n",
              "      <td>18</td>\n",
              "      <td>22</td>\n",
              "      <td>17450.0</td>\n",
              "      <td>7.652587</td>\n",
              "      <td>9.353162</td>\n",
              "      <td>12999.7982</td>\n",
              "      <td>12611.270833</td>\n",
              "      <td>14344.270833</td>\n",
              "      <td>11087.463000</td>\n",
              "      <td>12961.097361</td>\n",
              "      <td>11574.048426</td>\n",
              "      <td>17754.60284</td>\n",
              "      <td>17859.166714</td>\n",
              "    </tr>\n",
              "    <tr>\n",
              "      <th>...</th>\n",
              "      <td>...</td>\n",
              "      <td>...</td>\n",
              "      <td>...</td>\n",
              "      <td>...</td>\n",
              "      <td>...</td>\n",
              "      <td>...</td>\n",
              "      <td>...</td>\n",
              "      <td>...</td>\n",
              "      <td>...</td>\n",
              "      <td>...</td>\n",
              "      <td>...</td>\n",
              "      <td>...</td>\n",
              "      <td>...</td>\n",
              "      <td>...</td>\n",
              "      <td>...</td>\n",
              "      <td>...</td>\n",
              "      <td>...</td>\n",
              "      <td>...</td>\n",
              "      <td>...</td>\n",
              "      <td>...</td>\n",
              "      <td>...</td>\n",
              "      <td>...</td>\n",
              "      <td>...</td>\n",
              "      <td>...</td>\n",
              "      <td>...</td>\n",
              "      <td>...</td>\n",
              "      <td>...</td>\n",
              "    </tr>\n",
              "    <tr>\n",
              "      <th>201</th>\n",
              "      <td>-1</td>\n",
              "      <td>4</td>\n",
              "      <td>109.1</td>\n",
              "      <td>188.8</td>\n",
              "      <td>68.9</td>\n",
              "      <td>55.5</td>\n",
              "      <td>2952</td>\n",
              "      <td>4</td>\n",
              "      <td>141</td>\n",
              "      <td>3.78</td>\n",
              "      <td>3.15</td>\n",
              "      <td>9.5</td>\n",
              "      <td>114</td>\n",
              "      <td>5400</td>\n",
              "      <td>23</td>\n",
              "      <td>28</td>\n",
              "      <td>16845.0</td>\n",
              "      <td>9.778305</td>\n",
              "      <td>11.904024</td>\n",
              "      <td>12999.7982</td>\n",
              "      <td>12611.270833</td>\n",
              "      <td>14344.270833</td>\n",
              "      <td>19910.809211</td>\n",
              "      <td>12961.097361</td>\n",
              "      <td>11574.048426</td>\n",
              "      <td>17754.60284</td>\n",
              "      <td>18063.181818</td>\n",
              "    </tr>\n",
              "    <tr>\n",
              "      <th>202</th>\n",
              "      <td>-1</td>\n",
              "      <td>4</td>\n",
              "      <td>109.1</td>\n",
              "      <td>188.8</td>\n",
              "      <td>68.8</td>\n",
              "      <td>55.5</td>\n",
              "      <td>3049</td>\n",
              "      <td>4</td>\n",
              "      <td>141</td>\n",
              "      <td>3.78</td>\n",
              "      <td>3.15</td>\n",
              "      <td>8.7</td>\n",
              "      <td>160</td>\n",
              "      <td>5300</td>\n",
              "      <td>19</td>\n",
              "      <td>25</td>\n",
              "      <td>19045.0</td>\n",
              "      <td>8.077731</td>\n",
              "      <td>10.628593</td>\n",
              "      <td>12999.7982</td>\n",
              "      <td>16298.166676</td>\n",
              "      <td>14344.270833</td>\n",
              "      <td>19910.809211</td>\n",
              "      <td>12961.097361</td>\n",
              "      <td>11574.048426</td>\n",
              "      <td>17754.60284</td>\n",
              "      <td>18063.181818</td>\n",
              "    </tr>\n",
              "    <tr>\n",
              "      <th>203</th>\n",
              "      <td>-1</td>\n",
              "      <td>4</td>\n",
              "      <td>109.1</td>\n",
              "      <td>188.8</td>\n",
              "      <td>68.9</td>\n",
              "      <td>55.5</td>\n",
              "      <td>3012</td>\n",
              "      <td>6</td>\n",
              "      <td>173</td>\n",
              "      <td>3.58</td>\n",
              "      <td>2.87</td>\n",
              "      <td>8.8</td>\n",
              "      <td>134</td>\n",
              "      <td>5500</td>\n",
              "      <td>18</td>\n",
              "      <td>23</td>\n",
              "      <td>21485.0</td>\n",
              "      <td>7.652587</td>\n",
              "      <td>9.778305</td>\n",
              "      <td>12999.7982</td>\n",
              "      <td>12611.270833</td>\n",
              "      <td>14344.270833</td>\n",
              "      <td>19910.809211</td>\n",
              "      <td>12961.097361</td>\n",
              "      <td>25098.384615</td>\n",
              "      <td>17754.60284</td>\n",
              "      <td>18063.181818</td>\n",
              "    </tr>\n",
              "    <tr>\n",
              "      <th>204</th>\n",
              "      <td>-1</td>\n",
              "      <td>4</td>\n",
              "      <td>109.1</td>\n",
              "      <td>188.8</td>\n",
              "      <td>68.9</td>\n",
              "      <td>55.5</td>\n",
              "      <td>3217</td>\n",
              "      <td>6</td>\n",
              "      <td>145</td>\n",
              "      <td>3.01</td>\n",
              "      <td>3.40</td>\n",
              "      <td>23.0</td>\n",
              "      <td>106</td>\n",
              "      <td>4800</td>\n",
              "      <td>26</td>\n",
              "      <td>27</td>\n",
              "      <td>22470.0</td>\n",
              "      <td>11.053737</td>\n",
              "      <td>11.478880</td>\n",
              "      <td>15838.1500</td>\n",
              "      <td>16298.166676</td>\n",
              "      <td>14344.270833</td>\n",
              "      <td>19910.809211</td>\n",
              "      <td>12961.097361</td>\n",
              "      <td>11574.048426</td>\n",
              "      <td>15838.15000</td>\n",
              "      <td>18063.181818</td>\n",
              "    </tr>\n",
              "    <tr>\n",
              "      <th>205</th>\n",
              "      <td>-1</td>\n",
              "      <td>4</td>\n",
              "      <td>109.1</td>\n",
              "      <td>188.8</td>\n",
              "      <td>68.9</td>\n",
              "      <td>55.5</td>\n",
              "      <td>3062</td>\n",
              "      <td>4</td>\n",
              "      <td>141</td>\n",
              "      <td>3.78</td>\n",
              "      <td>3.15</td>\n",
              "      <td>9.5</td>\n",
              "      <td>114</td>\n",
              "      <td>5400</td>\n",
              "      <td>19</td>\n",
              "      <td>25</td>\n",
              "      <td>22625.0</td>\n",
              "      <td>8.077731</td>\n",
              "      <td>10.628593</td>\n",
              "      <td>12999.7982</td>\n",
              "      <td>16298.166676</td>\n",
              "      <td>14344.270833</td>\n",
              "      <td>19910.809211</td>\n",
              "      <td>12961.097361</td>\n",
              "      <td>11574.048426</td>\n",
              "      <td>17754.60284</td>\n",
              "      <td>18063.181818</td>\n",
              "    </tr>\n",
              "  </tbody>\n",
              "</table>\n",
              "<p>205 rows × 27 columns</p>\n",
              "</div>"
            ],
            "text/plain": [
              "        symboling  doornumber  ...  fuelsystem_value   Brand_value\n",
              "car_ID                         ...                                \n",
              "1               3           2  ...       17754.60284  15498.333333\n",
              "2               3           2  ...       17754.60284  15498.333333\n",
              "3               1           2  ...       17754.60284  15498.333333\n",
              "4               2           4  ...       17754.60284  17859.166714\n",
              "5               2           4  ...       17754.60284  17859.166714\n",
              "...           ...         ...  ...               ...           ...\n",
              "201            -1           4  ...       17754.60284  18063.181818\n",
              "202            -1           4  ...       17754.60284  18063.181818\n",
              "203            -1           4  ...       17754.60284  18063.181818\n",
              "204            -1           4  ...       15838.15000  18063.181818\n",
              "205            -1           4  ...       17754.60284  18063.181818\n",
              "\n",
              "[205 rows x 27 columns]"
            ]
          },
          "metadata": {
            "tags": []
          },
          "execution_count": 62
        }
      ]
    },
    {
      "cell_type": "code",
      "metadata": {
        "colab": {
          "base_uri": "https://localhost:8080/",
          "height": 823
        },
        "id": "PMnjSUJMQ3Ef",
        "outputId": "aef30ea0-a0b8-4f52-dceb-5bb7513ecc15"
      },
      "source": [
        "cols = cars_df.select_dtypes(exclude='object').columns\n",
        "pearson_coeff, p_value, sig = [], [], []\n",
        "for i in list(cols):\n",
        "    x, y = stats.pearsonr(cars_df[i], cars_df['price'])\n",
        "    pearson_coeff.append(x)\n",
        "    p_value.append(y)\n",
        "    sig.append('Significant' if y<0.05 else 'Insignificant')\n",
        "columns=['Columns', 'Pearson_Co-relation', 'P-Value', 'Significance']\n",
        "P_df = pd.DataFrame({columns[0]:cols, columns[1]:pearson_coeff, columns[2]:p_value, columns[3]:sig})\n",
        "cars_df = cars_df.drop(P_df[P_df['Significance'] == 'Insignificant']['Columns'].to_list(), axis=1)\n",
        "P_df"
      ],
      "execution_count": 63,
      "outputs": [
        {
          "output_type": "execute_result",
          "data": {
            "text/html": [
              "<div>\n",
              "<style scoped>\n",
              "    .dataframe tbody tr th:only-of-type {\n",
              "        vertical-align: middle;\n",
              "    }\n",
              "\n",
              "    .dataframe tbody tr th {\n",
              "        vertical-align: top;\n",
              "    }\n",
              "\n",
              "    .dataframe thead th {\n",
              "        text-align: right;\n",
              "    }\n",
              "</style>\n",
              "<table border=\"1\" class=\"dataframe\">\n",
              "  <thead>\n",
              "    <tr style=\"text-align: right;\">\n",
              "      <th></th>\n",
              "      <th>Columns</th>\n",
              "      <th>Pearson_Co-relation</th>\n",
              "      <th>P-Value</th>\n",
              "      <th>Significance</th>\n",
              "    </tr>\n",
              "  </thead>\n",
              "  <tbody>\n",
              "    <tr>\n",
              "      <th>0</th>\n",
              "      <td>symboling</td>\n",
              "      <td>-0.079978</td>\n",
              "      <td>2.543118e-01</td>\n",
              "      <td>Insignificant</td>\n",
              "    </tr>\n",
              "    <tr>\n",
              "      <th>1</th>\n",
              "      <td>doornumber</td>\n",
              "      <td>0.031835</td>\n",
              "      <td>6.504484e-01</td>\n",
              "      <td>Insignificant</td>\n",
              "    </tr>\n",
              "    <tr>\n",
              "      <th>2</th>\n",
              "      <td>wheelbase</td>\n",
              "      <td>0.577816</td>\n",
              "      <td>1.182820e-19</td>\n",
              "      <td>Significant</td>\n",
              "    </tr>\n",
              "    <tr>\n",
              "      <th>3</th>\n",
              "      <td>carlength</td>\n",
              "      <td>0.682920</td>\n",
              "      <td>1.678707e-29</td>\n",
              "      <td>Significant</td>\n",
              "    </tr>\n",
              "    <tr>\n",
              "      <th>4</th>\n",
              "      <td>carwidth</td>\n",
              "      <td>0.759325</td>\n",
              "      <td>9.627438e-40</td>\n",
              "      <td>Significant</td>\n",
              "    </tr>\n",
              "    <tr>\n",
              "      <th>5</th>\n",
              "      <td>carheight</td>\n",
              "      <td>0.119336</td>\n",
              "      <td>8.832832e-02</td>\n",
              "      <td>Insignificant</td>\n",
              "    </tr>\n",
              "    <tr>\n",
              "      <th>6</th>\n",
              "      <td>curbweight</td>\n",
              "      <td>0.835305</td>\n",
              "      <td>1.214445e-54</td>\n",
              "      <td>Significant</td>\n",
              "    </tr>\n",
              "    <tr>\n",
              "      <th>7</th>\n",
              "      <td>cylindernumber</td>\n",
              "      <td>0.718305</td>\n",
              "      <td>8.028863e-34</td>\n",
              "      <td>Significant</td>\n",
              "    </tr>\n",
              "    <tr>\n",
              "      <th>8</th>\n",
              "      <td>enginesize</td>\n",
              "      <td>0.874145</td>\n",
              "      <td>1.354764e-65</td>\n",
              "      <td>Significant</td>\n",
              "    </tr>\n",
              "    <tr>\n",
              "      <th>9</th>\n",
              "      <td>boreratio</td>\n",
              "      <td>0.553173</td>\n",
              "      <td>7.907922e-18</td>\n",
              "      <td>Significant</td>\n",
              "    </tr>\n",
              "    <tr>\n",
              "      <th>10</th>\n",
              "      <td>stroke</td>\n",
              "      <td>0.079443</td>\n",
              "      <td>2.575137e-01</td>\n",
              "      <td>Insignificant</td>\n",
              "    </tr>\n",
              "    <tr>\n",
              "      <th>11</th>\n",
              "      <td>compressionratio</td>\n",
              "      <td>0.067984</td>\n",
              "      <td>3.327724e-01</td>\n",
              "      <td>Insignificant</td>\n",
              "    </tr>\n",
              "    <tr>\n",
              "      <th>12</th>\n",
              "      <td>horsepower</td>\n",
              "      <td>0.808139</td>\n",
              "      <td>1.483437e-48</td>\n",
              "      <td>Significant</td>\n",
              "    </tr>\n",
              "    <tr>\n",
              "      <th>13</th>\n",
              "      <td>peakrpm</td>\n",
              "      <td>-0.085267</td>\n",
              "      <td>2.241412e-01</td>\n",
              "      <td>Insignificant</td>\n",
              "    </tr>\n",
              "    <tr>\n",
              "      <th>14</th>\n",
              "      <td>citympg</td>\n",
              "      <td>-0.685751</td>\n",
              "      <td>7.978684e-30</td>\n",
              "      <td>Significant</td>\n",
              "    </tr>\n",
              "    <tr>\n",
              "      <th>15</th>\n",
              "      <td>highwaympg</td>\n",
              "      <td>-0.697599</td>\n",
              "      <td>3.230681e-31</td>\n",
              "      <td>Significant</td>\n",
              "    </tr>\n",
              "    <tr>\n",
              "      <th>16</th>\n",
              "      <td>price</td>\n",
              "      <td>1.000000</td>\n",
              "      <td>0.000000e+00</td>\n",
              "      <td>Significant</td>\n",
              "    </tr>\n",
              "    <tr>\n",
              "      <th>17</th>\n",
              "      <td>city_mileage</td>\n",
              "      <td>-0.685751</td>\n",
              "      <td>7.978684e-30</td>\n",
              "      <td>Significant</td>\n",
              "    </tr>\n",
              "    <tr>\n",
              "      <th>18</th>\n",
              "      <td>highway_mileage</td>\n",
              "      <td>-0.697599</td>\n",
              "      <td>3.230681e-31</td>\n",
              "      <td>Significant</td>\n",
              "    </tr>\n",
              "    <tr>\n",
              "      <th>19</th>\n",
              "      <td>fueltype_value</td>\n",
              "      <td>0.105679</td>\n",
              "      <td>1.315356e-01</td>\n",
              "      <td>Insignificant</td>\n",
              "    </tr>\n",
              "    <tr>\n",
              "      <th>20</th>\n",
              "      <td>aspiration_value</td>\n",
              "      <td>0.177926</td>\n",
              "      <td>1.070030e-02</td>\n",
              "      <td>Significant</td>\n",
              "    </tr>\n",
              "    <tr>\n",
              "      <th>21</th>\n",
              "      <td>carbody_value</td>\n",
              "      <td>0.372030</td>\n",
              "      <td>3.962585e-08</td>\n",
              "      <td>Significant</td>\n",
              "    </tr>\n",
              "    <tr>\n",
              "      <th>22</th>\n",
              "      <td>drivewheel_value</td>\n",
              "      <td>0.640673</td>\n",
              "      <td>4.415578e-25</td>\n",
              "      <td>Significant</td>\n",
              "    </tr>\n",
              "    <tr>\n",
              "      <th>23</th>\n",
              "      <td>enginelocation_value</td>\n",
              "      <td>0.324973</td>\n",
              "      <td>1.993020e-06</td>\n",
              "      <td>Significant</td>\n",
              "    </tr>\n",
              "    <tr>\n",
              "      <th>24</th>\n",
              "      <td>enginetype_value</td>\n",
              "      <td>0.470384</td>\n",
              "      <td>1.107391e-12</td>\n",
              "      <td>Significant</td>\n",
              "    </tr>\n",
              "    <tr>\n",
              "      <th>25</th>\n",
              "      <td>fuelsystem_value</td>\n",
              "      <td>0.597700</td>\n",
              "      <td>3.048383e-21</td>\n",
              "      <td>Significant</td>\n",
              "    </tr>\n",
              "    <tr>\n",
              "      <th>26</th>\n",
              "      <td>Brand_value</td>\n",
              "      <td>0.895520</td>\n",
              "      <td>2.607648e-73</td>\n",
              "      <td>Significant</td>\n",
              "    </tr>\n",
              "  </tbody>\n",
              "</table>\n",
              "</div>"
            ],
            "text/plain": [
              "                 Columns  Pearson_Co-relation       P-Value   Significance\n",
              "0              symboling            -0.079978  2.543118e-01  Insignificant\n",
              "1             doornumber             0.031835  6.504484e-01  Insignificant\n",
              "2              wheelbase             0.577816  1.182820e-19    Significant\n",
              "3              carlength             0.682920  1.678707e-29    Significant\n",
              "4               carwidth             0.759325  9.627438e-40    Significant\n",
              "5              carheight             0.119336  8.832832e-02  Insignificant\n",
              "6             curbweight             0.835305  1.214445e-54    Significant\n",
              "7         cylindernumber             0.718305  8.028863e-34    Significant\n",
              "8             enginesize             0.874145  1.354764e-65    Significant\n",
              "9              boreratio             0.553173  7.907922e-18    Significant\n",
              "10                stroke             0.079443  2.575137e-01  Insignificant\n",
              "11      compressionratio             0.067984  3.327724e-01  Insignificant\n",
              "12            horsepower             0.808139  1.483437e-48    Significant\n",
              "13               peakrpm            -0.085267  2.241412e-01  Insignificant\n",
              "14               citympg            -0.685751  7.978684e-30    Significant\n",
              "15            highwaympg            -0.697599  3.230681e-31    Significant\n",
              "16                 price             1.000000  0.000000e+00    Significant\n",
              "17          city_mileage            -0.685751  7.978684e-30    Significant\n",
              "18       highway_mileage            -0.697599  3.230681e-31    Significant\n",
              "19        fueltype_value             0.105679  1.315356e-01  Insignificant\n",
              "20      aspiration_value             0.177926  1.070030e-02    Significant\n",
              "21         carbody_value             0.372030  3.962585e-08    Significant\n",
              "22      drivewheel_value             0.640673  4.415578e-25    Significant\n",
              "23  enginelocation_value             0.324973  1.993020e-06    Significant\n",
              "24      enginetype_value             0.470384  1.107391e-12    Significant\n",
              "25      fuelsystem_value             0.597700  3.048383e-21    Significant\n",
              "26           Brand_value             0.895520  2.607648e-73    Significant"
            ]
          },
          "metadata": {
            "tags": []
          },
          "execution_count": 63
        }
      ]
    },
    {
      "cell_type": "code",
      "metadata": {
        "id": "Q_dADgxQjFER"
      },
      "source": [
        "columns = cars_df.columns.to_list()\n",
        "#columns.remove('price')\n",
        "cars_df[columns] = QTransform.fit_transform(cars_df[columns])"
      ],
      "execution_count": 64,
      "outputs": []
    },
    {
      "cell_type": "code",
      "metadata": {
        "colab": {
          "base_uri": "https://localhost:8080/",
          "height": 440
        },
        "id": "iVoyQDNLqz4X",
        "outputId": "b6096711-6f50-4e78-a45f-295940bf87df"
      },
      "source": [
        "cars_df"
      ],
      "execution_count": 65,
      "outputs": [
        {
          "output_type": "execute_result",
          "data": {
            "text/html": [
              "<div>\n",
              "<style scoped>\n",
              "    .dataframe tbody tr th:only-of-type {\n",
              "        vertical-align: middle;\n",
              "    }\n",
              "\n",
              "    .dataframe tbody tr th {\n",
              "        vertical-align: top;\n",
              "    }\n",
              "\n",
              "    .dataframe thead th {\n",
              "        text-align: right;\n",
              "    }\n",
              "</style>\n",
              "<table border=\"1\" class=\"dataframe\">\n",
              "  <thead>\n",
              "    <tr style=\"text-align: right;\">\n",
              "      <th></th>\n",
              "      <th>wheelbase</th>\n",
              "      <th>carlength</th>\n",
              "      <th>carwidth</th>\n",
              "      <th>curbweight</th>\n",
              "      <th>cylindernumber</th>\n",
              "      <th>enginesize</th>\n",
              "      <th>boreratio</th>\n",
              "      <th>horsepower</th>\n",
              "      <th>citympg</th>\n",
              "      <th>highwaympg</th>\n",
              "      <th>price</th>\n",
              "      <th>city_mileage</th>\n",
              "      <th>highway_mileage</th>\n",
              "      <th>aspiration_value</th>\n",
              "      <th>carbody_value</th>\n",
              "      <th>drivewheel_value</th>\n",
              "      <th>enginelocation_value</th>\n",
              "      <th>enginetype_value</th>\n",
              "      <th>fuelsystem_value</th>\n",
              "      <th>Brand_value</th>\n",
              "    </tr>\n",
              "    <tr>\n",
              "      <th>car_ID</th>\n",
              "      <th></th>\n",
              "      <th></th>\n",
              "      <th></th>\n",
              "      <th></th>\n",
              "      <th></th>\n",
              "      <th></th>\n",
              "      <th></th>\n",
              "      <th></th>\n",
              "      <th></th>\n",
              "      <th></th>\n",
              "      <th></th>\n",
              "      <th></th>\n",
              "      <th></th>\n",
              "      <th></th>\n",
              "      <th></th>\n",
              "      <th></th>\n",
              "      <th></th>\n",
              "      <th></th>\n",
              "      <th></th>\n",
              "      <th></th>\n",
              "    </tr>\n",
              "  </thead>\n",
              "  <tbody>\n",
              "    <tr>\n",
              "      <th>1</th>\n",
              "      <td>0.017157</td>\n",
              "      <td>0.306373</td>\n",
              "      <td>0.252451</td>\n",
              "      <td>0.583333</td>\n",
              "      <td>0.411765</td>\n",
              "      <td>0.644608</td>\n",
              "      <td>0.678922</td>\n",
              "      <td>0.659314</td>\n",
              "      <td>0.301471</td>\n",
              "      <td>0.318627</td>\n",
              "      <td>0.642157</td>\n",
              "      <td>0.301471</td>\n",
              "      <td>0.318627</td>\n",
              "      <td>0.0</td>\n",
              "      <td>0.948529</td>\n",
              "      <td>1.000000</td>\n",
              "      <td>0.0</td>\n",
              "      <td>0.904412</td>\n",
              "      <td>1.000000</td>\n",
              "      <td>0.784314</td>\n",
              "    </tr>\n",
              "    <tr>\n",
              "      <th>2</th>\n",
              "      <td>0.017157</td>\n",
              "      <td>0.306373</td>\n",
              "      <td>0.252451</td>\n",
              "      <td>0.583333</td>\n",
              "      <td>0.411765</td>\n",
              "      <td>0.644608</td>\n",
              "      <td>0.678922</td>\n",
              "      <td>0.659314</td>\n",
              "      <td>0.301471</td>\n",
              "      <td>0.318627</td>\n",
              "      <td>0.742647</td>\n",
              "      <td>0.301471</td>\n",
              "      <td>0.318627</td>\n",
              "      <td>0.0</td>\n",
              "      <td>0.948529</td>\n",
              "      <td>1.000000</td>\n",
              "      <td>0.0</td>\n",
              "      <td>0.904412</td>\n",
              "      <td>1.000000</td>\n",
              "      <td>0.784314</td>\n",
              "    </tr>\n",
              "    <tr>\n",
              "      <th>3</th>\n",
              "      <td>0.235294</td>\n",
              "      <td>0.397059</td>\n",
              "      <td>0.507353</td>\n",
              "      <td>0.705882</td>\n",
              "      <td>0.914216</td>\n",
              "      <td>0.806373</td>\n",
              "      <td>0.004902</td>\n",
              "      <td>0.862745</td>\n",
              "      <td>0.200980</td>\n",
              "      <td>0.299020</td>\n",
              "      <td>0.742647</td>\n",
              "      <td>0.200980</td>\n",
              "      <td>0.299020</td>\n",
              "      <td>0.0</td>\n",
              "      <td>0.000000</td>\n",
              "      <td>1.000000</td>\n",
              "      <td>0.0</td>\n",
              "      <td>0.965686</td>\n",
              "      <td>1.000000</td>\n",
              "      <td>0.784314</td>\n",
              "    </tr>\n",
              "    <tr>\n",
              "      <th>4</th>\n",
              "      <td>0.688725</td>\n",
              "      <td>0.644608</td>\n",
              "      <td>0.593137</td>\n",
              "      <td>0.404412</td>\n",
              "      <td>0.411765</td>\n",
              "      <td>0.406863</td>\n",
              "      <td>0.375000</td>\n",
              "      <td>0.593137</td>\n",
              "      <td>0.453431</td>\n",
              "      <td>0.480392</td>\n",
              "      <td>0.671569</td>\n",
              "      <td>0.453431</td>\n",
              "      <td>0.480392</td>\n",
              "      <td>0.0</td>\n",
              "      <td>0.698529</td>\n",
              "      <td>0.000000</td>\n",
              "      <td>0.0</td>\n",
              "      <td>0.000000</td>\n",
              "      <td>1.000000</td>\n",
              "      <td>0.813725</td>\n",
              "    </tr>\n",
              "    <tr>\n",
              "      <th>5</th>\n",
              "      <td>0.676471</td>\n",
              "      <td>0.644608</td>\n",
              "      <td>0.627451</td>\n",
              "      <td>0.710784</td>\n",
              "      <td>0.825980</td>\n",
              "      <td>0.696078</td>\n",
              "      <td>0.375000</td>\n",
              "      <td>0.710784</td>\n",
              "      <td>0.127451</td>\n",
              "      <td>0.061275</td>\n",
              "      <td>0.799020</td>\n",
              "      <td>0.127451</td>\n",
              "      <td>0.061275</td>\n",
              "      <td>0.0</td>\n",
              "      <td>0.698529</td>\n",
              "      <td>0.607843</td>\n",
              "      <td>0.0</td>\n",
              "      <td>0.000000</td>\n",
              "      <td>1.000000</td>\n",
              "      <td>0.813725</td>\n",
              "    </tr>\n",
              "    <tr>\n",
              "      <th>...</th>\n",
              "      <td>...</td>\n",
              "      <td>...</td>\n",
              "      <td>...</td>\n",
              "      <td>...</td>\n",
              "      <td>...</td>\n",
              "      <td>...</td>\n",
              "      <td>...</td>\n",
              "      <td>...</td>\n",
              "      <td>...</td>\n",
              "      <td>...</td>\n",
              "      <td>...</td>\n",
              "      <td>...</td>\n",
              "      <td>...</td>\n",
              "      <td>...</td>\n",
              "      <td>...</td>\n",
              "      <td>...</td>\n",
              "      <td>...</td>\n",
              "      <td>...</td>\n",
              "      <td>...</td>\n",
              "      <td>...</td>\n",
              "    </tr>\n",
              "    <tr>\n",
              "      <th>201</th>\n",
              "      <td>0.928922</td>\n",
              "      <td>0.877451</td>\n",
              "      <td>0.914216</td>\n",
              "      <td>0.754902</td>\n",
              "      <td>0.411765</td>\n",
              "      <td>0.735294</td>\n",
              "      <td>0.963235</td>\n",
              "      <td>0.693627</td>\n",
              "      <td>0.370098</td>\n",
              "      <td>0.362745</td>\n",
              "      <td>0.774510</td>\n",
              "      <td>0.370098</td>\n",
              "      <td>0.362745</td>\n",
              "      <td>0.0</td>\n",
              "      <td>0.698529</td>\n",
              "      <td>1.000000</td>\n",
              "      <td>0.0</td>\n",
              "      <td>0.000000</td>\n",
              "      <td>1.000000</td>\n",
              "      <td>0.857843</td>\n",
              "    </tr>\n",
              "    <tr>\n",
              "      <th>202</th>\n",
              "      <td>0.928922</td>\n",
              "      <td>0.877451</td>\n",
              "      <td>0.901961</td>\n",
              "      <td>0.803922</td>\n",
              "      <td>0.411765</td>\n",
              "      <td>0.735294</td>\n",
              "      <td>0.963235</td>\n",
              "      <td>0.899510</td>\n",
              "      <td>0.200980</td>\n",
              "      <td>0.245098</td>\n",
              "      <td>0.867647</td>\n",
              "      <td>0.200980</td>\n",
              "      <td>0.245098</td>\n",
              "      <td>1.0</td>\n",
              "      <td>0.698529</td>\n",
              "      <td>1.000000</td>\n",
              "      <td>0.0</td>\n",
              "      <td>0.000000</td>\n",
              "      <td>1.000000</td>\n",
              "      <td>0.857843</td>\n",
              "    </tr>\n",
              "    <tr>\n",
              "      <th>203</th>\n",
              "      <td>0.928922</td>\n",
              "      <td>0.877451</td>\n",
              "      <td>0.914216</td>\n",
              "      <td>0.774510</td>\n",
              "      <td>0.914216</td>\n",
              "      <td>0.882353</td>\n",
              "      <td>0.737745</td>\n",
              "      <td>0.799020</td>\n",
              "      <td>0.127451</td>\n",
              "      <td>0.100490</td>\n",
              "      <td>0.887255</td>\n",
              "      <td>0.127451</td>\n",
              "      <td>0.100490</td>\n",
              "      <td>0.0</td>\n",
              "      <td>0.698529</td>\n",
              "      <td>1.000000</td>\n",
              "      <td>0.0</td>\n",
              "      <td>0.965686</td>\n",
              "      <td>1.000000</td>\n",
              "      <td>0.857843</td>\n",
              "    </tr>\n",
              "    <tr>\n",
              "      <th>204</th>\n",
              "      <td>0.928922</td>\n",
              "      <td>0.877451</td>\n",
              "      <td>0.914216</td>\n",
              "      <td>0.892157</td>\n",
              "      <td>0.914216</td>\n",
              "      <td>0.754902</td>\n",
              "      <td>0.122549</td>\n",
              "      <td>0.607843</td>\n",
              "      <td>0.575980</td>\n",
              "      <td>0.318627</td>\n",
              "      <td>0.897059</td>\n",
              "      <td>0.575980</td>\n",
              "      <td>0.318627</td>\n",
              "      <td>1.0</td>\n",
              "      <td>0.698529</td>\n",
              "      <td>1.000000</td>\n",
              "      <td>0.0</td>\n",
              "      <td>0.000000</td>\n",
              "      <td>0.492647</td>\n",
              "      <td>0.857843</td>\n",
              "    </tr>\n",
              "    <tr>\n",
              "      <th>205</th>\n",
              "      <td>0.928922</td>\n",
              "      <td>0.877451</td>\n",
              "      <td>0.914216</td>\n",
              "      <td>0.823529</td>\n",
              "      <td>0.411765</td>\n",
              "      <td>0.735294</td>\n",
              "      <td>0.963235</td>\n",
              "      <td>0.693627</td>\n",
              "      <td>0.200980</td>\n",
              "      <td>0.245098</td>\n",
              "      <td>0.901961</td>\n",
              "      <td>0.200980</td>\n",
              "      <td>0.245098</td>\n",
              "      <td>1.0</td>\n",
              "      <td>0.698529</td>\n",
              "      <td>1.000000</td>\n",
              "      <td>0.0</td>\n",
              "      <td>0.000000</td>\n",
              "      <td>1.000000</td>\n",
              "      <td>0.857843</td>\n",
              "    </tr>\n",
              "  </tbody>\n",
              "</table>\n",
              "<p>205 rows × 20 columns</p>\n",
              "</div>"
            ],
            "text/plain": [
              "        wheelbase  carlength  ...  fuelsystem_value  Brand_value\n",
              "car_ID                        ...                               \n",
              "1        0.017157   0.306373  ...          1.000000     0.784314\n",
              "2        0.017157   0.306373  ...          1.000000     0.784314\n",
              "3        0.235294   0.397059  ...          1.000000     0.784314\n",
              "4        0.688725   0.644608  ...          1.000000     0.813725\n",
              "5        0.676471   0.644608  ...          1.000000     0.813725\n",
              "...           ...        ...  ...               ...          ...\n",
              "201      0.928922   0.877451  ...          1.000000     0.857843\n",
              "202      0.928922   0.877451  ...          1.000000     0.857843\n",
              "203      0.928922   0.877451  ...          1.000000     0.857843\n",
              "204      0.928922   0.877451  ...          0.492647     0.857843\n",
              "205      0.928922   0.877451  ...          1.000000     0.857843\n",
              "\n",
              "[205 rows x 20 columns]"
            ]
          },
          "metadata": {
            "tags": []
          },
          "execution_count": 65
        }
      ]
    },
    {
      "cell_type": "code",
      "metadata": {
        "colab": {
          "base_uri": "https://localhost:8080/",
          "height": 1000
        },
        "id": "2WjrPilMr1uq",
        "outputId": "5b6176b9-ef10-429a-c600-0b208104c2f3"
      },
      "source": [
        "N = len(cars_df.columns)\n",
        "plt.figure(figsize = (N, N))\n",
        "sns.heatmap(cars_df.corr(method ='pearson'), cmap='coolwarm', annot=True, linewidths=.5)\n",
        "plt.show()"
      ],
      "execution_count": 66,
      "outputs": [
        {
          "output_type": "display_data",
          "data": {
            "image/png": "[encoded data removed]",
            "text/plain": [
              "<Figure size 1440x1440 with 2 Axes>"
            ]
          },
          "metadata": {
            "tags": [],
            "needs_background": "light"
          }
        }
      ]
    },
    {
      "cell_type": "code",
      "metadata": {
        "colab": {
          "base_uri": "https://localhost:8080/"
        },
        "id": "dPryAcwUsQ4q",
        "outputId": "66a4c544-1753-4bb6-c384-dfd4b4280dee"
      },
      "source": [
        "cars_df.corr(method ='pearson').unstack().sort_values().drop_duplicates()"
      ],
      "execution_count": 67,
      "outputs": [
        {
          "output_type": "execute_result",
          "data": {
            "text/plain": [
              "horsepower  city_mileage      -0.910212\n",
              "citympg     horsepower        -0.910186\n",
              "highwaympg  horsepower        -0.886050\n",
              "horsepower  highway_mileage   -0.885914\n",
              "curbweight  highwaympg        -0.834628\n",
              "                                 ...   \n",
              "highwaympg  city_mileage       0.967851\n",
              "citympg     highwaympg         0.967852\n",
              "highwaympg  highway_mileage    0.999998\n",
              "citympg     city_mileage       0.999998\n",
              "wheelbase   wheelbase          1.000000\n",
              "Length: 191, dtype: float64"
            ]
          },
          "metadata": {
            "tags": []
          },
          "execution_count": 67
        }
      ]
    },
    {
      "cell_type": "code",
      "metadata": {
        "colab": {
          "base_uri": "https://localhost:8080/",
          "height": 622
        },
        "id": "wz1w1WGAtaBS",
        "outputId": "bdafe0be-221e-4fd2-d973-29b4dc4726b0"
      },
      "source": [
        "cols = cars_df.select_dtypes(exclude='object').columns\n",
        "pearson_coeff, p_value, sig = [], [], []\n",
        "for i in list(cols):\n",
        "    x, y = stats.pearsonr(cars_df[i], cars_df['price'])\n",
        "    pearson_coeff.append(x)\n",
        "    p_value.append(y)\n",
        "    sig.append('Significant' if y<0.05 and x > 0.80 else 'Insignificant')\n",
        "columns=['Columns', 'Pearson_Co-relation', 'P-Value', 'Significance']\n",
        "P_df = pd.DataFrame({columns[0]:cols, columns[1]:pearson_coeff, columns[2]:p_value, columns[3]:sig})\n",
        "cars_df = cars_df.drop(P_df[P_df['Significance'] == 'Insignificant']['Columns'].to_list(), axis=1)\n",
        "P_df"
      ],
      "execution_count": 68,
      "outputs": [
        {
          "output_type": "execute_result",
          "data": {
            "text/html": [
              "<div>\n",
              "<style scoped>\n",
              "    .dataframe tbody tr th:only-of-type {\n",
              "        vertical-align: middle;\n",
              "    }\n",
              "\n",
              "    .dataframe tbody tr th {\n",
              "        vertical-align: top;\n",
              "    }\n",
              "\n",
              "    .dataframe thead th {\n",
              "        text-align: right;\n",
              "    }\n",
              "</style>\n",
              "<table border=\"1\" class=\"dataframe\">\n",
              "  <thead>\n",
              "    <tr style=\"text-align: right;\">\n",
              "      <th></th>\n",
              "      <th>Columns</th>\n",
              "      <th>Pearson_Co-relation</th>\n",
              "      <th>P-Value</th>\n",
              "      <th>Significance</th>\n",
              "    </tr>\n",
              "  </thead>\n",
              "  <tbody>\n",
              "    <tr>\n",
              "      <th>0</th>\n",
              "      <td>wheelbase</td>\n",
              "      <td>0.681711</td>\n",
              "      <td>2.300569e-29</td>\n",
              "      <td>Insignificant</td>\n",
              "    </tr>\n",
              "    <tr>\n",
              "      <th>1</th>\n",
              "      <td>carlength</td>\n",
              "      <td>0.804260</td>\n",
              "      <td>9.141667e-48</td>\n",
              "      <td>Significant</td>\n",
              "    </tr>\n",
              "    <tr>\n",
              "      <th>2</th>\n",
              "      <td>carwidth</td>\n",
              "      <td>0.811361</td>\n",
              "      <td>3.173284e-49</td>\n",
              "      <td>Significant</td>\n",
              "    </tr>\n",
              "    <tr>\n",
              "      <th>3</th>\n",
              "      <td>curbweight</td>\n",
              "      <td>0.909073</td>\n",
              "      <td>3.974519e-79</td>\n",
              "      <td>Significant</td>\n",
              "    </tr>\n",
              "    <tr>\n",
              "      <th>4</th>\n",
              "      <td>cylindernumber</td>\n",
              "      <td>0.584301</td>\n",
              "      <td>3.686395e-20</td>\n",
              "      <td>Insignificant</td>\n",
              "    </tr>\n",
              "    <tr>\n",
              "      <th>5</th>\n",
              "      <td>enginesize</td>\n",
              "      <td>0.825935</td>\n",
              "      <td>2.007628e-52</td>\n",
              "      <td>Significant</td>\n",
              "    </tr>\n",
              "    <tr>\n",
              "      <th>6</th>\n",
              "      <td>boreratio</td>\n",
              "      <td>0.643870</td>\n",
              "      <td>2.161529e-25</td>\n",
              "      <td>Insignificant</td>\n",
              "    </tr>\n",
              "    <tr>\n",
              "      <th>7</th>\n",
              "      <td>horsepower</td>\n",
              "      <td>0.854230</td>\n",
              "      <td>1.400344e-59</td>\n",
              "      <td>Significant</td>\n",
              "    </tr>\n",
              "    <tr>\n",
              "      <th>8</th>\n",
              "      <td>citympg</td>\n",
              "      <td>-0.829298</td>\n",
              "      <td>3.326999e-53</td>\n",
              "      <td>Insignificant</td>\n",
              "    </tr>\n",
              "    <tr>\n",
              "      <th>9</th>\n",
              "      <td>highwaympg</td>\n",
              "      <td>-0.822727</td>\n",
              "      <td>1.076246e-51</td>\n",
              "      <td>Insignificant</td>\n",
              "    </tr>\n",
              "    <tr>\n",
              "      <th>10</th>\n",
              "      <td>price</td>\n",
              "      <td>1.000000</td>\n",
              "      <td>0.000000e+00</td>\n",
              "      <td>Significant</td>\n",
              "    </tr>\n",
              "    <tr>\n",
              "      <th>11</th>\n",
              "      <td>city_mileage</td>\n",
              "      <td>-0.829312</td>\n",
              "      <td>3.301381e-53</td>\n",
              "      <td>Insignificant</td>\n",
              "    </tr>\n",
              "    <tr>\n",
              "      <th>12</th>\n",
              "      <td>highway_mileage</td>\n",
              "      <td>-0.822504</td>\n",
              "      <td>1.207720e-51</td>\n",
              "      <td>Insignificant</td>\n",
              "    </tr>\n",
              "    <tr>\n",
              "      <th>13</th>\n",
              "      <td>aspiration_value</td>\n",
              "      <td>0.308961</td>\n",
              "      <td>6.563755e-06</td>\n",
              "      <td>Insignificant</td>\n",
              "    </tr>\n",
              "    <tr>\n",
              "      <th>14</th>\n",
              "      <td>carbody_value</td>\n",
              "      <td>0.309372</td>\n",
              "      <td>6.371276e-06</td>\n",
              "      <td>Insignificant</td>\n",
              "    </tr>\n",
              "    <tr>\n",
              "      <th>15</th>\n",
              "      <td>drivewheel_value</td>\n",
              "      <td>0.677541</td>\n",
              "      <td>6.742123e-29</td>\n",
              "      <td>Insignificant</td>\n",
              "    </tr>\n",
              "    <tr>\n",
              "      <th>16</th>\n",
              "      <td>enginelocation_value</td>\n",
              "      <td>0.194951</td>\n",
              "      <td>5.092263e-03</td>\n",
              "      <td>Insignificant</td>\n",
              "    </tr>\n",
              "    <tr>\n",
              "      <th>17</th>\n",
              "      <td>enginetype_value</td>\n",
              "      <td>0.373359</td>\n",
              "      <td>3.513887e-08</td>\n",
              "      <td>Insignificant</td>\n",
              "    </tr>\n",
              "    <tr>\n",
              "      <th>18</th>\n",
              "      <td>fuelsystem_value</td>\n",
              "      <td>0.744606</td>\n",
              "      <td>1.730924e-37</td>\n",
              "      <td>Insignificant</td>\n",
              "    </tr>\n",
              "    <tr>\n",
              "      <th>19</th>\n",
              "      <td>Brand_value</td>\n",
              "      <td>0.736476</td>\n",
              "      <td>2.620199e-36</td>\n",
              "      <td>Insignificant</td>\n",
              "    </tr>\n",
              "  </tbody>\n",
              "</table>\n",
              "</div>"
            ],
            "text/plain": [
              "                 Columns  Pearson_Co-relation       P-Value   Significance\n",
              "0              wheelbase             0.681711  2.300569e-29  Insignificant\n",
              "1              carlength             0.804260  9.141667e-48    Significant\n",
              "2               carwidth             0.811361  3.173284e-49    Significant\n",
              "3             curbweight             0.909073  3.974519e-79    Significant\n",
              "4         cylindernumber             0.584301  3.686395e-20  Insignificant\n",
              "5             enginesize             0.825935  2.007628e-52    Significant\n",
              "6              boreratio             0.643870  2.161529e-25  Insignificant\n",
              "7             horsepower             0.854230  1.400344e-59    Significant\n",
              "8                citympg            -0.829298  3.326999e-53  Insignificant\n",
              "9             highwaympg            -0.822727  1.076246e-51  Insignificant\n",
              "10                 price             1.000000  0.000000e+00    Significant\n",
              "11          city_mileage            -0.829312  3.301381e-53  Insignificant\n",
              "12       highway_mileage            -0.822504  1.207720e-51  Insignificant\n",
              "13      aspiration_value             0.308961  6.563755e-06  Insignificant\n",
              "14         carbody_value             0.309372  6.371276e-06  Insignificant\n",
              "15      drivewheel_value             0.677541  6.742123e-29  Insignificant\n",
              "16  enginelocation_value             0.194951  5.092263e-03  Insignificant\n",
              "17      enginetype_value             0.373359  3.513887e-08  Insignificant\n",
              "18      fuelsystem_value             0.744606  1.730924e-37  Insignificant\n",
              "19           Brand_value             0.736476  2.620199e-36  Insignificant"
            ]
          },
          "metadata": {
            "tags": []
          },
          "execution_count": 68
        }
      ]
    },
    {
      "cell_type": "code",
      "metadata": {
        "colab": {
          "base_uri": "https://localhost:8080/",
          "height": 220
        },
        "id": "EmsWRN5nxcKY",
        "outputId": "b6c7a611-580b-4358-b354-14d4379af4f9"
      },
      "source": [
        "P_df[P_df['Significance'] == 'Significant']"
      ],
      "execution_count": 69,
      "outputs": [
        {
          "output_type": "execute_result",
          "data": {
            "text/html": [
              "<div>\n",
              "<style scoped>\n",
              "    .dataframe tbody tr th:only-of-type {\n",
              "        vertical-align: middle;\n",
              "    }\n",
              "\n",
              "    .dataframe tbody tr th {\n",
              "        vertical-align: top;\n",
              "    }\n",
              "\n",
              "    .dataframe thead th {\n",
              "        text-align: right;\n",
              "    }\n",
              "</style>\n",
              "<table border=\"1\" class=\"dataframe\">\n",
              "  <thead>\n",
              "    <tr style=\"text-align: right;\">\n",
              "      <th></th>\n",
              "      <th>Columns</th>\n",
              "      <th>Pearson_Co-relation</th>\n",
              "      <th>P-Value</th>\n",
              "      <th>Significance</th>\n",
              "    </tr>\n",
              "  </thead>\n",
              "  <tbody>\n",
              "    <tr>\n",
              "      <th>1</th>\n",
              "      <td>carlength</td>\n",
              "      <td>0.804260</td>\n",
              "      <td>9.141667e-48</td>\n",
              "      <td>Significant</td>\n",
              "    </tr>\n",
              "    <tr>\n",
              "      <th>2</th>\n",
              "      <td>carwidth</td>\n",
              "      <td>0.811361</td>\n",
              "      <td>3.173284e-49</td>\n",
              "      <td>Significant</td>\n",
              "    </tr>\n",
              "    <tr>\n",
              "      <th>3</th>\n",
              "      <td>curbweight</td>\n",
              "      <td>0.909073</td>\n",
              "      <td>3.974519e-79</td>\n",
              "      <td>Significant</td>\n",
              "    </tr>\n",
              "    <tr>\n",
              "      <th>5</th>\n",
              "      <td>enginesize</td>\n",
              "      <td>0.825935</td>\n",
              "      <td>2.007628e-52</td>\n",
              "      <td>Significant</td>\n",
              "    </tr>\n",
              "    <tr>\n",
              "      <th>7</th>\n",
              "      <td>horsepower</td>\n",
              "      <td>0.854230</td>\n",
              "      <td>1.400344e-59</td>\n",
              "      <td>Significant</td>\n",
              "    </tr>\n",
              "    <tr>\n",
              "      <th>10</th>\n",
              "      <td>price</td>\n",
              "      <td>1.000000</td>\n",
              "      <td>0.000000e+00</td>\n",
              "      <td>Significant</td>\n",
              "    </tr>\n",
              "  </tbody>\n",
              "</table>\n",
              "</div>"
            ],
            "text/plain": [
              "       Columns  Pearson_Co-relation       P-Value Significance\n",
              "1    carlength             0.804260  9.141667e-48  Significant\n",
              "2     carwidth             0.811361  3.173284e-49  Significant\n",
              "3   curbweight             0.909073  3.974519e-79  Significant\n",
              "5   enginesize             0.825935  2.007628e-52  Significant\n",
              "7   horsepower             0.854230  1.400344e-59  Significant\n",
              "10       price             1.000000  0.000000e+00  Significant"
            ]
          },
          "metadata": {
            "tags": []
          },
          "execution_count": 69
        }
      ]
    },
    {
      "cell_type": "code",
      "metadata": {
        "colab": {
          "base_uri": "https://localhost:8080/",
          "height": 427
        },
        "id": "lkAdpCgFyD1w",
        "outputId": "49f24fc2-1332-4445-9ae6-fb2d3c9bf2ec"
      },
      "source": [
        "N = len(cars_df.columns)\n",
        "plt.figure(figsize = (N, N))\n",
        "sns.heatmap(cars_df.corr(method ='pearson'), cmap='Reds', annot=True, linewidths=.5)\n",
        "plt.show()"
      ],
      "execution_count": 70,
      "outputs": [
        {
          "output_type": "display_data",
          "data": {
            "image/png": "[encoded data removed]",
            "text/plain": [
              "<Figure size 432x432 with 2 Axes>"
            ]
          },
          "metadata": {
            "tags": [],
            "needs_background": "light"
          }
        }
      ]
    },
    {
      "cell_type": "code",
      "metadata": {
        "colab": {
          "base_uri": "https://localhost:8080/",
          "height": 67
        },
        "id": "PxG4tfVmtpzx",
        "outputId": "1617559b-f6c8-4687-9057-b2039da217da"
      },
      "source": [
        "'''\n",
        "from statsmodels.stats.outliers_influence import variance_inflation_factor\n",
        "X = cars_df.drop('price', axis=1)\n",
        "y = cars_df['price']\n",
        "vif_df = pd.DataFrame()\n",
        "vif_df['variables'] = X.columns\n",
        "vif_df['vif'] = [variance_inflation_factor(X.values, i) for i in range(X.shape[1])]\n",
        "for index,column in enumerate(X.columns):\n",
        "    print(index, column, vif_df['vif'][index])\n",
        "    if vif_df['vif'][index] > 10:\n",
        "        vif_df = vif_df.drop([index], axis=0)\n",
        "'''"
      ],
      "execution_count": 71,
      "outputs": [
        {
          "output_type": "execute_result",
          "data": {
            "application/vnd.google.colaboratory.intrinsic+json": {
              "type": "string"
            },
            "text/plain": [
              "\"\\nfrom statsmodels.stats.outliers_influence import variance_inflation_factor\\nX = cars_df.drop('price', axis=1)\\ny = cars_df['price']\\nvif_df = pd.DataFrame()\\nvif_df['variables'] = X.columns\\nvif_df['vif'] = [variance_inflation_factor(X.values, i) for i in range(X.shape[1])]\\nfor index,column in enumerate(X.columns):\\n    print(index, column, vif_df['vif'][index])\\n    if vif_df['vif'][index] > 10:\\n        vif_df = vif_df.drop([index], axis=0)\\n\""
            ]
          },
          "metadata": {
            "tags": []
          },
          "execution_count": 71
        }
      ]
    },
    {
      "cell_type": "code",
      "metadata": {
        "execution": {
          "iopub.execute_input": "2021-05-05T13:27:19.245436Z",
          "iopub.status.busy": "2021-05-05T13:27:19.244831Z",
          "iopub.status.idle": "2021-05-05T13:27:19.247363Z",
          "shell.execute_reply": "2021-05-05T13:27:19.246807Z"
        },
        "papermill": {
          "duration": 0.060705,
          "end_time": "2021-05-05T13:27:19.247496",
          "exception": false,
          "start_time": "2021-05-05T13:27:19.186791",
          "status": "completed"
        },
        "tags": [],
        "id": "cardiac-coalition"
      },
      "source": [
        "#columns = list(vif_df['variables'])\n",
        "data = cars_df#[columns]\n",
        "#data = pd.concat([data, cars_df['price']], axis=1)"
      ],
      "execution_count": 72,
      "outputs": []
    },
    {
      "cell_type": "code",
      "metadata": {
        "execution": {
          "iopub.execute_input": "2021-05-05T13:27:19.353779Z",
          "iopub.status.busy": "2021-05-05T13:27:19.353169Z",
          "iopub.status.idle": "2021-05-05T13:27:19.428072Z",
          "shell.execute_reply": "2021-05-05T13:27:19.427435Z"
        },
        "papermill": {
          "duration": 0.130099,
          "end_time": "2021-05-05T13:27:19.428263",
          "exception": false,
          "start_time": "2021-05-05T13:27:19.298164",
          "status": "completed"
        },
        "tags": [],
        "id": "equal-edward"
      },
      "source": [
        "from sklearn.model_selection import train_test_split\n",
        "\n",
        "X = data.drop('price', axis=1)\n",
        "y = data['price']\n",
        "\n",
        "X_train, X_test, y_train, y_test = train_test_split( X, y, train_size = 0.75, test_size=0.25, random_state=1)"
      ],
      "execution_count": 73,
      "outputs": []
    },
    {
      "cell_type": "code",
      "metadata": {
        "execution": {
          "iopub.execute_input": "2021-05-05T13:27:19.535284Z",
          "iopub.status.busy": "2021-05-05T13:27:19.534494Z",
          "iopub.status.idle": "2021-05-05T13:27:19.668219Z",
          "shell.execute_reply": "2021-05-05T13:27:19.668736Z"
        },
        "papermill": {
          "duration": 0.189625,
          "end_time": "2021-05-05T13:27:19.668913",
          "exception": false,
          "start_time": "2021-05-05T13:27:19.479288",
          "status": "completed"
        },
        "tags": [],
        "colab": {
          "base_uri": "https://localhost:8080/"
        },
        "id": "close-breed",
        "outputId": "ba4e7893-84af-47c2-914e-67c4c62ba775"
      },
      "source": [
        "from sklearn.linear_model import LinearRegression\n",
        "from sklearn.metrics import r2_score\n",
        "\n",
        "model = LinearRegression().fit(X_train, y_train)\n",
        "\n",
        "print(f'R Square Value of Test Data: {round(r2_score(y_test, model.predict(X_test))*100, 2)}%')\n",
        "print(f'R Square Value of Train Data: {round(r2_score(y_train, model.predict(X_train))*100,2)}%')"
      ],
      "execution_count": 74,
      "outputs": [
        {
          "output_type": "stream",
          "text": [
            "R Square Value of Test Data: 88.52%\n",
            "R Square Value of Train Data: 86.47%\n"
          ],
          "name": "stdout"
        }
      ]
    },
    {
      "cell_type": "code",
      "metadata": {
        "colab": {
          "base_uri": "https://localhost:8080/",
          "height": 420
        },
        "id": "iHaf3g2PCmzs",
        "outputId": "47d35043-ce7d-4b38-f85d-006e5026843a"
      },
      "source": [
        "r_df = pd.DataFrame({'Prediction':model.predict(X_train), 'Actual':y_train})\n",
        "r_df"
      ],
      "execution_count": 75,
      "outputs": [
        {
          "output_type": "execute_result",
          "data": {
            "text/html": [
              "<div>\n",
              "<style scoped>\n",
              "    .dataframe tbody tr th:only-of-type {\n",
              "        vertical-align: middle;\n",
              "    }\n",
              "\n",
              "    .dataframe tbody tr th {\n",
              "        vertical-align: top;\n",
              "    }\n",
              "\n",
              "    .dataframe thead th {\n",
              "        text-align: right;\n",
              "    }\n",
              "</style>\n",
              "<table border=\"1\" class=\"dataframe\">\n",
              "  <thead>\n",
              "    <tr style=\"text-align: right;\">\n",
              "      <th></th>\n",
              "      <th>Prediction</th>\n",
              "      <th>Actual</th>\n",
              "    </tr>\n",
              "    <tr>\n",
              "      <th>car_ID</th>\n",
              "      <th></th>\n",
              "      <th></th>\n",
              "    </tr>\n",
              "  </thead>\n",
              "  <tbody>\n",
              "    <tr>\n",
              "      <th>15</th>\n",
              "      <td>0.778630</td>\n",
              "      <td>0.911765</td>\n",
              "    </tr>\n",
              "    <tr>\n",
              "      <th>163</th>\n",
              "      <td>0.250979</td>\n",
              "      <td>0.411765</td>\n",
              "    </tr>\n",
              "    <tr>\n",
              "      <th>60</th>\n",
              "      <td>0.434071</td>\n",
              "      <td>0.365196</td>\n",
              "    </tr>\n",
              "    <tr>\n",
              "      <th>20</th>\n",
              "      <td>0.100083</td>\n",
              "      <td>0.063725</td>\n",
              "    </tr>\n",
              "    <tr>\n",
              "      <th>178</th>\n",
              "      <td>0.522990</td>\n",
              "      <td>0.549020</td>\n",
              "    </tr>\n",
              "    <tr>\n",
              "      <th>...</th>\n",
              "      <td>...</td>\n",
              "      <td>...</td>\n",
              "    </tr>\n",
              "    <tr>\n",
              "      <th>134</th>\n",
              "      <td>0.629927</td>\n",
              "      <td>0.588235</td>\n",
              "    </tr>\n",
              "    <tr>\n",
              "      <th>138</th>\n",
              "      <td>0.777047</td>\n",
              "      <td>0.852941</td>\n",
              "    </tr>\n",
              "    <tr>\n",
              "      <th>73</th>\n",
              "      <td>0.940373</td>\n",
              "      <td>0.965686</td>\n",
              "    </tr>\n",
              "    <tr>\n",
              "      <th>141</th>\n",
              "      <td>0.275428</td>\n",
              "      <td>0.215686</td>\n",
              "    </tr>\n",
              "    <tr>\n",
              "      <th>38</th>\n",
              "      <td>0.341766</td>\n",
              "      <td>0.259804</td>\n",
              "    </tr>\n",
              "  </tbody>\n",
              "</table>\n",
              "<p>153 rows × 2 columns</p>\n",
              "</div>"
            ],
            "text/plain": [
              "        Prediction    Actual\n",
              "car_ID                      \n",
              "15        0.778630  0.911765\n",
              "163       0.250979  0.411765\n",
              "60        0.434071  0.365196\n",
              "20        0.100083  0.063725\n",
              "178       0.522990  0.549020\n",
              "...            ...       ...\n",
              "134       0.629927  0.588235\n",
              "138       0.777047  0.852941\n",
              "73        0.940373  0.965686\n",
              "141       0.275428  0.215686\n",
              "38        0.341766  0.259804\n",
              "\n",
              "[153 rows x 2 columns]"
            ]
          },
          "metadata": {
            "tags": []
          },
          "execution_count": 75
        }
      ]
    },
    {
      "cell_type": "code",
      "metadata": {
        "colab": {
          "base_uri": "https://localhost:8080/",
          "height": 1000
        },
        "id": "CX-ABVRT16_H",
        "outputId": "589e8314-ed52-494e-ffb5-14474082989f"
      },
      "source": [
        "rtest_df = pd.DataFrame({'Prediction':model.predict(X_test), 'Actual':y_test})\n",
        "rtest_df"
      ],
      "execution_count": 76,
      "outputs": [
        {
          "output_type": "execute_result",
          "data": {
            "text/html": [
              "<div>\n",
              "<style scoped>\n",
              "    .dataframe tbody tr th:only-of-type {\n",
              "        vertical-align: middle;\n",
              "    }\n",
              "\n",
              "    .dataframe tbody tr th {\n",
              "        vertical-align: top;\n",
              "    }\n",
              "\n",
              "    .dataframe thead th {\n",
              "        text-align: right;\n",
              "    }\n",
              "</style>\n",
              "<table border=\"1\" class=\"dataframe\">\n",
              "  <thead>\n",
              "    <tr style=\"text-align: right;\">\n",
              "      <th></th>\n",
              "      <th>Prediction</th>\n",
              "      <th>Actual</th>\n",
              "    </tr>\n",
              "    <tr>\n",
              "      <th>car_ID</th>\n",
              "      <th></th>\n",
              "      <th></th>\n",
              "    </tr>\n",
              "  </thead>\n",
              "  <tbody>\n",
              "    <tr>\n",
              "      <th>79</th>\n",
              "      <td>0.171774</td>\n",
              "      <td>0.102941</td>\n",
              "    </tr>\n",
              "    <tr>\n",
              "      <th>98</th>\n",
              "      <td>0.165203</td>\n",
              "      <td>0.294118</td>\n",
              "    </tr>\n",
              "    <tr>\n",
              "      <th>152</th>\n",
              "      <td>0.123810</td>\n",
              "      <td>0.068627</td>\n",
              "    </tr>\n",
              "    <tr>\n",
              "      <th>45</th>\n",
              "      <td>0.100083</td>\n",
              "      <td>0.375000</td>\n",
              "    </tr>\n",
              "    <tr>\n",
              "      <th>41</th>\n",
              "      <td>0.328549</td>\n",
              "      <td>0.500000</td>\n",
              "    </tr>\n",
              "    <tr>\n",
              "      <th>68</th>\n",
              "      <td>0.894580</td>\n",
              "      <td>0.916667</td>\n",
              "    </tr>\n",
              "    <tr>\n",
              "      <th>99</th>\n",
              "      <td>0.160204</td>\n",
              "      <td>0.323529</td>\n",
              "    </tr>\n",
              "    <tr>\n",
              "      <th>19</th>\n",
              "      <td>-0.000158</td>\n",
              "      <td>0.004902</td>\n",
              "    </tr>\n",
              "    <tr>\n",
              "      <th>153</th>\n",
              "      <td>0.107072</td>\n",
              "      <td>0.083333</td>\n",
              "    </tr>\n",
              "    <tr>\n",
              "      <th>63</th>\n",
              "      <td>0.456389</td>\n",
              "      <td>0.495098</td>\n",
              "    </tr>\n",
              "    <tr>\n",
              "      <th>5</th>\n",
              "      <td>0.699200</td>\n",
              "      <td>0.799020</td>\n",
              "    </tr>\n",
              "    <tr>\n",
              "      <th>173</th>\n",
              "      <td>0.723990</td>\n",
              "      <td>0.803922</td>\n",
              "    </tr>\n",
              "    <tr>\n",
              "      <th>198</th>\n",
              "      <td>0.750796</td>\n",
              "      <td>0.754902</td>\n",
              "    </tr>\n",
              "    <tr>\n",
              "      <th>39</th>\n",
              "      <td>0.369664</td>\n",
              "      <td>0.401961</td>\n",
              "    </tr>\n",
              "    <tr>\n",
              "      <th>30</th>\n",
              "      <td>0.737375</td>\n",
              "      <td>0.622549</td>\n",
              "    </tr>\n",
              "    <tr>\n",
              "      <th>171</th>\n",
              "      <td>0.645877</td>\n",
              "      <td>0.539216</td>\n",
              "    </tr>\n",
              "    <tr>\n",
              "      <th>191</th>\n",
              "      <td>0.332688</td>\n",
              "      <td>0.470588</td>\n",
              "    </tr>\n",
              "    <tr>\n",
              "      <th>34</th>\n",
              "      <td>0.189657</td>\n",
              "      <td>0.088235</td>\n",
              "    </tr>\n",
              "    <tr>\n",
              "      <th>137</th>\n",
              "      <td>0.757519</td>\n",
              "      <td>0.825980</td>\n",
              "    </tr>\n",
              "    <tr>\n",
              "      <th>146</th>\n",
              "      <td>0.583403</td>\n",
              "      <td>0.553922</td>\n",
              "    </tr>\n",
              "    <tr>\n",
              "      <th>174</th>\n",
              "      <td>0.447667</td>\n",
              "      <td>0.392157</td>\n",
              "    </tr>\n",
              "    <tr>\n",
              "      <th>32</th>\n",
              "      <td>0.140780</td>\n",
              "      <td>0.137255</td>\n",
              "    </tr>\n",
              "    <tr>\n",
              "      <th>12</th>\n",
              "      <td>0.467249</td>\n",
              "      <td>0.784314</td>\n",
              "    </tr>\n",
              "    <tr>\n",
              "      <th>120</th>\n",
              "      <td>0.348954</td>\n",
              "      <td>0.276961</td>\n",
              "    </tr>\n",
              "    <tr>\n",
              "      <th>170</th>\n",
              "      <td>0.623559</td>\n",
              "      <td>0.480392</td>\n",
              "    </tr>\n",
              "    <tr>\n",
              "      <th>35</th>\n",
              "      <td>0.203605</td>\n",
              "      <td>0.171569</td>\n",
              "    </tr>\n",
              "    <tr>\n",
              "      <th>85</th>\n",
              "      <td>0.765272</td>\n",
              "      <td>0.681373</td>\n",
              "    </tr>\n",
              "    <tr>\n",
              "      <th>185</th>\n",
              "      <td>0.234312</td>\n",
              "      <td>0.289216</td>\n",
              "    </tr>\n",
              "    <tr>\n",
              "      <th>121</th>\n",
              "      <td>0.124169</td>\n",
              "      <td>0.056373</td>\n",
              "    </tr>\n",
              "    <tr>\n",
              "      <th>36</th>\n",
              "      <td>0.220300</td>\n",
              "      <td>0.183824</td>\n",
              "    </tr>\n",
              "    <tr>\n",
              "      <th>164</th>\n",
              "      <td>0.240401</td>\n",
              "      <td>0.303922</td>\n",
              "    </tr>\n",
              "    <tr>\n",
              "      <th>29</th>\n",
              "      <td>0.468810</td>\n",
              "      <td>0.384804</td>\n",
              "    </tr>\n",
              "    <tr>\n",
              "      <th>17</th>\n",
              "      <td>0.916645</td>\n",
              "      <td>0.995098</td>\n",
              "    </tr>\n",
              "    <tr>\n",
              "      <th>131</th>\n",
              "      <td>0.546298</td>\n",
              "      <td>0.426471</td>\n",
              "    </tr>\n",
              "    <tr>\n",
              "      <th>117</th>\n",
              "      <td>0.766640</td>\n",
              "      <td>0.818627</td>\n",
              "    </tr>\n",
              "    <tr>\n",
              "      <th>183</th>\n",
              "      <td>0.231522</td>\n",
              "      <td>0.242647</td>\n",
              "    </tr>\n",
              "    <tr>\n",
              "      <th>28</th>\n",
              "      <td>0.368482</td>\n",
              "      <td>0.352941</td>\n",
              "    </tr>\n",
              "    <tr>\n",
              "      <th>48</th>\n",
              "      <td>0.967466</td>\n",
              "      <td>0.946078</td>\n",
              "    </tr>\n",
              "    <tr>\n",
              "      <th>59</th>\n",
              "      <td>0.663710</td>\n",
              "      <td>0.710784</td>\n",
              "    </tr>\n",
              "    <tr>\n",
              "      <th>205</th>\n",
              "      <td>0.789703</td>\n",
              "      <td>0.901961</td>\n",
              "    </tr>\n",
              "    <tr>\n",
              "      <th>139</th>\n",
              "      <td>0.174377</td>\n",
              "      <td>0.000000</td>\n",
              "    </tr>\n",
              "    <tr>\n",
              "      <th>107</th>\n",
              "      <td>0.879641</td>\n",
              "      <td>0.843137</td>\n",
              "    </tr>\n",
              "    <tr>\n",
              "      <th>91</th>\n",
              "      <td>0.103771</td>\n",
              "      <td>0.161765</td>\n",
              "    </tr>\n",
              "    <tr>\n",
              "      <th>148</th>\n",
              "      <td>0.494434</td>\n",
              "      <td>0.490196</td>\n",
              "    </tr>\n",
              "    <tr>\n",
              "      <th>186</th>\n",
              "      <td>0.341471</td>\n",
              "      <td>0.313725</td>\n",
              "    </tr>\n",
              "    <tr>\n",
              "      <th>96</th>\n",
              "      <td>0.174142</td>\n",
              "      <td>0.254902</td>\n",
              "    </tr>\n",
              "    <tr>\n",
              "      <th>74</th>\n",
              "      <td>0.975519</td>\n",
              "      <td>0.990196</td>\n",
              "    </tr>\n",
              "    <tr>\n",
              "      <th>52</th>\n",
              "      <td>0.102620</td>\n",
              "      <td>0.044118</td>\n",
              "    </tr>\n",
              "    <tr>\n",
              "      <th>118</th>\n",
              "      <td>0.844746</td>\n",
              "      <td>0.825980</td>\n",
              "    </tr>\n",
              "    <tr>\n",
              "      <th>104</th>\n",
              "      <td>0.806892</td>\n",
              "      <td>0.649510</td>\n",
              "    </tr>\n",
              "    <tr>\n",
              "      <th>70</th>\n",
              "      <td>0.894952</td>\n",
              "      <td>0.921569</td>\n",
              "    </tr>\n",
              "    <tr>\n",
              "      <th>108</th>\n",
              "      <td>0.712631</td>\n",
              "      <td>0.583333</td>\n",
              "    </tr>\n",
              "  </tbody>\n",
              "</table>\n",
              "</div>"
            ],
            "text/plain": [
              "        Prediction    Actual\n",
              "car_ID                      \n",
              "79        0.171774  0.102941\n",
              "98        0.165203  0.294118\n",
              "152       0.123810  0.068627\n",
              "45        0.100083  0.375000\n",
              "41        0.328549  0.500000\n",
              "68        0.894580  0.916667\n",
              "99        0.160204  0.323529\n",
              "19       -0.000158  0.004902\n",
              "153       0.107072  0.083333\n",
              "63        0.456389  0.495098\n",
              "5         0.699200  0.799020\n",
              "173       0.723990  0.803922\n",
              "198       0.750796  0.754902\n",
              "39        0.369664  0.401961\n",
              "30        0.737375  0.622549\n",
              "171       0.645877  0.539216\n",
              "191       0.332688  0.470588\n",
              "34        0.189657  0.088235\n",
              "137       0.757519  0.825980\n",
              "146       0.583403  0.553922\n",
              "174       0.447667  0.392157\n",
              "32        0.140780  0.137255\n",
              "12        0.467249  0.784314\n",
              "120       0.348954  0.276961\n",
              "170       0.623559  0.480392\n",
              "35        0.203605  0.171569\n",
              "85        0.765272  0.681373\n",
              "185       0.234312  0.289216\n",
              "121       0.124169  0.056373\n",
              "36        0.220300  0.183824\n",
              "164       0.240401  0.303922\n",
              "29        0.468810  0.384804\n",
              "17        0.916645  0.995098\n",
              "131       0.546298  0.426471\n",
              "117       0.766640  0.818627\n",
              "183       0.231522  0.242647\n",
              "28        0.368482  0.352941\n",
              "48        0.967466  0.946078\n",
              "59        0.663710  0.710784\n",
              "205       0.789703  0.901961\n",
              "139       0.174377  0.000000\n",
              "107       0.879641  0.843137\n",
              "91        0.103771  0.161765\n",
              "148       0.494434  0.490196\n",
              "186       0.341471  0.313725\n",
              "96        0.174142  0.254902\n",
              "74        0.975519  0.990196\n",
              "52        0.102620  0.044118\n",
              "118       0.844746  0.825980\n",
              "104       0.806892  0.649510\n",
              "70        0.894952  0.921569\n",
              "108       0.712631  0.583333"
            ]
          },
          "metadata": {
            "tags": []
          },
          "execution_count": 76
        }
      ]
    },
    {
      "cell_type": "markdown",
      "metadata": {
        "id": "fzwbITAU1IMJ"
      },
      "source": [
        "### LOGISTIC REGRESSION"
      ]
    },
    {
      "cell_type": "code",
      "metadata": {
        "id": "BqVR74geIsP-"
      },
      "source": [
        "import spacy\n",
        "from sklearn.linear_model import LogisticRegression"
      ],
      "execution_count": 77,
      "outputs": []
    },
    {
      "cell_type": "code",
      "metadata": {
        "id": "MPYBRRXX3dAH"
      },
      "source": [
        "imdb_df = pd.read_csv('https://raw.githubusercontent.com/KARTHIKEYANC04052002/Machine-Learning-AI-Internship/main/IMDB%20Dataset.csv')"
      ],
      "execution_count": 78,
      "outputs": []
    },
    {
      "cell_type": "code",
      "metadata": {
        "colab": {
          "base_uri": "https://localhost:8080/",
          "height": 391
        },
        "id": "yq1cbcZkp4Ip",
        "outputId": "938debe3-2b41-4778-e9f7-f52a4caa7ee4"
      },
      "source": [
        "imdb_df = imdb_df.head(1000)\n",
        "imdb_df"
      ],
      "execution_count": 79,
      "outputs": [
        {
          "output_type": "execute_result",
          "data": {
            "text/html": [
              "<div>\n",
              "<style scoped>\n",
              "    .dataframe tbody tr th:only-of-type {\n",
              "        vertical-align: middle;\n",
              "    }\n",
              "\n",
              "    .dataframe tbody tr th {\n",
              "        vertical-align: top;\n",
              "    }\n",
              "\n",
              "    .dataframe thead th {\n",
              "        text-align: right;\n",
              "    }\n",
              "</style>\n",
              "<table border=\"1\" class=\"dataframe\">\n",
              "  <thead>\n",
              "    <tr style=\"text-align: right;\">\n",
              "      <th></th>\n",
              "      <th>review</th>\n",
              "      <th>sentiment</th>\n",
              "    </tr>\n",
              "  </thead>\n",
              "  <tbody>\n",
              "    <tr>\n",
              "      <th>0</th>\n",
              "      <td>One of the other reviewers has mentioned that ...</td>\n",
              "      <td>positive</td>\n",
              "    </tr>\n",
              "    <tr>\n",
              "      <th>1</th>\n",
              "      <td>A wonderful little production. &lt;br /&gt;&lt;br /&gt;The...</td>\n",
              "      <td>positive</td>\n",
              "    </tr>\n",
              "    <tr>\n",
              "      <th>2</th>\n",
              "      <td>I thought this was a wonderful way to spend ti...</td>\n",
              "      <td>positive</td>\n",
              "    </tr>\n",
              "    <tr>\n",
              "      <th>3</th>\n",
              "      <td>Basically there's a family where a little boy ...</td>\n",
              "      <td>negative</td>\n",
              "    </tr>\n",
              "    <tr>\n",
              "      <th>4</th>\n",
              "      <td>Petter Mattei's \"Love in the Time of Money\" is...</td>\n",
              "      <td>positive</td>\n",
              "    </tr>\n",
              "    <tr>\n",
              "      <th>...</th>\n",
              "      <td>...</td>\n",
              "      <td>...</td>\n",
              "    </tr>\n",
              "    <tr>\n",
              "      <th>995</th>\n",
              "      <td>Nothing is sacred. Just ask Ernie Fosselius. T...</td>\n",
              "      <td>positive</td>\n",
              "    </tr>\n",
              "    <tr>\n",
              "      <th>996</th>\n",
              "      <td>I hated it. I hate self-aware pretentious inan...</td>\n",
              "      <td>negative</td>\n",
              "    </tr>\n",
              "    <tr>\n",
              "      <th>997</th>\n",
              "      <td>I usually try to be professional and construct...</td>\n",
              "      <td>negative</td>\n",
              "    </tr>\n",
              "    <tr>\n",
              "      <th>998</th>\n",
              "      <td>If you like me is going to see this in a film ...</td>\n",
              "      <td>negative</td>\n",
              "    </tr>\n",
              "    <tr>\n",
              "      <th>999</th>\n",
              "      <td>This is like a zoology textbook, given that it...</td>\n",
              "      <td>negative</td>\n",
              "    </tr>\n",
              "  </tbody>\n",
              "</table>\n",
              "<p>1000 rows × 2 columns</p>\n",
              "</div>"
            ],
            "text/plain": [
              "                                                review sentiment\n",
              "0    One of the other reviewers has mentioned that ...  positive\n",
              "1    A wonderful little production. <br /><br />The...  positive\n",
              "2    I thought this was a wonderful way to spend ti...  positive\n",
              "3    Basically there's a family where a little boy ...  negative\n",
              "4    Petter Mattei's \"Love in the Time of Money\" is...  positive\n",
              "..                                                 ...       ...\n",
              "995  Nothing is sacred. Just ask Ernie Fosselius. T...  positive\n",
              "996  I hated it. I hate self-aware pretentious inan...  negative\n",
              "997  I usually try to be professional and construct...  negative\n",
              "998  If you like me is going to see this in a film ...  negative\n",
              "999  This is like a zoology textbook, given that it...  negative\n",
              "\n",
              "[1000 rows x 2 columns]"
            ]
          },
          "metadata": {
            "tags": []
          },
          "execution_count": 79
        }
      ]
    },
    {
      "cell_type": "code",
      "metadata": {
        "id": "qvgTVBuoL_If"
      },
      "source": [
        "imdb_df['sentiment'] = imdb_df['sentiment'].apply(lambda x: 1 if x == 'positive' else 0)"
      ],
      "execution_count": 80,
      "outputs": []
    },
    {
      "cell_type": "code",
      "metadata": {
        "id": "7QdzE3pXshAo"
      },
      "source": [
        "nlp = spacy.load('en_core_web_sm')\n",
        "def Vectorize(text):\n",
        "  doc = nlp(text)\n",
        "  token_list = [token for token in doc]\n",
        "  filtered_tokens = [token for token in doc if not token.is_stop]\n",
        "  lemmas = [f\"Token: {token}, lemma: {token.lemma_}\" for token in filtered_tokens]\n",
        "  vector = filtered_tokens[1].vector\n",
        "  return list(vector)"
      ],
      "execution_count": 81,
      "outputs": []
    },
    {
      "cell_type": "code",
      "metadata": {
        "colab": {
          "base_uri": "https://localhost:8080/",
          "height": 391
        },
        "id": "J3CNfN2iJrW8",
        "outputId": "35a6834c-9e8c-436b-f338-e003b2f77537"
      },
      "source": [
        "imdb_df['Vector'] = imdb_df['review'].apply(lambda x:Vectorize(x))\n",
        "imdb_df"
      ],
      "execution_count": 82,
      "outputs": [
        {
          "output_type": "execute_result",
          "data": {
            "text/html": [
              "<div>\n",
              "<style scoped>\n",
              "    .dataframe tbody tr th:only-of-type {\n",
              "        vertical-align: middle;\n",
              "    }\n",
              "\n",
              "    .dataframe tbody tr th {\n",
              "        vertical-align: top;\n",
              "    }\n",
              "\n",
              "    .dataframe thead th {\n",
              "        text-align: right;\n",
              "    }\n",
              "</style>\n",
              "<table border=\"1\" class=\"dataframe\">\n",
              "  <thead>\n",
              "    <tr style=\"text-align: right;\">\n",
              "      <th></th>\n",
              "      <th>review</th>\n",
              "      <th>sentiment</th>\n",
              "      <th>Vector</th>\n",
              "    </tr>\n",
              "  </thead>\n",
              "  <tbody>\n",
              "    <tr>\n",
              "      <th>0</th>\n",
              "      <td>One of the other reviewers has mentioned that ...</td>\n",
              "      <td>1</td>\n",
              "      <td>[1.0068005, 0.924615, -2.2816424, -0.046961665...</td>\n",
              "    </tr>\n",
              "    <tr>\n",
              "      <th>1</th>\n",
              "      <td>A wonderful little production. &lt;br /&gt;&lt;br /&gt;The...</td>\n",
              "      <td>1</td>\n",
              "      <td>[0.9614694, -1.8681989, 1.7010168, 0.03885573,...</td>\n",
              "    </tr>\n",
              "    <tr>\n",
              "      <th>2</th>\n",
              "      <td>I thought this was a wonderful way to spend ti...</td>\n",
              "      <td>1</td>\n",
              "      <td>[2.349584, -4.341446, -0.5393659, 1.6311857, 0...</td>\n",
              "    </tr>\n",
              "    <tr>\n",
              "      <th>3</th>\n",
              "      <td>Basically there's a family where a little boy ...</td>\n",
              "      <td>0</td>\n",
              "      <td>[1.074163, 1.7410264, -0.8259367, 1.9207292, -...</td>\n",
              "    </tr>\n",
              "    <tr>\n",
              "      <th>4</th>\n",
              "      <td>Petter Mattei's \"Love in the Time of Money\" is...</td>\n",
              "      <td>1</td>\n",
              "      <td>[-0.6672107, -2.2814133, -4.0511003, 1.3866103...</td>\n",
              "    </tr>\n",
              "    <tr>\n",
              "      <th>...</th>\n",
              "      <td>...</td>\n",
              "      <td>...</td>\n",
              "      <td>...</td>\n",
              "    </tr>\n",
              "    <tr>\n",
              "      <th>995</th>\n",
              "      <td>Nothing is sacred. Just ask Ernie Fosselius. T...</td>\n",
              "      <td>1</td>\n",
              "      <td>[-1.5611434, 1.5068212, -3.9833186, 2.6085167,...</td>\n",
              "    </tr>\n",
              "    <tr>\n",
              "      <th>996</th>\n",
              "      <td>I hated it. I hate self-aware pretentious inan...</td>\n",
              "      <td>0</td>\n",
              "      <td>[-0.47256827, 1.3475676, -0.59208, 0.2049843, ...</td>\n",
              "    </tr>\n",
              "    <tr>\n",
              "      <th>997</th>\n",
              "      <td>I usually try to be professional and construct...</td>\n",
              "      <td>0</td>\n",
              "      <td>[-2.1121922, 1.4043956, -1.1638591, -2.6348152...</td>\n",
              "    </tr>\n",
              "    <tr>\n",
              "      <th>998</th>\n",
              "      <td>If you like me is going to see this in a film ...</td>\n",
              "      <td>0</td>\n",
              "      <td>[5.9969425, -0.80081487, -2.6368291, -1.429443...</td>\n",
              "    </tr>\n",
              "    <tr>\n",
              "      <th>999</th>\n",
              "      <td>This is like a zoology textbook, given that it...</td>\n",
              "      <td>0</td>\n",
              "      <td>[1.6882318, -0.28077862, 1.5965513, 2.9428844,...</td>\n",
              "    </tr>\n",
              "  </tbody>\n",
              "</table>\n",
              "<p>1000 rows × 3 columns</p>\n",
              "</div>"
            ],
            "text/plain": [
              "                                                review  ...                                             Vector\n",
              "0    One of the other reviewers has mentioned that ...  ...  [1.0068005, 0.924615, -2.2816424, -0.046961665...\n",
              "1    A wonderful little production. <br /><br />The...  ...  [0.9614694, -1.8681989, 1.7010168, 0.03885573,...\n",
              "2    I thought this was a wonderful way to spend ti...  ...  [2.349584, -4.341446, -0.5393659, 1.6311857, 0...\n",
              "3    Basically there's a family where a little boy ...  ...  [1.074163, 1.7410264, -0.8259367, 1.9207292, -...\n",
              "4    Petter Mattei's \"Love in the Time of Money\" is...  ...  [-0.6672107, -2.2814133, -4.0511003, 1.3866103...\n",
              "..                                                 ...  ...                                                ...\n",
              "995  Nothing is sacred. Just ask Ernie Fosselius. T...  ...  [-1.5611434, 1.5068212, -3.9833186, 2.6085167,...\n",
              "996  I hated it. I hate self-aware pretentious inan...  ...  [-0.47256827, 1.3475676, -0.59208, 0.2049843, ...\n",
              "997  I usually try to be professional and construct...  ...  [-2.1121922, 1.4043956, -1.1638591, -2.6348152...\n",
              "998  If you like me is going to see this in a film ...  ...  [5.9969425, -0.80081487, -2.6368291, -1.429443...\n",
              "999  This is like a zoology textbook, given that it...  ...  [1.6882318, -0.28077862, 1.5965513, 2.9428844,...\n",
              "\n",
              "[1000 rows x 3 columns]"
            ]
          },
          "metadata": {
            "tags": []
          },
          "execution_count": 82
        }
      ]
    },
    {
      "cell_type": "code",
      "metadata": {
        "colab": {
          "base_uri": "https://localhost:8080/",
          "height": 411
        },
        "id": "LD7Txr5nP3Vs",
        "outputId": "1760b6f5-d0e6-43da-bf5b-b454b61d729b"
      },
      "source": [
        "imdb_vec_df = pd.DataFrame(imdb_df['Vector'].to_dict())\n",
        "imdb_vec_df = imdb_vec_df.transpose()\n",
        "imdb_vec_df"
      ],
      "execution_count": 83,
      "outputs": [
        {
          "output_type": "execute_result",
          "data": {
            "text/html": [
              "<div>\n",
              "<style scoped>\n",
              "    .dataframe tbody tr th:only-of-type {\n",
              "        vertical-align: middle;\n",
              "    }\n",
              "\n",
              "    .dataframe tbody tr th {\n",
              "        vertical-align: top;\n",
              "    }\n",
              "\n",
              "    .dataframe thead th {\n",
              "        text-align: right;\n",
              "    }\n",
              "</style>\n",
              "<table border=\"1\" class=\"dataframe\">\n",
              "  <thead>\n",
              "    <tr style=\"text-align: right;\">\n",
              "      <th></th>\n",
              "      <th>0</th>\n",
              "      <th>1</th>\n",
              "      <th>2</th>\n",
              "      <th>3</th>\n",
              "      <th>4</th>\n",
              "      <th>5</th>\n",
              "      <th>6</th>\n",
              "      <th>7</th>\n",
              "      <th>8</th>\n",
              "      <th>9</th>\n",
              "      <th>10</th>\n",
              "      <th>11</th>\n",
              "      <th>12</th>\n",
              "      <th>13</th>\n",
              "      <th>14</th>\n",
              "      <th>15</th>\n",
              "      <th>16</th>\n",
              "      <th>17</th>\n",
              "      <th>18</th>\n",
              "      <th>19</th>\n",
              "      <th>20</th>\n",
              "      <th>21</th>\n",
              "      <th>22</th>\n",
              "      <th>23</th>\n",
              "      <th>24</th>\n",
              "      <th>25</th>\n",
              "      <th>26</th>\n",
              "      <th>27</th>\n",
              "      <th>28</th>\n",
              "      <th>29</th>\n",
              "      <th>30</th>\n",
              "      <th>31</th>\n",
              "      <th>32</th>\n",
              "      <th>33</th>\n",
              "      <th>34</th>\n",
              "      <th>35</th>\n",
              "      <th>36</th>\n",
              "      <th>37</th>\n",
              "      <th>38</th>\n",
              "      <th>39</th>\n",
              "      <th>...</th>\n",
              "      <th>56</th>\n",
              "      <th>57</th>\n",
              "      <th>58</th>\n",
              "      <th>59</th>\n",
              "      <th>60</th>\n",
              "      <th>61</th>\n",
              "      <th>62</th>\n",
              "      <th>63</th>\n",
              "      <th>64</th>\n",
              "      <th>65</th>\n",
              "      <th>66</th>\n",
              "      <th>67</th>\n",
              "      <th>68</th>\n",
              "      <th>69</th>\n",
              "      <th>70</th>\n",
              "      <th>71</th>\n",
              "      <th>72</th>\n",
              "      <th>73</th>\n",
              "      <th>74</th>\n",
              "      <th>75</th>\n",
              "      <th>76</th>\n",
              "      <th>77</th>\n",
              "      <th>78</th>\n",
              "      <th>79</th>\n",
              "      <th>80</th>\n",
              "      <th>81</th>\n",
              "      <th>82</th>\n",
              "      <th>83</th>\n",
              "      <th>84</th>\n",
              "      <th>85</th>\n",
              "      <th>86</th>\n",
              "      <th>87</th>\n",
              "      <th>88</th>\n",
              "      <th>89</th>\n",
              "      <th>90</th>\n",
              "      <th>91</th>\n",
              "      <th>92</th>\n",
              "      <th>93</th>\n",
              "      <th>94</th>\n",
              "      <th>95</th>\n",
              "    </tr>\n",
              "  </thead>\n",
              "  <tbody>\n",
              "    <tr>\n",
              "      <th>0</th>\n",
              "      <td>1.006801</td>\n",
              "      <td>0.924615</td>\n",
              "      <td>-2.281642</td>\n",
              "      <td>-0.046962</td>\n",
              "      <td>3.294933</td>\n",
              "      <td>-0.225188</td>\n",
              "      <td>1.447983</td>\n",
              "      <td>-1.182923</td>\n",
              "      <td>-0.777000</td>\n",
              "      <td>1.590317</td>\n",
              "      <td>-2.627969</td>\n",
              "      <td>-0.837819</td>\n",
              "      <td>-0.017042</td>\n",
              "      <td>-2.092596</td>\n",
              "      <td>-1.927292</td>\n",
              "      <td>-2.537795</td>\n",
              "      <td>-0.106610</td>\n",
              "      <td>2.298744</td>\n",
              "      <td>-2.304289</td>\n",
              "      <td>1.312350</td>\n",
              "      <td>1.164795</td>\n",
              "      <td>-3.322773</td>\n",
              "      <td>-2.506059</td>\n",
              "      <td>0.642438</td>\n",
              "      <td>3.726825</td>\n",
              "      <td>-2.112224</td>\n",
              "      <td>-2.644550</td>\n",
              "      <td>-1.220820</td>\n",
              "      <td>2.215472</td>\n",
              "      <td>-2.408563</td>\n",
              "      <td>1.064589</td>\n",
              "      <td>-0.581475</td>\n",
              "      <td>3.317685</td>\n",
              "      <td>-1.971600</td>\n",
              "      <td>0.664443</td>\n",
              "      <td>-5.229235</td>\n",
              "      <td>3.601791</td>\n",
              "      <td>0.451069</td>\n",
              "      <td>0.932608</td>\n",
              "      <td>-0.415021</td>\n",
              "      <td>...</td>\n",
              "      <td>-0.947442</td>\n",
              "      <td>-1.255638</td>\n",
              "      <td>4.393864</td>\n",
              "      <td>1.757213</td>\n",
              "      <td>-2.284311</td>\n",
              "      <td>-2.534701</td>\n",
              "      <td>0.069202</td>\n",
              "      <td>0.833261</td>\n",
              "      <td>-1.411193</td>\n",
              "      <td>-2.633947</td>\n",
              "      <td>5.678215</td>\n",
              "      <td>2.757598</td>\n",
              "      <td>-0.181651</td>\n",
              "      <td>2.153376</td>\n",
              "      <td>-0.264650</td>\n",
              "      <td>3.563608</td>\n",
              "      <td>4.379367</td>\n",
              "      <td>-0.692727</td>\n",
              "      <td>3.693160</td>\n",
              "      <td>3.040886</td>\n",
              "      <td>0.893159</td>\n",
              "      <td>-4.538442</td>\n",
              "      <td>-3.846902</td>\n",
              "      <td>-0.924953</td>\n",
              "      <td>-2.490501</td>\n",
              "      <td>-3.401445</td>\n",
              "      <td>0.608439</td>\n",
              "      <td>-1.399085</td>\n",
              "      <td>-0.837615</td>\n",
              "      <td>1.063121</td>\n",
              "      <td>1.260733</td>\n",
              "      <td>-0.355806</td>\n",
              "      <td>2.354166</td>\n",
              "      <td>0.007445</td>\n",
              "      <td>-2.899650</td>\n",
              "      <td>-0.665973</td>\n",
              "      <td>1.061664</td>\n",
              "      <td>-2.119339</td>\n",
              "      <td>-3.471452</td>\n",
              "      <td>2.794874</td>\n",
              "    </tr>\n",
              "    <tr>\n",
              "      <th>1</th>\n",
              "      <td>0.961469</td>\n",
              "      <td>-1.868199</td>\n",
              "      <td>1.701017</td>\n",
              "      <td>0.038856</td>\n",
              "      <td>1.976918</td>\n",
              "      <td>1.408584</td>\n",
              "      <td>1.781699</td>\n",
              "      <td>-0.085267</td>\n",
              "      <td>2.797195</td>\n",
              "      <td>-1.251046</td>\n",
              "      <td>-2.467955</td>\n",
              "      <td>1.235943</td>\n",
              "      <td>1.084346</td>\n",
              "      <td>-0.739782</td>\n",
              "      <td>-1.307926</td>\n",
              "      <td>1.363040</td>\n",
              "      <td>-2.055755</td>\n",
              "      <td>3.160233</td>\n",
              "      <td>-0.922235</td>\n",
              "      <td>-0.172236</td>\n",
              "      <td>3.310806</td>\n",
              "      <td>-1.316763</td>\n",
              "      <td>-1.091223</td>\n",
              "      <td>2.471210</td>\n",
              "      <td>1.141823</td>\n",
              "      <td>1.225608</td>\n",
              "      <td>1.468456</td>\n",
              "      <td>0.326109</td>\n",
              "      <td>1.136906</td>\n",
              "      <td>-0.749637</td>\n",
              "      <td>-1.950895</td>\n",
              "      <td>0.248239</td>\n",
              "      <td>1.233642</td>\n",
              "      <td>-0.883560</td>\n",
              "      <td>-2.412633</td>\n",
              "      <td>1.194964</td>\n",
              "      <td>-1.393759</td>\n",
              "      <td>-2.152444</td>\n",
              "      <td>-2.700205</td>\n",
              "      <td>-0.111708</td>\n",
              "      <td>...</td>\n",
              "      <td>3.890405</td>\n",
              "      <td>2.104114</td>\n",
              "      <td>-3.348103</td>\n",
              "      <td>0.666673</td>\n",
              "      <td>-0.501909</td>\n",
              "      <td>-1.179189</td>\n",
              "      <td>1.781597</td>\n",
              "      <td>-0.573740</td>\n",
              "      <td>1.176143</td>\n",
              "      <td>-1.761646</td>\n",
              "      <td>3.083346</td>\n",
              "      <td>-2.838933</td>\n",
              "      <td>-1.959283</td>\n",
              "      <td>1.355023</td>\n",
              "      <td>-3.292760</td>\n",
              "      <td>-4.624589</td>\n",
              "      <td>2.061778</td>\n",
              "      <td>1.424300</td>\n",
              "      <td>0.799374</td>\n",
              "      <td>-2.689574</td>\n",
              "      <td>3.253919</td>\n",
              "      <td>0.509174</td>\n",
              "      <td>-0.843550</td>\n",
              "      <td>3.600658</td>\n",
              "      <td>2.780340</td>\n",
              "      <td>-2.817941</td>\n",
              "      <td>4.632851</td>\n",
              "      <td>1.246237</td>\n",
              "      <td>-0.567288</td>\n",
              "      <td>-2.766529</td>\n",
              "      <td>-0.059236</td>\n",
              "      <td>1.428993</td>\n",
              "      <td>-0.709497</td>\n",
              "      <td>3.372370</td>\n",
              "      <td>-1.557181</td>\n",
              "      <td>-2.549347</td>\n",
              "      <td>1.628822</td>\n",
              "      <td>-0.855224</td>\n",
              "      <td>1.902121</td>\n",
              "      <td>2.668458</td>\n",
              "    </tr>\n",
              "    <tr>\n",
              "      <th>2</th>\n",
              "      <td>2.349584</td>\n",
              "      <td>-4.341446</td>\n",
              "      <td>-0.539366</td>\n",
              "      <td>1.631186</td>\n",
              "      <td>0.287157</td>\n",
              "      <td>-0.781475</td>\n",
              "      <td>3.244174</td>\n",
              "      <td>1.134942</td>\n",
              "      <td>3.837992</td>\n",
              "      <td>-0.273978</td>\n",
              "      <td>-2.571678</td>\n",
              "      <td>0.741377</td>\n",
              "      <td>-0.256508</td>\n",
              "      <td>-1.816830</td>\n",
              "      <td>-0.692426</td>\n",
              "      <td>2.081439</td>\n",
              "      <td>-1.243599</td>\n",
              "      <td>3.540879</td>\n",
              "      <td>-1.896428</td>\n",
              "      <td>-0.573008</td>\n",
              "      <td>2.272284</td>\n",
              "      <td>-1.695652</td>\n",
              "      <td>-0.450771</td>\n",
              "      <td>2.706748</td>\n",
              "      <td>0.571046</td>\n",
              "      <td>-0.774091</td>\n",
              "      <td>-0.633694</td>\n",
              "      <td>0.585058</td>\n",
              "      <td>2.618505</td>\n",
              "      <td>-2.180506</td>\n",
              "      <td>-2.774664</td>\n",
              "      <td>0.340178</td>\n",
              "      <td>1.884073</td>\n",
              "      <td>-1.793478</td>\n",
              "      <td>-0.464881</td>\n",
              "      <td>-0.610691</td>\n",
              "      <td>1.852379</td>\n",
              "      <td>-3.590362</td>\n",
              "      <td>-3.132223</td>\n",
              "      <td>0.025899</td>\n",
              "      <td>...</td>\n",
              "      <td>0.730072</td>\n",
              "      <td>2.666087</td>\n",
              "      <td>-1.447152</td>\n",
              "      <td>0.416060</td>\n",
              "      <td>-0.321072</td>\n",
              "      <td>-3.621172</td>\n",
              "      <td>2.208333</td>\n",
              "      <td>0.454357</td>\n",
              "      <td>3.323178</td>\n",
              "      <td>-1.844350</td>\n",
              "      <td>4.686188</td>\n",
              "      <td>0.791030</td>\n",
              "      <td>-0.902337</td>\n",
              "      <td>0.955125</td>\n",
              "      <td>-2.177416</td>\n",
              "      <td>-3.199019</td>\n",
              "      <td>-2.029115</td>\n",
              "      <td>-2.091463</td>\n",
              "      <td>0.705657</td>\n",
              "      <td>-1.693855</td>\n",
              "      <td>3.374015</td>\n",
              "      <td>-1.674154</td>\n",
              "      <td>0.883587</td>\n",
              "      <td>4.599112</td>\n",
              "      <td>3.120410</td>\n",
              "      <td>-3.913391</td>\n",
              "      <td>4.062401</td>\n",
              "      <td>-1.454632</td>\n",
              "      <td>-0.232701</td>\n",
              "      <td>-1.263720</td>\n",
              "      <td>-2.176532</td>\n",
              "      <td>2.533784</td>\n",
              "      <td>2.312873</td>\n",
              "      <td>0.051001</td>\n",
              "      <td>-1.932533</td>\n",
              "      <td>-3.955873</td>\n",
              "      <td>2.357461</td>\n",
              "      <td>-2.466574</td>\n",
              "      <td>1.173783</td>\n",
              "      <td>4.085972</td>\n",
              "    </tr>\n",
              "    <tr>\n",
              "      <th>3</th>\n",
              "      <td>1.074163</td>\n",
              "      <td>1.741026</td>\n",
              "      <td>-0.825937</td>\n",
              "      <td>1.920729</td>\n",
              "      <td>-1.154042</td>\n",
              "      <td>-2.350579</td>\n",
              "      <td>3.259560</td>\n",
              "      <td>-1.519014</td>\n",
              "      <td>2.684811</td>\n",
              "      <td>4.041528</td>\n",
              "      <td>0.580174</td>\n",
              "      <td>-0.370502</td>\n",
              "      <td>-0.614426</td>\n",
              "      <td>-2.550326</td>\n",
              "      <td>-1.054854</td>\n",
              "      <td>0.271011</td>\n",
              "      <td>-1.454770</td>\n",
              "      <td>1.287258</td>\n",
              "      <td>-0.782173</td>\n",
              "      <td>2.350215</td>\n",
              "      <td>1.939939</td>\n",
              "      <td>1.161419</td>\n",
              "      <td>-1.438696</td>\n",
              "      <td>-3.440606</td>\n",
              "      <td>-0.949813</td>\n",
              "      <td>2.854837</td>\n",
              "      <td>-3.133922</td>\n",
              "      <td>-0.438560</td>\n",
              "      <td>3.245954</td>\n",
              "      <td>-2.499359</td>\n",
              "      <td>-0.693576</td>\n",
              "      <td>0.741794</td>\n",
              "      <td>0.151401</td>\n",
              "      <td>-2.966242</td>\n",
              "      <td>-1.505854</td>\n",
              "      <td>0.351972</td>\n",
              "      <td>2.030018</td>\n",
              "      <td>-3.967795</td>\n",
              "      <td>-2.730591</td>\n",
              "      <td>-0.142169</td>\n",
              "      <td>...</td>\n",
              "      <td>4.410543</td>\n",
              "      <td>-0.906560</td>\n",
              "      <td>-0.147418</td>\n",
              "      <td>1.547603</td>\n",
              "      <td>-1.269086</td>\n",
              "      <td>-3.077590</td>\n",
              "      <td>3.529561</td>\n",
              "      <td>-0.595908</td>\n",
              "      <td>0.417587</td>\n",
              "      <td>-0.351107</td>\n",
              "      <td>3.541873</td>\n",
              "      <td>-0.568620</td>\n",
              "      <td>-1.792482</td>\n",
              "      <td>3.441873</td>\n",
              "      <td>0.703005</td>\n",
              "      <td>-1.286736</td>\n",
              "      <td>-1.081254</td>\n",
              "      <td>0.094866</td>\n",
              "      <td>-1.931696</td>\n",
              "      <td>-0.240605</td>\n",
              "      <td>1.528651</td>\n",
              "      <td>-2.953973</td>\n",
              "      <td>-0.315580</td>\n",
              "      <td>0.508694</td>\n",
              "      <td>-2.658796</td>\n",
              "      <td>-5.134315</td>\n",
              "      <td>-1.732170</td>\n",
              "      <td>4.290424</td>\n",
              "      <td>-0.828708</td>\n",
              "      <td>-0.212425</td>\n",
              "      <td>-1.406689</td>\n",
              "      <td>2.452702</td>\n",
              "      <td>-1.088676</td>\n",
              "      <td>-0.399584</td>\n",
              "      <td>-0.649146</td>\n",
              "      <td>1.952823</td>\n",
              "      <td>0.923201</td>\n",
              "      <td>3.591237</td>\n",
              "      <td>3.014670</td>\n",
              "      <td>-1.185135</td>\n",
              "    </tr>\n",
              "    <tr>\n",
              "      <th>4</th>\n",
              "      <td>-0.667211</td>\n",
              "      <td>-2.281413</td>\n",
              "      <td>-4.051100</td>\n",
              "      <td>1.386610</td>\n",
              "      <td>-1.951858</td>\n",
              "      <td>2.765873</td>\n",
              "      <td>-0.056375</td>\n",
              "      <td>-1.762985</td>\n",
              "      <td>4.972154</td>\n",
              "      <td>0.653136</td>\n",
              "      <td>4.514184</td>\n",
              "      <td>-1.679769</td>\n",
              "      <td>1.337515</td>\n",
              "      <td>-0.207342</td>\n",
              "      <td>-2.249452</td>\n",
              "      <td>0.289038</td>\n",
              "      <td>0.829784</td>\n",
              "      <td>-0.249388</td>\n",
              "      <td>1.244957</td>\n",
              "      <td>0.063836</td>\n",
              "      <td>-0.504632</td>\n",
              "      <td>1.292079</td>\n",
              "      <td>2.765913</td>\n",
              "      <td>-2.568883</td>\n",
              "      <td>-1.443938</td>\n",
              "      <td>-0.111625</td>\n",
              "      <td>-0.446121</td>\n",
              "      <td>-1.706679</td>\n",
              "      <td>-1.517164</td>\n",
              "      <td>0.089768</td>\n",
              "      <td>2.124146</td>\n",
              "      <td>2.316924</td>\n",
              "      <td>1.802351</td>\n",
              "      <td>-2.695858</td>\n",
              "      <td>-0.243334</td>\n",
              "      <td>-3.142808</td>\n",
              "      <td>3.661843</td>\n",
              "      <td>-3.848998</td>\n",
              "      <td>-0.369151</td>\n",
              "      <td>0.517809</td>\n",
              "      <td>...</td>\n",
              "      <td>4.145578</td>\n",
              "      <td>4.819559</td>\n",
              "      <td>-4.452718</td>\n",
              "      <td>1.497979</td>\n",
              "      <td>0.614392</td>\n",
              "      <td>-2.799284</td>\n",
              "      <td>3.299520</td>\n",
              "      <td>1.520050</td>\n",
              "      <td>-0.836301</td>\n",
              "      <td>2.062169</td>\n",
              "      <td>0.942127</td>\n",
              "      <td>-2.583228</td>\n",
              "      <td>-0.221750</td>\n",
              "      <td>1.092881</td>\n",
              "      <td>-1.386588</td>\n",
              "      <td>-0.238025</td>\n",
              "      <td>-0.149428</td>\n",
              "      <td>-2.066611</td>\n",
              "      <td>-2.629062</td>\n",
              "      <td>-0.967139</td>\n",
              "      <td>-0.937134</td>\n",
              "      <td>-0.791443</td>\n",
              "      <td>-1.033636</td>\n",
              "      <td>-0.067718</td>\n",
              "      <td>3.271389</td>\n",
              "      <td>-1.054503</td>\n",
              "      <td>-3.125403</td>\n",
              "      <td>-1.094949</td>\n",
              "      <td>-0.514102</td>\n",
              "      <td>-0.135402</td>\n",
              "      <td>1.779678</td>\n",
              "      <td>-1.238038</td>\n",
              "      <td>0.086690</td>\n",
              "      <td>4.125131</td>\n",
              "      <td>-0.987282</td>\n",
              "      <td>-0.095912</td>\n",
              "      <td>2.603901</td>\n",
              "      <td>0.219693</td>\n",
              "      <td>6.437044</td>\n",
              "      <td>3.461207</td>\n",
              "    </tr>\n",
              "    <tr>\n",
              "      <th>...</th>\n",
              "      <td>...</td>\n",
              "      <td>...</td>\n",
              "      <td>...</td>\n",
              "      <td>...</td>\n",
              "      <td>...</td>\n",
              "      <td>...</td>\n",
              "      <td>...</td>\n",
              "      <td>...</td>\n",
              "      <td>...</td>\n",
              "      <td>...</td>\n",
              "      <td>...</td>\n",
              "      <td>...</td>\n",
              "      <td>...</td>\n",
              "      <td>...</td>\n",
              "      <td>...</td>\n",
              "      <td>...</td>\n",
              "      <td>...</td>\n",
              "      <td>...</td>\n",
              "      <td>...</td>\n",
              "      <td>...</td>\n",
              "      <td>...</td>\n",
              "      <td>...</td>\n",
              "      <td>...</td>\n",
              "      <td>...</td>\n",
              "      <td>...</td>\n",
              "      <td>...</td>\n",
              "      <td>...</td>\n",
              "      <td>...</td>\n",
              "      <td>...</td>\n",
              "      <td>...</td>\n",
              "      <td>...</td>\n",
              "      <td>...</td>\n",
              "      <td>...</td>\n",
              "      <td>...</td>\n",
              "      <td>...</td>\n",
              "      <td>...</td>\n",
              "      <td>...</td>\n",
              "      <td>...</td>\n",
              "      <td>...</td>\n",
              "      <td>...</td>\n",
              "      <td>...</td>\n",
              "      <td>...</td>\n",
              "      <td>...</td>\n",
              "      <td>...</td>\n",
              "      <td>...</td>\n",
              "      <td>...</td>\n",
              "      <td>...</td>\n",
              "      <td>...</td>\n",
              "      <td>...</td>\n",
              "      <td>...</td>\n",
              "      <td>...</td>\n",
              "      <td>...</td>\n",
              "      <td>...</td>\n",
              "      <td>...</td>\n",
              "      <td>...</td>\n",
              "      <td>...</td>\n",
              "      <td>...</td>\n",
              "      <td>...</td>\n",
              "      <td>...</td>\n",
              "      <td>...</td>\n",
              "      <td>...</td>\n",
              "      <td>...</td>\n",
              "      <td>...</td>\n",
              "      <td>...</td>\n",
              "      <td>...</td>\n",
              "      <td>...</td>\n",
              "      <td>...</td>\n",
              "      <td>...</td>\n",
              "      <td>...</td>\n",
              "      <td>...</td>\n",
              "      <td>...</td>\n",
              "      <td>...</td>\n",
              "      <td>...</td>\n",
              "      <td>...</td>\n",
              "      <td>...</td>\n",
              "      <td>...</td>\n",
              "      <td>...</td>\n",
              "      <td>...</td>\n",
              "      <td>...</td>\n",
              "      <td>...</td>\n",
              "      <td>...</td>\n",
              "    </tr>\n",
              "    <tr>\n",
              "      <th>995</th>\n",
              "      <td>-1.561143</td>\n",
              "      <td>1.506821</td>\n",
              "      <td>-3.983319</td>\n",
              "      <td>2.608517</td>\n",
              "      <td>4.954319</td>\n",
              "      <td>-1.679495</td>\n",
              "      <td>1.551132</td>\n",
              "      <td>-3.287606</td>\n",
              "      <td>3.284167</td>\n",
              "      <td>-2.063839</td>\n",
              "      <td>-1.921517</td>\n",
              "      <td>-3.165972</td>\n",
              "      <td>0.159429</td>\n",
              "      <td>-0.951457</td>\n",
              "      <td>-0.296791</td>\n",
              "      <td>-2.752753</td>\n",
              "      <td>1.634199</td>\n",
              "      <td>0.511659</td>\n",
              "      <td>0.781275</td>\n",
              "      <td>-0.820492</td>\n",
              "      <td>-0.221671</td>\n",
              "      <td>1.057573</td>\n",
              "      <td>1.282904</td>\n",
              "      <td>0.001549</td>\n",
              "      <td>0.578386</td>\n",
              "      <td>3.395674</td>\n",
              "      <td>0.278561</td>\n",
              "      <td>-1.160540</td>\n",
              "      <td>-0.145514</td>\n",
              "      <td>1.269516</td>\n",
              "      <td>0.816228</td>\n",
              "      <td>0.496222</td>\n",
              "      <td>0.414893</td>\n",
              "      <td>4.561441</td>\n",
              "      <td>1.348751</td>\n",
              "      <td>0.320015</td>\n",
              "      <td>1.062874</td>\n",
              "      <td>-0.239042</td>\n",
              "      <td>1.419362</td>\n",
              "      <td>-3.863816</td>\n",
              "      <td>...</td>\n",
              "      <td>-1.065475</td>\n",
              "      <td>-1.150109</td>\n",
              "      <td>-1.570223</td>\n",
              "      <td>3.767632</td>\n",
              "      <td>-2.254430</td>\n",
              "      <td>2.411237</td>\n",
              "      <td>2.949256</td>\n",
              "      <td>-1.409079</td>\n",
              "      <td>-1.715450</td>\n",
              "      <td>3.584590</td>\n",
              "      <td>-3.018452</td>\n",
              "      <td>2.239898</td>\n",
              "      <td>-1.834524</td>\n",
              "      <td>-2.605349</td>\n",
              "      <td>3.784377</td>\n",
              "      <td>-0.674231</td>\n",
              "      <td>1.286924</td>\n",
              "      <td>-1.493151</td>\n",
              "      <td>0.661498</td>\n",
              "      <td>0.444349</td>\n",
              "      <td>0.205385</td>\n",
              "      <td>1.749369</td>\n",
              "      <td>0.900876</td>\n",
              "      <td>0.429271</td>\n",
              "      <td>-2.518237</td>\n",
              "      <td>1.756277</td>\n",
              "      <td>5.430184</td>\n",
              "      <td>-1.442216</td>\n",
              "      <td>-1.930995</td>\n",
              "      <td>4.427201</td>\n",
              "      <td>0.635598</td>\n",
              "      <td>0.988787</td>\n",
              "      <td>-3.845117</td>\n",
              "      <td>-0.543360</td>\n",
              "      <td>0.850113</td>\n",
              "      <td>-0.388596</td>\n",
              "      <td>0.171863</td>\n",
              "      <td>-1.785123</td>\n",
              "      <td>-0.118171</td>\n",
              "      <td>-2.441311</td>\n",
              "    </tr>\n",
              "    <tr>\n",
              "      <th>996</th>\n",
              "      <td>-0.472568</td>\n",
              "      <td>1.347568</td>\n",
              "      <td>-0.592080</td>\n",
              "      <td>0.204984</td>\n",
              "      <td>2.075868</td>\n",
              "      <td>-1.283774</td>\n",
              "      <td>2.633278</td>\n",
              "      <td>-2.441978</td>\n",
              "      <td>3.959114</td>\n",
              "      <td>-2.290874</td>\n",
              "      <td>-0.654128</td>\n",
              "      <td>-4.038297</td>\n",
              "      <td>0.199426</td>\n",
              "      <td>0.820241</td>\n",
              "      <td>-2.422768</td>\n",
              "      <td>-2.001061</td>\n",
              "      <td>1.647837</td>\n",
              "      <td>-0.040259</td>\n",
              "      <td>1.248110</td>\n",
              "      <td>-1.355439</td>\n",
              "      <td>4.593147</td>\n",
              "      <td>-1.721920</td>\n",
              "      <td>1.644476</td>\n",
              "      <td>0.008590</td>\n",
              "      <td>0.640180</td>\n",
              "      <td>2.077463</td>\n",
              "      <td>1.274047</td>\n",
              "      <td>0.307390</td>\n",
              "      <td>0.831582</td>\n",
              "      <td>-0.338272</td>\n",
              "      <td>-1.036937</td>\n",
              "      <td>2.244531</td>\n",
              "      <td>4.847893</td>\n",
              "      <td>3.072476</td>\n",
              "      <td>-0.287214</td>\n",
              "      <td>-0.866591</td>\n",
              "      <td>2.380608</td>\n",
              "      <td>0.962815</td>\n",
              "      <td>1.571909</td>\n",
              "      <td>-2.018167</td>\n",
              "      <td>...</td>\n",
              "      <td>0.860638</td>\n",
              "      <td>2.197421</td>\n",
              "      <td>-1.785758</td>\n",
              "      <td>6.655144</td>\n",
              "      <td>-0.734311</td>\n",
              "      <td>-0.257618</td>\n",
              "      <td>1.817335</td>\n",
              "      <td>2.340524</td>\n",
              "      <td>-1.895688</td>\n",
              "      <td>-0.186908</td>\n",
              "      <td>-3.853611</td>\n",
              "      <td>-1.482889</td>\n",
              "      <td>0.151506</td>\n",
              "      <td>-2.378420</td>\n",
              "      <td>3.533102</td>\n",
              "      <td>-1.403173</td>\n",
              "      <td>0.943763</td>\n",
              "      <td>-2.447328</td>\n",
              "      <td>-2.883008</td>\n",
              "      <td>0.158853</td>\n",
              "      <td>-0.296540</td>\n",
              "      <td>3.064744</td>\n",
              "      <td>-1.702229</td>\n",
              "      <td>-1.115971</td>\n",
              "      <td>1.731729</td>\n",
              "      <td>0.548959</td>\n",
              "      <td>2.457178</td>\n",
              "      <td>-2.872474</td>\n",
              "      <td>-0.021077</td>\n",
              "      <td>1.244923</td>\n",
              "      <td>-3.416812</td>\n",
              "      <td>-1.028372</td>\n",
              "      <td>-1.513523</td>\n",
              "      <td>-0.539733</td>\n",
              "      <td>1.588094</td>\n",
              "      <td>-2.409163</td>\n",
              "      <td>-2.696411</td>\n",
              "      <td>0.826273</td>\n",
              "      <td>-1.277530</td>\n",
              "      <td>-0.954288</td>\n",
              "    </tr>\n",
              "    <tr>\n",
              "      <th>997</th>\n",
              "      <td>-2.112192</td>\n",
              "      <td>1.404396</td>\n",
              "      <td>-1.163859</td>\n",
              "      <td>-2.634815</td>\n",
              "      <td>-4.707278</td>\n",
              "      <td>2.290262</td>\n",
              "      <td>-0.625872</td>\n",
              "      <td>2.558425</td>\n",
              "      <td>4.489168</td>\n",
              "      <td>3.709127</td>\n",
              "      <td>-3.987872</td>\n",
              "      <td>-1.555621</td>\n",
              "      <td>0.258848</td>\n",
              "      <td>-0.899539</td>\n",
              "      <td>-2.817783</td>\n",
              "      <td>0.880411</td>\n",
              "      <td>1.832906</td>\n",
              "      <td>-1.887823</td>\n",
              "      <td>4.406049</td>\n",
              "      <td>0.124612</td>\n",
              "      <td>1.883040</td>\n",
              "      <td>6.247885</td>\n",
              "      <td>-0.216512</td>\n",
              "      <td>-0.601245</td>\n",
              "      <td>-0.238571</td>\n",
              "      <td>-5.678011</td>\n",
              "      <td>1.464519</td>\n",
              "      <td>-1.524964</td>\n",
              "      <td>3.848808</td>\n",
              "      <td>2.987832</td>\n",
              "      <td>2.508951</td>\n",
              "      <td>-1.626628</td>\n",
              "      <td>0.203865</td>\n",
              "      <td>-0.094200</td>\n",
              "      <td>-0.871131</td>\n",
              "      <td>-3.284215</td>\n",
              "      <td>-0.618120</td>\n",
              "      <td>-1.782236</td>\n",
              "      <td>1.392711</td>\n",
              "      <td>-2.923178</td>\n",
              "      <td>...</td>\n",
              "      <td>0.328888</td>\n",
              "      <td>-3.172137</td>\n",
              "      <td>4.064682</td>\n",
              "      <td>0.940560</td>\n",
              "      <td>3.229831</td>\n",
              "      <td>-3.189700</td>\n",
              "      <td>-2.447411</td>\n",
              "      <td>0.025698</td>\n",
              "      <td>-1.691279</td>\n",
              "      <td>-0.380589</td>\n",
              "      <td>1.060080</td>\n",
              "      <td>3.524424</td>\n",
              "      <td>-0.878813</td>\n",
              "      <td>-1.542888</td>\n",
              "      <td>-1.126033</td>\n",
              "      <td>6.381125</td>\n",
              "      <td>1.910322</td>\n",
              "      <td>0.084812</td>\n",
              "      <td>-0.061073</td>\n",
              "      <td>-1.619390</td>\n",
              "      <td>-1.140378</td>\n",
              "      <td>-3.398482</td>\n",
              "      <td>0.431577</td>\n",
              "      <td>-0.366075</td>\n",
              "      <td>0.633668</td>\n",
              "      <td>-0.361444</td>\n",
              "      <td>-4.427264</td>\n",
              "      <td>-0.685372</td>\n",
              "      <td>-0.034880</td>\n",
              "      <td>-3.185319</td>\n",
              "      <td>1.713816</td>\n",
              "      <td>0.186963</td>\n",
              "      <td>-1.024460</td>\n",
              "      <td>2.930717</td>\n",
              "      <td>-1.546262</td>\n",
              "      <td>3.697649</td>\n",
              "      <td>-3.620327</td>\n",
              "      <td>0.335897</td>\n",
              "      <td>-1.585084</td>\n",
              "      <td>4.534070</td>\n",
              "    </tr>\n",
              "    <tr>\n",
              "      <th>998</th>\n",
              "      <td>5.996943</td>\n",
              "      <td>-0.800815</td>\n",
              "      <td>-2.636829</td>\n",
              "      <td>-1.429443</td>\n",
              "      <td>0.901586</td>\n",
              "      <td>-0.225864</td>\n",
              "      <td>3.669391</td>\n",
              "      <td>2.197626</td>\n",
              "      <td>0.576087</td>\n",
              "      <td>1.152158</td>\n",
              "      <td>-0.508292</td>\n",
              "      <td>-3.203377</td>\n",
              "      <td>2.509326</td>\n",
              "      <td>-3.816748</td>\n",
              "      <td>-1.381937</td>\n",
              "      <td>0.465616</td>\n",
              "      <td>0.199113</td>\n",
              "      <td>-3.008079</td>\n",
              "      <td>3.046813</td>\n",
              "      <td>-1.851877</td>\n",
              "      <td>-0.630121</td>\n",
              "      <td>-0.034066</td>\n",
              "      <td>1.556038</td>\n",
              "      <td>3.432024</td>\n",
              "      <td>1.221352</td>\n",
              "      <td>-2.205262</td>\n",
              "      <td>-1.016751</td>\n",
              "      <td>3.574687</td>\n",
              "      <td>2.097477</td>\n",
              "      <td>0.728411</td>\n",
              "      <td>1.060347</td>\n",
              "      <td>2.730176</td>\n",
              "      <td>1.595800</td>\n",
              "      <td>-3.804589</td>\n",
              "      <td>1.169303</td>\n",
              "      <td>-1.167044</td>\n",
              "      <td>-0.357490</td>\n",
              "      <td>-3.355906</td>\n",
              "      <td>-3.534625</td>\n",
              "      <td>-2.122259</td>\n",
              "      <td>...</td>\n",
              "      <td>-0.778831</td>\n",
              "      <td>-0.878718</td>\n",
              "      <td>3.554480</td>\n",
              "      <td>0.928377</td>\n",
              "      <td>5.874012</td>\n",
              "      <td>-4.718699</td>\n",
              "      <td>-0.191929</td>\n",
              "      <td>4.872154</td>\n",
              "      <td>-0.028966</td>\n",
              "      <td>-2.451770</td>\n",
              "      <td>-0.130237</td>\n",
              "      <td>2.004871</td>\n",
              "      <td>-0.745782</td>\n",
              "      <td>-0.674698</td>\n",
              "      <td>-2.925717</td>\n",
              "      <td>-1.265394</td>\n",
              "      <td>1.407442</td>\n",
              "      <td>0.480208</td>\n",
              "      <td>3.525393</td>\n",
              "      <td>-0.123939</td>\n",
              "      <td>-2.253757</td>\n",
              "      <td>-4.328694</td>\n",
              "      <td>-3.499416</td>\n",
              "      <td>-3.552294</td>\n",
              "      <td>1.646202</td>\n",
              "      <td>1.239042</td>\n",
              "      <td>-1.289785</td>\n",
              "      <td>2.007737</td>\n",
              "      <td>5.495400</td>\n",
              "      <td>1.615049</td>\n",
              "      <td>-1.038896</td>\n",
              "      <td>1.605060</td>\n",
              "      <td>-2.570880</td>\n",
              "      <td>3.892295</td>\n",
              "      <td>0.050744</td>\n",
              "      <td>-2.540893</td>\n",
              "      <td>1.475642</td>\n",
              "      <td>0.415880</td>\n",
              "      <td>-2.293966</td>\n",
              "      <td>3.624254</td>\n",
              "    </tr>\n",
              "    <tr>\n",
              "      <th>999</th>\n",
              "      <td>1.688232</td>\n",
              "      <td>-0.280779</td>\n",
              "      <td>1.596551</td>\n",
              "      <td>2.942884</td>\n",
              "      <td>0.514145</td>\n",
              "      <td>0.682630</td>\n",
              "      <td>0.303487</td>\n",
              "      <td>-1.914241</td>\n",
              "      <td>1.710690</td>\n",
              "      <td>1.666270</td>\n",
              "      <td>-1.262971</td>\n",
              "      <td>1.285043</td>\n",
              "      <td>-1.570525</td>\n",
              "      <td>-2.484903</td>\n",
              "      <td>1.118895</td>\n",
              "      <td>0.173027</td>\n",
              "      <td>-0.224729</td>\n",
              "      <td>-1.364255</td>\n",
              "      <td>1.340962</td>\n",
              "      <td>-0.880644</td>\n",
              "      <td>2.412890</td>\n",
              "      <td>-0.375822</td>\n",
              "      <td>-0.622283</td>\n",
              "      <td>-1.212814</td>\n",
              "      <td>-2.207227</td>\n",
              "      <td>-0.274540</td>\n",
              "      <td>-0.523429</td>\n",
              "      <td>-1.186306</td>\n",
              "      <td>4.358829</td>\n",
              "      <td>-1.489510</td>\n",
              "      <td>-1.096034</td>\n",
              "      <td>1.071840</td>\n",
              "      <td>1.084300</td>\n",
              "      <td>-2.546163</td>\n",
              "      <td>-0.382897</td>\n",
              "      <td>0.234321</td>\n",
              "      <td>1.746212</td>\n",
              "      <td>-2.266006</td>\n",
              "      <td>-1.632626</td>\n",
              "      <td>-0.754446</td>\n",
              "      <td>...</td>\n",
              "      <td>2.182084</td>\n",
              "      <td>0.978918</td>\n",
              "      <td>-0.041963</td>\n",
              "      <td>-2.315763</td>\n",
              "      <td>-1.471201</td>\n",
              "      <td>-0.831972</td>\n",
              "      <td>0.982451</td>\n",
              "      <td>1.384308</td>\n",
              "      <td>-1.168216</td>\n",
              "      <td>-0.112803</td>\n",
              "      <td>0.929987</td>\n",
              "      <td>-1.894230</td>\n",
              "      <td>-1.134705</td>\n",
              "      <td>2.780385</td>\n",
              "      <td>-0.525161</td>\n",
              "      <td>-3.626748</td>\n",
              "      <td>-1.170004</td>\n",
              "      <td>2.043635</td>\n",
              "      <td>-1.863654</td>\n",
              "      <td>4.555091</td>\n",
              "      <td>0.447512</td>\n",
              "      <td>1.427119</td>\n",
              "      <td>-0.569690</td>\n",
              "      <td>-0.452128</td>\n",
              "      <td>0.553446</td>\n",
              "      <td>-3.438466</td>\n",
              "      <td>-1.072465</td>\n",
              "      <td>2.634499</td>\n",
              "      <td>1.759541</td>\n",
              "      <td>0.117748</td>\n",
              "      <td>-0.678286</td>\n",
              "      <td>1.787273</td>\n",
              "      <td>-0.234343</td>\n",
              "      <td>0.503195</td>\n",
              "      <td>-1.310577</td>\n",
              "      <td>-2.423196</td>\n",
              "      <td>2.103262</td>\n",
              "      <td>2.710048</td>\n",
              "      <td>3.918844</td>\n",
              "      <td>1.617166</td>\n",
              "    </tr>\n",
              "  </tbody>\n",
              "</table>\n",
              "<p>1000 rows × 96 columns</p>\n",
              "</div>"
            ],
            "text/plain": [
              "           0         1         2   ...        93        94        95\n",
              "0    1.006801  0.924615 -2.281642  ... -2.119339 -3.471452  2.794874\n",
              "1    0.961469 -1.868199  1.701017  ... -0.855224  1.902121  2.668458\n",
              "2    2.349584 -4.341446 -0.539366  ... -2.466574  1.173783  4.085972\n",
              "3    1.074163  1.741026 -0.825937  ...  3.591237  3.014670 -1.185135\n",
              "4   -0.667211 -2.281413 -4.051100  ...  0.219693  6.437044  3.461207\n",
              "..        ...       ...       ...  ...       ...       ...       ...\n",
              "995 -1.561143  1.506821 -3.983319  ... -1.785123 -0.118171 -2.441311\n",
              "996 -0.472568  1.347568 -0.592080  ...  0.826273 -1.277530 -0.954288\n",
              "997 -2.112192  1.404396 -1.163859  ...  0.335897 -1.585084  4.534070\n",
              "998  5.996943 -0.800815 -2.636829  ...  0.415880 -2.293966  3.624254\n",
              "999  1.688232 -0.280779  1.596551  ...  2.710048  3.918844  1.617166\n",
              "\n",
              "[1000 rows x 96 columns]"
            ]
          },
          "metadata": {
            "tags": []
          },
          "execution_count": 83
        }
      ]
    },
    {
      "cell_type": "code",
      "metadata": {
        "id": "m2Gy74oXJ3I9"
      },
      "source": [
        "X = imdb_vec_df\n",
        "y = imdb_df['sentiment']\n",
        "X_train, X_test, y_train, y_test = train_test_split(X, y, train_size = 0.75, test_size=0.25, random_state=1)"
      ],
      "execution_count": 84,
      "outputs": []
    },
    {
      "cell_type": "code",
      "metadata": {
        "id": "qDL1HN8mMMq3"
      },
      "source": [
        "lin_reg_model_imdb = LinearRegression().fit(X_train, y_train)\n",
        "log_reg_model_imdb = LogisticRegression().fit(X_train, y_train)"
      ],
      "execution_count": 85,
      "outputs": []
    },
    {
      "cell_type": "code",
      "metadata": {
        "colab": {
          "base_uri": "https://localhost:8080/"
        },
        "id": "QLgzrotVN-5u",
        "outputId": "0d28745a-dc66-487e-e3e1-3f1b4d022e01"
      },
      "source": [
        "lin_reg_model_imdb.score(X_train, y_train), lin_reg_model_imdb.score(X_test, y_test)"
      ],
      "execution_count": 86,
      "outputs": [
        {
          "output_type": "execute_result",
          "data": {
            "text/plain": [
              "(0.1407105132371934, -0.1628941911545334)"
            ]
          },
          "metadata": {
            "tags": []
          },
          "execution_count": 86
        }
      ]
    },
    {
      "cell_type": "code",
      "metadata": {
        "colab": {
          "base_uri": "https://localhost:8080/"
        },
        "id": "858VGXYoOpDd",
        "outputId": "fce29ad2-254f-44d5-a3a7-1db131c5478d"
      },
      "source": [
        "log_reg_model_imdb.score(X_train, y_train), log_reg_model_imdb.score(X_test, y_test)"
      ],
      "execution_count": 87,
      "outputs": [
        {
          "output_type": "execute_result",
          "data": {
            "text/plain": [
              "(0.6413333333333333, 0.516)"
            ]
          },
          "metadata": {
            "tags": []
          },
          "execution_count": 87
        }
      ]
    },
    {
      "cell_type": "code",
      "metadata": {
        "colab": {
          "base_uri": "https://localhost:8080/",
          "height": 391
        },
        "id": "wj-Zn-1hQ7gT",
        "outputId": "4f90838a-e65b-4d2f-8519-b3b0cfab52e9"
      },
      "source": [
        "imdb_tr_df = pd.DataFrame()\n",
        "imdb_tr_df['Actual'] = y_train\n",
        "imdb_tr_df['Prediction'] = log_reg_model_imdb.predict(X_train)\n",
        "imdb_tr_df"
      ],
      "execution_count": 88,
      "outputs": [
        {
          "output_type": "execute_result",
          "data": {
            "text/html": [
              "<div>\n",
              "<style scoped>\n",
              "    .dataframe tbody tr th:only-of-type {\n",
              "        vertical-align: middle;\n",
              "    }\n",
              "\n",
              "    .dataframe tbody tr th {\n",
              "        vertical-align: top;\n",
              "    }\n",
              "\n",
              "    .dataframe thead th {\n",
              "        text-align: right;\n",
              "    }\n",
              "</style>\n",
              "<table border=\"1\" class=\"dataframe\">\n",
              "  <thead>\n",
              "    <tr style=\"text-align: right;\">\n",
              "      <th></th>\n",
              "      <th>Actual</th>\n",
              "      <th>Prediction</th>\n",
              "    </tr>\n",
              "  </thead>\n",
              "  <tbody>\n",
              "    <tr>\n",
              "      <th>298</th>\n",
              "      <td>1</td>\n",
              "      <td>1</td>\n",
              "    </tr>\n",
              "    <tr>\n",
              "      <th>160</th>\n",
              "      <td>1</td>\n",
              "      <td>1</td>\n",
              "    </tr>\n",
              "    <tr>\n",
              "      <th>268</th>\n",
              "      <td>0</td>\n",
              "      <td>1</td>\n",
              "    </tr>\n",
              "    <tr>\n",
              "      <th>658</th>\n",
              "      <td>1</td>\n",
              "      <td>1</td>\n",
              "    </tr>\n",
              "    <tr>\n",
              "      <th>996</th>\n",
              "      <td>0</td>\n",
              "      <td>1</td>\n",
              "    </tr>\n",
              "    <tr>\n",
              "      <th>...</th>\n",
              "      <td>...</td>\n",
              "      <td>...</td>\n",
              "    </tr>\n",
              "    <tr>\n",
              "      <th>767</th>\n",
              "      <td>0</td>\n",
              "      <td>1</td>\n",
              "    </tr>\n",
              "    <tr>\n",
              "      <th>72</th>\n",
              "      <td>1</td>\n",
              "      <td>1</td>\n",
              "    </tr>\n",
              "    <tr>\n",
              "      <th>908</th>\n",
              "      <td>1</td>\n",
              "      <td>0</td>\n",
              "    </tr>\n",
              "    <tr>\n",
              "      <th>235</th>\n",
              "      <td>1</td>\n",
              "      <td>1</td>\n",
              "    </tr>\n",
              "    <tr>\n",
              "      <th>37</th>\n",
              "      <td>0</td>\n",
              "      <td>0</td>\n",
              "    </tr>\n",
              "  </tbody>\n",
              "</table>\n",
              "<p>750 rows × 2 columns</p>\n",
              "</div>"
            ],
            "text/plain": [
              "     Actual  Prediction\n",
              "298       1           1\n",
              "160       1           1\n",
              "268       0           1\n",
              "658       1           1\n",
              "996       0           1\n",
              "..      ...         ...\n",
              "767       0           1\n",
              "72        1           1\n",
              "908       1           0\n",
              "235       1           1\n",
              "37        0           0\n",
              "\n",
              "[750 rows x 2 columns]"
            ]
          },
          "metadata": {
            "tags": []
          },
          "execution_count": 88
        }
      ]
    },
    {
      "cell_type": "code",
      "metadata": {
        "colab": {
          "base_uri": "https://localhost:8080/",
          "height": 391
        },
        "id": "7KqqA-93RSN-",
        "outputId": "3dadcaa3-41fb-4980-b930-ad4790f7deca"
      },
      "source": [
        "imdb_te_df = pd.DataFrame()\n",
        "imdb_te_df['Actual'] = y_test\n",
        "imdb_te_df['Prediction'] = log_reg_model_imdb.predict(X_test)\n",
        "imdb_te_df"
      ],
      "execution_count": 89,
      "outputs": [
        {
          "output_type": "execute_result",
          "data": {
            "text/html": [
              "<div>\n",
              "<style scoped>\n",
              "    .dataframe tbody tr th:only-of-type {\n",
              "        vertical-align: middle;\n",
              "    }\n",
              "\n",
              "    .dataframe tbody tr th {\n",
              "        vertical-align: top;\n",
              "    }\n",
              "\n",
              "    .dataframe thead th {\n",
              "        text-align: right;\n",
              "    }\n",
              "</style>\n",
              "<table border=\"1\" class=\"dataframe\">\n",
              "  <thead>\n",
              "    <tr style=\"text-align: right;\">\n",
              "      <th></th>\n",
              "      <th>Actual</th>\n",
              "      <th>Prediction</th>\n",
              "    </tr>\n",
              "  </thead>\n",
              "  <tbody>\n",
              "    <tr>\n",
              "      <th>507</th>\n",
              "      <td>1</td>\n",
              "      <td>1</td>\n",
              "    </tr>\n",
              "    <tr>\n",
              "      <th>818</th>\n",
              "      <td>1</td>\n",
              "      <td>0</td>\n",
              "    </tr>\n",
              "    <tr>\n",
              "      <th>452</th>\n",
              "      <td>0</td>\n",
              "      <td>1</td>\n",
              "    </tr>\n",
              "    <tr>\n",
              "      <th>368</th>\n",
              "      <td>1</td>\n",
              "      <td>0</td>\n",
              "    </tr>\n",
              "    <tr>\n",
              "      <th>242</th>\n",
              "      <td>0</td>\n",
              "      <td>0</td>\n",
              "    </tr>\n",
              "    <tr>\n",
              "      <th>...</th>\n",
              "      <td>...</td>\n",
              "      <td>...</td>\n",
              "    </tr>\n",
              "    <tr>\n",
              "      <th>385</th>\n",
              "      <td>0</td>\n",
              "      <td>1</td>\n",
              "    </tr>\n",
              "    <tr>\n",
              "      <th>890</th>\n",
              "      <td>1</td>\n",
              "      <td>0</td>\n",
              "    </tr>\n",
              "    <tr>\n",
              "      <th>439</th>\n",
              "      <td>1</td>\n",
              "      <td>1</td>\n",
              "    </tr>\n",
              "    <tr>\n",
              "      <th>135</th>\n",
              "      <td>0</td>\n",
              "      <td>0</td>\n",
              "    </tr>\n",
              "    <tr>\n",
              "      <th>567</th>\n",
              "      <td>1</td>\n",
              "      <td>1</td>\n",
              "    </tr>\n",
              "  </tbody>\n",
              "</table>\n",
              "<p>250 rows × 2 columns</p>\n",
              "</div>"
            ],
            "text/plain": [
              "     Actual  Prediction\n",
              "507       1           1\n",
              "818       1           0\n",
              "452       0           1\n",
              "368       1           0\n",
              "242       0           0\n",
              "..      ...         ...\n",
              "385       0           1\n",
              "890       1           0\n",
              "439       1           1\n",
              "135       0           0\n",
              "567       1           1\n",
              "\n",
              "[250 rows x 2 columns]"
            ]
          },
          "metadata": {
            "tags": []
          },
          "execution_count": 89
        }
      ]
    }
  ]
}